{
 "cells": [
  {
   "cell_type": "markdown",
   "id": "8e0f8e72",
   "metadata": {
    "papermill": {
     "duration": 0.010487,
     "end_time": "2022-06-25T21:27:20.470464",
     "exception": false,
     "start_time": "2022-06-25T21:27:20.459977",
     "status": "completed"
    },
    "tags": []
   },
   "source": [
    "<div style=\"background-color:rgba(128, 0, 128, 0.6);border-radius:5px;display:fill\"><h1 style=\"text-align: center;padding: 12px 0px 12px 0px;\">House Prices: Linear Regression with Polynomials</h1>\n",
    "</div>\n",
    "\n",
    "Lesson: Linear/Lasso/Ridge Regression with Polynomials\n",
    "\n",
    "\n",
    "|Notebook| MAE | LeaderBoard|\n",
    "| --- | --- | --- |\n",
    "|QuickStart|38341.2045|0.29234|\n",
    "|Extra Features|32285.7959|0.24425|\n",
    "|Features + Lasso|31349.8387|0.24425|\n",
    "|Features + Ridge|31348.1429|0.24422|\n",
    "\n"
   ]
  },
  {
   "cell_type": "markdown",
   "id": "0d286e9d",
   "metadata": {
    "papermill": {
     "duration": 0.008699,
     "end_time": "2022-06-25T21:27:20.488332",
     "exception": false,
     "start_time": "2022-06-25T21:27:20.479633",
     "status": "completed"
    },
    "tags": []
   },
   "source": [
    "<div style=\"background-color:rgba(128, 0, 128, 0.6);border-radius:5px;display:fill\"><h1 style=\"text-align: center;padding: 12px 0px 12px 0px;\">Import Libraries</h1>\n",
    "</div>\n",
    "\n",
    "A best practise is to include all libraries here.  However, I will put a few imports farther down where they are first used so beginners can learn with an \"as needed\" approach."
   ]
  },
  {
   "cell_type": "code",
   "execution_count": 1,
   "id": "e536de22",
   "metadata": {
    "execution": {
     "iopub.execute_input": "2022-06-25T21:27:20.508837Z",
     "iopub.status.busy": "2022-06-25T21:27:20.508237Z",
     "iopub.status.idle": "2022-06-25T21:27:20.522761Z",
     "shell.execute_reply": "2022-06-25T21:27:20.521926Z"
    },
    "papermill": {
     "duration": 0.027996,
     "end_time": "2022-06-25T21:27:20.525302",
     "exception": false,
     "start_time": "2022-06-25T21:27:20.497306",
     "status": "completed"
    },
    "tags": []
   },
   "outputs": [],
   "source": [
    "import numpy as np # linear algebra\n",
    "import pandas as pd # data processing, CSV file I/O (e.g. pd.read_csv)\n",
    "\n",
    "from pathlib import Path\n",
    "\n",
    "pd.options.display.max_columns = 100 # Want to view all the columns"
   ]
  },
  {
   "cell_type": "markdown",
   "id": "180decbc",
   "metadata": {
    "papermill": {
     "duration": 0.008643,
     "end_time": "2022-06-25T21:27:20.542902",
     "exception": false,
     "start_time": "2022-06-25T21:27:20.534259",
     "status": "completed"
    },
    "tags": []
   },
   "source": [
    "<div style=\"background-color:rgba(128, 0, 128, 0.6);border-radius:5px;display:fill\"><h1 style=\"text-align: center;padding: 12px 0px 12px 0px;\">Library</h1>\n",
    "</div>\n",
    "\n",
    "Creating a few functions that we will reuse in each project."
   ]
  },
  {
   "cell_type": "code",
   "execution_count": 2,
   "id": "880ee099",
   "metadata": {
    "execution": {
     "iopub.execute_input": "2022-06-25T21:27:20.563401Z",
     "iopub.status.busy": "2022-06-25T21:27:20.562090Z",
     "iopub.status.idle": "2022-06-25T21:27:20.569003Z",
     "shell.execute_reply": "2022-06-25T21:27:20.568098Z"
    },
    "papermill": {
     "duration": 0.019729,
     "end_time": "2022-06-25T21:27:20.571561",
     "exception": false,
     "start_time": "2022-06-25T21:27:20.551832",
     "status": "completed"
    },
    "tags": []
   },
   "outputs": [],
   "source": [
    "def read_data(path):\n",
    "    data_dir = Path(path)\n",
    "\n",
    "    train = pd.read_csv(data_dir / \"train.csv\")\n",
    "    test = pd.read_csv(data_dir / \"test.csv\")\n",
    "    submission_df = pd.read_csv(data_dir / \"sample_submission.csv\")\n",
    "\n",
    "    print(f\"train data: Rows={train.shape[0]}, Columns={train.shape[1]}\")\n",
    "    print(f\"test data : Rows={test.shape[0]}, Columns={test.shape[1]}\")\n",
    "    return train, test, submission_df"
   ]
  },
  {
   "cell_type": "code",
   "execution_count": 3,
   "id": "b65d0aca",
   "metadata": {
    "execution": {
     "iopub.execute_input": "2022-06-25T21:27:20.592612Z",
     "iopub.status.busy": "2022-06-25T21:27:20.591266Z",
     "iopub.status.idle": "2022-06-25T21:27:20.598247Z",
     "shell.execute_reply": "2022-06-25T21:27:20.597209Z"
    },
    "papermill": {
     "duration": 0.019917,
     "end_time": "2022-06-25T21:27:20.600577",
     "exception": false,
     "start_time": "2022-06-25T21:27:20.580660",
     "status": "completed"
    },
    "tags": []
   },
   "outputs": [],
   "source": [
    "def create_submission(model_name, target, preds):\n",
    "    sample_submission[target] = preds\n",
    "    if len(model_name) > 0:\n",
    "        sample_submission.to_csv(f\"submission_{model_name}.csv\", index=False)\n",
    "    else:\n",
    "        sample_submission.to_csv(f\"submission.csv\", index=False)\n",
    "\n",
    "    return sample_submission[:5]"
   ]
  },
  {
   "cell_type": "code",
   "execution_count": 4,
   "id": "68f77394",
   "metadata": {
    "execution": {
     "iopub.execute_input": "2022-06-25T21:27:20.621259Z",
     "iopub.status.busy": "2022-06-25T21:27:20.620502Z",
     "iopub.status.idle": "2022-06-25T21:27:21.863171Z",
     "shell.execute_reply": "2022-06-25T21:27:21.861917Z"
    },
    "papermill": {
     "duration": 1.256084,
     "end_time": "2022-06-25T21:27:21.865841",
     "exception": false,
     "start_time": "2022-06-25T21:27:20.609757",
     "status": "completed"
    },
    "tags": []
   },
   "outputs": [],
   "source": [
    "from sklearn.metrics import mean_squared_error\n",
    "from sklearn.metrics import mean_absolute_error\n",
    "\n",
    "def show_scores(gt, yhat):\n",
    "    rmse = mean_squared_error(gt, yhat)\n",
    "    mae = mean_absolute_error(gt, yhat)\n",
    "\n",
    "    print(f\"MAE: {mae:.4f}\")\n",
    "    print(f\"RMSE: {rmse:.4f}\")"
   ]
  },
  {
   "cell_type": "markdown",
   "id": "9a0679bb",
   "metadata": {
    "papermill": {
     "duration": 0.008961,
     "end_time": "2022-06-25T21:27:21.884843",
     "exception": false,
     "start_time": "2022-06-25T21:27:21.875882",
     "status": "completed"
    },
    "tags": []
   },
   "source": [
    "<div style=\"background-color:rgba(128, 0, 128, 0.6);border-radius:5px;display:fill\"><h1 style=\"text-align: center;padding: 12px 0px 12px 0px;\">Load Train/Test Data</h1>\n",
    "</div>\n",
    "\n",
    "- train.csv - Data used to build our machine learning model\n",
    "- test.csv - Data used to build our machine learning model. Does not contain the target variable\n",
    "- sample_submission.csv - A file in the proper format to submit test predictions"
   ]
  },
  {
   "cell_type": "code",
   "execution_count": 5,
   "id": "07886686",
   "metadata": {
    "execution": {
     "iopub.execute_input": "2022-06-25T21:27:21.908492Z",
     "iopub.status.busy": "2022-06-25T21:27:21.907274Z",
     "iopub.status.idle": "2022-06-25T21:27:22.016138Z",
     "shell.execute_reply": "2022-06-25T21:27:22.014619Z"
    },
    "papermill": {
     "duration": 0.124196,
     "end_time": "2022-06-25T21:27:22.018786",
     "exception": false,
     "start_time": "2022-06-25T21:27:21.894590",
     "status": "completed"
    },
    "tags": []
   },
   "outputs": [
    {
     "name": "stdout",
     "output_type": "stream",
     "text": [
      "train data: Rows=1460, Columns=81\n",
      "test data : Rows=1459, Columns=80\n"
     ]
    }
   ],
   "source": [
    "train, test, sample_submission  = read_data(\"../input/house-prices-advanced-regression-techniques\")"
   ]
  },
  {
   "cell_type": "code",
   "execution_count": 6,
   "id": "84d9417c",
   "metadata": {
    "execution": {
     "iopub.execute_input": "2022-06-25T21:27:22.040499Z",
     "iopub.status.busy": "2022-06-25T21:27:22.039373Z",
     "iopub.status.idle": "2022-06-25T21:27:22.104089Z",
     "shell.execute_reply": "2022-06-25T21:27:22.102858Z"
    },
    "papermill": {
     "duration": 0.078362,
     "end_time": "2022-06-25T21:27:22.106849",
     "exception": false,
     "start_time": "2022-06-25T21:27:22.028487",
     "status": "completed"
    },
    "tags": []
   },
   "outputs": [
    {
     "data": {
      "text/html": [
       "<div>\n",
       "<style scoped>\n",
       "    .dataframe tbody tr th:only-of-type {\n",
       "        vertical-align: middle;\n",
       "    }\n",
       "\n",
       "    .dataframe tbody tr th {\n",
       "        vertical-align: top;\n",
       "    }\n",
       "\n",
       "    .dataframe thead th {\n",
       "        text-align: right;\n",
       "    }\n",
       "</style>\n",
       "<table border=\"1\" class=\"dataframe\">\n",
       "  <thead>\n",
       "    <tr style=\"text-align: right;\">\n",
       "      <th></th>\n",
       "      <th>Id</th>\n",
       "      <th>MSSubClass</th>\n",
       "      <th>MSZoning</th>\n",
       "      <th>LotFrontage</th>\n",
       "      <th>LotArea</th>\n",
       "      <th>Street</th>\n",
       "      <th>Alley</th>\n",
       "      <th>LotShape</th>\n",
       "      <th>LandContour</th>\n",
       "      <th>Utilities</th>\n",
       "      <th>LotConfig</th>\n",
       "      <th>LandSlope</th>\n",
       "      <th>Neighborhood</th>\n",
       "      <th>Condition1</th>\n",
       "      <th>Condition2</th>\n",
       "      <th>BldgType</th>\n",
       "      <th>HouseStyle</th>\n",
       "      <th>OverallQual</th>\n",
       "      <th>OverallCond</th>\n",
       "      <th>YearBuilt</th>\n",
       "      <th>YearRemodAdd</th>\n",
       "      <th>RoofStyle</th>\n",
       "      <th>RoofMatl</th>\n",
       "      <th>Exterior1st</th>\n",
       "      <th>Exterior2nd</th>\n",
       "      <th>MasVnrType</th>\n",
       "      <th>MasVnrArea</th>\n",
       "      <th>ExterQual</th>\n",
       "      <th>ExterCond</th>\n",
       "      <th>Foundation</th>\n",
       "      <th>BsmtQual</th>\n",
       "      <th>BsmtCond</th>\n",
       "      <th>BsmtExposure</th>\n",
       "      <th>BsmtFinType1</th>\n",
       "      <th>BsmtFinSF1</th>\n",
       "      <th>BsmtFinType2</th>\n",
       "      <th>BsmtFinSF2</th>\n",
       "      <th>BsmtUnfSF</th>\n",
       "      <th>TotalBsmtSF</th>\n",
       "      <th>Heating</th>\n",
       "      <th>HeatingQC</th>\n",
       "      <th>CentralAir</th>\n",
       "      <th>Electrical</th>\n",
       "      <th>1stFlrSF</th>\n",
       "      <th>2ndFlrSF</th>\n",
       "      <th>LowQualFinSF</th>\n",
       "      <th>GrLivArea</th>\n",
       "      <th>BsmtFullBath</th>\n",
       "      <th>BsmtHalfBath</th>\n",
       "      <th>FullBath</th>\n",
       "      <th>HalfBath</th>\n",
       "      <th>BedroomAbvGr</th>\n",
       "      <th>KitchenAbvGr</th>\n",
       "      <th>KitchenQual</th>\n",
       "      <th>TotRmsAbvGrd</th>\n",
       "      <th>Functional</th>\n",
       "      <th>Fireplaces</th>\n",
       "      <th>FireplaceQu</th>\n",
       "      <th>GarageType</th>\n",
       "      <th>GarageYrBlt</th>\n",
       "      <th>GarageFinish</th>\n",
       "      <th>GarageCars</th>\n",
       "      <th>GarageArea</th>\n",
       "      <th>GarageQual</th>\n",
       "      <th>GarageCond</th>\n",
       "      <th>PavedDrive</th>\n",
       "      <th>WoodDeckSF</th>\n",
       "      <th>OpenPorchSF</th>\n",
       "      <th>EnclosedPorch</th>\n",
       "      <th>3SsnPorch</th>\n",
       "      <th>ScreenPorch</th>\n",
       "      <th>PoolArea</th>\n",
       "      <th>PoolQC</th>\n",
       "      <th>Fence</th>\n",
       "      <th>MiscFeature</th>\n",
       "      <th>MiscVal</th>\n",
       "      <th>MoSold</th>\n",
       "      <th>YrSold</th>\n",
       "      <th>SaleType</th>\n",
       "      <th>SaleCondition</th>\n",
       "      <th>SalePrice</th>\n",
       "    </tr>\n",
       "  </thead>\n",
       "  <tbody>\n",
       "    <tr>\n",
       "      <th>0</th>\n",
       "      <td>1</td>\n",
       "      <td>60</td>\n",
       "      <td>RL</td>\n",
       "      <td>65.0</td>\n",
       "      <td>8450</td>\n",
       "      <td>Pave</td>\n",
       "      <td>NaN</td>\n",
       "      <td>Reg</td>\n",
       "      <td>Lvl</td>\n",
       "      <td>AllPub</td>\n",
       "      <td>Inside</td>\n",
       "      <td>Gtl</td>\n",
       "      <td>CollgCr</td>\n",
       "      <td>Norm</td>\n",
       "      <td>Norm</td>\n",
       "      <td>1Fam</td>\n",
       "      <td>2Story</td>\n",
       "      <td>7</td>\n",
       "      <td>5</td>\n",
       "      <td>2003</td>\n",
       "      <td>2003</td>\n",
       "      <td>Gable</td>\n",
       "      <td>CompShg</td>\n",
       "      <td>VinylSd</td>\n",
       "      <td>VinylSd</td>\n",
       "      <td>BrkFace</td>\n",
       "      <td>196.0</td>\n",
       "      <td>Gd</td>\n",
       "      <td>TA</td>\n",
       "      <td>PConc</td>\n",
       "      <td>Gd</td>\n",
       "      <td>TA</td>\n",
       "      <td>No</td>\n",
       "      <td>GLQ</td>\n",
       "      <td>706</td>\n",
       "      <td>Unf</td>\n",
       "      <td>0</td>\n",
       "      <td>150</td>\n",
       "      <td>856</td>\n",
       "      <td>GasA</td>\n",
       "      <td>Ex</td>\n",
       "      <td>Y</td>\n",
       "      <td>SBrkr</td>\n",
       "      <td>856</td>\n",
       "      <td>854</td>\n",
       "      <td>0</td>\n",
       "      <td>1710</td>\n",
       "      <td>1</td>\n",
       "      <td>0</td>\n",
       "      <td>2</td>\n",
       "      <td>1</td>\n",
       "      <td>3</td>\n",
       "      <td>1</td>\n",
       "      <td>Gd</td>\n",
       "      <td>8</td>\n",
       "      <td>Typ</td>\n",
       "      <td>0</td>\n",
       "      <td>NaN</td>\n",
       "      <td>Attchd</td>\n",
       "      <td>2003.0</td>\n",
       "      <td>RFn</td>\n",
       "      <td>2</td>\n",
       "      <td>548</td>\n",
       "      <td>TA</td>\n",
       "      <td>TA</td>\n",
       "      <td>Y</td>\n",
       "      <td>0</td>\n",
       "      <td>61</td>\n",
       "      <td>0</td>\n",
       "      <td>0</td>\n",
       "      <td>0</td>\n",
       "      <td>0</td>\n",
       "      <td>NaN</td>\n",
       "      <td>NaN</td>\n",
       "      <td>NaN</td>\n",
       "      <td>0</td>\n",
       "      <td>2</td>\n",
       "      <td>2008</td>\n",
       "      <td>WD</td>\n",
       "      <td>Normal</td>\n",
       "      <td>208500</td>\n",
       "    </tr>\n",
       "    <tr>\n",
       "      <th>1</th>\n",
       "      <td>2</td>\n",
       "      <td>20</td>\n",
       "      <td>RL</td>\n",
       "      <td>80.0</td>\n",
       "      <td>9600</td>\n",
       "      <td>Pave</td>\n",
       "      <td>NaN</td>\n",
       "      <td>Reg</td>\n",
       "      <td>Lvl</td>\n",
       "      <td>AllPub</td>\n",
       "      <td>FR2</td>\n",
       "      <td>Gtl</td>\n",
       "      <td>Veenker</td>\n",
       "      <td>Feedr</td>\n",
       "      <td>Norm</td>\n",
       "      <td>1Fam</td>\n",
       "      <td>1Story</td>\n",
       "      <td>6</td>\n",
       "      <td>8</td>\n",
       "      <td>1976</td>\n",
       "      <td>1976</td>\n",
       "      <td>Gable</td>\n",
       "      <td>CompShg</td>\n",
       "      <td>MetalSd</td>\n",
       "      <td>MetalSd</td>\n",
       "      <td>None</td>\n",
       "      <td>0.0</td>\n",
       "      <td>TA</td>\n",
       "      <td>TA</td>\n",
       "      <td>CBlock</td>\n",
       "      <td>Gd</td>\n",
       "      <td>TA</td>\n",
       "      <td>Gd</td>\n",
       "      <td>ALQ</td>\n",
       "      <td>978</td>\n",
       "      <td>Unf</td>\n",
       "      <td>0</td>\n",
       "      <td>284</td>\n",
       "      <td>1262</td>\n",
       "      <td>GasA</td>\n",
       "      <td>Ex</td>\n",
       "      <td>Y</td>\n",
       "      <td>SBrkr</td>\n",
       "      <td>1262</td>\n",
       "      <td>0</td>\n",
       "      <td>0</td>\n",
       "      <td>1262</td>\n",
       "      <td>0</td>\n",
       "      <td>1</td>\n",
       "      <td>2</td>\n",
       "      <td>0</td>\n",
       "      <td>3</td>\n",
       "      <td>1</td>\n",
       "      <td>TA</td>\n",
       "      <td>6</td>\n",
       "      <td>Typ</td>\n",
       "      <td>1</td>\n",
       "      <td>TA</td>\n",
       "      <td>Attchd</td>\n",
       "      <td>1976.0</td>\n",
       "      <td>RFn</td>\n",
       "      <td>2</td>\n",
       "      <td>460</td>\n",
       "      <td>TA</td>\n",
       "      <td>TA</td>\n",
       "      <td>Y</td>\n",
       "      <td>298</td>\n",
       "      <td>0</td>\n",
       "      <td>0</td>\n",
       "      <td>0</td>\n",
       "      <td>0</td>\n",
       "      <td>0</td>\n",
       "      <td>NaN</td>\n",
       "      <td>NaN</td>\n",
       "      <td>NaN</td>\n",
       "      <td>0</td>\n",
       "      <td>5</td>\n",
       "      <td>2007</td>\n",
       "      <td>WD</td>\n",
       "      <td>Normal</td>\n",
       "      <td>181500</td>\n",
       "    </tr>\n",
       "    <tr>\n",
       "      <th>2</th>\n",
       "      <td>3</td>\n",
       "      <td>60</td>\n",
       "      <td>RL</td>\n",
       "      <td>68.0</td>\n",
       "      <td>11250</td>\n",
       "      <td>Pave</td>\n",
       "      <td>NaN</td>\n",
       "      <td>IR1</td>\n",
       "      <td>Lvl</td>\n",
       "      <td>AllPub</td>\n",
       "      <td>Inside</td>\n",
       "      <td>Gtl</td>\n",
       "      <td>CollgCr</td>\n",
       "      <td>Norm</td>\n",
       "      <td>Norm</td>\n",
       "      <td>1Fam</td>\n",
       "      <td>2Story</td>\n",
       "      <td>7</td>\n",
       "      <td>5</td>\n",
       "      <td>2001</td>\n",
       "      <td>2002</td>\n",
       "      <td>Gable</td>\n",
       "      <td>CompShg</td>\n",
       "      <td>VinylSd</td>\n",
       "      <td>VinylSd</td>\n",
       "      <td>BrkFace</td>\n",
       "      <td>162.0</td>\n",
       "      <td>Gd</td>\n",
       "      <td>TA</td>\n",
       "      <td>PConc</td>\n",
       "      <td>Gd</td>\n",
       "      <td>TA</td>\n",
       "      <td>Mn</td>\n",
       "      <td>GLQ</td>\n",
       "      <td>486</td>\n",
       "      <td>Unf</td>\n",
       "      <td>0</td>\n",
       "      <td>434</td>\n",
       "      <td>920</td>\n",
       "      <td>GasA</td>\n",
       "      <td>Ex</td>\n",
       "      <td>Y</td>\n",
       "      <td>SBrkr</td>\n",
       "      <td>920</td>\n",
       "      <td>866</td>\n",
       "      <td>0</td>\n",
       "      <td>1786</td>\n",
       "      <td>1</td>\n",
       "      <td>0</td>\n",
       "      <td>2</td>\n",
       "      <td>1</td>\n",
       "      <td>3</td>\n",
       "      <td>1</td>\n",
       "      <td>Gd</td>\n",
       "      <td>6</td>\n",
       "      <td>Typ</td>\n",
       "      <td>1</td>\n",
       "      <td>TA</td>\n",
       "      <td>Attchd</td>\n",
       "      <td>2001.0</td>\n",
       "      <td>RFn</td>\n",
       "      <td>2</td>\n",
       "      <td>608</td>\n",
       "      <td>TA</td>\n",
       "      <td>TA</td>\n",
       "      <td>Y</td>\n",
       "      <td>0</td>\n",
       "      <td>42</td>\n",
       "      <td>0</td>\n",
       "      <td>0</td>\n",
       "      <td>0</td>\n",
       "      <td>0</td>\n",
       "      <td>NaN</td>\n",
       "      <td>NaN</td>\n",
       "      <td>NaN</td>\n",
       "      <td>0</td>\n",
       "      <td>9</td>\n",
       "      <td>2008</td>\n",
       "      <td>WD</td>\n",
       "      <td>Normal</td>\n",
       "      <td>223500</td>\n",
       "    </tr>\n",
       "    <tr>\n",
       "      <th>3</th>\n",
       "      <td>4</td>\n",
       "      <td>70</td>\n",
       "      <td>RL</td>\n",
       "      <td>60.0</td>\n",
       "      <td>9550</td>\n",
       "      <td>Pave</td>\n",
       "      <td>NaN</td>\n",
       "      <td>IR1</td>\n",
       "      <td>Lvl</td>\n",
       "      <td>AllPub</td>\n",
       "      <td>Corner</td>\n",
       "      <td>Gtl</td>\n",
       "      <td>Crawfor</td>\n",
       "      <td>Norm</td>\n",
       "      <td>Norm</td>\n",
       "      <td>1Fam</td>\n",
       "      <td>2Story</td>\n",
       "      <td>7</td>\n",
       "      <td>5</td>\n",
       "      <td>1915</td>\n",
       "      <td>1970</td>\n",
       "      <td>Gable</td>\n",
       "      <td>CompShg</td>\n",
       "      <td>Wd Sdng</td>\n",
       "      <td>Wd Shng</td>\n",
       "      <td>None</td>\n",
       "      <td>0.0</td>\n",
       "      <td>TA</td>\n",
       "      <td>TA</td>\n",
       "      <td>BrkTil</td>\n",
       "      <td>TA</td>\n",
       "      <td>Gd</td>\n",
       "      <td>No</td>\n",
       "      <td>ALQ</td>\n",
       "      <td>216</td>\n",
       "      <td>Unf</td>\n",
       "      <td>0</td>\n",
       "      <td>540</td>\n",
       "      <td>756</td>\n",
       "      <td>GasA</td>\n",
       "      <td>Gd</td>\n",
       "      <td>Y</td>\n",
       "      <td>SBrkr</td>\n",
       "      <td>961</td>\n",
       "      <td>756</td>\n",
       "      <td>0</td>\n",
       "      <td>1717</td>\n",
       "      <td>1</td>\n",
       "      <td>0</td>\n",
       "      <td>1</td>\n",
       "      <td>0</td>\n",
       "      <td>3</td>\n",
       "      <td>1</td>\n",
       "      <td>Gd</td>\n",
       "      <td>7</td>\n",
       "      <td>Typ</td>\n",
       "      <td>1</td>\n",
       "      <td>Gd</td>\n",
       "      <td>Detchd</td>\n",
       "      <td>1998.0</td>\n",
       "      <td>Unf</td>\n",
       "      <td>3</td>\n",
       "      <td>642</td>\n",
       "      <td>TA</td>\n",
       "      <td>TA</td>\n",
       "      <td>Y</td>\n",
       "      <td>0</td>\n",
       "      <td>35</td>\n",
       "      <td>272</td>\n",
       "      <td>0</td>\n",
       "      <td>0</td>\n",
       "      <td>0</td>\n",
       "      <td>NaN</td>\n",
       "      <td>NaN</td>\n",
       "      <td>NaN</td>\n",
       "      <td>0</td>\n",
       "      <td>2</td>\n",
       "      <td>2006</td>\n",
       "      <td>WD</td>\n",
       "      <td>Abnorml</td>\n",
       "      <td>140000</td>\n",
       "    </tr>\n",
       "    <tr>\n",
       "      <th>4</th>\n",
       "      <td>5</td>\n",
       "      <td>60</td>\n",
       "      <td>RL</td>\n",
       "      <td>84.0</td>\n",
       "      <td>14260</td>\n",
       "      <td>Pave</td>\n",
       "      <td>NaN</td>\n",
       "      <td>IR1</td>\n",
       "      <td>Lvl</td>\n",
       "      <td>AllPub</td>\n",
       "      <td>FR2</td>\n",
       "      <td>Gtl</td>\n",
       "      <td>NoRidge</td>\n",
       "      <td>Norm</td>\n",
       "      <td>Norm</td>\n",
       "      <td>1Fam</td>\n",
       "      <td>2Story</td>\n",
       "      <td>8</td>\n",
       "      <td>5</td>\n",
       "      <td>2000</td>\n",
       "      <td>2000</td>\n",
       "      <td>Gable</td>\n",
       "      <td>CompShg</td>\n",
       "      <td>VinylSd</td>\n",
       "      <td>VinylSd</td>\n",
       "      <td>BrkFace</td>\n",
       "      <td>350.0</td>\n",
       "      <td>Gd</td>\n",
       "      <td>TA</td>\n",
       "      <td>PConc</td>\n",
       "      <td>Gd</td>\n",
       "      <td>TA</td>\n",
       "      <td>Av</td>\n",
       "      <td>GLQ</td>\n",
       "      <td>655</td>\n",
       "      <td>Unf</td>\n",
       "      <td>0</td>\n",
       "      <td>490</td>\n",
       "      <td>1145</td>\n",
       "      <td>GasA</td>\n",
       "      <td>Ex</td>\n",
       "      <td>Y</td>\n",
       "      <td>SBrkr</td>\n",
       "      <td>1145</td>\n",
       "      <td>1053</td>\n",
       "      <td>0</td>\n",
       "      <td>2198</td>\n",
       "      <td>1</td>\n",
       "      <td>0</td>\n",
       "      <td>2</td>\n",
       "      <td>1</td>\n",
       "      <td>4</td>\n",
       "      <td>1</td>\n",
       "      <td>Gd</td>\n",
       "      <td>9</td>\n",
       "      <td>Typ</td>\n",
       "      <td>1</td>\n",
       "      <td>TA</td>\n",
       "      <td>Attchd</td>\n",
       "      <td>2000.0</td>\n",
       "      <td>RFn</td>\n",
       "      <td>3</td>\n",
       "      <td>836</td>\n",
       "      <td>TA</td>\n",
       "      <td>TA</td>\n",
       "      <td>Y</td>\n",
       "      <td>192</td>\n",
       "      <td>84</td>\n",
       "      <td>0</td>\n",
       "      <td>0</td>\n",
       "      <td>0</td>\n",
       "      <td>0</td>\n",
       "      <td>NaN</td>\n",
       "      <td>NaN</td>\n",
       "      <td>NaN</td>\n",
       "      <td>0</td>\n",
       "      <td>12</td>\n",
       "      <td>2008</td>\n",
       "      <td>WD</td>\n",
       "      <td>Normal</td>\n",
       "      <td>250000</td>\n",
       "    </tr>\n",
       "  </tbody>\n",
       "</table>\n",
       "</div>"
      ],
      "text/plain": [
       "   Id  MSSubClass MSZoning  LotFrontage  LotArea Street Alley LotShape  \\\n",
       "0   1          60       RL         65.0     8450   Pave   NaN      Reg   \n",
       "1   2          20       RL         80.0     9600   Pave   NaN      Reg   \n",
       "2   3          60       RL         68.0    11250   Pave   NaN      IR1   \n",
       "3   4          70       RL         60.0     9550   Pave   NaN      IR1   \n",
       "4   5          60       RL         84.0    14260   Pave   NaN      IR1   \n",
       "\n",
       "  LandContour Utilities LotConfig LandSlope Neighborhood Condition1  \\\n",
       "0         Lvl    AllPub    Inside       Gtl      CollgCr       Norm   \n",
       "1         Lvl    AllPub       FR2       Gtl      Veenker      Feedr   \n",
       "2         Lvl    AllPub    Inside       Gtl      CollgCr       Norm   \n",
       "3         Lvl    AllPub    Corner       Gtl      Crawfor       Norm   \n",
       "4         Lvl    AllPub       FR2       Gtl      NoRidge       Norm   \n",
       "\n",
       "  Condition2 BldgType HouseStyle  OverallQual  OverallCond  YearBuilt  \\\n",
       "0       Norm     1Fam     2Story            7            5       2003   \n",
       "1       Norm     1Fam     1Story            6            8       1976   \n",
       "2       Norm     1Fam     2Story            7            5       2001   \n",
       "3       Norm     1Fam     2Story            7            5       1915   \n",
       "4       Norm     1Fam     2Story            8            5       2000   \n",
       "\n",
       "   YearRemodAdd RoofStyle RoofMatl Exterior1st Exterior2nd MasVnrType  \\\n",
       "0          2003     Gable  CompShg     VinylSd     VinylSd    BrkFace   \n",
       "1          1976     Gable  CompShg     MetalSd     MetalSd       None   \n",
       "2          2002     Gable  CompShg     VinylSd     VinylSd    BrkFace   \n",
       "3          1970     Gable  CompShg     Wd Sdng     Wd Shng       None   \n",
       "4          2000     Gable  CompShg     VinylSd     VinylSd    BrkFace   \n",
       "\n",
       "   MasVnrArea ExterQual ExterCond Foundation BsmtQual BsmtCond BsmtExposure  \\\n",
       "0       196.0        Gd        TA      PConc       Gd       TA           No   \n",
       "1         0.0        TA        TA     CBlock       Gd       TA           Gd   \n",
       "2       162.0        Gd        TA      PConc       Gd       TA           Mn   \n",
       "3         0.0        TA        TA     BrkTil       TA       Gd           No   \n",
       "4       350.0        Gd        TA      PConc       Gd       TA           Av   \n",
       "\n",
       "  BsmtFinType1  BsmtFinSF1 BsmtFinType2  BsmtFinSF2  BsmtUnfSF  TotalBsmtSF  \\\n",
       "0          GLQ         706          Unf           0        150          856   \n",
       "1          ALQ         978          Unf           0        284         1262   \n",
       "2          GLQ         486          Unf           0        434          920   \n",
       "3          ALQ         216          Unf           0        540          756   \n",
       "4          GLQ         655          Unf           0        490         1145   \n",
       "\n",
       "  Heating HeatingQC CentralAir Electrical  1stFlrSF  2ndFlrSF  LowQualFinSF  \\\n",
       "0    GasA        Ex          Y      SBrkr       856       854             0   \n",
       "1    GasA        Ex          Y      SBrkr      1262         0             0   \n",
       "2    GasA        Ex          Y      SBrkr       920       866             0   \n",
       "3    GasA        Gd          Y      SBrkr       961       756             0   \n",
       "4    GasA        Ex          Y      SBrkr      1145      1053             0   \n",
       "\n",
       "   GrLivArea  BsmtFullBath  BsmtHalfBath  FullBath  HalfBath  BedroomAbvGr  \\\n",
       "0       1710             1             0         2         1             3   \n",
       "1       1262             0             1         2         0             3   \n",
       "2       1786             1             0         2         1             3   \n",
       "3       1717             1             0         1         0             3   \n",
       "4       2198             1             0         2         1             4   \n",
       "\n",
       "   KitchenAbvGr KitchenQual  TotRmsAbvGrd Functional  Fireplaces FireplaceQu  \\\n",
       "0             1          Gd             8        Typ           0         NaN   \n",
       "1             1          TA             6        Typ           1          TA   \n",
       "2             1          Gd             6        Typ           1          TA   \n",
       "3             1          Gd             7        Typ           1          Gd   \n",
       "4             1          Gd             9        Typ           1          TA   \n",
       "\n",
       "  GarageType  GarageYrBlt GarageFinish  GarageCars  GarageArea GarageQual  \\\n",
       "0     Attchd       2003.0          RFn           2         548         TA   \n",
       "1     Attchd       1976.0          RFn           2         460         TA   \n",
       "2     Attchd       2001.0          RFn           2         608         TA   \n",
       "3     Detchd       1998.0          Unf           3         642         TA   \n",
       "4     Attchd       2000.0          RFn           3         836         TA   \n",
       "\n",
       "  GarageCond PavedDrive  WoodDeckSF  OpenPorchSF  EnclosedPorch  3SsnPorch  \\\n",
       "0         TA          Y           0           61              0          0   \n",
       "1         TA          Y         298            0              0          0   \n",
       "2         TA          Y           0           42              0          0   \n",
       "3         TA          Y           0           35            272          0   \n",
       "4         TA          Y         192           84              0          0   \n",
       "\n",
       "   ScreenPorch  PoolArea PoolQC Fence MiscFeature  MiscVal  MoSold  YrSold  \\\n",
       "0            0         0    NaN   NaN         NaN        0       2    2008   \n",
       "1            0         0    NaN   NaN         NaN        0       5    2007   \n",
       "2            0         0    NaN   NaN         NaN        0       9    2008   \n",
       "3            0         0    NaN   NaN         NaN        0       2    2006   \n",
       "4            0         0    NaN   NaN         NaN        0      12    2008   \n",
       "\n",
       "  SaleType SaleCondition  SalePrice  \n",
       "0       WD        Normal     208500  \n",
       "1       WD        Normal     181500  \n",
       "2       WD        Normal     223500  \n",
       "3       WD       Abnorml     140000  \n",
       "4       WD        Normal     250000  "
      ]
     },
     "execution_count": 6,
     "metadata": {},
     "output_type": "execute_result"
    }
   ],
   "source": [
    "train.head()"
   ]
  },
  {
   "cell_type": "markdown",
   "id": "dbd3f976",
   "metadata": {
    "papermill": {
     "duration": 0.010778,
     "end_time": "2022-06-25T21:27:22.128018",
     "exception": false,
     "start_time": "2022-06-25T21:27:22.117240",
     "status": "completed"
    },
    "tags": []
   },
   "source": [
    "In supervised learning problems, we have a label or target."
   ]
  },
  {
   "cell_type": "code",
   "execution_count": 7,
   "id": "9dc0dce2",
   "metadata": {
    "execution": {
     "iopub.execute_input": "2022-06-25T21:27:22.151043Z",
     "iopub.status.busy": "2022-06-25T21:27:22.150621Z",
     "iopub.status.idle": "2022-06-25T21:27:22.155461Z",
     "shell.execute_reply": "2022-06-25T21:27:22.154190Z"
    },
    "papermill": {
     "duration": 0.019489,
     "end_time": "2022-06-25T21:27:22.158242",
     "exception": false,
     "start_time": "2022-06-25T21:27:22.138753",
     "status": "completed"
    },
    "tags": []
   },
   "outputs": [],
   "source": [
    "TARGET = \"SalePrice\""
   ]
  },
  {
   "cell_type": "markdown",
   "id": "60fcb5a2",
   "metadata": {
    "papermill": {
     "duration": 0.009532,
     "end_time": "2022-06-25T21:27:22.178017",
     "exception": false,
     "start_time": "2022-06-25T21:27:22.168485",
     "status": "completed"
    },
    "tags": []
   },
   "source": [
    "There are 79 features but to keep it simple we are only going to start with one."
   ]
  },
  {
   "cell_type": "code",
   "execution_count": 8,
   "id": "9a669ab7",
   "metadata": {
    "execution": {
     "iopub.execute_input": "2022-06-25T21:27:22.200179Z",
     "iopub.status.busy": "2022-06-25T21:27:22.199183Z",
     "iopub.status.idle": "2022-06-25T21:27:22.204723Z",
     "shell.execute_reply": "2022-06-25T21:27:22.203331Z"
    },
    "papermill": {
     "duration": 0.01944,
     "end_time": "2022-06-25T21:27:22.207363",
     "exception": false,
     "start_time": "2022-06-25T21:27:22.187923",
     "status": "completed"
    },
    "tags": []
   },
   "outputs": [],
   "source": [
    "FEATURES = [\"GrLivArea\", \"LotArea\", \"TotalBsmtSF\", \"FullBath\"]"
   ]
  },
  {
   "cell_type": "markdown",
   "id": "66c5e088",
   "metadata": {
    "papermill": {
     "duration": 0.009457,
     "end_time": "2022-06-25T21:27:22.226727",
     "exception": false,
     "start_time": "2022-06-25T21:27:22.217270",
     "status": "completed"
    },
    "tags": []
   },
   "source": [
    "<div style=\"background-color:rgba(128, 0, 128, 0.6);border-radius:5px;display:fill\"><h1 style=\"text-align: center;padding: 12px 0px 12px 0px;\">Missing Data</h1>\n",
    "</div>"
   ]
  },
  {
   "cell_type": "code",
   "execution_count": 9,
   "id": "f33d25bc",
   "metadata": {
    "execution": {
     "iopub.execute_input": "2022-06-25T21:27:22.248119Z",
     "iopub.status.busy": "2022-06-25T21:27:22.247692Z",
     "iopub.status.idle": "2022-06-25T21:27:22.267826Z",
     "shell.execute_reply": "2022-06-25T21:27:22.265870Z"
    },
    "papermill": {
     "duration": 0.033863,
     "end_time": "2022-06-25T21:27:22.270489",
     "exception": false,
     "start_time": "2022-06-25T21:27:22.236626",
     "status": "completed"
    },
    "tags": []
   },
   "outputs": [
    {
     "name": "stdout",
     "output_type": "stream",
     "text": [
      "===== Train =====\n",
      "GrLivArea      0\n",
      "LotArea        0\n",
      "TotalBsmtSF    0\n",
      "FullBath       0\n",
      "dtype: int64\n",
      "===== Test =====\n",
      "GrLivArea      0\n",
      "LotArea        0\n",
      "TotalBsmtSF    1\n",
      "FullBath       0\n",
      "dtype: int64\n"
     ]
    }
   ],
   "source": [
    "print(5*\"=\",\"Train\", 5*\"=\")\n",
    "print(train[FEATURES].isnull().sum())\n",
    "print(5*\"=\",\"Test\", 5*\"=\")\n",
    "print(test[FEATURES].isnull().sum())"
   ]
  },
  {
   "cell_type": "code",
   "execution_count": 10,
   "id": "c4307931",
   "metadata": {
    "execution": {
     "iopub.execute_input": "2022-06-25T21:27:22.292399Z",
     "iopub.status.busy": "2022-06-25T21:27:22.292015Z",
     "iopub.status.idle": "2022-06-25T21:27:22.300087Z",
     "shell.execute_reply": "2022-06-25T21:27:22.298481Z"
    },
    "papermill": {
     "duration": 0.022323,
     "end_time": "2022-06-25T21:27:22.302806",
     "exception": false,
     "start_time": "2022-06-25T21:27:22.280483",
     "status": "completed"
    },
    "tags": []
   },
   "outputs": [],
   "source": [
    "test[\"TotalBsmtSF\"] = test[\"TotalBsmtSF\"].fillna(0)"
   ]
  },
  {
   "cell_type": "markdown",
   "id": "4dbef3fb",
   "metadata": {
    "papermill": {
     "duration": 0.009609,
     "end_time": "2022-06-25T21:27:22.322609",
     "exception": false,
     "start_time": "2022-06-25T21:27:22.313000",
     "status": "completed"
    },
    "tags": []
   },
   "source": [
    "## Verify No Missing Data"
   ]
  },
  {
   "cell_type": "code",
   "execution_count": 11,
   "id": "e30e5fc1",
   "metadata": {
    "execution": {
     "iopub.execute_input": "2022-06-25T21:27:22.345098Z",
     "iopub.status.busy": "2022-06-25T21:27:22.343865Z",
     "iopub.status.idle": "2022-06-25T21:27:22.352824Z",
     "shell.execute_reply": "2022-06-25T21:27:22.351110Z"
    },
    "papermill": {
     "duration": 0.022814,
     "end_time": "2022-06-25T21:27:22.355470",
     "exception": false,
     "start_time": "2022-06-25T21:27:22.332656",
     "status": "completed"
    },
    "tags": []
   },
   "outputs": [
    {
     "name": "stdout",
     "output_type": "stream",
     "text": [
      "GrLivArea      0\n",
      "LotArea        0\n",
      "TotalBsmtSF    0\n",
      "FullBath       0\n",
      "dtype: int64\n"
     ]
    }
   ],
   "source": [
    "print(test[FEATURES].isnull().sum())"
   ]
  },
  {
   "cell_type": "code",
   "execution_count": 12,
   "id": "93b8b895",
   "metadata": {
    "execution": {
     "iopub.execute_input": "2022-06-25T21:27:22.377618Z",
     "iopub.status.busy": "2022-06-25T21:27:22.377209Z",
     "iopub.status.idle": "2022-06-25T21:27:22.384810Z",
     "shell.execute_reply": "2022-06-25T21:27:22.383653Z"
    },
    "papermill": {
     "duration": 0.021353,
     "end_time": "2022-06-25T21:27:22.387126",
     "exception": false,
     "start_time": "2022-06-25T21:27:22.365773",
     "status": "completed"
    },
    "tags": []
   },
   "outputs": [],
   "source": [
    "y = train[TARGET]\n",
    "X = train[FEATURES].copy()\n",
    "\n",
    "X_test = test[FEATURES].copy()"
   ]
  },
  {
   "cell_type": "code",
   "execution_count": 13,
   "id": "a787216b",
   "metadata": {
    "execution": {
     "iopub.execute_input": "2022-06-25T21:27:22.409540Z",
     "iopub.status.busy": "2022-06-25T21:27:22.409129Z",
     "iopub.status.idle": "2022-06-25T21:27:22.419581Z",
     "shell.execute_reply": "2022-06-25T21:27:22.418660Z"
    },
    "papermill": {
     "duration": 0.023858,
     "end_time": "2022-06-25T21:27:22.421603",
     "exception": false,
     "start_time": "2022-06-25T21:27:22.397745",
     "status": "completed"
    },
    "tags": []
   },
   "outputs": [
    {
     "data": {
      "text/html": [
       "<div>\n",
       "<style scoped>\n",
       "    .dataframe tbody tr th:only-of-type {\n",
       "        vertical-align: middle;\n",
       "    }\n",
       "\n",
       "    .dataframe tbody tr th {\n",
       "        vertical-align: top;\n",
       "    }\n",
       "\n",
       "    .dataframe thead th {\n",
       "        text-align: right;\n",
       "    }\n",
       "</style>\n",
       "<table border=\"1\" class=\"dataframe\">\n",
       "  <thead>\n",
       "    <tr style=\"text-align: right;\">\n",
       "      <th></th>\n",
       "      <th>GrLivArea</th>\n",
       "      <th>LotArea</th>\n",
       "      <th>TotalBsmtSF</th>\n",
       "      <th>FullBath</th>\n",
       "    </tr>\n",
       "  </thead>\n",
       "  <tbody>\n",
       "    <tr>\n",
       "      <th>0</th>\n",
       "      <td>1710</td>\n",
       "      <td>8450</td>\n",
       "      <td>856</td>\n",
       "      <td>2</td>\n",
       "    </tr>\n",
       "    <tr>\n",
       "      <th>1</th>\n",
       "      <td>1262</td>\n",
       "      <td>9600</td>\n",
       "      <td>1262</td>\n",
       "      <td>2</td>\n",
       "    </tr>\n",
       "    <tr>\n",
       "      <th>2</th>\n",
       "      <td>1786</td>\n",
       "      <td>11250</td>\n",
       "      <td>920</td>\n",
       "      <td>2</td>\n",
       "    </tr>\n",
       "    <tr>\n",
       "      <th>3</th>\n",
       "      <td>1717</td>\n",
       "      <td>9550</td>\n",
       "      <td>756</td>\n",
       "      <td>1</td>\n",
       "    </tr>\n",
       "    <tr>\n",
       "      <th>4</th>\n",
       "      <td>2198</td>\n",
       "      <td>14260</td>\n",
       "      <td>1145</td>\n",
       "      <td>2</td>\n",
       "    </tr>\n",
       "  </tbody>\n",
       "</table>\n",
       "</div>"
      ],
      "text/plain": [
       "   GrLivArea  LotArea  TotalBsmtSF  FullBath\n",
       "0       1710     8450          856         2\n",
       "1       1262     9600         1262         2\n",
       "2       1786    11250          920         2\n",
       "3       1717     9550          756         1\n",
       "4       2198    14260         1145         2"
      ]
     },
     "execution_count": 13,
     "metadata": {},
     "output_type": "execute_result"
    }
   ],
   "source": [
    "X.head()"
   ]
  },
  {
   "cell_type": "markdown",
   "id": "77dafcae",
   "metadata": {
    "papermill": {
     "duration": 0.009914,
     "end_time": "2022-06-25T21:27:22.441808",
     "exception": false,
     "start_time": "2022-06-25T21:27:22.431894",
     "status": "completed"
    },
    "tags": []
   },
   "source": [
    "## Scale the Data\n",
    "\n",
    "Doesn't make a difference so it's commented out."
   ]
  },
  {
   "cell_type": "code",
   "execution_count": 14,
   "id": "0f4d267a",
   "metadata": {
    "execution": {
     "iopub.execute_input": "2022-06-25T21:27:22.465003Z",
     "iopub.status.busy": "2022-06-25T21:27:22.463744Z",
     "iopub.status.idle": "2022-06-25T21:27:22.479753Z",
     "shell.execute_reply": "2022-06-25T21:27:22.478466Z"
    },
    "papermill": {
     "duration": 0.030373,
     "end_time": "2022-06-25T21:27:22.482430",
     "exception": false,
     "start_time": "2022-06-25T21:27:22.452057",
     "status": "completed"
    },
    "tags": []
   },
   "outputs": [],
   "source": [
    "from sklearn.preprocessing import StandardScaler, RobustScaler\n",
    "\n",
    "scaler = RobustScaler()\n",
    "\n",
    "X = scaler.fit(X).transform(X)\n",
    "X_test = scaler.transform(X_test)"
   ]
  },
  {
   "cell_type": "code",
   "execution_count": 15,
   "id": "f1a45248",
   "metadata": {
    "execution": {
     "iopub.execute_input": "2022-06-25T21:27:22.505481Z",
     "iopub.status.busy": "2022-06-25T21:27:22.505045Z",
     "iopub.status.idle": "2022-06-25T21:27:22.513656Z",
     "shell.execute_reply": "2022-06-25T21:27:22.512352Z"
    },
    "papermill": {
     "duration": 0.02366,
     "end_time": "2022-06-25T21:27:22.516452",
     "exception": false,
     "start_time": "2022-06-25T21:27:22.492792",
     "status": "completed"
    },
    "tags": []
   },
   "outputs": [
    {
     "data": {
      "text/plain": [
       "array([[ 0.38006952, -0.25407609, -0.26965174,  0.        ],\n",
       "       [-0.31208961,  0.03001482,  0.53830846,  0.        ],\n",
       "       [ 0.49748938,  0.43762352, -0.14228856,  0.        ],\n",
       "       [ 0.39088451,  0.01766304, -0.46865672, -1.        ],\n",
       "       [ 1.13402858,  1.18120059,  0.30547264,  0.        ]])"
      ]
     },
     "execution_count": 15,
     "metadata": {},
     "output_type": "execute_result"
    }
   ],
   "source": [
    "X[:5]"
   ]
  },
  {
   "cell_type": "markdown",
   "id": "03494a7f",
   "metadata": {
    "papermill": {
     "duration": 0.010148,
     "end_time": "2022-06-25T21:27:22.537257",
     "exception": false,
     "start_time": "2022-06-25T21:27:22.527109",
     "status": "completed"
    },
    "tags": []
   },
   "source": [
    "<div style=\"background-color:rgba(128, 0, 128, 0.6);border-radius:5px;display:fill\"><h1 style=\"text-align: center;padding: 12px 0px 12px 0px;\">Train Model with Train/Test Split</h1>\n",
    "</div>\n",
    "\n",
    "We split the training data so we can evaluate how well each model performs  We are saving 20% of the training data to validate the model(s)."
   ]
  },
  {
   "cell_type": "code",
   "execution_count": 16,
   "id": "82e66f43",
   "metadata": {
    "execution": {
     "iopub.execute_input": "2022-06-25T21:27:22.560557Z",
     "iopub.status.busy": "2022-06-25T21:27:22.560135Z",
     "iopub.status.idle": "2022-06-25T21:27:22.586534Z",
     "shell.execute_reply": "2022-06-25T21:27:22.585407Z"
    },
    "papermill": {
     "duration": 0.041357,
     "end_time": "2022-06-25T21:27:22.589139",
     "exception": false,
     "start_time": "2022-06-25T21:27:22.547782",
     "status": "completed"
    },
    "tags": []
   },
   "outputs": [
    {
     "data": {
      "text/plain": [
       "((1022, 4), (1022,), (438, 4), (438,))"
      ]
     },
     "execution_count": 16,
     "metadata": {},
     "output_type": "execute_result"
    }
   ],
   "source": [
    "from sklearn.model_selection import train_test_split\n",
    "\n",
    "X_train, X_valid, y_train, y_valid = train_test_split(\n",
    "    X,\n",
    "    y,\n",
    "    test_size=0.3,    # Save 20% for validation\n",
    "    random_state=42,  # Make the split deterministic\n",
    ")\n",
    "X_train.shape, y_train.shape, X_valid.shape, y_valid.shape"
   ]
  },
  {
   "cell_type": "markdown",
   "id": "6be4bdfc",
   "metadata": {
    "papermill": {
     "duration": 0.010577,
     "end_time": "2022-06-25T21:27:22.610329",
     "exception": false,
     "start_time": "2022-06-25T21:27:22.599752",
     "status": "completed"
    },
    "tags": []
   },
   "source": [
    "# Create a Model"
   ]
  },
  {
   "cell_type": "code",
   "execution_count": 17,
   "id": "fddfb705",
   "metadata": {
    "execution": {
     "iopub.execute_input": "2022-06-25T21:27:22.633526Z",
     "iopub.status.busy": "2022-06-25T21:27:22.633128Z",
     "iopub.status.idle": "2022-06-25T21:27:22.725507Z",
     "shell.execute_reply": "2022-06-25T21:27:22.724311Z"
    },
    "papermill": {
     "duration": 0.107498,
     "end_time": "2022-06-25T21:27:22.728375",
     "exception": false,
     "start_time": "2022-06-25T21:27:22.620877",
     "status": "completed"
    },
    "tags": []
   },
   "outputs": [],
   "source": [
    "from sklearn.linear_model import LinearRegression, Lasso, Ridge\n",
    "    \n",
    "def run_regression_model(model):\n",
    "#     model = Lasso(alpha=0.5)\n",
    "    poly_features = PolynomialFeatures(degree = 3, include_bias=False)\n",
    "    X_poly = poly_features.fit_transform(X_train)\n",
    "\n",
    "    model.fit(X_poly,y_train)\n",
    "\n",
    "    valid_preds = model.predict(poly_features.transform(X_valid))\n",
    "    test_preds = model.predict(poly_features.transform(X_test))\n",
    "\n",
    "    return valid_preds, test_preds"
   ]
  },
  {
   "cell_type": "code",
   "execution_count": 18,
   "id": "d81ba878",
   "metadata": {
    "execution": {
     "iopub.execute_input": "2022-06-25T21:27:22.752002Z",
     "iopub.status.busy": "2022-06-25T21:27:22.751597Z",
     "iopub.status.idle": "2022-06-25T21:27:22.786125Z",
     "shell.execute_reply": "2022-06-25T21:27:22.784790Z"
    },
    "papermill": {
     "duration": 0.05069,
     "end_time": "2022-06-25T21:27:22.789732",
     "exception": false,
     "start_time": "2022-06-25T21:27:22.739042",
     "status": "completed"
    },
    "tags": []
   },
   "outputs": [
    {
     "data": {
      "text/plain": [
       "LinearRegression()"
      ]
     },
     "execution_count": 18,
     "metadata": {},
     "output_type": "execute_result"
    }
   ],
   "source": [
    "from sklearn.preprocessing import PolynomialFeatures\n",
    "\n",
    "poly_features = PolynomialFeatures(degree = 2, include_bias=False)\n",
    "X_poly = poly_features.fit_transform(X_train)\n",
    "model = LinearRegression()\n",
    "model.fit(X_poly, y_train)"
   ]
  },
  {
   "cell_type": "code",
   "execution_count": 19,
   "id": "d5b5b5d5",
   "metadata": {
    "execution": {
     "iopub.execute_input": "2022-06-25T21:27:22.832455Z",
     "iopub.status.busy": "2022-06-25T21:27:22.831766Z",
     "iopub.status.idle": "2022-06-25T21:27:22.845571Z",
     "shell.execute_reply": "2022-06-25T21:27:22.843626Z"
    },
    "papermill": {
     "duration": 0.039089,
     "end_time": "2022-06-25T21:27:22.849244",
     "exception": false,
     "start_time": "2022-06-25T21:27:22.810155",
     "status": "completed"
    },
    "tags": []
   },
   "outputs": [
    {
     "name": "stdout",
     "output_type": "stream",
     "text": [
      "MAE: 30426.9912\n",
      "RMSE: 2072476276.6549\n"
     ]
    }
   ],
   "source": [
    "valid_preds = model.predict(poly_features.transform(X_valid))\n",
    "show_scores(y_valid, valid_preds)\n"
   ]
  },
  {
   "cell_type": "code",
   "execution_count": 20,
   "id": "546947b0",
   "metadata": {
    "execution": {
     "iopub.execute_input": "2022-06-25T21:27:22.891955Z",
     "iopub.status.busy": "2022-06-25T21:27:22.891334Z",
     "iopub.status.idle": "2022-06-25T21:27:22.928440Z",
     "shell.execute_reply": "2022-06-25T21:27:22.927090Z"
    },
    "papermill": {
     "duration": 0.063463,
     "end_time": "2022-06-25T21:27:22.932904",
     "exception": false,
     "start_time": "2022-06-25T21:27:22.869441",
     "status": "completed"
    },
    "tags": []
   },
   "outputs": [
    {
     "data": {
      "text/html": [
       "<div>\n",
       "<style scoped>\n",
       "    .dataframe tbody tr th:only-of-type {\n",
       "        vertical-align: middle;\n",
       "    }\n",
       "\n",
       "    .dataframe tbody tr th {\n",
       "        vertical-align: top;\n",
       "    }\n",
       "\n",
       "    .dataframe thead th {\n",
       "        text-align: right;\n",
       "    }\n",
       "</style>\n",
       "<table border=\"1\" class=\"dataframe\">\n",
       "  <thead>\n",
       "    <tr style=\"text-align: right;\">\n",
       "      <th></th>\n",
       "      <th>Id</th>\n",
       "      <th>SalePrice</th>\n",
       "    </tr>\n",
       "  </thead>\n",
       "  <tbody>\n",
       "    <tr>\n",
       "      <th>0</th>\n",
       "      <td>1461</td>\n",
       "      <td>123513.964855</td>\n",
       "    </tr>\n",
       "    <tr>\n",
       "      <th>1</th>\n",
       "      <td>1462</td>\n",
       "      <td>181395.138047</td>\n",
       "    </tr>\n",
       "    <tr>\n",
       "      <th>2</th>\n",
       "      <td>1463</td>\n",
       "      <td>188163.248935</td>\n",
       "    </tr>\n",
       "    <tr>\n",
       "      <th>3</th>\n",
       "      <td>1464</td>\n",
       "      <td>183534.346632</td>\n",
       "    </tr>\n",
       "    <tr>\n",
       "      <th>4</th>\n",
       "      <td>1465</td>\n",
       "      <td>183325.525109</td>\n",
       "    </tr>\n",
       "  </tbody>\n",
       "</table>\n",
       "</div>"
      ],
      "text/plain": [
       "     Id      SalePrice\n",
       "0  1461  123513.964855\n",
       "1  1462  181395.138047\n",
       "2  1463  188163.248935\n",
       "3  1464  183534.346632\n",
       "4  1465  183325.525109"
      ]
     },
     "execution_count": 20,
     "metadata": {},
     "output_type": "execute_result"
    }
   ],
   "source": [
    "test_preds = model.predict(poly_features.transform(X_test))\n",
    "create_submission(\"poly2\", TARGET, test_preds)"
   ]
  },
  {
   "cell_type": "markdown",
   "id": "cf6536d0",
   "metadata": {
    "papermill": {
     "duration": 0.019681,
     "end_time": "2022-06-25T21:27:22.973991",
     "exception": false,
     "start_time": "2022-06-25T21:27:22.954310",
     "status": "completed"
    },
    "tags": []
   },
   "source": [
    "## Fit/Train the model"
   ]
  },
  {
   "cell_type": "code",
   "execution_count": 21,
   "id": "154a221f",
   "metadata": {
    "execution": {
     "iopub.execute_input": "2022-06-25T21:27:23.018205Z",
     "iopub.status.busy": "2022-06-25T21:27:23.017604Z",
     "iopub.status.idle": "2022-06-25T21:27:23.082561Z",
     "shell.execute_reply": "2022-06-25T21:27:23.081279Z"
    },
    "papermill": {
     "duration": 0.091124,
     "end_time": "2022-06-25T21:27:23.085968",
     "exception": false,
     "start_time": "2022-06-25T21:27:22.994844",
     "status": "completed"
    },
    "tags": []
   },
   "outputs": [
    {
     "name": "stdout",
     "output_type": "stream",
     "text": [
      "MAE: 29452.7601\n",
      "RMSE: 1944533469.4584\n"
     ]
    },
    {
     "data": {
      "text/html": [
       "<div>\n",
       "<style scoped>\n",
       "    .dataframe tbody tr th:only-of-type {\n",
       "        vertical-align: middle;\n",
       "    }\n",
       "\n",
       "    .dataframe tbody tr th {\n",
       "        vertical-align: top;\n",
       "    }\n",
       "\n",
       "    .dataframe thead th {\n",
       "        text-align: right;\n",
       "    }\n",
       "</style>\n",
       "<table border=\"1\" class=\"dataframe\">\n",
       "  <thead>\n",
       "    <tr style=\"text-align: right;\">\n",
       "      <th></th>\n",
       "      <th>Id</th>\n",
       "      <th>SalePrice</th>\n",
       "    </tr>\n",
       "  </thead>\n",
       "  <tbody>\n",
       "    <tr>\n",
       "      <th>0</th>\n",
       "      <td>1461</td>\n",
       "      <td>114391.037937</td>\n",
       "    </tr>\n",
       "    <tr>\n",
       "      <th>1</th>\n",
       "      <td>1462</td>\n",
       "      <td>183081.687128</td>\n",
       "    </tr>\n",
       "    <tr>\n",
       "      <th>2</th>\n",
       "      <td>1463</td>\n",
       "      <td>185177.409410</td>\n",
       "    </tr>\n",
       "    <tr>\n",
       "      <th>3</th>\n",
       "      <td>1464</td>\n",
       "      <td>182093.711795</td>\n",
       "    </tr>\n",
       "    <tr>\n",
       "      <th>4</th>\n",
       "      <td>1465</td>\n",
       "      <td>182786.051202</td>\n",
       "    </tr>\n",
       "  </tbody>\n",
       "</table>\n",
       "</div>"
      ],
      "text/plain": [
       "     Id      SalePrice\n",
       "0  1461  114391.037937\n",
       "1  1462  183081.687128\n",
       "2  1463  185177.409410\n",
       "3  1464  182093.711795\n",
       "4  1465  182786.051202"
      ]
     },
     "execution_count": 21,
     "metadata": {},
     "output_type": "execute_result"
    }
   ],
   "source": [
    "valid_preds, test_preds = run_regression_model(LinearRegression())\n",
    "show_scores(y_valid, valid_preds)\n",
    "create_submission(\"\", TARGET, test_preds)"
   ]
  },
  {
   "cell_type": "markdown",
   "id": "c3c44bea",
   "metadata": {
    "papermill": {
     "duration": 0.033174,
     "end_time": "2022-06-25T21:27:23.154322",
     "exception": false,
     "start_time": "2022-06-25T21:27:23.121148",
     "status": "completed"
    },
    "tags": []
   },
   "source": [
    "\n",
    "- https://stackoverflow.com/questions/20681864/lasso-on-sklearn-does-not-converge\n",
    "- https://stats.stackexchange.com/questions/445831/how-is-tol-used-in-scikit-learns-lasso-and-elasticnet\n"
   ]
  },
  {
   "cell_type": "code",
   "execution_count": 22,
   "id": "318c67e3",
   "metadata": {
    "execution": {
     "iopub.execute_input": "2022-06-25T21:27:23.180768Z",
     "iopub.status.busy": "2022-06-25T21:27:23.180348Z",
     "iopub.status.idle": "2022-06-25T21:27:23.483165Z",
     "shell.execute_reply": "2022-06-25T21:27:23.481178Z"
    },
    "papermill": {
     "duration": 0.319795,
     "end_time": "2022-06-25T21:27:23.487315",
     "exception": false,
     "start_time": "2022-06-25T21:27:23.167520",
     "status": "completed"
    },
    "tags": []
   },
   "outputs": [
    {
     "name": "stdout",
     "output_type": "stream",
     "text": [
      "MAE: 29346.2371\n",
      "RMSE: 1881066682.3261\n"
     ]
    },
    {
     "name": "stderr",
     "output_type": "stream",
     "text": [
      "/opt/conda/lib/python3.7/site-packages/sklearn/linear_model/_coordinate_descent.py:648: ConvergenceWarning: Objective did not converge. You might want to increase the number of iterations, check the scale of the features or consider increasing regularisation. Duality gap: 8.743e+11, tolerance: 6.151e+06\n",
      "  coef_, l1_reg, l2_reg, X, y, max_iter, tol, rng, random, positive\n"
     ]
    },
    {
     "data": {
      "text/html": [
       "<div>\n",
       "<style scoped>\n",
       "    .dataframe tbody tr th:only-of-type {\n",
       "        vertical-align: middle;\n",
       "    }\n",
       "\n",
       "    .dataframe tbody tr th {\n",
       "        vertical-align: top;\n",
       "    }\n",
       "\n",
       "    .dataframe thead th {\n",
       "        text-align: right;\n",
       "    }\n",
       "</style>\n",
       "<table border=\"1\" class=\"dataframe\">\n",
       "  <thead>\n",
       "    <tr style=\"text-align: right;\">\n",
       "      <th></th>\n",
       "      <th>Id</th>\n",
       "      <th>SalePrice</th>\n",
       "    </tr>\n",
       "  </thead>\n",
       "  <tbody>\n",
       "    <tr>\n",
       "      <th>0</th>\n",
       "      <td>1461</td>\n",
       "      <td>114161.684509</td>\n",
       "    </tr>\n",
       "    <tr>\n",
       "      <th>1</th>\n",
       "      <td>1462</td>\n",
       "      <td>183280.115819</td>\n",
       "    </tr>\n",
       "    <tr>\n",
       "      <th>2</th>\n",
       "      <td>1463</td>\n",
       "      <td>186144.939356</td>\n",
       "    </tr>\n",
       "    <tr>\n",
       "      <th>3</th>\n",
       "      <td>1464</td>\n",
       "      <td>183023.968882</td>\n",
       "    </tr>\n",
       "    <tr>\n",
       "      <th>4</th>\n",
       "      <td>1465</td>\n",
       "      <td>182213.203552</td>\n",
       "    </tr>\n",
       "  </tbody>\n",
       "</table>\n",
       "</div>"
      ],
      "text/plain": [
       "     Id      SalePrice\n",
       "0  1461  114161.684509\n",
       "1  1462  183280.115819\n",
       "2  1463  186144.939356\n",
       "3  1464  183023.968882\n",
       "4  1465  182213.203552"
      ]
     },
     "execution_count": 22,
     "metadata": {},
     "output_type": "execute_result"
    }
   ],
   "source": [
    "valid_preds, test_preds = run_regression_model(Lasso(alpha=1.0, max_iter=10_000, tol= 0.000001))\n",
    "show_scores(y_valid, valid_preds)\n",
    "create_submission(\"lasso\", TARGET, test_preds)"
   ]
  },
  {
   "cell_type": "code",
   "execution_count": 23,
   "id": "d6f7e3d7",
   "metadata": {
    "execution": {
     "iopub.execute_input": "2022-06-25T21:27:23.569541Z",
     "iopub.status.busy": "2022-06-25T21:27:23.568720Z",
     "iopub.status.idle": "2022-06-25T21:27:23.619987Z",
     "shell.execute_reply": "2022-06-25T21:27:23.618562Z"
    },
    "papermill": {
     "duration": 0.100512,
     "end_time": "2022-06-25T21:27:23.624375",
     "exception": false,
     "start_time": "2022-06-25T21:27:23.523863",
     "status": "completed"
    },
    "tags": []
   },
   "outputs": [
    {
     "name": "stdout",
     "output_type": "stream",
     "text": [
      "MAE: 29485.4338\n",
      "RMSE: 1946714771.5026\n"
     ]
    },
    {
     "data": {
      "text/html": [
       "<div>\n",
       "<style scoped>\n",
       "    .dataframe tbody tr th:only-of-type {\n",
       "        vertical-align: middle;\n",
       "    }\n",
       "\n",
       "    .dataframe tbody tr th {\n",
       "        vertical-align: top;\n",
       "    }\n",
       "\n",
       "    .dataframe thead th {\n",
       "        text-align: right;\n",
       "    }\n",
       "</style>\n",
       "<table border=\"1\" class=\"dataframe\">\n",
       "  <thead>\n",
       "    <tr style=\"text-align: right;\">\n",
       "      <th></th>\n",
       "      <th>Id</th>\n",
       "      <th>SalePrice</th>\n",
       "    </tr>\n",
       "  </thead>\n",
       "  <tbody>\n",
       "    <tr>\n",
       "      <th>0</th>\n",
       "      <td>1461</td>\n",
       "      <td>114312.208628</td>\n",
       "    </tr>\n",
       "    <tr>\n",
       "      <th>1</th>\n",
       "      <td>1462</td>\n",
       "      <td>183152.871906</td>\n",
       "    </tr>\n",
       "    <tr>\n",
       "      <th>2</th>\n",
       "      <td>1463</td>\n",
       "      <td>184989.749163</td>\n",
       "    </tr>\n",
       "    <tr>\n",
       "      <th>3</th>\n",
       "      <td>1464</td>\n",
       "      <td>181884.030964</td>\n",
       "    </tr>\n",
       "    <tr>\n",
       "      <th>4</th>\n",
       "      <td>1465</td>\n",
       "      <td>182824.966174</td>\n",
       "    </tr>\n",
       "  </tbody>\n",
       "</table>\n",
       "</div>"
      ],
      "text/plain": [
       "     Id      SalePrice\n",
       "0  1461  114312.208628\n",
       "1  1462  183152.871906\n",
       "2  1463  184989.749163\n",
       "3  1464  181884.030964\n",
       "4  1465  182824.966174"
      ]
     },
     "execution_count": 23,
     "metadata": {},
     "output_type": "execute_result"
    }
   ],
   "source": [
    "valid_preds, test_preds = run_regression_model(Ridge(alpha=0.5, max_iter=1000, tol= 0.0001))\n",
    "show_scores(y_valid, valid_preds)\n",
    "create_submission(\"ridge\", TARGET, test_preds)"
   ]
  }
 ],
 "metadata": {
  "kernelspec": {
   "display_name": "Python 3",
   "language": "python",
   "name": "python3"
  },
  "language_info": {
   "codemirror_mode": {
    "name": "ipython",
    "version": 3
   },
   "file_extension": ".py",
   "mimetype": "text/x-python",
   "name": "python",
   "nbconvert_exporter": "python",
   "pygments_lexer": "ipython3",
   "version": "3.7.12"
  },
  "papermill": {
   "default_parameters": {},
   "duration": 14.687086,
   "end_time": "2022-06-25T21:27:24.472681",
   "environment_variables": {},
   "exception": null,
   "input_path": "__notebook__.ipynb",
   "output_path": "__notebook__.ipynb",
   "parameters": {},
   "start_time": "2022-06-25T21:27:09.785595",
   "version": "2.3.4"
  }
 },
 "nbformat": 4,
 "nbformat_minor": 5
}

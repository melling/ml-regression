{
 "cells": [
  {
   "cell_type": "markdown",
   "id": "4e6cfd1b",
   "metadata": {
    "papermill": {
     "duration": 0.010733,
     "end_time": "2022-06-25T21:31:25.395295",
     "exception": false,
     "start_time": "2022-06-25T21:31:25.384562",
     "status": "completed"
    },
    "tags": []
   },
   "source": [
    "<div style=\"background-color:rgba(128, 0, 128, 0.6);border-radius:5px;display:fill\"><h1 style=\"text-align: center;padding: 12px 0px 12px 0px;\">House Prices: Linear Regression with Polynomials</h1>\n",
    "</div>\n",
    "\n",
    "Lesson: Linear/Lasso/Ridge Regression with Polynomials\n",
    "\n",
    "\n",
    "|Notebook| MAE | LeaderBoard|\n",
    "| --- | --- | --- |\n",
    "|QuickStart|38341.2045|0.29234|\n",
    "|Extra Features|32285.7959|0.24425|\n",
    "|Features + Lasso|31349.8387|0.24425|\n",
    "|Features + Ridge|31348.1429|0.24422|\n",
    "\n"
   ]
  },
  {
   "cell_type": "markdown",
   "id": "399bbb40",
   "metadata": {
    "papermill": {
     "duration": 0.009281,
     "end_time": "2022-06-25T21:31:25.414444",
     "exception": false,
     "start_time": "2022-06-25T21:31:25.405163",
     "status": "completed"
    },
    "tags": []
   },
   "source": [
    "<div style=\"background-color:rgba(128, 0, 128, 0.6);border-radius:5px;display:fill\"><h1 style=\"text-align: center;padding: 12px 0px 12px 0px;\">Import Libraries</h1>\n",
    "</div>\n",
    "\n",
    "A best practise is to include all libraries here.  However, I will put a few imports farther down where they are first used so beginners can learn with an \"as needed\" approach."
   ]
  },
  {
   "cell_type": "code",
   "execution_count": 1,
   "id": "d939bead",
   "metadata": {
    "execution": {
     "iopub.execute_input": "2022-06-25T21:31:25.436674Z",
     "iopub.status.busy": "2022-06-25T21:31:25.435887Z",
     "iopub.status.idle": "2022-06-25T21:31:25.448572Z",
     "shell.execute_reply": "2022-06-25T21:31:25.447581Z"
    },
    "papermill": {
     "duration": 0.026916,
     "end_time": "2022-06-25T21:31:25.451230",
     "exception": false,
     "start_time": "2022-06-25T21:31:25.424314",
     "status": "completed"
    },
    "tags": []
   },
   "outputs": [],
   "source": [
    "import numpy as np # linear algebra\n",
    "import pandas as pd # data processing, CSV file I/O (e.g. pd.read_csv)\n",
    "\n",
    "from pathlib import Path\n",
    "\n",
    "pd.options.display.max_columns = 100 # Want to view all the columns"
   ]
  },
  {
   "cell_type": "markdown",
   "id": "6e1ea23e",
   "metadata": {
    "papermill": {
     "duration": 0.009068,
     "end_time": "2022-06-25T21:31:25.469305",
     "exception": false,
     "start_time": "2022-06-25T21:31:25.460237",
     "status": "completed"
    },
    "tags": []
   },
   "source": [
    "<div style=\"background-color:rgba(128, 0, 128, 0.6);border-radius:5px;display:fill\"><h1 style=\"text-align: center;padding: 12px 0px 12px 0px;\">Library</h1>\n",
    "</div>\n",
    "\n",
    "Creating a few functions that we will reuse in each project."
   ]
  },
  {
   "cell_type": "code",
   "execution_count": 2,
   "id": "9c8dee09",
   "metadata": {
    "execution": {
     "iopub.execute_input": "2022-06-25T21:31:25.490757Z",
     "iopub.status.busy": "2022-06-25T21:31:25.490317Z",
     "iopub.status.idle": "2022-06-25T21:31:25.498073Z",
     "shell.execute_reply": "2022-06-25T21:31:25.496660Z"
    },
    "papermill": {
     "duration": 0.021942,
     "end_time": "2022-06-25T21:31:25.501081",
     "exception": false,
     "start_time": "2022-06-25T21:31:25.479139",
     "status": "completed"
    },
    "tags": []
   },
   "outputs": [],
   "source": [
    "def read_data(path):\n",
    "    data_dir = Path(path)\n",
    "\n",
    "    train = pd.read_csv(data_dir / \"train.csv\")\n",
    "    test = pd.read_csv(data_dir / \"test.csv\")\n",
    "    submission_df = pd.read_csv(data_dir / \"sample_submission.csv\")\n",
    "\n",
    "    print(f\"train data: Rows={train.shape[0]}, Columns={train.shape[1]}\")\n",
    "    print(f\"test data : Rows={test.shape[0]}, Columns={test.shape[1]}\")\n",
    "    return train, test, submission_df"
   ]
  },
  {
   "cell_type": "code",
   "execution_count": 3,
   "id": "65816549",
   "metadata": {
    "execution": {
     "iopub.execute_input": "2022-06-25T21:31:25.523016Z",
     "iopub.status.busy": "2022-06-25T21:31:25.522243Z",
     "iopub.status.idle": "2022-06-25T21:31:25.531721Z",
     "shell.execute_reply": "2022-06-25T21:31:25.530524Z"
    },
    "papermill": {
     "duration": 0.023893,
     "end_time": "2022-06-25T21:31:25.534400",
     "exception": false,
     "start_time": "2022-06-25T21:31:25.510507",
     "status": "completed"
    },
    "tags": []
   },
   "outputs": [],
   "source": [
    "def create_submission(model_name, target, preds):\n",
    "    sample_submission[target] = preds\n",
    "    if len(model_name) > 0:\n",
    "        sample_submission.to_csv(f\"submission_{model_name}.csv\", index=False)\n",
    "    else:\n",
    "        sample_submission.to_csv(f\"submission.csv\", index=False)\n",
    "\n",
    "    return sample_submission[:5]"
   ]
  },
  {
   "cell_type": "code",
   "execution_count": 4,
   "id": "c5d8c037",
   "metadata": {
    "execution": {
     "iopub.execute_input": "2022-06-25T21:31:25.556031Z",
     "iopub.status.busy": "2022-06-25T21:31:25.555003Z",
     "iopub.status.idle": "2022-06-25T21:31:26.893506Z",
     "shell.execute_reply": "2022-06-25T21:31:26.892389Z"
    },
    "papermill": {
     "duration": 1.352503,
     "end_time": "2022-06-25T21:31:26.896213",
     "exception": false,
     "start_time": "2022-06-25T21:31:25.543710",
     "status": "completed"
    },
    "tags": []
   },
   "outputs": [],
   "source": [
    "from sklearn.metrics import mean_squared_error\n",
    "from sklearn.metrics import mean_absolute_error\n",
    "\n",
    "def show_scores(gt, yhat):\n",
    "    rmse = mean_squared_error(gt, yhat)\n",
    "    mae = mean_absolute_error(gt, yhat)\n",
    "\n",
    "    print(f\"MAE: {mae:.4f}\")\n",
    "    print(f\"RMSE: {rmse:.4f}\")"
   ]
  },
  {
   "cell_type": "markdown",
   "id": "56ddf88c",
   "metadata": {
    "papermill": {
     "duration": 0.009392,
     "end_time": "2022-06-25T21:31:26.914812",
     "exception": false,
     "start_time": "2022-06-25T21:31:26.905420",
     "status": "completed"
    },
    "tags": []
   },
   "source": [
    "<div style=\"background-color:rgba(128, 0, 128, 0.6);border-radius:5px;display:fill\"><h1 style=\"text-align: center;padding: 12px 0px 12px 0px;\">Load Train/Test Data</h1>\n",
    "</div>\n",
    "\n",
    "- train.csv - Data used to build our machine learning model\n",
    "- test.csv - Data used to build our machine learning model. Does not contain the target variable\n",
    "- sample_submission.csv - A file in the proper format to submit test predictions"
   ]
  },
  {
   "cell_type": "code",
   "execution_count": 5,
   "id": "4950aef4",
   "metadata": {
    "execution": {
     "iopub.execute_input": "2022-06-25T21:31:26.936217Z",
     "iopub.status.busy": "2022-06-25T21:31:26.935297Z",
     "iopub.status.idle": "2022-06-25T21:31:27.039752Z",
     "shell.execute_reply": "2022-06-25T21:31:27.038278Z"
    },
    "papermill": {
     "duration": 0.119494,
     "end_time": "2022-06-25T21:31:27.043338",
     "exception": false,
     "start_time": "2022-06-25T21:31:26.923844",
     "status": "completed"
    },
    "tags": []
   },
   "outputs": [
    {
     "name": "stdout",
     "output_type": "stream",
     "text": [
      "train data: Rows=1460, Columns=81\n",
      "test data : Rows=1459, Columns=80\n"
     ]
    }
   ],
   "source": [
    "train, test, sample_submission  = read_data(\"../input/house-prices-advanced-regression-techniques\")"
   ]
  },
  {
   "cell_type": "code",
   "execution_count": 6,
   "id": "65f9576d",
   "metadata": {
    "execution": {
     "iopub.execute_input": "2022-06-25T21:31:27.066380Z",
     "iopub.status.busy": "2022-06-25T21:31:27.065481Z",
     "iopub.status.idle": "2022-06-25T21:31:27.140167Z",
     "shell.execute_reply": "2022-06-25T21:31:27.138577Z"
    },
    "papermill": {
     "duration": 0.088952,
     "end_time": "2022-06-25T21:31:27.142778",
     "exception": false,
     "start_time": "2022-06-25T21:31:27.053826",
     "status": "completed"
    },
    "tags": []
   },
   "outputs": [
    {
     "data": {
      "text/html": [
       "<div>\n",
       "<style scoped>\n",
       "    .dataframe tbody tr th:only-of-type {\n",
       "        vertical-align: middle;\n",
       "    }\n",
       "\n",
       "    .dataframe tbody tr th {\n",
       "        vertical-align: top;\n",
       "    }\n",
       "\n",
       "    .dataframe thead th {\n",
       "        text-align: right;\n",
       "    }\n",
       "</style>\n",
       "<table border=\"1\" class=\"dataframe\">\n",
       "  <thead>\n",
       "    <tr style=\"text-align: right;\">\n",
       "      <th></th>\n",
       "      <th>Id</th>\n",
       "      <th>MSSubClass</th>\n",
       "      <th>MSZoning</th>\n",
       "      <th>LotFrontage</th>\n",
       "      <th>LotArea</th>\n",
       "      <th>Street</th>\n",
       "      <th>Alley</th>\n",
       "      <th>LotShape</th>\n",
       "      <th>LandContour</th>\n",
       "      <th>Utilities</th>\n",
       "      <th>LotConfig</th>\n",
       "      <th>LandSlope</th>\n",
       "      <th>Neighborhood</th>\n",
       "      <th>Condition1</th>\n",
       "      <th>Condition2</th>\n",
       "      <th>BldgType</th>\n",
       "      <th>HouseStyle</th>\n",
       "      <th>OverallQual</th>\n",
       "      <th>OverallCond</th>\n",
       "      <th>YearBuilt</th>\n",
       "      <th>YearRemodAdd</th>\n",
       "      <th>RoofStyle</th>\n",
       "      <th>RoofMatl</th>\n",
       "      <th>Exterior1st</th>\n",
       "      <th>Exterior2nd</th>\n",
       "      <th>MasVnrType</th>\n",
       "      <th>MasVnrArea</th>\n",
       "      <th>ExterQual</th>\n",
       "      <th>ExterCond</th>\n",
       "      <th>Foundation</th>\n",
       "      <th>BsmtQual</th>\n",
       "      <th>BsmtCond</th>\n",
       "      <th>BsmtExposure</th>\n",
       "      <th>BsmtFinType1</th>\n",
       "      <th>BsmtFinSF1</th>\n",
       "      <th>BsmtFinType2</th>\n",
       "      <th>BsmtFinSF2</th>\n",
       "      <th>BsmtUnfSF</th>\n",
       "      <th>TotalBsmtSF</th>\n",
       "      <th>Heating</th>\n",
       "      <th>HeatingQC</th>\n",
       "      <th>CentralAir</th>\n",
       "      <th>Electrical</th>\n",
       "      <th>1stFlrSF</th>\n",
       "      <th>2ndFlrSF</th>\n",
       "      <th>LowQualFinSF</th>\n",
       "      <th>GrLivArea</th>\n",
       "      <th>BsmtFullBath</th>\n",
       "      <th>BsmtHalfBath</th>\n",
       "      <th>FullBath</th>\n",
       "      <th>HalfBath</th>\n",
       "      <th>BedroomAbvGr</th>\n",
       "      <th>KitchenAbvGr</th>\n",
       "      <th>KitchenQual</th>\n",
       "      <th>TotRmsAbvGrd</th>\n",
       "      <th>Functional</th>\n",
       "      <th>Fireplaces</th>\n",
       "      <th>FireplaceQu</th>\n",
       "      <th>GarageType</th>\n",
       "      <th>GarageYrBlt</th>\n",
       "      <th>GarageFinish</th>\n",
       "      <th>GarageCars</th>\n",
       "      <th>GarageArea</th>\n",
       "      <th>GarageQual</th>\n",
       "      <th>GarageCond</th>\n",
       "      <th>PavedDrive</th>\n",
       "      <th>WoodDeckSF</th>\n",
       "      <th>OpenPorchSF</th>\n",
       "      <th>EnclosedPorch</th>\n",
       "      <th>3SsnPorch</th>\n",
       "      <th>ScreenPorch</th>\n",
       "      <th>PoolArea</th>\n",
       "      <th>PoolQC</th>\n",
       "      <th>Fence</th>\n",
       "      <th>MiscFeature</th>\n",
       "      <th>MiscVal</th>\n",
       "      <th>MoSold</th>\n",
       "      <th>YrSold</th>\n",
       "      <th>SaleType</th>\n",
       "      <th>SaleCondition</th>\n",
       "      <th>SalePrice</th>\n",
       "    </tr>\n",
       "  </thead>\n",
       "  <tbody>\n",
       "    <tr>\n",
       "      <th>0</th>\n",
       "      <td>1</td>\n",
       "      <td>60</td>\n",
       "      <td>RL</td>\n",
       "      <td>65.0</td>\n",
       "      <td>8450</td>\n",
       "      <td>Pave</td>\n",
       "      <td>NaN</td>\n",
       "      <td>Reg</td>\n",
       "      <td>Lvl</td>\n",
       "      <td>AllPub</td>\n",
       "      <td>Inside</td>\n",
       "      <td>Gtl</td>\n",
       "      <td>CollgCr</td>\n",
       "      <td>Norm</td>\n",
       "      <td>Norm</td>\n",
       "      <td>1Fam</td>\n",
       "      <td>2Story</td>\n",
       "      <td>7</td>\n",
       "      <td>5</td>\n",
       "      <td>2003</td>\n",
       "      <td>2003</td>\n",
       "      <td>Gable</td>\n",
       "      <td>CompShg</td>\n",
       "      <td>VinylSd</td>\n",
       "      <td>VinylSd</td>\n",
       "      <td>BrkFace</td>\n",
       "      <td>196.0</td>\n",
       "      <td>Gd</td>\n",
       "      <td>TA</td>\n",
       "      <td>PConc</td>\n",
       "      <td>Gd</td>\n",
       "      <td>TA</td>\n",
       "      <td>No</td>\n",
       "      <td>GLQ</td>\n",
       "      <td>706</td>\n",
       "      <td>Unf</td>\n",
       "      <td>0</td>\n",
       "      <td>150</td>\n",
       "      <td>856</td>\n",
       "      <td>GasA</td>\n",
       "      <td>Ex</td>\n",
       "      <td>Y</td>\n",
       "      <td>SBrkr</td>\n",
       "      <td>856</td>\n",
       "      <td>854</td>\n",
       "      <td>0</td>\n",
       "      <td>1710</td>\n",
       "      <td>1</td>\n",
       "      <td>0</td>\n",
       "      <td>2</td>\n",
       "      <td>1</td>\n",
       "      <td>3</td>\n",
       "      <td>1</td>\n",
       "      <td>Gd</td>\n",
       "      <td>8</td>\n",
       "      <td>Typ</td>\n",
       "      <td>0</td>\n",
       "      <td>NaN</td>\n",
       "      <td>Attchd</td>\n",
       "      <td>2003.0</td>\n",
       "      <td>RFn</td>\n",
       "      <td>2</td>\n",
       "      <td>548</td>\n",
       "      <td>TA</td>\n",
       "      <td>TA</td>\n",
       "      <td>Y</td>\n",
       "      <td>0</td>\n",
       "      <td>61</td>\n",
       "      <td>0</td>\n",
       "      <td>0</td>\n",
       "      <td>0</td>\n",
       "      <td>0</td>\n",
       "      <td>NaN</td>\n",
       "      <td>NaN</td>\n",
       "      <td>NaN</td>\n",
       "      <td>0</td>\n",
       "      <td>2</td>\n",
       "      <td>2008</td>\n",
       "      <td>WD</td>\n",
       "      <td>Normal</td>\n",
       "      <td>208500</td>\n",
       "    </tr>\n",
       "    <tr>\n",
       "      <th>1</th>\n",
       "      <td>2</td>\n",
       "      <td>20</td>\n",
       "      <td>RL</td>\n",
       "      <td>80.0</td>\n",
       "      <td>9600</td>\n",
       "      <td>Pave</td>\n",
       "      <td>NaN</td>\n",
       "      <td>Reg</td>\n",
       "      <td>Lvl</td>\n",
       "      <td>AllPub</td>\n",
       "      <td>FR2</td>\n",
       "      <td>Gtl</td>\n",
       "      <td>Veenker</td>\n",
       "      <td>Feedr</td>\n",
       "      <td>Norm</td>\n",
       "      <td>1Fam</td>\n",
       "      <td>1Story</td>\n",
       "      <td>6</td>\n",
       "      <td>8</td>\n",
       "      <td>1976</td>\n",
       "      <td>1976</td>\n",
       "      <td>Gable</td>\n",
       "      <td>CompShg</td>\n",
       "      <td>MetalSd</td>\n",
       "      <td>MetalSd</td>\n",
       "      <td>None</td>\n",
       "      <td>0.0</td>\n",
       "      <td>TA</td>\n",
       "      <td>TA</td>\n",
       "      <td>CBlock</td>\n",
       "      <td>Gd</td>\n",
       "      <td>TA</td>\n",
       "      <td>Gd</td>\n",
       "      <td>ALQ</td>\n",
       "      <td>978</td>\n",
       "      <td>Unf</td>\n",
       "      <td>0</td>\n",
       "      <td>284</td>\n",
       "      <td>1262</td>\n",
       "      <td>GasA</td>\n",
       "      <td>Ex</td>\n",
       "      <td>Y</td>\n",
       "      <td>SBrkr</td>\n",
       "      <td>1262</td>\n",
       "      <td>0</td>\n",
       "      <td>0</td>\n",
       "      <td>1262</td>\n",
       "      <td>0</td>\n",
       "      <td>1</td>\n",
       "      <td>2</td>\n",
       "      <td>0</td>\n",
       "      <td>3</td>\n",
       "      <td>1</td>\n",
       "      <td>TA</td>\n",
       "      <td>6</td>\n",
       "      <td>Typ</td>\n",
       "      <td>1</td>\n",
       "      <td>TA</td>\n",
       "      <td>Attchd</td>\n",
       "      <td>1976.0</td>\n",
       "      <td>RFn</td>\n",
       "      <td>2</td>\n",
       "      <td>460</td>\n",
       "      <td>TA</td>\n",
       "      <td>TA</td>\n",
       "      <td>Y</td>\n",
       "      <td>298</td>\n",
       "      <td>0</td>\n",
       "      <td>0</td>\n",
       "      <td>0</td>\n",
       "      <td>0</td>\n",
       "      <td>0</td>\n",
       "      <td>NaN</td>\n",
       "      <td>NaN</td>\n",
       "      <td>NaN</td>\n",
       "      <td>0</td>\n",
       "      <td>5</td>\n",
       "      <td>2007</td>\n",
       "      <td>WD</td>\n",
       "      <td>Normal</td>\n",
       "      <td>181500</td>\n",
       "    </tr>\n",
       "    <tr>\n",
       "      <th>2</th>\n",
       "      <td>3</td>\n",
       "      <td>60</td>\n",
       "      <td>RL</td>\n",
       "      <td>68.0</td>\n",
       "      <td>11250</td>\n",
       "      <td>Pave</td>\n",
       "      <td>NaN</td>\n",
       "      <td>IR1</td>\n",
       "      <td>Lvl</td>\n",
       "      <td>AllPub</td>\n",
       "      <td>Inside</td>\n",
       "      <td>Gtl</td>\n",
       "      <td>CollgCr</td>\n",
       "      <td>Norm</td>\n",
       "      <td>Norm</td>\n",
       "      <td>1Fam</td>\n",
       "      <td>2Story</td>\n",
       "      <td>7</td>\n",
       "      <td>5</td>\n",
       "      <td>2001</td>\n",
       "      <td>2002</td>\n",
       "      <td>Gable</td>\n",
       "      <td>CompShg</td>\n",
       "      <td>VinylSd</td>\n",
       "      <td>VinylSd</td>\n",
       "      <td>BrkFace</td>\n",
       "      <td>162.0</td>\n",
       "      <td>Gd</td>\n",
       "      <td>TA</td>\n",
       "      <td>PConc</td>\n",
       "      <td>Gd</td>\n",
       "      <td>TA</td>\n",
       "      <td>Mn</td>\n",
       "      <td>GLQ</td>\n",
       "      <td>486</td>\n",
       "      <td>Unf</td>\n",
       "      <td>0</td>\n",
       "      <td>434</td>\n",
       "      <td>920</td>\n",
       "      <td>GasA</td>\n",
       "      <td>Ex</td>\n",
       "      <td>Y</td>\n",
       "      <td>SBrkr</td>\n",
       "      <td>920</td>\n",
       "      <td>866</td>\n",
       "      <td>0</td>\n",
       "      <td>1786</td>\n",
       "      <td>1</td>\n",
       "      <td>0</td>\n",
       "      <td>2</td>\n",
       "      <td>1</td>\n",
       "      <td>3</td>\n",
       "      <td>1</td>\n",
       "      <td>Gd</td>\n",
       "      <td>6</td>\n",
       "      <td>Typ</td>\n",
       "      <td>1</td>\n",
       "      <td>TA</td>\n",
       "      <td>Attchd</td>\n",
       "      <td>2001.0</td>\n",
       "      <td>RFn</td>\n",
       "      <td>2</td>\n",
       "      <td>608</td>\n",
       "      <td>TA</td>\n",
       "      <td>TA</td>\n",
       "      <td>Y</td>\n",
       "      <td>0</td>\n",
       "      <td>42</td>\n",
       "      <td>0</td>\n",
       "      <td>0</td>\n",
       "      <td>0</td>\n",
       "      <td>0</td>\n",
       "      <td>NaN</td>\n",
       "      <td>NaN</td>\n",
       "      <td>NaN</td>\n",
       "      <td>0</td>\n",
       "      <td>9</td>\n",
       "      <td>2008</td>\n",
       "      <td>WD</td>\n",
       "      <td>Normal</td>\n",
       "      <td>223500</td>\n",
       "    </tr>\n",
       "    <tr>\n",
       "      <th>3</th>\n",
       "      <td>4</td>\n",
       "      <td>70</td>\n",
       "      <td>RL</td>\n",
       "      <td>60.0</td>\n",
       "      <td>9550</td>\n",
       "      <td>Pave</td>\n",
       "      <td>NaN</td>\n",
       "      <td>IR1</td>\n",
       "      <td>Lvl</td>\n",
       "      <td>AllPub</td>\n",
       "      <td>Corner</td>\n",
       "      <td>Gtl</td>\n",
       "      <td>Crawfor</td>\n",
       "      <td>Norm</td>\n",
       "      <td>Norm</td>\n",
       "      <td>1Fam</td>\n",
       "      <td>2Story</td>\n",
       "      <td>7</td>\n",
       "      <td>5</td>\n",
       "      <td>1915</td>\n",
       "      <td>1970</td>\n",
       "      <td>Gable</td>\n",
       "      <td>CompShg</td>\n",
       "      <td>Wd Sdng</td>\n",
       "      <td>Wd Shng</td>\n",
       "      <td>None</td>\n",
       "      <td>0.0</td>\n",
       "      <td>TA</td>\n",
       "      <td>TA</td>\n",
       "      <td>BrkTil</td>\n",
       "      <td>TA</td>\n",
       "      <td>Gd</td>\n",
       "      <td>No</td>\n",
       "      <td>ALQ</td>\n",
       "      <td>216</td>\n",
       "      <td>Unf</td>\n",
       "      <td>0</td>\n",
       "      <td>540</td>\n",
       "      <td>756</td>\n",
       "      <td>GasA</td>\n",
       "      <td>Gd</td>\n",
       "      <td>Y</td>\n",
       "      <td>SBrkr</td>\n",
       "      <td>961</td>\n",
       "      <td>756</td>\n",
       "      <td>0</td>\n",
       "      <td>1717</td>\n",
       "      <td>1</td>\n",
       "      <td>0</td>\n",
       "      <td>1</td>\n",
       "      <td>0</td>\n",
       "      <td>3</td>\n",
       "      <td>1</td>\n",
       "      <td>Gd</td>\n",
       "      <td>7</td>\n",
       "      <td>Typ</td>\n",
       "      <td>1</td>\n",
       "      <td>Gd</td>\n",
       "      <td>Detchd</td>\n",
       "      <td>1998.0</td>\n",
       "      <td>Unf</td>\n",
       "      <td>3</td>\n",
       "      <td>642</td>\n",
       "      <td>TA</td>\n",
       "      <td>TA</td>\n",
       "      <td>Y</td>\n",
       "      <td>0</td>\n",
       "      <td>35</td>\n",
       "      <td>272</td>\n",
       "      <td>0</td>\n",
       "      <td>0</td>\n",
       "      <td>0</td>\n",
       "      <td>NaN</td>\n",
       "      <td>NaN</td>\n",
       "      <td>NaN</td>\n",
       "      <td>0</td>\n",
       "      <td>2</td>\n",
       "      <td>2006</td>\n",
       "      <td>WD</td>\n",
       "      <td>Abnorml</td>\n",
       "      <td>140000</td>\n",
       "    </tr>\n",
       "    <tr>\n",
       "      <th>4</th>\n",
       "      <td>5</td>\n",
       "      <td>60</td>\n",
       "      <td>RL</td>\n",
       "      <td>84.0</td>\n",
       "      <td>14260</td>\n",
       "      <td>Pave</td>\n",
       "      <td>NaN</td>\n",
       "      <td>IR1</td>\n",
       "      <td>Lvl</td>\n",
       "      <td>AllPub</td>\n",
       "      <td>FR2</td>\n",
       "      <td>Gtl</td>\n",
       "      <td>NoRidge</td>\n",
       "      <td>Norm</td>\n",
       "      <td>Norm</td>\n",
       "      <td>1Fam</td>\n",
       "      <td>2Story</td>\n",
       "      <td>8</td>\n",
       "      <td>5</td>\n",
       "      <td>2000</td>\n",
       "      <td>2000</td>\n",
       "      <td>Gable</td>\n",
       "      <td>CompShg</td>\n",
       "      <td>VinylSd</td>\n",
       "      <td>VinylSd</td>\n",
       "      <td>BrkFace</td>\n",
       "      <td>350.0</td>\n",
       "      <td>Gd</td>\n",
       "      <td>TA</td>\n",
       "      <td>PConc</td>\n",
       "      <td>Gd</td>\n",
       "      <td>TA</td>\n",
       "      <td>Av</td>\n",
       "      <td>GLQ</td>\n",
       "      <td>655</td>\n",
       "      <td>Unf</td>\n",
       "      <td>0</td>\n",
       "      <td>490</td>\n",
       "      <td>1145</td>\n",
       "      <td>GasA</td>\n",
       "      <td>Ex</td>\n",
       "      <td>Y</td>\n",
       "      <td>SBrkr</td>\n",
       "      <td>1145</td>\n",
       "      <td>1053</td>\n",
       "      <td>0</td>\n",
       "      <td>2198</td>\n",
       "      <td>1</td>\n",
       "      <td>0</td>\n",
       "      <td>2</td>\n",
       "      <td>1</td>\n",
       "      <td>4</td>\n",
       "      <td>1</td>\n",
       "      <td>Gd</td>\n",
       "      <td>9</td>\n",
       "      <td>Typ</td>\n",
       "      <td>1</td>\n",
       "      <td>TA</td>\n",
       "      <td>Attchd</td>\n",
       "      <td>2000.0</td>\n",
       "      <td>RFn</td>\n",
       "      <td>3</td>\n",
       "      <td>836</td>\n",
       "      <td>TA</td>\n",
       "      <td>TA</td>\n",
       "      <td>Y</td>\n",
       "      <td>192</td>\n",
       "      <td>84</td>\n",
       "      <td>0</td>\n",
       "      <td>0</td>\n",
       "      <td>0</td>\n",
       "      <td>0</td>\n",
       "      <td>NaN</td>\n",
       "      <td>NaN</td>\n",
       "      <td>NaN</td>\n",
       "      <td>0</td>\n",
       "      <td>12</td>\n",
       "      <td>2008</td>\n",
       "      <td>WD</td>\n",
       "      <td>Normal</td>\n",
       "      <td>250000</td>\n",
       "    </tr>\n",
       "  </tbody>\n",
       "</table>\n",
       "</div>"
      ],
      "text/plain": [
       "   Id  MSSubClass MSZoning  LotFrontage  LotArea Street Alley LotShape  \\\n",
       "0   1          60       RL         65.0     8450   Pave   NaN      Reg   \n",
       "1   2          20       RL         80.0     9600   Pave   NaN      Reg   \n",
       "2   3          60       RL         68.0    11250   Pave   NaN      IR1   \n",
       "3   4          70       RL         60.0     9550   Pave   NaN      IR1   \n",
       "4   5          60       RL         84.0    14260   Pave   NaN      IR1   \n",
       "\n",
       "  LandContour Utilities LotConfig LandSlope Neighborhood Condition1  \\\n",
       "0         Lvl    AllPub    Inside       Gtl      CollgCr       Norm   \n",
       "1         Lvl    AllPub       FR2       Gtl      Veenker      Feedr   \n",
       "2         Lvl    AllPub    Inside       Gtl      CollgCr       Norm   \n",
       "3         Lvl    AllPub    Corner       Gtl      Crawfor       Norm   \n",
       "4         Lvl    AllPub       FR2       Gtl      NoRidge       Norm   \n",
       "\n",
       "  Condition2 BldgType HouseStyle  OverallQual  OverallCond  YearBuilt  \\\n",
       "0       Norm     1Fam     2Story            7            5       2003   \n",
       "1       Norm     1Fam     1Story            6            8       1976   \n",
       "2       Norm     1Fam     2Story            7            5       2001   \n",
       "3       Norm     1Fam     2Story            7            5       1915   \n",
       "4       Norm     1Fam     2Story            8            5       2000   \n",
       "\n",
       "   YearRemodAdd RoofStyle RoofMatl Exterior1st Exterior2nd MasVnrType  \\\n",
       "0          2003     Gable  CompShg     VinylSd     VinylSd    BrkFace   \n",
       "1          1976     Gable  CompShg     MetalSd     MetalSd       None   \n",
       "2          2002     Gable  CompShg     VinylSd     VinylSd    BrkFace   \n",
       "3          1970     Gable  CompShg     Wd Sdng     Wd Shng       None   \n",
       "4          2000     Gable  CompShg     VinylSd     VinylSd    BrkFace   \n",
       "\n",
       "   MasVnrArea ExterQual ExterCond Foundation BsmtQual BsmtCond BsmtExposure  \\\n",
       "0       196.0        Gd        TA      PConc       Gd       TA           No   \n",
       "1         0.0        TA        TA     CBlock       Gd       TA           Gd   \n",
       "2       162.0        Gd        TA      PConc       Gd       TA           Mn   \n",
       "3         0.0        TA        TA     BrkTil       TA       Gd           No   \n",
       "4       350.0        Gd        TA      PConc       Gd       TA           Av   \n",
       "\n",
       "  BsmtFinType1  BsmtFinSF1 BsmtFinType2  BsmtFinSF2  BsmtUnfSF  TotalBsmtSF  \\\n",
       "0          GLQ         706          Unf           0        150          856   \n",
       "1          ALQ         978          Unf           0        284         1262   \n",
       "2          GLQ         486          Unf           0        434          920   \n",
       "3          ALQ         216          Unf           0        540          756   \n",
       "4          GLQ         655          Unf           0        490         1145   \n",
       "\n",
       "  Heating HeatingQC CentralAir Electrical  1stFlrSF  2ndFlrSF  LowQualFinSF  \\\n",
       "0    GasA        Ex          Y      SBrkr       856       854             0   \n",
       "1    GasA        Ex          Y      SBrkr      1262         0             0   \n",
       "2    GasA        Ex          Y      SBrkr       920       866             0   \n",
       "3    GasA        Gd          Y      SBrkr       961       756             0   \n",
       "4    GasA        Ex          Y      SBrkr      1145      1053             0   \n",
       "\n",
       "   GrLivArea  BsmtFullBath  BsmtHalfBath  FullBath  HalfBath  BedroomAbvGr  \\\n",
       "0       1710             1             0         2         1             3   \n",
       "1       1262             0             1         2         0             3   \n",
       "2       1786             1             0         2         1             3   \n",
       "3       1717             1             0         1         0             3   \n",
       "4       2198             1             0         2         1             4   \n",
       "\n",
       "   KitchenAbvGr KitchenQual  TotRmsAbvGrd Functional  Fireplaces FireplaceQu  \\\n",
       "0             1          Gd             8        Typ           0         NaN   \n",
       "1             1          TA             6        Typ           1          TA   \n",
       "2             1          Gd             6        Typ           1          TA   \n",
       "3             1          Gd             7        Typ           1          Gd   \n",
       "4             1          Gd             9        Typ           1          TA   \n",
       "\n",
       "  GarageType  GarageYrBlt GarageFinish  GarageCars  GarageArea GarageQual  \\\n",
       "0     Attchd       2003.0          RFn           2         548         TA   \n",
       "1     Attchd       1976.0          RFn           2         460         TA   \n",
       "2     Attchd       2001.0          RFn           2         608         TA   \n",
       "3     Detchd       1998.0          Unf           3         642         TA   \n",
       "4     Attchd       2000.0          RFn           3         836         TA   \n",
       "\n",
       "  GarageCond PavedDrive  WoodDeckSF  OpenPorchSF  EnclosedPorch  3SsnPorch  \\\n",
       "0         TA          Y           0           61              0          0   \n",
       "1         TA          Y         298            0              0          0   \n",
       "2         TA          Y           0           42              0          0   \n",
       "3         TA          Y           0           35            272          0   \n",
       "4         TA          Y         192           84              0          0   \n",
       "\n",
       "   ScreenPorch  PoolArea PoolQC Fence MiscFeature  MiscVal  MoSold  YrSold  \\\n",
       "0            0         0    NaN   NaN         NaN        0       2    2008   \n",
       "1            0         0    NaN   NaN         NaN        0       5    2007   \n",
       "2            0         0    NaN   NaN         NaN        0       9    2008   \n",
       "3            0         0    NaN   NaN         NaN        0       2    2006   \n",
       "4            0         0    NaN   NaN         NaN        0      12    2008   \n",
       "\n",
       "  SaleType SaleCondition  SalePrice  \n",
       "0       WD        Normal     208500  \n",
       "1       WD        Normal     181500  \n",
       "2       WD        Normal     223500  \n",
       "3       WD       Abnorml     140000  \n",
       "4       WD        Normal     250000  "
      ]
     },
     "execution_count": 6,
     "metadata": {},
     "output_type": "execute_result"
    }
   ],
   "source": [
    "train.head()"
   ]
  },
  {
   "cell_type": "markdown",
   "id": "15369e23",
   "metadata": {
    "papermill": {
     "duration": 0.010272,
     "end_time": "2022-06-25T21:31:27.163220",
     "exception": false,
     "start_time": "2022-06-25T21:31:27.152948",
     "status": "completed"
    },
    "tags": []
   },
   "source": [
    "In supervised learning problems, we have a label or target."
   ]
  },
  {
   "cell_type": "code",
   "execution_count": 7,
   "id": "6d1d90c8",
   "metadata": {
    "execution": {
     "iopub.execute_input": "2022-06-25T21:31:27.187964Z",
     "iopub.status.busy": "2022-06-25T21:31:27.187043Z",
     "iopub.status.idle": "2022-06-25T21:31:27.192553Z",
     "shell.execute_reply": "2022-06-25T21:31:27.191213Z"
    },
    "papermill": {
     "duration": 0.020824,
     "end_time": "2022-06-25T21:31:27.195077",
     "exception": false,
     "start_time": "2022-06-25T21:31:27.174253",
     "status": "completed"
    },
    "tags": []
   },
   "outputs": [],
   "source": [
    "TARGET = \"SalePrice\""
   ]
  },
  {
   "cell_type": "markdown",
   "id": "5ae80702",
   "metadata": {
    "papermill": {
     "duration": 0.009698,
     "end_time": "2022-06-25T21:31:27.214688",
     "exception": false,
     "start_time": "2022-06-25T21:31:27.204990",
     "status": "completed"
    },
    "tags": []
   },
   "source": [
    "There are 79 features but to keep it simple we are only going to start with one."
   ]
  },
  {
   "cell_type": "code",
   "execution_count": 8,
   "id": "1178dc1b",
   "metadata": {
    "execution": {
     "iopub.execute_input": "2022-06-25T21:31:27.237530Z",
     "iopub.status.busy": "2022-06-25T21:31:27.237143Z",
     "iopub.status.idle": "2022-06-25T21:31:27.242779Z",
     "shell.execute_reply": "2022-06-25T21:31:27.241399Z"
    },
    "papermill": {
     "duration": 0.02082,
     "end_time": "2022-06-25T21:31:27.245365",
     "exception": false,
     "start_time": "2022-06-25T21:31:27.224545",
     "status": "completed"
    },
    "tags": []
   },
   "outputs": [],
   "source": [
    "FEATURES = [\"GrLivArea\", \"LotArea\", \"TotalBsmtSF\", \"FullBath\"]"
   ]
  },
  {
   "cell_type": "markdown",
   "id": "51c13210",
   "metadata": {
    "papermill": {
     "duration": 0.009357,
     "end_time": "2022-06-25T21:31:27.264516",
     "exception": false,
     "start_time": "2022-06-25T21:31:27.255159",
     "status": "completed"
    },
    "tags": []
   },
   "source": [
    "<div style=\"background-color:rgba(128, 0, 128, 0.6);border-radius:5px;display:fill\"><h1 style=\"text-align: center;padding: 12px 0px 12px 0px;\">Missing Data</h1>\n",
    "</div>"
   ]
  },
  {
   "cell_type": "code",
   "execution_count": 9,
   "id": "1ad66852",
   "metadata": {
    "execution": {
     "iopub.execute_input": "2022-06-25T21:31:27.287504Z",
     "iopub.status.busy": "2022-06-25T21:31:27.286487Z",
     "iopub.status.idle": "2022-06-25T21:31:27.308189Z",
     "shell.execute_reply": "2022-06-25T21:31:27.306827Z"
    },
    "papermill": {
     "duration": 0.035594,
     "end_time": "2022-06-25T21:31:27.310908",
     "exception": false,
     "start_time": "2022-06-25T21:31:27.275314",
     "status": "completed"
    },
    "tags": []
   },
   "outputs": [
    {
     "name": "stdout",
     "output_type": "stream",
     "text": [
      "===== Train =====\n",
      "GrLivArea      0\n",
      "LotArea        0\n",
      "TotalBsmtSF    0\n",
      "FullBath       0\n",
      "dtype: int64\n",
      "===== Test =====\n",
      "GrLivArea      0\n",
      "LotArea        0\n",
      "TotalBsmtSF    1\n",
      "FullBath       0\n",
      "dtype: int64\n"
     ]
    }
   ],
   "source": [
    "print(5*\"=\",\"Train\", 5*\"=\")\n",
    "print(train[FEATURES].isnull().sum())\n",
    "print(5*\"=\",\"Test\", 5*\"=\")\n",
    "print(test[FEATURES].isnull().sum())"
   ]
  },
  {
   "cell_type": "code",
   "execution_count": 10,
   "id": "7685987e",
   "metadata": {
    "execution": {
     "iopub.execute_input": "2022-06-25T21:31:27.334268Z",
     "iopub.status.busy": "2022-06-25T21:31:27.333575Z",
     "iopub.status.idle": "2022-06-25T21:31:27.342278Z",
     "shell.execute_reply": "2022-06-25T21:31:27.341274Z"
    },
    "papermill": {
     "duration": 0.023404,
     "end_time": "2022-06-25T21:31:27.345074",
     "exception": false,
     "start_time": "2022-06-25T21:31:27.321670",
     "status": "completed"
    },
    "tags": []
   },
   "outputs": [],
   "source": [
    "test[\"TotalBsmtSF\"] = test[\"TotalBsmtSF\"].fillna(0)"
   ]
  },
  {
   "cell_type": "markdown",
   "id": "26778826",
   "metadata": {
    "papermill": {
     "duration": 0.01012,
     "end_time": "2022-06-25T21:31:27.365875",
     "exception": false,
     "start_time": "2022-06-25T21:31:27.355755",
     "status": "completed"
    },
    "tags": []
   },
   "source": [
    "## Verify No Missing Data"
   ]
  },
  {
   "cell_type": "code",
   "execution_count": 11,
   "id": "a65ebc8d",
   "metadata": {
    "execution": {
     "iopub.execute_input": "2022-06-25T21:31:27.390593Z",
     "iopub.status.busy": "2022-06-25T21:31:27.389242Z",
     "iopub.status.idle": "2022-06-25T21:31:27.400026Z",
     "shell.execute_reply": "2022-06-25T21:31:27.398118Z"
    },
    "papermill": {
     "duration": 0.026212,
     "end_time": "2022-06-25T21:31:27.402924",
     "exception": false,
     "start_time": "2022-06-25T21:31:27.376712",
     "status": "completed"
    },
    "tags": []
   },
   "outputs": [
    {
     "name": "stdout",
     "output_type": "stream",
     "text": [
      "GrLivArea      0\n",
      "LotArea        0\n",
      "TotalBsmtSF    0\n",
      "FullBath       0\n",
      "dtype: int64\n"
     ]
    }
   ],
   "source": [
    "print(test[FEATURES].isnull().sum())"
   ]
  },
  {
   "cell_type": "code",
   "execution_count": 12,
   "id": "78676ed8",
   "metadata": {
    "execution": {
     "iopub.execute_input": "2022-06-25T21:31:27.427066Z",
     "iopub.status.busy": "2022-06-25T21:31:27.425322Z",
     "iopub.status.idle": "2022-06-25T21:31:27.434485Z",
     "shell.execute_reply": "2022-06-25T21:31:27.433427Z"
    },
    "papermill": {
     "duration": 0.023673,
     "end_time": "2022-06-25T21:31:27.437204",
     "exception": false,
     "start_time": "2022-06-25T21:31:27.413531",
     "status": "completed"
    },
    "tags": []
   },
   "outputs": [],
   "source": [
    "y = train[TARGET]\n",
    "X = train[FEATURES].copy()\n",
    "\n",
    "X_test = test[FEATURES].copy()"
   ]
  },
  {
   "cell_type": "code",
   "execution_count": 13,
   "id": "5402cee3",
   "metadata": {
    "execution": {
     "iopub.execute_input": "2022-06-25T21:31:27.460791Z",
     "iopub.status.busy": "2022-06-25T21:31:27.459797Z",
     "iopub.status.idle": "2022-06-25T21:31:27.473031Z",
     "shell.execute_reply": "2022-06-25T21:31:27.471662Z"
    },
    "papermill": {
     "duration": 0.027875,
     "end_time": "2022-06-25T21:31:27.475729",
     "exception": false,
     "start_time": "2022-06-25T21:31:27.447854",
     "status": "completed"
    },
    "tags": []
   },
   "outputs": [
    {
     "data": {
      "text/html": [
       "<div>\n",
       "<style scoped>\n",
       "    .dataframe tbody tr th:only-of-type {\n",
       "        vertical-align: middle;\n",
       "    }\n",
       "\n",
       "    .dataframe tbody tr th {\n",
       "        vertical-align: top;\n",
       "    }\n",
       "\n",
       "    .dataframe thead th {\n",
       "        text-align: right;\n",
       "    }\n",
       "</style>\n",
       "<table border=\"1\" class=\"dataframe\">\n",
       "  <thead>\n",
       "    <tr style=\"text-align: right;\">\n",
       "      <th></th>\n",
       "      <th>GrLivArea</th>\n",
       "      <th>LotArea</th>\n",
       "      <th>TotalBsmtSF</th>\n",
       "      <th>FullBath</th>\n",
       "    </tr>\n",
       "  </thead>\n",
       "  <tbody>\n",
       "    <tr>\n",
       "      <th>0</th>\n",
       "      <td>1710</td>\n",
       "      <td>8450</td>\n",
       "      <td>856</td>\n",
       "      <td>2</td>\n",
       "    </tr>\n",
       "    <tr>\n",
       "      <th>1</th>\n",
       "      <td>1262</td>\n",
       "      <td>9600</td>\n",
       "      <td>1262</td>\n",
       "      <td>2</td>\n",
       "    </tr>\n",
       "    <tr>\n",
       "      <th>2</th>\n",
       "      <td>1786</td>\n",
       "      <td>11250</td>\n",
       "      <td>920</td>\n",
       "      <td>2</td>\n",
       "    </tr>\n",
       "    <tr>\n",
       "      <th>3</th>\n",
       "      <td>1717</td>\n",
       "      <td>9550</td>\n",
       "      <td>756</td>\n",
       "      <td>1</td>\n",
       "    </tr>\n",
       "    <tr>\n",
       "      <th>4</th>\n",
       "      <td>2198</td>\n",
       "      <td>14260</td>\n",
       "      <td>1145</td>\n",
       "      <td>2</td>\n",
       "    </tr>\n",
       "  </tbody>\n",
       "</table>\n",
       "</div>"
      ],
      "text/plain": [
       "   GrLivArea  LotArea  TotalBsmtSF  FullBath\n",
       "0       1710     8450          856         2\n",
       "1       1262     9600         1262         2\n",
       "2       1786    11250          920         2\n",
       "3       1717     9550          756         1\n",
       "4       2198    14260         1145         2"
      ]
     },
     "execution_count": 13,
     "metadata": {},
     "output_type": "execute_result"
    }
   ],
   "source": [
    "X.head()"
   ]
  },
  {
   "cell_type": "markdown",
   "id": "a83772b5",
   "metadata": {
    "papermill": {
     "duration": 0.011117,
     "end_time": "2022-06-25T21:31:27.497462",
     "exception": false,
     "start_time": "2022-06-25T21:31:27.486345",
     "status": "completed"
    },
    "tags": []
   },
   "source": [
    "## Scale the Data\n",
    "\n",
    "Doesn't make a difference so it's commented out."
   ]
  },
  {
   "cell_type": "code",
   "execution_count": 14,
   "id": "1b34a1aa",
   "metadata": {
    "execution": {
     "iopub.execute_input": "2022-06-25T21:31:27.521245Z",
     "iopub.status.busy": "2022-06-25T21:31:27.520783Z",
     "iopub.status.idle": "2022-06-25T21:31:27.538257Z",
     "shell.execute_reply": "2022-06-25T21:31:27.536975Z"
    },
    "papermill": {
     "duration": 0.033031,
     "end_time": "2022-06-25T21:31:27.541068",
     "exception": false,
     "start_time": "2022-06-25T21:31:27.508037",
     "status": "completed"
    },
    "tags": []
   },
   "outputs": [],
   "source": [
    "from sklearn.preprocessing import StandardScaler, RobustScaler\n",
    "\n",
    "scaler = RobustScaler()\n",
    "\n",
    "X = scaler.fit(X).transform(X)\n",
    "X_test = scaler.transform(X_test)"
   ]
  },
  {
   "cell_type": "code",
   "execution_count": 15,
   "id": "f3c06798",
   "metadata": {
    "execution": {
     "iopub.execute_input": "2022-06-25T21:31:27.563725Z",
     "iopub.status.busy": "2022-06-25T21:31:27.563296Z",
     "iopub.status.idle": "2022-06-25T21:31:27.570898Z",
     "shell.execute_reply": "2022-06-25T21:31:27.569649Z"
    },
    "papermill": {
     "duration": 0.021705,
     "end_time": "2022-06-25T21:31:27.573041",
     "exception": false,
     "start_time": "2022-06-25T21:31:27.551336",
     "status": "completed"
    },
    "tags": []
   },
   "outputs": [
    {
     "data": {
      "text/plain": [
       "array([[ 0.38006952, -0.25407609, -0.26965174,  0.        ],\n",
       "       [-0.31208961,  0.03001482,  0.53830846,  0.        ],\n",
       "       [ 0.49748938,  0.43762352, -0.14228856,  0.        ],\n",
       "       [ 0.39088451,  0.01766304, -0.46865672, -1.        ],\n",
       "       [ 1.13402858,  1.18120059,  0.30547264,  0.        ]])"
      ]
     },
     "execution_count": 15,
     "metadata": {},
     "output_type": "execute_result"
    }
   ],
   "source": [
    "X[:5]"
   ]
  },
  {
   "cell_type": "markdown",
   "id": "3a36d76d",
   "metadata": {
    "papermill": {
     "duration": 0.010506,
     "end_time": "2022-06-25T21:31:27.593869",
     "exception": false,
     "start_time": "2022-06-25T21:31:27.583363",
     "status": "completed"
    },
    "tags": []
   },
   "source": [
    "<div style=\"background-color:rgba(128, 0, 128, 0.6);border-radius:5px;display:fill\"><h1 style=\"text-align: center;padding: 12px 0px 12px 0px;\">Train Model with Train/Test Split</h1>\n",
    "</div>\n",
    "\n",
    "We split the training data so we can evaluate how well each model performs  We are saving 20% of the training data to validate the model(s)."
   ]
  },
  {
   "cell_type": "code",
   "execution_count": 16,
   "id": "f26d0906",
   "metadata": {
    "execution": {
     "iopub.execute_input": "2022-06-25T21:31:27.616730Z",
     "iopub.status.busy": "2022-06-25T21:31:27.616323Z",
     "iopub.status.idle": "2022-06-25T21:31:27.642262Z",
     "shell.execute_reply": "2022-06-25T21:31:27.641329Z"
    },
    "papermill": {
     "duration": 0.039982,
     "end_time": "2022-06-25T21:31:27.644687",
     "exception": false,
     "start_time": "2022-06-25T21:31:27.604705",
     "status": "completed"
    },
    "tags": []
   },
   "outputs": [
    {
     "data": {
      "text/plain": [
       "((1168, 4), (1168,), (292, 4), (292,))"
      ]
     },
     "execution_count": 16,
     "metadata": {},
     "output_type": "execute_result"
    }
   ],
   "source": [
    "from sklearn.model_selection import train_test_split\n",
    "\n",
    "X_train, X_valid, y_train, y_valid = train_test_split(\n",
    "    X,\n",
    "    y,\n",
    "    test_size=0.2,    # Save 20% for validation\n",
    "    random_state=42,  # Make the split deterministic\n",
    ")\n",
    "X_train.shape, y_train.shape, X_valid.shape, y_valid.shape"
   ]
  },
  {
   "cell_type": "markdown",
   "id": "88939e1b",
   "metadata": {
    "papermill": {
     "duration": 0.010678,
     "end_time": "2022-06-25T21:31:27.665986",
     "exception": false,
     "start_time": "2022-06-25T21:31:27.655308",
     "status": "completed"
    },
    "tags": []
   },
   "source": [
    "# Create a Model"
   ]
  },
  {
   "cell_type": "code",
   "execution_count": 17,
   "id": "1bfff825",
   "metadata": {
    "execution": {
     "iopub.execute_input": "2022-06-25T21:31:27.689951Z",
     "iopub.status.busy": "2022-06-25T21:31:27.689588Z",
     "iopub.status.idle": "2022-06-25T21:31:27.783177Z",
     "shell.execute_reply": "2022-06-25T21:31:27.781872Z"
    },
    "papermill": {
     "duration": 0.108386,
     "end_time": "2022-06-25T21:31:27.786179",
     "exception": false,
     "start_time": "2022-06-25T21:31:27.677793",
     "status": "completed"
    },
    "tags": []
   },
   "outputs": [],
   "source": [
    "from sklearn.linear_model import LinearRegression, Lasso, Ridge\n",
    "    \n",
    "def run_regression_model(model):\n",
    "#     model = Lasso(alpha=0.5)\n",
    "    poly_features = PolynomialFeatures(degree = 3, include_bias=False)\n",
    "    X_poly = poly_features.fit_transform(X_train)\n",
    "\n",
    "    model.fit(X_poly,y_train)\n",
    "\n",
    "    valid_preds = model.predict(poly_features.transform(X_valid))\n",
    "    test_preds = model.predict(poly_features.transform(X_test))\n",
    "\n",
    "    return valid_preds, test_preds"
   ]
  },
  {
   "cell_type": "code",
   "execution_count": 18,
   "id": "44c78421",
   "metadata": {
    "execution": {
     "iopub.execute_input": "2022-06-25T21:31:27.809894Z",
     "iopub.status.busy": "2022-06-25T21:31:27.809243Z",
     "iopub.status.idle": "2022-06-25T21:31:27.842080Z",
     "shell.execute_reply": "2022-06-25T21:31:27.840944Z"
    },
    "papermill": {
     "duration": 0.048404,
     "end_time": "2022-06-25T21:31:27.845361",
     "exception": false,
     "start_time": "2022-06-25T21:31:27.796957",
     "status": "completed"
    },
    "tags": []
   },
   "outputs": [
    {
     "data": {
      "text/plain": [
       "LinearRegression()"
      ]
     },
     "execution_count": 18,
     "metadata": {},
     "output_type": "execute_result"
    }
   ],
   "source": [
    "from sklearn.preprocessing import PolynomialFeatures\n",
    "\n",
    "poly_features = PolynomialFeatures(degree = 2, include_bias=False)\n",
    "X_poly = poly_features.fit_transform(X_train)\n",
    "model = LinearRegression()\n",
    "model.fit(X_poly, y_train)"
   ]
  },
  {
   "cell_type": "code",
   "execution_count": 19,
   "id": "cf85cb66",
   "metadata": {
    "execution": {
     "iopub.execute_input": "2022-06-25T21:31:27.888386Z",
     "iopub.status.busy": "2022-06-25T21:31:27.887814Z",
     "iopub.status.idle": "2022-06-25T21:31:27.898630Z",
     "shell.execute_reply": "2022-06-25T21:31:27.897430Z"
    },
    "papermill": {
     "duration": 0.035618,
     "end_time": "2022-06-25T21:31:27.901886",
     "exception": false,
     "start_time": "2022-06-25T21:31:27.866268",
     "status": "completed"
    },
    "tags": []
   },
   "outputs": [
    {
     "name": "stdout",
     "output_type": "stream",
     "text": [
      "MAE: 31493.3462\n",
      "RMSE: 2296540215.3963\n"
     ]
    }
   ],
   "source": [
    "valid_preds = model.predict(poly_features.transform(X_valid))\n",
    "show_scores(y_valid, valid_preds)\n"
   ]
  },
  {
   "cell_type": "code",
   "execution_count": 20,
   "id": "0c390af6",
   "metadata": {
    "execution": {
     "iopub.execute_input": "2022-06-25T21:31:27.944691Z",
     "iopub.status.busy": "2022-06-25T21:31:27.944090Z",
     "iopub.status.idle": "2022-06-25T21:31:27.982216Z",
     "shell.execute_reply": "2022-06-25T21:31:27.981031Z"
    },
    "papermill": {
     "duration": 0.064537,
     "end_time": "2022-06-25T21:31:27.985782",
     "exception": false,
     "start_time": "2022-06-25T21:31:27.921245",
     "status": "completed"
    },
    "tags": []
   },
   "outputs": [
    {
     "data": {
      "text/html": [
       "<div>\n",
       "<style scoped>\n",
       "    .dataframe tbody tr th:only-of-type {\n",
       "        vertical-align: middle;\n",
       "    }\n",
       "\n",
       "    .dataframe tbody tr th {\n",
       "        vertical-align: top;\n",
       "    }\n",
       "\n",
       "    .dataframe thead th {\n",
       "        text-align: right;\n",
       "    }\n",
       "</style>\n",
       "<table border=\"1\" class=\"dataframe\">\n",
       "  <thead>\n",
       "    <tr style=\"text-align: right;\">\n",
       "      <th></th>\n",
       "      <th>Id</th>\n",
       "      <th>SalePrice</th>\n",
       "    </tr>\n",
       "  </thead>\n",
       "  <tbody>\n",
       "    <tr>\n",
       "      <th>0</th>\n",
       "      <td>1461</td>\n",
       "      <td>122888.699954</td>\n",
       "    </tr>\n",
       "    <tr>\n",
       "      <th>1</th>\n",
       "      <td>1462</td>\n",
       "      <td>181942.783849</td>\n",
       "    </tr>\n",
       "    <tr>\n",
       "      <th>2</th>\n",
       "      <td>1463</td>\n",
       "      <td>188807.493137</td>\n",
       "    </tr>\n",
       "    <tr>\n",
       "      <th>3</th>\n",
       "      <td>1464</td>\n",
       "      <td>184008.030413</td>\n",
       "    </tr>\n",
       "    <tr>\n",
       "      <th>4</th>\n",
       "      <td>1465</td>\n",
       "      <td>183214.790072</td>\n",
       "    </tr>\n",
       "  </tbody>\n",
       "</table>\n",
       "</div>"
      ],
      "text/plain": [
       "     Id      SalePrice\n",
       "0  1461  122888.699954\n",
       "1  1462  181942.783849\n",
       "2  1463  188807.493137\n",
       "3  1464  184008.030413\n",
       "4  1465  183214.790072"
      ]
     },
     "execution_count": 20,
     "metadata": {},
     "output_type": "execute_result"
    }
   ],
   "source": [
    "test_preds = model.predict(poly_features.transform(X_test))\n",
    "create_submission(\"poly2\", TARGET, test_preds)"
   ]
  },
  {
   "cell_type": "markdown",
   "id": "486a1582",
   "metadata": {
    "papermill": {
     "duration": 0.021419,
     "end_time": "2022-06-25T21:31:28.027128",
     "exception": false,
     "start_time": "2022-06-25T21:31:28.005709",
     "status": "completed"
    },
    "tags": []
   },
   "source": [
    "## Fit/Train the model"
   ]
  },
  {
   "cell_type": "code",
   "execution_count": 21,
   "id": "94b63a46",
   "metadata": {
    "execution": {
     "iopub.execute_input": "2022-06-25T21:31:28.070610Z",
     "iopub.status.busy": "2022-06-25T21:31:28.069953Z",
     "iopub.status.idle": "2022-06-25T21:31:28.136862Z",
     "shell.execute_reply": "2022-06-25T21:31:28.135517Z"
    },
    "papermill": {
     "duration": 0.093103,
     "end_time": "2022-06-25T21:31:28.140717",
     "exception": false,
     "start_time": "2022-06-25T21:31:28.047614",
     "status": "completed"
    },
    "tags": []
   },
   "outputs": [
    {
     "name": "stdout",
     "output_type": "stream",
     "text": [
      "MAE: 30806.0773\n",
      "RMSE: 2326803199.3096\n"
     ]
    },
    {
     "data": {
      "text/html": [
       "<div>\n",
       "<style scoped>\n",
       "    .dataframe tbody tr th:only-of-type {\n",
       "        vertical-align: middle;\n",
       "    }\n",
       "\n",
       "    .dataframe tbody tr th {\n",
       "        vertical-align: top;\n",
       "    }\n",
       "\n",
       "    .dataframe thead th {\n",
       "        text-align: right;\n",
       "    }\n",
       "</style>\n",
       "<table border=\"1\" class=\"dataframe\">\n",
       "  <thead>\n",
       "    <tr style=\"text-align: right;\">\n",
       "      <th></th>\n",
       "      <th>Id</th>\n",
       "      <th>SalePrice</th>\n",
       "    </tr>\n",
       "  </thead>\n",
       "  <tbody>\n",
       "    <tr>\n",
       "      <th>0</th>\n",
       "      <td>1461</td>\n",
       "      <td>113975.794861</td>\n",
       "    </tr>\n",
       "    <tr>\n",
       "      <th>1</th>\n",
       "      <td>1462</td>\n",
       "      <td>182646.170136</td>\n",
       "    </tr>\n",
       "    <tr>\n",
       "      <th>2</th>\n",
       "      <td>1463</td>\n",
       "      <td>187077.189972</td>\n",
       "    </tr>\n",
       "    <tr>\n",
       "      <th>3</th>\n",
       "      <td>1464</td>\n",
       "      <td>182186.048862</td>\n",
       "    </tr>\n",
       "    <tr>\n",
       "      <th>4</th>\n",
       "      <td>1465</td>\n",
       "      <td>185989.648806</td>\n",
       "    </tr>\n",
       "  </tbody>\n",
       "</table>\n",
       "</div>"
      ],
      "text/plain": [
       "     Id      SalePrice\n",
       "0  1461  113975.794861\n",
       "1  1462  182646.170136\n",
       "2  1463  187077.189972\n",
       "3  1464  182186.048862\n",
       "4  1465  185989.648806"
      ]
     },
     "execution_count": 21,
     "metadata": {},
     "output_type": "execute_result"
    }
   ],
   "source": [
    "valid_preds, test_preds = run_regression_model(LinearRegression())\n",
    "show_scores(y_valid, valid_preds)\n",
    "create_submission(\"\", TARGET, test_preds)"
   ]
  },
  {
   "cell_type": "markdown",
   "id": "96eb79a1",
   "metadata": {
    "papermill": {
     "duration": 0.033647,
     "end_time": "2022-06-25T21:31:28.209364",
     "exception": false,
     "start_time": "2022-06-25T21:31:28.175717",
     "status": "completed"
    },
    "tags": []
   },
   "source": [
    "\n",
    "- https://stackoverflow.com/questions/20681864/lasso-on-sklearn-does-not-converge\n",
    "- https://stats.stackexchange.com/questions/445831/how-is-tol-used-in-scikit-learns-lasso-and-elasticnet\n"
   ]
  },
  {
   "cell_type": "code",
   "execution_count": 22,
   "id": "14178b9d",
   "metadata": {
    "execution": {
     "iopub.execute_input": "2022-06-25T21:31:28.236219Z",
     "iopub.status.busy": "2022-06-25T21:31:28.235844Z",
     "iopub.status.idle": "2022-06-25T21:31:28.642209Z",
     "shell.execute_reply": "2022-06-25T21:31:28.640961Z"
    },
    "papermill": {
     "duration": 0.424201,
     "end_time": "2022-06-25T21:31:28.647606",
     "exception": false,
     "start_time": "2022-06-25T21:31:28.223405",
     "status": "completed"
    },
    "tags": []
   },
   "outputs": [
    {
     "name": "stdout",
     "output_type": "stream",
     "text": [
      "MAE: 30687.3574\n",
      "RMSE: 2250108349.7937\n"
     ]
    },
    {
     "name": "stderr",
     "output_type": "stream",
     "text": [
      "/opt/conda/lib/python3.7/site-packages/sklearn/linear_model/_coordinate_descent.py:648: ConvergenceWarning: Objective did not converge. You might want to increase the number of iterations, check the scale of the features or consider increasing regularisation. Duality gap: 9.695e+11, tolerance: 6.967e+06\n",
      "  coef_, l1_reg, l2_reg, X, y, max_iter, tol, rng, random, positive\n"
     ]
    },
    {
     "data": {
      "text/html": [
       "<div>\n",
       "<style scoped>\n",
       "    .dataframe tbody tr th:only-of-type {\n",
       "        vertical-align: middle;\n",
       "    }\n",
       "\n",
       "    .dataframe tbody tr th {\n",
       "        vertical-align: top;\n",
       "    }\n",
       "\n",
       "    .dataframe thead th {\n",
       "        text-align: right;\n",
       "    }\n",
       "</style>\n",
       "<table border=\"1\" class=\"dataframe\">\n",
       "  <thead>\n",
       "    <tr style=\"text-align: right;\">\n",
       "      <th></th>\n",
       "      <th>Id</th>\n",
       "      <th>SalePrice</th>\n",
       "    </tr>\n",
       "  </thead>\n",
       "  <tbody>\n",
       "    <tr>\n",
       "      <th>0</th>\n",
       "      <td>1461</td>\n",
       "      <td>113995.079812</td>\n",
       "    </tr>\n",
       "    <tr>\n",
       "      <th>1</th>\n",
       "      <td>1462</td>\n",
       "      <td>182819.494387</td>\n",
       "    </tr>\n",
       "    <tr>\n",
       "      <th>2</th>\n",
       "      <td>1463</td>\n",
       "      <td>187297.392648</td>\n",
       "    </tr>\n",
       "    <tr>\n",
       "      <th>3</th>\n",
       "      <td>1464</td>\n",
       "      <td>182579.254516</td>\n",
       "    </tr>\n",
       "    <tr>\n",
       "      <th>4</th>\n",
       "      <td>1465</td>\n",
       "      <td>185450.987659</td>\n",
       "    </tr>\n",
       "  </tbody>\n",
       "</table>\n",
       "</div>"
      ],
      "text/plain": [
       "     Id      SalePrice\n",
       "0  1461  113995.079812\n",
       "1  1462  182819.494387\n",
       "2  1463  187297.392648\n",
       "3  1464  182579.254516\n",
       "4  1465  185450.987659"
      ]
     },
     "execution_count": 22,
     "metadata": {},
     "output_type": "execute_result"
    }
   ],
   "source": [
    "valid_preds, test_preds = run_regression_model(Lasso(alpha=1.0, max_iter=10_000, tol= 0.000001))\n",
    "show_scores(y_valid, valid_preds)\n",
    "create_submission(\"lasso\", TARGET, test_preds)"
   ]
  },
  {
   "cell_type": "code",
   "execution_count": 23,
   "id": "f5329ac8",
   "metadata": {
    "execution": {
     "iopub.execute_input": "2022-06-25T21:31:28.724505Z",
     "iopub.status.busy": "2022-06-25T21:31:28.724091Z",
     "iopub.status.idle": "2022-06-25T21:31:28.764114Z",
     "shell.execute_reply": "2022-06-25T21:31:28.762757Z"
    },
    "papermill": {
     "duration": 0.082317,
     "end_time": "2022-06-25T21:31:28.768875",
     "exception": false,
     "start_time": "2022-06-25T21:31:28.686558",
     "status": "completed"
    },
    "tags": []
   },
   "outputs": [
    {
     "name": "stdout",
     "output_type": "stream",
     "text": [
      "MAE: 30820.1871\n",
      "RMSE: 2325548130.9461\n"
     ]
    },
    {
     "data": {
      "text/html": [
       "<div>\n",
       "<style scoped>\n",
       "    .dataframe tbody tr th:only-of-type {\n",
       "        vertical-align: middle;\n",
       "    }\n",
       "\n",
       "    .dataframe tbody tr th {\n",
       "        vertical-align: top;\n",
       "    }\n",
       "\n",
       "    .dataframe thead th {\n",
       "        text-align: right;\n",
       "    }\n",
       "</style>\n",
       "<table border=\"1\" class=\"dataframe\">\n",
       "  <thead>\n",
       "    <tr style=\"text-align: right;\">\n",
       "      <th></th>\n",
       "      <th>Id</th>\n",
       "      <th>SalePrice</th>\n",
       "    </tr>\n",
       "  </thead>\n",
       "  <tbody>\n",
       "    <tr>\n",
       "      <th>0</th>\n",
       "      <td>1461</td>\n",
       "      <td>113891.249811</td>\n",
       "    </tr>\n",
       "    <tr>\n",
       "      <th>1</th>\n",
       "      <td>1462</td>\n",
       "      <td>182692.707647</td>\n",
       "    </tr>\n",
       "    <tr>\n",
       "      <th>2</th>\n",
       "      <td>1463</td>\n",
       "      <td>186908.208028</td>\n",
       "    </tr>\n",
       "    <tr>\n",
       "      <th>3</th>\n",
       "      <td>1464</td>\n",
       "      <td>181992.006186</td>\n",
       "    </tr>\n",
       "    <tr>\n",
       "      <th>4</th>\n",
       "      <td>1465</td>\n",
       "      <td>185964.281936</td>\n",
       "    </tr>\n",
       "  </tbody>\n",
       "</table>\n",
       "</div>"
      ],
      "text/plain": [
       "     Id      SalePrice\n",
       "0  1461  113891.249811\n",
       "1  1462  182692.707647\n",
       "2  1463  186908.208028\n",
       "3  1464  181992.006186\n",
       "4  1465  185964.281936"
      ]
     },
     "execution_count": 23,
     "metadata": {},
     "output_type": "execute_result"
    }
   ],
   "source": [
    "valid_preds, test_preds = run_regression_model(Ridge(alpha=0.5, max_iter=1000, tol= 0.0001))\n",
    "show_scores(y_valid, valid_preds)\n",
    "create_submission(\"ridge\", TARGET, test_preds)"
   ]
  }
 ],
 "metadata": {
  "kernelspec": {
   "display_name": "Python 3",
   "language": "python",
   "name": "python3"
  },
  "language_info": {
   "codemirror_mode": {
    "name": "ipython",
    "version": 3
   },
   "file_extension": ".py",
   "mimetype": "text/x-python",
   "name": "python",
   "nbconvert_exporter": "python",
   "pygments_lexer": "ipython3",
   "version": "3.7.12"
  },
  "papermill": {
   "default_parameters": {},
   "duration": 15.363221,
   "end_time": "2022-06-25T21:31:29.622733",
   "environment_variables": {},
   "exception": null,
   "input_path": "__notebook__.ipynb",
   "output_path": "__notebook__.ipynb",
   "parameters": {},
   "start_time": "2022-06-25T21:31:14.259512",
   "version": "2.3.4"
  }
 },
 "nbformat": 4,
 "nbformat_minor": 5
}

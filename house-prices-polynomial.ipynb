{
 "cells": [
  {
   "cell_type": "markdown",
   "id": "621aeafe",
   "metadata": {
    "papermill": {
     "duration": 0.011094,
     "end_time": "2022-06-25T20:09:49.742054",
     "exception": false,
     "start_time": "2022-06-25T20:09:49.730960",
     "status": "completed"
    },
    "tags": []
   },
   "source": [
    "<div style=\"background-color:rgba(128, 0, 128, 0.6);border-radius:5px;display:fill\"><h1 style=\"text-align: center;padding: 12px 0px 12px 0px;\">House Prices: Linear Regression with Polynomials</h1>\n",
    "</div>\n",
    "\n",
    "Lesson: Linear/Lasso/Ridge Regression with Polynomials\n",
    "\n",
    "\n",
    "|Notebook| MAE | LeaderBoard|\n",
    "| --- | --- | --- |\n",
    "|QuickStart|38341.2045|0.29234|\n",
    "|Extra Features|32285.7959|0.24425|\n",
    "|Features + Lasso|31349.8387|0.24425|\n",
    "|Features + Ridge|31348.1429|0.24422|\n",
    "\n"
   ]
  },
  {
   "cell_type": "markdown",
   "id": "eee91eca",
   "metadata": {
    "papermill": {
     "duration": 0.010066,
     "end_time": "2022-06-25T20:09:49.762317",
     "exception": false,
     "start_time": "2022-06-25T20:09:49.752251",
     "status": "completed"
    },
    "tags": []
   },
   "source": [
    "<div style=\"background-color:rgba(128, 0, 128, 0.6);border-radius:5px;display:fill\"><h1 style=\"text-align: center;padding: 12px 0px 12px 0px;\">Import Libraries</h1>\n",
    "</div>\n",
    "\n",
    "A best practise is to include all libraries here.  However, I will put a few imports farther down where they are first used so beginners can learn with an \"as needed\" approach."
   ]
  },
  {
   "cell_type": "code",
   "execution_count": 1,
   "id": "f95fb84c",
   "metadata": {
    "execution": {
     "iopub.execute_input": "2022-06-25T20:09:49.785149Z",
     "iopub.status.busy": "2022-06-25T20:09:49.784152Z",
     "iopub.status.idle": "2022-06-25T20:09:49.798808Z",
     "shell.execute_reply": "2022-06-25T20:09:49.798090Z"
    },
    "papermill": {
     "duration": 0.028563,
     "end_time": "2022-06-25T20:09:49.801021",
     "exception": false,
     "start_time": "2022-06-25T20:09:49.772458",
     "status": "completed"
    },
    "tags": []
   },
   "outputs": [],
   "source": [
    "import numpy as np # linear algebra\n",
    "import pandas as pd # data processing, CSV file I/O (e.g. pd.read_csv)\n",
    "\n",
    "from pathlib import Path\n",
    "\n",
    "pd.options.display.max_columns = 100 # Want to view all the columns"
   ]
  },
  {
   "cell_type": "markdown",
   "id": "6b66658c",
   "metadata": {
    "papermill": {
     "duration": 0.009729,
     "end_time": "2022-06-25T20:09:49.820937",
     "exception": false,
     "start_time": "2022-06-25T20:09:49.811208",
     "status": "completed"
    },
    "tags": []
   },
   "source": [
    "<div style=\"background-color:rgba(128, 0, 128, 0.6);border-radius:5px;display:fill\"><h1 style=\"text-align: center;padding: 12px 0px 12px 0px;\">Library</h1>\n",
    "</div>\n",
    "\n",
    "Creating a few functions that we will reuse in each project."
   ]
  },
  {
   "cell_type": "code",
   "execution_count": 2,
   "id": "11df0377",
   "metadata": {
    "execution": {
     "iopub.execute_input": "2022-06-25T20:09:49.843001Z",
     "iopub.status.busy": "2022-06-25T20:09:49.842455Z",
     "iopub.status.idle": "2022-06-25T20:09:49.848274Z",
     "shell.execute_reply": "2022-06-25T20:09:49.847656Z"
    },
    "papermill": {
     "duration": 0.019637,
     "end_time": "2022-06-25T20:09:49.850363",
     "exception": false,
     "start_time": "2022-06-25T20:09:49.830726",
     "status": "completed"
    },
    "tags": []
   },
   "outputs": [],
   "source": [
    "def read_data(path):\n",
    "    data_dir = Path(path)\n",
    "\n",
    "    train = pd.read_csv(data_dir / \"train.csv\")\n",
    "    test = pd.read_csv(data_dir / \"test.csv\")\n",
    "    submission_df = pd.read_csv(data_dir / \"sample_submission.csv\")\n",
    "\n",
    "    print(f\"train data: Rows={train.shape[0]}, Columns={train.shape[1]}\")\n",
    "    print(f\"test data : Rows={test.shape[0]}, Columns={test.shape[1]}\")\n",
    "    return train, test, submission_df"
   ]
  },
  {
   "cell_type": "code",
   "execution_count": 3,
   "id": "f26e6c55",
   "metadata": {
    "execution": {
     "iopub.execute_input": "2022-06-25T20:09:49.872402Z",
     "iopub.status.busy": "2022-06-25T20:09:49.871856Z",
     "iopub.status.idle": "2022-06-25T20:09:49.877281Z",
     "shell.execute_reply": "2022-06-25T20:09:49.876692Z"
    },
    "papermill": {
     "duration": 0.018726,
     "end_time": "2022-06-25T20:09:49.879222",
     "exception": false,
     "start_time": "2022-06-25T20:09:49.860496",
     "status": "completed"
    },
    "tags": []
   },
   "outputs": [],
   "source": [
    "def create_submission(model_name, target, preds):\n",
    "    sample_submission[target] = preds\n",
    "    if len(model_name) > 0:\n",
    "        sample_submission.to_csv(f\"submission_{model_name}.csv\", index=False)\n",
    "    else:\n",
    "        sample_submission.to_csv(f\"submission.csv\", index=False)\n",
    "\n",
    "    return sample_submission[:5]"
   ]
  },
  {
   "cell_type": "code",
   "execution_count": 4,
   "id": "49d84112",
   "metadata": {
    "execution": {
     "iopub.execute_input": "2022-06-25T20:09:49.900756Z",
     "iopub.status.busy": "2022-06-25T20:09:49.899982Z",
     "iopub.status.idle": "2022-06-25T20:09:50.981752Z",
     "shell.execute_reply": "2022-06-25T20:09:50.980687Z"
    },
    "papermill": {
     "duration": 1.094931,
     "end_time": "2022-06-25T20:09:50.984097",
     "exception": false,
     "start_time": "2022-06-25T20:09:49.889166",
     "status": "completed"
    },
    "tags": []
   },
   "outputs": [],
   "source": [
    "from sklearn.metrics import mean_squared_error\n",
    "from sklearn.metrics import mean_absolute_error\n",
    "\n",
    "def show_scores(gt, yhat):\n",
    "    rmse = mean_squared_error(gt, yhat)\n",
    "    mae = mean_absolute_error(gt, yhat)\n",
    "\n",
    "    print(f\"MAE: {mae:.4f}\")\n",
    "    print(f\"RMSE: {rmse:.4f}\")"
   ]
  },
  {
   "cell_type": "markdown",
   "id": "add4cbc2",
   "metadata": {
    "papermill": {
     "duration": 0.00971,
     "end_time": "2022-06-25T20:09:51.003925",
     "exception": false,
     "start_time": "2022-06-25T20:09:50.994215",
     "status": "completed"
    },
    "tags": []
   },
   "source": [
    "<div style=\"background-color:rgba(128, 0, 128, 0.6);border-radius:5px;display:fill\"><h1 style=\"text-align: center;padding: 12px 0px 12px 0px;\">Load Train/Test Data</h1>\n",
    "</div>\n",
    "\n",
    "- train.csv - Data used to build our machine learning model\n",
    "- test.csv - Data used to build our machine learning model. Does not contain the target variable\n",
    "- sample_submission.csv - A file in the proper format to submit test predictions"
   ]
  },
  {
   "cell_type": "code",
   "execution_count": 5,
   "id": "8a814f59",
   "metadata": {
    "execution": {
     "iopub.execute_input": "2022-06-25T20:09:51.024586Z",
     "iopub.status.busy": "2022-06-25T20:09:51.024243Z",
     "iopub.status.idle": "2022-06-25T20:09:51.087631Z",
     "shell.execute_reply": "2022-06-25T20:09:51.087047Z"
    },
    "papermill": {
     "duration": 0.07647,
     "end_time": "2022-06-25T20:09:51.090086",
     "exception": false,
     "start_time": "2022-06-25T20:09:51.013616",
     "status": "completed"
    },
    "tags": []
   },
   "outputs": [
    {
     "name": "stdout",
     "output_type": "stream",
     "text": [
      "train data: Rows=1460, Columns=81\n",
      "test data : Rows=1459, Columns=80\n"
     ]
    }
   ],
   "source": [
    "train, test, sample_submission  = read_data(\"../input/house-prices-advanced-regression-techniques\")"
   ]
  },
  {
   "cell_type": "code",
   "execution_count": 6,
   "id": "afdbe331",
   "metadata": {
    "execution": {
     "iopub.execute_input": "2022-06-25T20:09:51.112052Z",
     "iopub.status.busy": "2022-06-25T20:09:51.111600Z",
     "iopub.status.idle": "2022-06-25T20:09:51.175676Z",
     "shell.execute_reply": "2022-06-25T20:09:51.174614Z"
    },
    "papermill": {
     "duration": 0.077385,
     "end_time": "2022-06-25T20:09:51.177944",
     "exception": false,
     "start_time": "2022-06-25T20:09:51.100559",
     "status": "completed"
    },
    "tags": []
   },
   "outputs": [
    {
     "data": {
      "text/html": [
       "<div>\n",
       "<style scoped>\n",
       "    .dataframe tbody tr th:only-of-type {\n",
       "        vertical-align: middle;\n",
       "    }\n",
       "\n",
       "    .dataframe tbody tr th {\n",
       "        vertical-align: top;\n",
       "    }\n",
       "\n",
       "    .dataframe thead th {\n",
       "        text-align: right;\n",
       "    }\n",
       "</style>\n",
       "<table border=\"1\" class=\"dataframe\">\n",
       "  <thead>\n",
       "    <tr style=\"text-align: right;\">\n",
       "      <th></th>\n",
       "      <th>Id</th>\n",
       "      <th>MSSubClass</th>\n",
       "      <th>MSZoning</th>\n",
       "      <th>LotFrontage</th>\n",
       "      <th>LotArea</th>\n",
       "      <th>Street</th>\n",
       "      <th>Alley</th>\n",
       "      <th>LotShape</th>\n",
       "      <th>LandContour</th>\n",
       "      <th>Utilities</th>\n",
       "      <th>LotConfig</th>\n",
       "      <th>LandSlope</th>\n",
       "      <th>Neighborhood</th>\n",
       "      <th>Condition1</th>\n",
       "      <th>Condition2</th>\n",
       "      <th>BldgType</th>\n",
       "      <th>HouseStyle</th>\n",
       "      <th>OverallQual</th>\n",
       "      <th>OverallCond</th>\n",
       "      <th>YearBuilt</th>\n",
       "      <th>YearRemodAdd</th>\n",
       "      <th>RoofStyle</th>\n",
       "      <th>RoofMatl</th>\n",
       "      <th>Exterior1st</th>\n",
       "      <th>Exterior2nd</th>\n",
       "      <th>MasVnrType</th>\n",
       "      <th>MasVnrArea</th>\n",
       "      <th>ExterQual</th>\n",
       "      <th>ExterCond</th>\n",
       "      <th>Foundation</th>\n",
       "      <th>BsmtQual</th>\n",
       "      <th>BsmtCond</th>\n",
       "      <th>BsmtExposure</th>\n",
       "      <th>BsmtFinType1</th>\n",
       "      <th>BsmtFinSF1</th>\n",
       "      <th>BsmtFinType2</th>\n",
       "      <th>BsmtFinSF2</th>\n",
       "      <th>BsmtUnfSF</th>\n",
       "      <th>TotalBsmtSF</th>\n",
       "      <th>Heating</th>\n",
       "      <th>HeatingQC</th>\n",
       "      <th>CentralAir</th>\n",
       "      <th>Electrical</th>\n",
       "      <th>1stFlrSF</th>\n",
       "      <th>2ndFlrSF</th>\n",
       "      <th>LowQualFinSF</th>\n",
       "      <th>GrLivArea</th>\n",
       "      <th>BsmtFullBath</th>\n",
       "      <th>BsmtHalfBath</th>\n",
       "      <th>FullBath</th>\n",
       "      <th>HalfBath</th>\n",
       "      <th>BedroomAbvGr</th>\n",
       "      <th>KitchenAbvGr</th>\n",
       "      <th>KitchenQual</th>\n",
       "      <th>TotRmsAbvGrd</th>\n",
       "      <th>Functional</th>\n",
       "      <th>Fireplaces</th>\n",
       "      <th>FireplaceQu</th>\n",
       "      <th>GarageType</th>\n",
       "      <th>GarageYrBlt</th>\n",
       "      <th>GarageFinish</th>\n",
       "      <th>GarageCars</th>\n",
       "      <th>GarageArea</th>\n",
       "      <th>GarageQual</th>\n",
       "      <th>GarageCond</th>\n",
       "      <th>PavedDrive</th>\n",
       "      <th>WoodDeckSF</th>\n",
       "      <th>OpenPorchSF</th>\n",
       "      <th>EnclosedPorch</th>\n",
       "      <th>3SsnPorch</th>\n",
       "      <th>ScreenPorch</th>\n",
       "      <th>PoolArea</th>\n",
       "      <th>PoolQC</th>\n",
       "      <th>Fence</th>\n",
       "      <th>MiscFeature</th>\n",
       "      <th>MiscVal</th>\n",
       "      <th>MoSold</th>\n",
       "      <th>YrSold</th>\n",
       "      <th>SaleType</th>\n",
       "      <th>SaleCondition</th>\n",
       "      <th>SalePrice</th>\n",
       "    </tr>\n",
       "  </thead>\n",
       "  <tbody>\n",
       "    <tr>\n",
       "      <th>0</th>\n",
       "      <td>1</td>\n",
       "      <td>60</td>\n",
       "      <td>RL</td>\n",
       "      <td>65.0</td>\n",
       "      <td>8450</td>\n",
       "      <td>Pave</td>\n",
       "      <td>NaN</td>\n",
       "      <td>Reg</td>\n",
       "      <td>Lvl</td>\n",
       "      <td>AllPub</td>\n",
       "      <td>Inside</td>\n",
       "      <td>Gtl</td>\n",
       "      <td>CollgCr</td>\n",
       "      <td>Norm</td>\n",
       "      <td>Norm</td>\n",
       "      <td>1Fam</td>\n",
       "      <td>2Story</td>\n",
       "      <td>7</td>\n",
       "      <td>5</td>\n",
       "      <td>2003</td>\n",
       "      <td>2003</td>\n",
       "      <td>Gable</td>\n",
       "      <td>CompShg</td>\n",
       "      <td>VinylSd</td>\n",
       "      <td>VinylSd</td>\n",
       "      <td>BrkFace</td>\n",
       "      <td>196.0</td>\n",
       "      <td>Gd</td>\n",
       "      <td>TA</td>\n",
       "      <td>PConc</td>\n",
       "      <td>Gd</td>\n",
       "      <td>TA</td>\n",
       "      <td>No</td>\n",
       "      <td>GLQ</td>\n",
       "      <td>706</td>\n",
       "      <td>Unf</td>\n",
       "      <td>0</td>\n",
       "      <td>150</td>\n",
       "      <td>856</td>\n",
       "      <td>GasA</td>\n",
       "      <td>Ex</td>\n",
       "      <td>Y</td>\n",
       "      <td>SBrkr</td>\n",
       "      <td>856</td>\n",
       "      <td>854</td>\n",
       "      <td>0</td>\n",
       "      <td>1710</td>\n",
       "      <td>1</td>\n",
       "      <td>0</td>\n",
       "      <td>2</td>\n",
       "      <td>1</td>\n",
       "      <td>3</td>\n",
       "      <td>1</td>\n",
       "      <td>Gd</td>\n",
       "      <td>8</td>\n",
       "      <td>Typ</td>\n",
       "      <td>0</td>\n",
       "      <td>NaN</td>\n",
       "      <td>Attchd</td>\n",
       "      <td>2003.0</td>\n",
       "      <td>RFn</td>\n",
       "      <td>2</td>\n",
       "      <td>548</td>\n",
       "      <td>TA</td>\n",
       "      <td>TA</td>\n",
       "      <td>Y</td>\n",
       "      <td>0</td>\n",
       "      <td>61</td>\n",
       "      <td>0</td>\n",
       "      <td>0</td>\n",
       "      <td>0</td>\n",
       "      <td>0</td>\n",
       "      <td>NaN</td>\n",
       "      <td>NaN</td>\n",
       "      <td>NaN</td>\n",
       "      <td>0</td>\n",
       "      <td>2</td>\n",
       "      <td>2008</td>\n",
       "      <td>WD</td>\n",
       "      <td>Normal</td>\n",
       "      <td>208500</td>\n",
       "    </tr>\n",
       "    <tr>\n",
       "      <th>1</th>\n",
       "      <td>2</td>\n",
       "      <td>20</td>\n",
       "      <td>RL</td>\n",
       "      <td>80.0</td>\n",
       "      <td>9600</td>\n",
       "      <td>Pave</td>\n",
       "      <td>NaN</td>\n",
       "      <td>Reg</td>\n",
       "      <td>Lvl</td>\n",
       "      <td>AllPub</td>\n",
       "      <td>FR2</td>\n",
       "      <td>Gtl</td>\n",
       "      <td>Veenker</td>\n",
       "      <td>Feedr</td>\n",
       "      <td>Norm</td>\n",
       "      <td>1Fam</td>\n",
       "      <td>1Story</td>\n",
       "      <td>6</td>\n",
       "      <td>8</td>\n",
       "      <td>1976</td>\n",
       "      <td>1976</td>\n",
       "      <td>Gable</td>\n",
       "      <td>CompShg</td>\n",
       "      <td>MetalSd</td>\n",
       "      <td>MetalSd</td>\n",
       "      <td>None</td>\n",
       "      <td>0.0</td>\n",
       "      <td>TA</td>\n",
       "      <td>TA</td>\n",
       "      <td>CBlock</td>\n",
       "      <td>Gd</td>\n",
       "      <td>TA</td>\n",
       "      <td>Gd</td>\n",
       "      <td>ALQ</td>\n",
       "      <td>978</td>\n",
       "      <td>Unf</td>\n",
       "      <td>0</td>\n",
       "      <td>284</td>\n",
       "      <td>1262</td>\n",
       "      <td>GasA</td>\n",
       "      <td>Ex</td>\n",
       "      <td>Y</td>\n",
       "      <td>SBrkr</td>\n",
       "      <td>1262</td>\n",
       "      <td>0</td>\n",
       "      <td>0</td>\n",
       "      <td>1262</td>\n",
       "      <td>0</td>\n",
       "      <td>1</td>\n",
       "      <td>2</td>\n",
       "      <td>0</td>\n",
       "      <td>3</td>\n",
       "      <td>1</td>\n",
       "      <td>TA</td>\n",
       "      <td>6</td>\n",
       "      <td>Typ</td>\n",
       "      <td>1</td>\n",
       "      <td>TA</td>\n",
       "      <td>Attchd</td>\n",
       "      <td>1976.0</td>\n",
       "      <td>RFn</td>\n",
       "      <td>2</td>\n",
       "      <td>460</td>\n",
       "      <td>TA</td>\n",
       "      <td>TA</td>\n",
       "      <td>Y</td>\n",
       "      <td>298</td>\n",
       "      <td>0</td>\n",
       "      <td>0</td>\n",
       "      <td>0</td>\n",
       "      <td>0</td>\n",
       "      <td>0</td>\n",
       "      <td>NaN</td>\n",
       "      <td>NaN</td>\n",
       "      <td>NaN</td>\n",
       "      <td>0</td>\n",
       "      <td>5</td>\n",
       "      <td>2007</td>\n",
       "      <td>WD</td>\n",
       "      <td>Normal</td>\n",
       "      <td>181500</td>\n",
       "    </tr>\n",
       "    <tr>\n",
       "      <th>2</th>\n",
       "      <td>3</td>\n",
       "      <td>60</td>\n",
       "      <td>RL</td>\n",
       "      <td>68.0</td>\n",
       "      <td>11250</td>\n",
       "      <td>Pave</td>\n",
       "      <td>NaN</td>\n",
       "      <td>IR1</td>\n",
       "      <td>Lvl</td>\n",
       "      <td>AllPub</td>\n",
       "      <td>Inside</td>\n",
       "      <td>Gtl</td>\n",
       "      <td>CollgCr</td>\n",
       "      <td>Norm</td>\n",
       "      <td>Norm</td>\n",
       "      <td>1Fam</td>\n",
       "      <td>2Story</td>\n",
       "      <td>7</td>\n",
       "      <td>5</td>\n",
       "      <td>2001</td>\n",
       "      <td>2002</td>\n",
       "      <td>Gable</td>\n",
       "      <td>CompShg</td>\n",
       "      <td>VinylSd</td>\n",
       "      <td>VinylSd</td>\n",
       "      <td>BrkFace</td>\n",
       "      <td>162.0</td>\n",
       "      <td>Gd</td>\n",
       "      <td>TA</td>\n",
       "      <td>PConc</td>\n",
       "      <td>Gd</td>\n",
       "      <td>TA</td>\n",
       "      <td>Mn</td>\n",
       "      <td>GLQ</td>\n",
       "      <td>486</td>\n",
       "      <td>Unf</td>\n",
       "      <td>0</td>\n",
       "      <td>434</td>\n",
       "      <td>920</td>\n",
       "      <td>GasA</td>\n",
       "      <td>Ex</td>\n",
       "      <td>Y</td>\n",
       "      <td>SBrkr</td>\n",
       "      <td>920</td>\n",
       "      <td>866</td>\n",
       "      <td>0</td>\n",
       "      <td>1786</td>\n",
       "      <td>1</td>\n",
       "      <td>0</td>\n",
       "      <td>2</td>\n",
       "      <td>1</td>\n",
       "      <td>3</td>\n",
       "      <td>1</td>\n",
       "      <td>Gd</td>\n",
       "      <td>6</td>\n",
       "      <td>Typ</td>\n",
       "      <td>1</td>\n",
       "      <td>TA</td>\n",
       "      <td>Attchd</td>\n",
       "      <td>2001.0</td>\n",
       "      <td>RFn</td>\n",
       "      <td>2</td>\n",
       "      <td>608</td>\n",
       "      <td>TA</td>\n",
       "      <td>TA</td>\n",
       "      <td>Y</td>\n",
       "      <td>0</td>\n",
       "      <td>42</td>\n",
       "      <td>0</td>\n",
       "      <td>0</td>\n",
       "      <td>0</td>\n",
       "      <td>0</td>\n",
       "      <td>NaN</td>\n",
       "      <td>NaN</td>\n",
       "      <td>NaN</td>\n",
       "      <td>0</td>\n",
       "      <td>9</td>\n",
       "      <td>2008</td>\n",
       "      <td>WD</td>\n",
       "      <td>Normal</td>\n",
       "      <td>223500</td>\n",
       "    </tr>\n",
       "    <tr>\n",
       "      <th>3</th>\n",
       "      <td>4</td>\n",
       "      <td>70</td>\n",
       "      <td>RL</td>\n",
       "      <td>60.0</td>\n",
       "      <td>9550</td>\n",
       "      <td>Pave</td>\n",
       "      <td>NaN</td>\n",
       "      <td>IR1</td>\n",
       "      <td>Lvl</td>\n",
       "      <td>AllPub</td>\n",
       "      <td>Corner</td>\n",
       "      <td>Gtl</td>\n",
       "      <td>Crawfor</td>\n",
       "      <td>Norm</td>\n",
       "      <td>Norm</td>\n",
       "      <td>1Fam</td>\n",
       "      <td>2Story</td>\n",
       "      <td>7</td>\n",
       "      <td>5</td>\n",
       "      <td>1915</td>\n",
       "      <td>1970</td>\n",
       "      <td>Gable</td>\n",
       "      <td>CompShg</td>\n",
       "      <td>Wd Sdng</td>\n",
       "      <td>Wd Shng</td>\n",
       "      <td>None</td>\n",
       "      <td>0.0</td>\n",
       "      <td>TA</td>\n",
       "      <td>TA</td>\n",
       "      <td>BrkTil</td>\n",
       "      <td>TA</td>\n",
       "      <td>Gd</td>\n",
       "      <td>No</td>\n",
       "      <td>ALQ</td>\n",
       "      <td>216</td>\n",
       "      <td>Unf</td>\n",
       "      <td>0</td>\n",
       "      <td>540</td>\n",
       "      <td>756</td>\n",
       "      <td>GasA</td>\n",
       "      <td>Gd</td>\n",
       "      <td>Y</td>\n",
       "      <td>SBrkr</td>\n",
       "      <td>961</td>\n",
       "      <td>756</td>\n",
       "      <td>0</td>\n",
       "      <td>1717</td>\n",
       "      <td>1</td>\n",
       "      <td>0</td>\n",
       "      <td>1</td>\n",
       "      <td>0</td>\n",
       "      <td>3</td>\n",
       "      <td>1</td>\n",
       "      <td>Gd</td>\n",
       "      <td>7</td>\n",
       "      <td>Typ</td>\n",
       "      <td>1</td>\n",
       "      <td>Gd</td>\n",
       "      <td>Detchd</td>\n",
       "      <td>1998.0</td>\n",
       "      <td>Unf</td>\n",
       "      <td>3</td>\n",
       "      <td>642</td>\n",
       "      <td>TA</td>\n",
       "      <td>TA</td>\n",
       "      <td>Y</td>\n",
       "      <td>0</td>\n",
       "      <td>35</td>\n",
       "      <td>272</td>\n",
       "      <td>0</td>\n",
       "      <td>0</td>\n",
       "      <td>0</td>\n",
       "      <td>NaN</td>\n",
       "      <td>NaN</td>\n",
       "      <td>NaN</td>\n",
       "      <td>0</td>\n",
       "      <td>2</td>\n",
       "      <td>2006</td>\n",
       "      <td>WD</td>\n",
       "      <td>Abnorml</td>\n",
       "      <td>140000</td>\n",
       "    </tr>\n",
       "    <tr>\n",
       "      <th>4</th>\n",
       "      <td>5</td>\n",
       "      <td>60</td>\n",
       "      <td>RL</td>\n",
       "      <td>84.0</td>\n",
       "      <td>14260</td>\n",
       "      <td>Pave</td>\n",
       "      <td>NaN</td>\n",
       "      <td>IR1</td>\n",
       "      <td>Lvl</td>\n",
       "      <td>AllPub</td>\n",
       "      <td>FR2</td>\n",
       "      <td>Gtl</td>\n",
       "      <td>NoRidge</td>\n",
       "      <td>Norm</td>\n",
       "      <td>Norm</td>\n",
       "      <td>1Fam</td>\n",
       "      <td>2Story</td>\n",
       "      <td>8</td>\n",
       "      <td>5</td>\n",
       "      <td>2000</td>\n",
       "      <td>2000</td>\n",
       "      <td>Gable</td>\n",
       "      <td>CompShg</td>\n",
       "      <td>VinylSd</td>\n",
       "      <td>VinylSd</td>\n",
       "      <td>BrkFace</td>\n",
       "      <td>350.0</td>\n",
       "      <td>Gd</td>\n",
       "      <td>TA</td>\n",
       "      <td>PConc</td>\n",
       "      <td>Gd</td>\n",
       "      <td>TA</td>\n",
       "      <td>Av</td>\n",
       "      <td>GLQ</td>\n",
       "      <td>655</td>\n",
       "      <td>Unf</td>\n",
       "      <td>0</td>\n",
       "      <td>490</td>\n",
       "      <td>1145</td>\n",
       "      <td>GasA</td>\n",
       "      <td>Ex</td>\n",
       "      <td>Y</td>\n",
       "      <td>SBrkr</td>\n",
       "      <td>1145</td>\n",
       "      <td>1053</td>\n",
       "      <td>0</td>\n",
       "      <td>2198</td>\n",
       "      <td>1</td>\n",
       "      <td>0</td>\n",
       "      <td>2</td>\n",
       "      <td>1</td>\n",
       "      <td>4</td>\n",
       "      <td>1</td>\n",
       "      <td>Gd</td>\n",
       "      <td>9</td>\n",
       "      <td>Typ</td>\n",
       "      <td>1</td>\n",
       "      <td>TA</td>\n",
       "      <td>Attchd</td>\n",
       "      <td>2000.0</td>\n",
       "      <td>RFn</td>\n",
       "      <td>3</td>\n",
       "      <td>836</td>\n",
       "      <td>TA</td>\n",
       "      <td>TA</td>\n",
       "      <td>Y</td>\n",
       "      <td>192</td>\n",
       "      <td>84</td>\n",
       "      <td>0</td>\n",
       "      <td>0</td>\n",
       "      <td>0</td>\n",
       "      <td>0</td>\n",
       "      <td>NaN</td>\n",
       "      <td>NaN</td>\n",
       "      <td>NaN</td>\n",
       "      <td>0</td>\n",
       "      <td>12</td>\n",
       "      <td>2008</td>\n",
       "      <td>WD</td>\n",
       "      <td>Normal</td>\n",
       "      <td>250000</td>\n",
       "    </tr>\n",
       "  </tbody>\n",
       "</table>\n",
       "</div>"
      ],
      "text/plain": [
       "   Id  MSSubClass MSZoning  LotFrontage  LotArea Street Alley LotShape  \\\n",
       "0   1          60       RL         65.0     8450   Pave   NaN      Reg   \n",
       "1   2          20       RL         80.0     9600   Pave   NaN      Reg   \n",
       "2   3          60       RL         68.0    11250   Pave   NaN      IR1   \n",
       "3   4          70       RL         60.0     9550   Pave   NaN      IR1   \n",
       "4   5          60       RL         84.0    14260   Pave   NaN      IR1   \n",
       "\n",
       "  LandContour Utilities LotConfig LandSlope Neighborhood Condition1  \\\n",
       "0         Lvl    AllPub    Inside       Gtl      CollgCr       Norm   \n",
       "1         Lvl    AllPub       FR2       Gtl      Veenker      Feedr   \n",
       "2         Lvl    AllPub    Inside       Gtl      CollgCr       Norm   \n",
       "3         Lvl    AllPub    Corner       Gtl      Crawfor       Norm   \n",
       "4         Lvl    AllPub       FR2       Gtl      NoRidge       Norm   \n",
       "\n",
       "  Condition2 BldgType HouseStyle  OverallQual  OverallCond  YearBuilt  \\\n",
       "0       Norm     1Fam     2Story            7            5       2003   \n",
       "1       Norm     1Fam     1Story            6            8       1976   \n",
       "2       Norm     1Fam     2Story            7            5       2001   \n",
       "3       Norm     1Fam     2Story            7            5       1915   \n",
       "4       Norm     1Fam     2Story            8            5       2000   \n",
       "\n",
       "   YearRemodAdd RoofStyle RoofMatl Exterior1st Exterior2nd MasVnrType  \\\n",
       "0          2003     Gable  CompShg     VinylSd     VinylSd    BrkFace   \n",
       "1          1976     Gable  CompShg     MetalSd     MetalSd       None   \n",
       "2          2002     Gable  CompShg     VinylSd     VinylSd    BrkFace   \n",
       "3          1970     Gable  CompShg     Wd Sdng     Wd Shng       None   \n",
       "4          2000     Gable  CompShg     VinylSd     VinylSd    BrkFace   \n",
       "\n",
       "   MasVnrArea ExterQual ExterCond Foundation BsmtQual BsmtCond BsmtExposure  \\\n",
       "0       196.0        Gd        TA      PConc       Gd       TA           No   \n",
       "1         0.0        TA        TA     CBlock       Gd       TA           Gd   \n",
       "2       162.0        Gd        TA      PConc       Gd       TA           Mn   \n",
       "3         0.0        TA        TA     BrkTil       TA       Gd           No   \n",
       "4       350.0        Gd        TA      PConc       Gd       TA           Av   \n",
       "\n",
       "  BsmtFinType1  BsmtFinSF1 BsmtFinType2  BsmtFinSF2  BsmtUnfSF  TotalBsmtSF  \\\n",
       "0          GLQ         706          Unf           0        150          856   \n",
       "1          ALQ         978          Unf           0        284         1262   \n",
       "2          GLQ         486          Unf           0        434          920   \n",
       "3          ALQ         216          Unf           0        540          756   \n",
       "4          GLQ         655          Unf           0        490         1145   \n",
       "\n",
       "  Heating HeatingQC CentralAir Electrical  1stFlrSF  2ndFlrSF  LowQualFinSF  \\\n",
       "0    GasA        Ex          Y      SBrkr       856       854             0   \n",
       "1    GasA        Ex          Y      SBrkr      1262         0             0   \n",
       "2    GasA        Ex          Y      SBrkr       920       866             0   \n",
       "3    GasA        Gd          Y      SBrkr       961       756             0   \n",
       "4    GasA        Ex          Y      SBrkr      1145      1053             0   \n",
       "\n",
       "   GrLivArea  BsmtFullBath  BsmtHalfBath  FullBath  HalfBath  BedroomAbvGr  \\\n",
       "0       1710             1             0         2         1             3   \n",
       "1       1262             0             1         2         0             3   \n",
       "2       1786             1             0         2         1             3   \n",
       "3       1717             1             0         1         0             3   \n",
       "4       2198             1             0         2         1             4   \n",
       "\n",
       "   KitchenAbvGr KitchenQual  TotRmsAbvGrd Functional  Fireplaces FireplaceQu  \\\n",
       "0             1          Gd             8        Typ           0         NaN   \n",
       "1             1          TA             6        Typ           1          TA   \n",
       "2             1          Gd             6        Typ           1          TA   \n",
       "3             1          Gd             7        Typ           1          Gd   \n",
       "4             1          Gd             9        Typ           1          TA   \n",
       "\n",
       "  GarageType  GarageYrBlt GarageFinish  GarageCars  GarageArea GarageQual  \\\n",
       "0     Attchd       2003.0          RFn           2         548         TA   \n",
       "1     Attchd       1976.0          RFn           2         460         TA   \n",
       "2     Attchd       2001.0          RFn           2         608         TA   \n",
       "3     Detchd       1998.0          Unf           3         642         TA   \n",
       "4     Attchd       2000.0          RFn           3         836         TA   \n",
       "\n",
       "  GarageCond PavedDrive  WoodDeckSF  OpenPorchSF  EnclosedPorch  3SsnPorch  \\\n",
       "0         TA          Y           0           61              0          0   \n",
       "1         TA          Y         298            0              0          0   \n",
       "2         TA          Y           0           42              0          0   \n",
       "3         TA          Y           0           35            272          0   \n",
       "4         TA          Y         192           84              0          0   \n",
       "\n",
       "   ScreenPorch  PoolArea PoolQC Fence MiscFeature  MiscVal  MoSold  YrSold  \\\n",
       "0            0         0    NaN   NaN         NaN        0       2    2008   \n",
       "1            0         0    NaN   NaN         NaN        0       5    2007   \n",
       "2            0         0    NaN   NaN         NaN        0       9    2008   \n",
       "3            0         0    NaN   NaN         NaN        0       2    2006   \n",
       "4            0         0    NaN   NaN         NaN        0      12    2008   \n",
       "\n",
       "  SaleType SaleCondition  SalePrice  \n",
       "0       WD        Normal     208500  \n",
       "1       WD        Normal     181500  \n",
       "2       WD        Normal     223500  \n",
       "3       WD       Abnorml     140000  \n",
       "4       WD        Normal     250000  "
      ]
     },
     "execution_count": 6,
     "metadata": {},
     "output_type": "execute_result"
    }
   ],
   "source": [
    "train.head()"
   ]
  },
  {
   "cell_type": "markdown",
   "id": "6a6d0601",
   "metadata": {
    "papermill": {
     "duration": 0.011571,
     "end_time": "2022-06-25T20:09:51.200805",
     "exception": false,
     "start_time": "2022-06-25T20:09:51.189234",
     "status": "completed"
    },
    "tags": []
   },
   "source": [
    "In supervised learning problems, we have a label or target."
   ]
  },
  {
   "cell_type": "code",
   "execution_count": 7,
   "id": "5bec5bf4",
   "metadata": {
    "execution": {
     "iopub.execute_input": "2022-06-25T20:09:51.224788Z",
     "iopub.status.busy": "2022-06-25T20:09:51.224438Z",
     "iopub.status.idle": "2022-06-25T20:09:51.229322Z",
     "shell.execute_reply": "2022-06-25T20:09:51.228432Z"
    },
    "papermill": {
     "duration": 0.019443,
     "end_time": "2022-06-25T20:09:51.231504",
     "exception": false,
     "start_time": "2022-06-25T20:09:51.212061",
     "status": "completed"
    },
    "tags": []
   },
   "outputs": [],
   "source": [
    "TARGET = \"SalePrice\""
   ]
  },
  {
   "cell_type": "markdown",
   "id": "37a8dac6",
   "metadata": {
    "papermill": {
     "duration": 0.010802,
     "end_time": "2022-06-25T20:09:51.253739",
     "exception": false,
     "start_time": "2022-06-25T20:09:51.242937",
     "status": "completed"
    },
    "tags": []
   },
   "source": [
    "There are 79 features but to keep it simple we are only going to start with one."
   ]
  },
  {
   "cell_type": "code",
   "execution_count": 8,
   "id": "684d7a37",
   "metadata": {
    "execution": {
     "iopub.execute_input": "2022-06-25T20:09:51.277445Z",
     "iopub.status.busy": "2022-06-25T20:09:51.276961Z",
     "iopub.status.idle": "2022-06-25T20:09:51.281301Z",
     "shell.execute_reply": "2022-06-25T20:09:51.280162Z"
    },
    "papermill": {
     "duration": 0.018623,
     "end_time": "2022-06-25T20:09:51.283351",
     "exception": false,
     "start_time": "2022-06-25T20:09:51.264728",
     "status": "completed"
    },
    "tags": []
   },
   "outputs": [],
   "source": [
    "FEATURES = [\"GrLivArea\", \"LotArea\", \"TotalBsmtSF\", \"FullBath\"]"
   ]
  },
  {
   "cell_type": "markdown",
   "id": "d2ca1b2e",
   "metadata": {
    "papermill": {
     "duration": 0.006557,
     "end_time": "2022-06-25T20:09:51.301124",
     "exception": false,
     "start_time": "2022-06-25T20:09:51.294567",
     "status": "completed"
    },
    "tags": []
   },
   "source": [
    "<div style=\"background-color:rgba(128, 0, 128, 0.6);border-radius:5px;display:fill\"><h1 style=\"text-align: center;padding: 12px 0px 12px 0px;\">Missing Data</h1>\n",
    "</div>"
   ]
  },
  {
   "cell_type": "code",
   "execution_count": 9,
   "id": "834248ef",
   "metadata": {
    "execution": {
     "iopub.execute_input": "2022-06-25T20:09:51.316416Z",
     "iopub.status.busy": "2022-06-25T20:09:51.315625Z",
     "iopub.status.idle": "2022-06-25T20:09:51.332305Z",
     "shell.execute_reply": "2022-06-25T20:09:51.331317Z"
    },
    "papermill": {
     "duration": 0.025994,
     "end_time": "2022-06-25T20:09:51.333886",
     "exception": false,
     "start_time": "2022-06-25T20:09:51.307892",
     "status": "completed"
    },
    "tags": []
   },
   "outputs": [
    {
     "name": "stdout",
     "output_type": "stream",
     "text": [
      "===== Train =====\n",
      "GrLivArea      0\n",
      "LotArea        0\n",
      "TotalBsmtSF    0\n",
      "FullBath       0\n",
      "dtype: int64\n",
      "===== Test =====\n",
      "GrLivArea      0\n",
      "LotArea        0\n",
      "TotalBsmtSF    1\n",
      "FullBath       0\n",
      "dtype: int64\n"
     ]
    }
   ],
   "source": [
    "print(5*\"=\",\"Train\", 5*\"=\")\n",
    "print(train[FEATURES].isnull().sum())\n",
    "print(5*\"=\",\"Test\", 5*\"=\")\n",
    "print(test[FEATURES].isnull().sum())"
   ]
  },
  {
   "cell_type": "code",
   "execution_count": 10,
   "id": "2f5882af",
   "metadata": {
    "execution": {
     "iopub.execute_input": "2022-06-25T20:09:51.349486Z",
     "iopub.status.busy": "2022-06-25T20:09:51.349140Z",
     "iopub.status.idle": "2022-06-25T20:09:51.355958Z",
     "shell.execute_reply": "2022-06-25T20:09:51.355006Z"
    },
    "papermill": {
     "duration": 0.016845,
     "end_time": "2022-06-25T20:09:51.357655",
     "exception": false,
     "start_time": "2022-06-25T20:09:51.340810",
     "status": "completed"
    },
    "tags": []
   },
   "outputs": [],
   "source": [
    "test[\"TotalBsmtSF\"] = test[\"TotalBsmtSF\"].fillna(0)"
   ]
  },
  {
   "cell_type": "markdown",
   "id": "1bc812cc",
   "metadata": {
    "papermill": {
     "duration": 0.006678,
     "end_time": "2022-06-25T20:09:51.371324",
     "exception": false,
     "start_time": "2022-06-25T20:09:51.364646",
     "status": "completed"
    },
    "tags": []
   },
   "source": [
    "## Verify No Missing Data"
   ]
  },
  {
   "cell_type": "code",
   "execution_count": 11,
   "id": "51e9da3c",
   "metadata": {
    "execution": {
     "iopub.execute_input": "2022-06-25T20:09:51.386291Z",
     "iopub.status.busy": "2022-06-25T20:09:51.385962Z",
     "iopub.status.idle": "2022-06-25T20:09:51.394412Z",
     "shell.execute_reply": "2022-06-25T20:09:51.392610Z"
    },
    "papermill": {
     "duration": 0.01872,
     "end_time": "2022-06-25T20:09:51.396985",
     "exception": false,
     "start_time": "2022-06-25T20:09:51.378265",
     "status": "completed"
    },
    "tags": []
   },
   "outputs": [
    {
     "name": "stdout",
     "output_type": "stream",
     "text": [
      "GrLivArea      0\n",
      "LotArea        0\n",
      "TotalBsmtSF    0\n",
      "FullBath       0\n",
      "dtype: int64\n"
     ]
    }
   ],
   "source": [
    "print(test[FEATURES].isnull().sum())"
   ]
  },
  {
   "cell_type": "code",
   "execution_count": 12,
   "id": "30509754",
   "metadata": {
    "execution": {
     "iopub.execute_input": "2022-06-25T20:09:51.421968Z",
     "iopub.status.busy": "2022-06-25T20:09:51.421470Z",
     "iopub.status.idle": "2022-06-25T20:09:51.427564Z",
     "shell.execute_reply": "2022-06-25T20:09:51.426653Z"
    },
    "papermill": {
     "duration": 0.020383,
     "end_time": "2022-06-25T20:09:51.429486",
     "exception": false,
     "start_time": "2022-06-25T20:09:51.409103",
     "status": "completed"
    },
    "tags": []
   },
   "outputs": [],
   "source": [
    "y = train[TARGET]\n",
    "X = train[FEATURES].copy()\n",
    "\n",
    "X_test = test[FEATURES].copy()"
   ]
  },
  {
   "cell_type": "code",
   "execution_count": 13,
   "id": "992a7a22",
   "metadata": {
    "execution": {
     "iopub.execute_input": "2022-06-25T20:09:51.453043Z",
     "iopub.status.busy": "2022-06-25T20:09:51.452579Z",
     "iopub.status.idle": "2022-06-25T20:09:51.461612Z",
     "shell.execute_reply": "2022-06-25T20:09:51.460795Z"
    },
    "papermill": {
     "duration": 0.023012,
     "end_time": "2022-06-25T20:09:51.463522",
     "exception": false,
     "start_time": "2022-06-25T20:09:51.440510",
     "status": "completed"
    },
    "tags": []
   },
   "outputs": [
    {
     "data": {
      "text/html": [
       "<div>\n",
       "<style scoped>\n",
       "    .dataframe tbody tr th:only-of-type {\n",
       "        vertical-align: middle;\n",
       "    }\n",
       "\n",
       "    .dataframe tbody tr th {\n",
       "        vertical-align: top;\n",
       "    }\n",
       "\n",
       "    .dataframe thead th {\n",
       "        text-align: right;\n",
       "    }\n",
       "</style>\n",
       "<table border=\"1\" class=\"dataframe\">\n",
       "  <thead>\n",
       "    <tr style=\"text-align: right;\">\n",
       "      <th></th>\n",
       "      <th>GrLivArea</th>\n",
       "      <th>LotArea</th>\n",
       "      <th>TotalBsmtSF</th>\n",
       "      <th>FullBath</th>\n",
       "    </tr>\n",
       "  </thead>\n",
       "  <tbody>\n",
       "    <tr>\n",
       "      <th>0</th>\n",
       "      <td>1710</td>\n",
       "      <td>8450</td>\n",
       "      <td>856</td>\n",
       "      <td>2</td>\n",
       "    </tr>\n",
       "    <tr>\n",
       "      <th>1</th>\n",
       "      <td>1262</td>\n",
       "      <td>9600</td>\n",
       "      <td>1262</td>\n",
       "      <td>2</td>\n",
       "    </tr>\n",
       "    <tr>\n",
       "      <th>2</th>\n",
       "      <td>1786</td>\n",
       "      <td>11250</td>\n",
       "      <td>920</td>\n",
       "      <td>2</td>\n",
       "    </tr>\n",
       "    <tr>\n",
       "      <th>3</th>\n",
       "      <td>1717</td>\n",
       "      <td>9550</td>\n",
       "      <td>756</td>\n",
       "      <td>1</td>\n",
       "    </tr>\n",
       "    <tr>\n",
       "      <th>4</th>\n",
       "      <td>2198</td>\n",
       "      <td>14260</td>\n",
       "      <td>1145</td>\n",
       "      <td>2</td>\n",
       "    </tr>\n",
       "  </tbody>\n",
       "</table>\n",
       "</div>"
      ],
      "text/plain": [
       "   GrLivArea  LotArea  TotalBsmtSF  FullBath\n",
       "0       1710     8450          856         2\n",
       "1       1262     9600         1262         2\n",
       "2       1786    11250          920         2\n",
       "3       1717     9550          756         1\n",
       "4       2198    14260         1145         2"
      ]
     },
     "execution_count": 13,
     "metadata": {},
     "output_type": "execute_result"
    }
   ],
   "source": [
    "X.head()"
   ]
  },
  {
   "cell_type": "markdown",
   "id": "a41d4756",
   "metadata": {
    "papermill": {
     "duration": 0.011157,
     "end_time": "2022-06-25T20:09:51.486174",
     "exception": false,
     "start_time": "2022-06-25T20:09:51.475017",
     "status": "completed"
    },
    "tags": []
   },
   "source": [
    "## Scale the Data\n",
    "\n",
    "Doesn't make a difference so it's commented out."
   ]
  },
  {
   "cell_type": "code",
   "execution_count": 14,
   "id": "d3b1ad1c",
   "metadata": {
    "execution": {
     "iopub.execute_input": "2022-06-25T20:09:51.510414Z",
     "iopub.status.busy": "2022-06-25T20:09:51.510047Z",
     "iopub.status.idle": "2022-06-25T20:09:51.524082Z",
     "shell.execute_reply": "2022-06-25T20:09:51.523229Z"
    },
    "papermill": {
     "duration": 0.028776,
     "end_time": "2022-06-25T20:09:51.526190",
     "exception": false,
     "start_time": "2022-06-25T20:09:51.497414",
     "status": "completed"
    },
    "tags": []
   },
   "outputs": [],
   "source": [
    "from sklearn.preprocessing import StandardScaler\n",
    "\n",
    "scaler = StandardScaler()\n",
    "\n",
    "X = scaler.fit(X).transform(X)\n",
    "X_test = scaler.transform(X_test)"
   ]
  },
  {
   "cell_type": "code",
   "execution_count": 15,
   "id": "4b84efbb",
   "metadata": {
    "execution": {
     "iopub.execute_input": "2022-06-25T20:09:51.551435Z",
     "iopub.status.busy": "2022-06-25T20:09:51.550387Z",
     "iopub.status.idle": "2022-06-25T20:09:51.557134Z",
     "shell.execute_reply": "2022-06-25T20:09:51.556243Z"
    },
    "papermill": {
     "duration": 0.020873,
     "end_time": "2022-06-25T20:09:51.559083",
     "exception": false,
     "start_time": "2022-06-25T20:09:51.538210",
     "status": "completed"
    },
    "tags": []
   },
   "outputs": [
    {
     "data": {
      "text/plain": [
       "array([[ 0.37033344, -0.20714171, -0.45930254,  0.78974052],\n",
       "       [-0.48251191, -0.09188637,  0.46646492,  0.78974052],\n",
       "       [ 0.51501256,  0.07347998, -0.31336875,  0.78974052],\n",
       "       [ 0.38365915, -0.09689747, -0.68732408, -1.02604084],\n",
       "       [ 1.2993257 ,  0.37514829,  0.19967971,  0.78974052]])"
      ]
     },
     "execution_count": 15,
     "metadata": {},
     "output_type": "execute_result"
    }
   ],
   "source": [
    "X[:5]"
   ]
  },
  {
   "cell_type": "markdown",
   "id": "8798caf6",
   "metadata": {
    "papermill": {
     "duration": 0.011006,
     "end_time": "2022-06-25T20:09:51.581755",
     "exception": false,
     "start_time": "2022-06-25T20:09:51.570749",
     "status": "completed"
    },
    "tags": []
   },
   "source": [
    "<div style=\"background-color:rgba(128, 0, 128, 0.6);border-radius:5px;display:fill\"><h1 style=\"text-align: center;padding: 12px 0px 12px 0px;\">Train Model with Train/Test Split</h1>\n",
    "</div>\n",
    "\n",
    "We split the training data so we can evaluate how well each model performs  We are saving 20% of the training data to validate the model(s)."
   ]
  },
  {
   "cell_type": "code",
   "execution_count": 16,
   "id": "3ba76cc1",
   "metadata": {
    "execution": {
     "iopub.execute_input": "2022-06-25T20:09:51.606247Z",
     "iopub.status.busy": "2022-06-25T20:09:51.605404Z",
     "iopub.status.idle": "2022-06-25T20:09:51.626205Z",
     "shell.execute_reply": "2022-06-25T20:09:51.625708Z"
    },
    "papermill": {
     "duration": 0.034902,
     "end_time": "2022-06-25T20:09:51.628034",
     "exception": false,
     "start_time": "2022-06-25T20:09:51.593132",
     "status": "completed"
    },
    "tags": []
   },
   "outputs": [
    {
     "data": {
      "text/plain": [
       "((1022, 4), (1022,), (438, 4), (438,))"
      ]
     },
     "execution_count": 16,
     "metadata": {},
     "output_type": "execute_result"
    }
   ],
   "source": [
    "from sklearn.model_selection import train_test_split\n",
    "\n",
    "X_train, X_valid, y_train, y_valid = train_test_split(\n",
    "    X,\n",
    "    y,\n",
    "    test_size=0.3,    # Save 20% for validation\n",
    "    random_state=42,  # Make the split deterministic\n",
    ")\n",
    "X_train.shape, y_train.shape, X_valid.shape, y_valid.shape"
   ]
  },
  {
   "cell_type": "markdown",
   "id": "5b91189b",
   "metadata": {
    "papermill": {
     "duration": 0.011156,
     "end_time": "2022-06-25T20:09:51.650828",
     "exception": false,
     "start_time": "2022-06-25T20:09:51.639672",
     "status": "completed"
    },
    "tags": []
   },
   "source": [
    "# Create a Model"
   ]
  },
  {
   "cell_type": "code",
   "execution_count": 17,
   "id": "b9fadba6",
   "metadata": {
    "execution": {
     "iopub.execute_input": "2022-06-25T20:09:51.675183Z",
     "iopub.status.busy": "2022-06-25T20:09:51.674591Z",
     "iopub.status.idle": "2022-06-25T20:09:51.751598Z",
     "shell.execute_reply": "2022-06-25T20:09:51.750415Z"
    },
    "papermill": {
     "duration": 0.091792,
     "end_time": "2022-06-25T20:09:51.754194",
     "exception": false,
     "start_time": "2022-06-25T20:09:51.662402",
     "status": "completed"
    },
    "tags": []
   },
   "outputs": [],
   "source": [
    "from sklearn.linear_model import LinearRegression, Lasso, Ridge\n",
    "    \n",
    "def run_regression_model(model):\n",
    "#     model = Lasso(alpha=0.5)\n",
    "    poly_features = PolynomialFeatures(degree = 3, include_bias=False)\n",
    "    X_poly = poly_features.fit_transform(X_train)\n",
    "\n",
    "    model.fit(X_poly,y_train)\n",
    "\n",
    "    valid_preds = model.predict(poly_features.transform(X_valid))\n",
    "    test_preds = model.predict(poly_features.transform(X_test))\n",
    "\n",
    "    return valid_preds, test_preds"
   ]
  },
  {
   "cell_type": "code",
   "execution_count": 18,
   "id": "0eebeaf2",
   "metadata": {
    "execution": {
     "iopub.execute_input": "2022-06-25T20:09:51.780471Z",
     "iopub.status.busy": "2022-06-25T20:09:51.779387Z",
     "iopub.status.idle": "2022-06-25T20:09:51.805356Z",
     "shell.execute_reply": "2022-06-25T20:09:51.804578Z"
    },
    "papermill": {
     "duration": 0.040707,
     "end_time": "2022-06-25T20:09:51.807151",
     "exception": false,
     "start_time": "2022-06-25T20:09:51.766444",
     "status": "completed"
    },
    "tags": []
   },
   "outputs": [
    {
     "data": {
      "text/plain": [
       "LinearRegression()"
      ]
     },
     "execution_count": 18,
     "metadata": {},
     "output_type": "execute_result"
    }
   ],
   "source": [
    "from sklearn.preprocessing import PolynomialFeatures\n",
    "\n",
    "poly_features = PolynomialFeatures(degree = 2, include_bias=False)\n",
    "X_poly = poly_features.fit_transform(X_train)\n",
    "model = LinearRegression()\n",
    "model.fit(X_poly, y_train)"
   ]
  },
  {
   "cell_type": "code",
   "execution_count": 19,
   "id": "e700ff63",
   "metadata": {
    "execution": {
     "iopub.execute_input": "2022-06-25T20:09:51.828002Z",
     "iopub.status.busy": "2022-06-25T20:09:51.827406Z",
     "iopub.status.idle": "2022-06-25T20:09:51.835626Z",
     "shell.execute_reply": "2022-06-25T20:09:51.834733Z"
    },
    "papermill": {
     "duration": 0.021796,
     "end_time": "2022-06-25T20:09:51.838772",
     "exception": false,
     "start_time": "2022-06-25T20:09:51.816976",
     "status": "completed"
    },
    "tags": []
   },
   "outputs": [
    {
     "name": "stdout",
     "output_type": "stream",
     "text": [
      "MAE: 30426.9912\n",
      "RMSE: 2072476276.6549\n"
     ]
    }
   ],
   "source": [
    "valid_preds = model.predict(poly_features.transform(X_valid))\n",
    "show_scores(y_valid, valid_preds)\n"
   ]
  },
  {
   "cell_type": "code",
   "execution_count": 20,
   "id": "82779cc0",
   "metadata": {
    "execution": {
     "iopub.execute_input": "2022-06-25T20:09:51.860044Z",
     "iopub.status.busy": "2022-06-25T20:09:51.859306Z",
     "iopub.status.idle": "2022-06-25T20:09:51.886809Z",
     "shell.execute_reply": "2022-06-25T20:09:51.886103Z"
    },
    "papermill": {
     "duration": 0.040096,
     "end_time": "2022-06-25T20:09:51.888798",
     "exception": false,
     "start_time": "2022-06-25T20:09:51.848702",
     "status": "completed"
    },
    "tags": []
   },
   "outputs": [
    {
     "data": {
      "text/html": [
       "<div>\n",
       "<style scoped>\n",
       "    .dataframe tbody tr th:only-of-type {\n",
       "        vertical-align: middle;\n",
       "    }\n",
       "\n",
       "    .dataframe tbody tr th {\n",
       "        vertical-align: top;\n",
       "    }\n",
       "\n",
       "    .dataframe thead th {\n",
       "        text-align: right;\n",
       "    }\n",
       "</style>\n",
       "<table border=\"1\" class=\"dataframe\">\n",
       "  <thead>\n",
       "    <tr style=\"text-align: right;\">\n",
       "      <th></th>\n",
       "      <th>Id</th>\n",
       "      <th>SalePrice</th>\n",
       "    </tr>\n",
       "  </thead>\n",
       "  <tbody>\n",
       "    <tr>\n",
       "      <th>0</th>\n",
       "      <td>1461</td>\n",
       "      <td>123513.964855</td>\n",
       "    </tr>\n",
       "    <tr>\n",
       "      <th>1</th>\n",
       "      <td>1462</td>\n",
       "      <td>181395.138047</td>\n",
       "    </tr>\n",
       "    <tr>\n",
       "      <th>2</th>\n",
       "      <td>1463</td>\n",
       "      <td>188163.248935</td>\n",
       "    </tr>\n",
       "    <tr>\n",
       "      <th>3</th>\n",
       "      <td>1464</td>\n",
       "      <td>183534.346632</td>\n",
       "    </tr>\n",
       "    <tr>\n",
       "      <th>4</th>\n",
       "      <td>1465</td>\n",
       "      <td>183325.525109</td>\n",
       "    </tr>\n",
       "  </tbody>\n",
       "</table>\n",
       "</div>"
      ],
      "text/plain": [
       "     Id      SalePrice\n",
       "0  1461  123513.964855\n",
       "1  1462  181395.138047\n",
       "2  1463  188163.248935\n",
       "3  1464  183534.346632\n",
       "4  1465  183325.525109"
      ]
     },
     "execution_count": 20,
     "metadata": {},
     "output_type": "execute_result"
    }
   ],
   "source": [
    "test_preds = model.predict(poly_features.transform(X_test))\n",
    "create_submission(\"poly2\", TARGET, test_preds)"
   ]
  },
  {
   "cell_type": "markdown",
   "id": "d28d4da2",
   "metadata": {
    "papermill": {
     "duration": 0.019181,
     "end_time": "2022-06-25T20:09:51.924538",
     "exception": false,
     "start_time": "2022-06-25T20:09:51.905357",
     "status": "completed"
    },
    "tags": []
   },
   "source": [
    "## Fit/Train the model"
   ]
  },
  {
   "cell_type": "code",
   "execution_count": 21,
   "id": "251ec2f4",
   "metadata": {
    "execution": {
     "iopub.execute_input": "2022-06-25T20:09:51.955765Z",
     "iopub.status.busy": "2022-06-25T20:09:51.954886Z",
     "iopub.status.idle": "2022-06-25T20:09:52.004177Z",
     "shell.execute_reply": "2022-06-25T20:09:52.003374Z"
    },
    "papermill": {
     "duration": 0.067439,
     "end_time": "2022-06-25T20:09:52.006600",
     "exception": false,
     "start_time": "2022-06-25T20:09:51.939161",
     "status": "completed"
    },
    "tags": []
   },
   "outputs": [
    {
     "name": "stdout",
     "output_type": "stream",
     "text": [
      "MAE: 29452.7601\n",
      "RMSE: 1944533469.4584\n"
     ]
    },
    {
     "data": {
      "text/html": [
       "<div>\n",
       "<style scoped>\n",
       "    .dataframe tbody tr th:only-of-type {\n",
       "        vertical-align: middle;\n",
       "    }\n",
       "\n",
       "    .dataframe tbody tr th {\n",
       "        vertical-align: top;\n",
       "    }\n",
       "\n",
       "    .dataframe thead th {\n",
       "        text-align: right;\n",
       "    }\n",
       "</style>\n",
       "<table border=\"1\" class=\"dataframe\">\n",
       "  <thead>\n",
       "    <tr style=\"text-align: right;\">\n",
       "      <th></th>\n",
       "      <th>Id</th>\n",
       "      <th>SalePrice</th>\n",
       "    </tr>\n",
       "  </thead>\n",
       "  <tbody>\n",
       "    <tr>\n",
       "      <th>0</th>\n",
       "      <td>1461</td>\n",
       "      <td>114391.037937</td>\n",
       "    </tr>\n",
       "    <tr>\n",
       "      <th>1</th>\n",
       "      <td>1462</td>\n",
       "      <td>183081.687128</td>\n",
       "    </tr>\n",
       "    <tr>\n",
       "      <th>2</th>\n",
       "      <td>1463</td>\n",
       "      <td>185177.409410</td>\n",
       "    </tr>\n",
       "    <tr>\n",
       "      <th>3</th>\n",
       "      <td>1464</td>\n",
       "      <td>182093.711795</td>\n",
       "    </tr>\n",
       "    <tr>\n",
       "      <th>4</th>\n",
       "      <td>1465</td>\n",
       "      <td>182786.051202</td>\n",
       "    </tr>\n",
       "  </tbody>\n",
       "</table>\n",
       "</div>"
      ],
      "text/plain": [
       "     Id      SalePrice\n",
       "0  1461  114391.037937\n",
       "1  1462  183081.687128\n",
       "2  1463  185177.409410\n",
       "3  1464  182093.711795\n",
       "4  1465  182786.051202"
      ]
     },
     "execution_count": 21,
     "metadata": {},
     "output_type": "execute_result"
    }
   ],
   "source": [
    "valid_preds, test_preds = run_regression_model(LinearRegression())\n",
    "show_scores(y_valid, valid_preds)\n",
    "create_submission(\"\", TARGET, test_preds)"
   ]
  },
  {
   "cell_type": "markdown",
   "id": "11b9b253",
   "metadata": {
    "papermill": {
     "duration": 0.028861,
     "end_time": "2022-06-25T20:09:52.057901",
     "exception": false,
     "start_time": "2022-06-25T20:09:52.029040",
     "status": "completed"
    },
    "tags": []
   },
   "source": [
    "\n",
    "- https://stackoverflow.com/questions/20681864/lasso-on-sklearn-does-not-converge\n",
    "- https://stats.stackexchange.com/questions/445831/how-is-tol-used-in-scikit-learns-lasso-and-elasticnet\n"
   ]
  },
  {
   "cell_type": "code",
   "execution_count": 22,
   "id": "45726eff",
   "metadata": {
    "execution": {
     "iopub.execute_input": "2022-06-25T20:09:52.101696Z",
     "iopub.status.busy": "2022-06-25T20:09:52.101369Z",
     "iopub.status.idle": "2022-06-25T20:09:52.398881Z",
     "shell.execute_reply": "2022-06-25T20:09:52.398060Z"
    },
    "papermill": {
     "duration": 0.31456,
     "end_time": "2022-06-25T20:09:52.401116",
     "exception": false,
     "start_time": "2022-06-25T20:09:52.086556",
     "status": "completed"
    },
    "tags": []
   },
   "outputs": [
    {
     "name": "stdout",
     "output_type": "stream",
     "text": [
      "MAE: 29340.5234\n",
      "RMSE: 1881050884.3584\n"
     ]
    },
    {
     "name": "stderr",
     "output_type": "stream",
     "text": [
      "/opt/conda/lib/python3.7/site-packages/sklearn/linear_model/_coordinate_descent.py:648: ConvergenceWarning: Objective did not converge. You might want to increase the number of iterations, check the scale of the features or consider increasing regularisation. Duality gap: 8.696e+11, tolerance: 6.151e+06\n",
      "  coef_, l1_reg, l2_reg, X, y, max_iter, tol, rng, random, positive\n"
     ]
    },
    {
     "data": {
      "text/html": [
       "<div>\n",
       "<style scoped>\n",
       "    .dataframe tbody tr th:only-of-type {\n",
       "        vertical-align: middle;\n",
       "    }\n",
       "\n",
       "    .dataframe tbody tr th {\n",
       "        vertical-align: top;\n",
       "    }\n",
       "\n",
       "    .dataframe thead th {\n",
       "        text-align: right;\n",
       "    }\n",
       "</style>\n",
       "<table border=\"1\" class=\"dataframe\">\n",
       "  <thead>\n",
       "    <tr style=\"text-align: right;\">\n",
       "      <th></th>\n",
       "      <th>Id</th>\n",
       "      <th>SalePrice</th>\n",
       "    </tr>\n",
       "  </thead>\n",
       "  <tbody>\n",
       "    <tr>\n",
       "      <th>0</th>\n",
       "      <td>1461</td>\n",
       "      <td>114200.891926</td>\n",
       "    </tr>\n",
       "    <tr>\n",
       "      <th>1</th>\n",
       "      <td>1462</td>\n",
       "      <td>183339.931516</td>\n",
       "    </tr>\n",
       "    <tr>\n",
       "      <th>2</th>\n",
       "      <td>1463</td>\n",
       "      <td>186047.018971</td>\n",
       "    </tr>\n",
       "    <tr>\n",
       "      <th>3</th>\n",
       "      <td>1464</td>\n",
       "      <td>183031.007943</td>\n",
       "    </tr>\n",
       "    <tr>\n",
       "      <th>4</th>\n",
       "      <td>1465</td>\n",
       "      <td>182084.719985</td>\n",
       "    </tr>\n",
       "  </tbody>\n",
       "</table>\n",
       "</div>"
      ],
      "text/plain": [
       "     Id      SalePrice\n",
       "0  1461  114200.891926\n",
       "1  1462  183339.931516\n",
       "2  1463  186047.018971\n",
       "3  1464  183031.007943\n",
       "4  1465  182084.719985"
      ]
     },
     "execution_count": 22,
     "metadata": {},
     "output_type": "execute_result"
    }
   ],
   "source": [
    "valid_preds, test_preds = run_regression_model(Lasso(alpha=1.0, max_iter=10_000, tol= 0.000001))\n",
    "show_scores(y_valid, valid_preds)\n",
    "create_submission(\"lasso\", TARGET, test_preds)"
   ]
  },
  {
   "cell_type": "code",
   "execution_count": 23,
   "id": "9c75a37d",
   "metadata": {
    "execution": {
     "iopub.execute_input": "2022-06-25T20:09:52.457678Z",
     "iopub.status.busy": "2022-06-25T20:09:52.457262Z",
     "iopub.status.idle": "2022-06-25T20:09:52.494896Z",
     "shell.execute_reply": "2022-06-25T20:09:52.494087Z"
    },
    "papermill": {
     "duration": 0.072245,
     "end_time": "2022-06-25T20:09:52.497396",
     "exception": false,
     "start_time": "2022-06-25T20:09:52.425151",
     "status": "completed"
    },
    "tags": []
   },
   "outputs": [
    {
     "name": "stdout",
     "output_type": "stream",
     "text": [
      "MAE: 29448.2823\n",
      "RMSE: 1945693321.0695\n"
     ]
    },
    {
     "data": {
      "text/html": [
       "<div>\n",
       "<style scoped>\n",
       "    .dataframe tbody tr th:only-of-type {\n",
       "        vertical-align: middle;\n",
       "    }\n",
       "\n",
       "    .dataframe tbody tr th {\n",
       "        vertical-align: top;\n",
       "    }\n",
       "\n",
       "    .dataframe thead th {\n",
       "        text-align: right;\n",
       "    }\n",
       "</style>\n",
       "<table border=\"1\" class=\"dataframe\">\n",
       "  <thead>\n",
       "    <tr style=\"text-align: right;\">\n",
       "      <th></th>\n",
       "      <th>Id</th>\n",
       "      <th>SalePrice</th>\n",
       "    </tr>\n",
       "  </thead>\n",
       "  <tbody>\n",
       "    <tr>\n",
       "      <th>0</th>\n",
       "      <td>1461</td>\n",
       "      <td>114448.861075</td>\n",
       "    </tr>\n",
       "    <tr>\n",
       "      <th>1</th>\n",
       "      <td>1462</td>\n",
       "      <td>183004.645424</td>\n",
       "    </tr>\n",
       "    <tr>\n",
       "      <th>2</th>\n",
       "      <td>1463</td>\n",
       "      <td>185234.933104</td>\n",
       "    </tr>\n",
       "    <tr>\n",
       "      <th>3</th>\n",
       "      <td>1464</td>\n",
       "      <td>182111.963766</td>\n",
       "    </tr>\n",
       "    <tr>\n",
       "      <th>4</th>\n",
       "      <td>1465</td>\n",
       "      <td>182735.679868</td>\n",
       "    </tr>\n",
       "  </tbody>\n",
       "</table>\n",
       "</div>"
      ],
      "text/plain": [
       "     Id      SalePrice\n",
       "0  1461  114448.861075\n",
       "1  1462  183004.645424\n",
       "2  1463  185234.933104\n",
       "3  1464  182111.963766\n",
       "4  1465  182735.679868"
      ]
     },
     "execution_count": 23,
     "metadata": {},
     "output_type": "execute_result"
    }
   ],
   "source": [
    "valid_preds, test_preds = run_regression_model(Ridge(alpha=0.5, max_iter=1000, tol= 0.0001))\n",
    "show_scores(y_valid, valid_preds)\n",
    "create_submission(\"ridge\", TARGET, test_preds)"
   ]
  }
 ],
 "metadata": {
  "kernelspec": {
   "display_name": "Python 3",
   "language": "python",
   "name": "python3"
  },
  "language_info": {
   "codemirror_mode": {
    "name": "ipython",
    "version": 3
   },
   "file_extension": ".py",
   "mimetype": "text/x-python",
   "name": "python",
   "nbconvert_exporter": "python",
   "pygments_lexer": "ipython3",
   "version": "3.7.12"
  },
  "papermill": {
   "default_parameters": {},
   "duration": 13.603093,
   "end_time": "2022-06-25T20:09:53.334215",
   "environment_variables": {},
   "exception": null,
   "input_path": "__notebook__.ipynb",
   "output_path": "__notebook__.ipynb",
   "parameters": {},
   "start_time": "2022-06-25T20:09:39.731122",
   "version": "2.3.4"
  }
 },
 "nbformat": 4,
 "nbformat_minor": 5
}

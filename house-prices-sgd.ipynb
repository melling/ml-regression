{
 "cells": [
  {
   "cell_type": "markdown",
   "id": "396ac6d8",
   "metadata": {
    "papermill": {
     "duration": 0.0122,
     "end_time": "2022-06-28T12:00:03.734628",
     "exception": false,
     "start_time": "2022-06-28T12:00:03.722428",
     "status": "completed"
    },
    "tags": []
   },
   "source": [
    "<div style=\"background-color:rgba(128, 0, 128, 0.6);border-radius:5px;display:fill\"><h1 style=\"text-align: center;padding: 12px 0px 12px 0px;\">House Prices: Stochastic Gradient Descent (SGD)</h1>\n",
    "</div>\n",
    "\n",
    "Lesson: Stochastic Gradient Descent\n",
    "\n",
    "\n",
    "|Notebook| MAE | LeaderBoard|\n",
    "| --- | --- | --- |\n",
    "|QuickStart|38341.2045|0.29234|\n",
    "|Extra Features|32285.7959|0.24425|\n",
    "|Features + Lasso|31349.8387|0.24425|\n",
    "|Features + Ridge|31348.1429|0.24422|\n",
    "\n"
   ]
  },
  {
   "cell_type": "code",
   "execution_count": 1,
   "id": "053f972f",
   "metadata": {
    "execution": {
     "iopub.execute_input": "2022-06-28T12:00:03.759762Z",
     "iopub.status.busy": "2022-06-28T12:00:03.759155Z",
     "iopub.status.idle": "2022-06-28T12:00:20.295302Z",
     "shell.execute_reply": "2022-06-28T12:00:20.293995Z"
    },
    "papermill": {
     "duration": 16.553268,
     "end_time": "2022-06-28T12:00:20.299320",
     "exception": false,
     "start_time": "2022-06-28T12:00:03.746052",
     "status": "completed"
    },
    "tags": []
   },
   "outputs": [
    {
     "name": "stdout",
     "output_type": "stream",
     "text": [
      "\u001b[33mWARNING: Running pip as the 'root' user can result in broken permissions and conflicting behaviour with the system package manager. It is recommended to use a virtual environment instead: https://pip.pypa.io/warnings/venv\u001b[0m\u001b[33m\r\n",
      "\u001b[0m"
     ]
    }
   ],
   "source": [
    "# Black formatter https://black.readthedocs.io/en/stable/\n",
    "\n",
    "! pip install nb-black > /dev/null\n",
    "\n",
    "%load_ext lab_black"
   ]
  },
  {
   "cell_type": "markdown",
   "id": "864154ba",
   "metadata": {
    "papermill": {
     "duration": 0.011003,
     "end_time": "2022-06-28T12:00:20.322409",
     "exception": false,
     "start_time": "2022-06-28T12:00:20.311406",
     "status": "completed"
    },
    "tags": []
   },
   "source": [
    "<div style=\"background-color:rgba(128, 0, 128, 0.6);border-radius:5px;display:fill\"><h1 style=\"text-align: center;padding: 12px 0px 12px 0px;\">Import Libraries</h1>\n",
    "</div>\n",
    "\n",
    "A best practise is to include all libraries here.  However, I will put a few imports farther down where they are first used so beginners can learn with an \"as needed\" approach."
   ]
  },
  {
   "cell_type": "code",
   "execution_count": 2,
   "id": "72d885db",
   "metadata": {
    "execution": {
     "iopub.execute_input": "2022-06-28T12:00:20.346908Z",
     "iopub.status.busy": "2022-06-28T12:00:20.346431Z",
     "iopub.status.idle": "2022-06-28T12:00:20.355188Z",
     "shell.execute_reply": "2022-06-28T12:00:20.354118Z"
    },
    "papermill": {
     "duration": 0.024258,
     "end_time": "2022-06-28T12:00:20.357866",
     "exception": false,
     "start_time": "2022-06-28T12:00:20.333608",
     "status": "completed"
    },
    "tags": []
   },
   "outputs": [],
   "source": [
    "import numpy as np  # linear algebra\n",
    "import pandas as pd  # data processing, CSV file I/O (e.g. pd.read_csv)\n",
    "\n",
    "from pathlib import Path\n",
    "\n",
    "pd.options.display.max_columns = 100  # Want to view all the columns"
   ]
  },
  {
   "cell_type": "markdown",
   "id": "ef34c37e",
   "metadata": {
    "papermill": {
     "duration": 0.01206,
     "end_time": "2022-06-28T12:00:20.381304",
     "exception": false,
     "start_time": "2022-06-28T12:00:20.369244",
     "status": "completed"
    },
    "tags": []
   },
   "source": [
    "<div style=\"background-color:rgba(128, 0, 128, 0.6);border-radius:5px;display:fill\"><h1 style=\"text-align: center;padding: 12px 0px 12px 0px;\">Library</h1>\n",
    "</div>\n",
    "\n",
    "Creating a few functions that we will reuse in each project."
   ]
  },
  {
   "cell_type": "code",
   "execution_count": 3,
   "id": "bdc39909",
   "metadata": {
    "execution": {
     "iopub.execute_input": "2022-06-28T12:00:20.406515Z",
     "iopub.status.busy": "2022-06-28T12:00:20.405709Z",
     "iopub.status.idle": "2022-06-28T12:00:20.422107Z",
     "shell.execute_reply": "2022-06-28T12:00:20.421009Z"
    },
    "papermill": {
     "duration": 0.032106,
     "end_time": "2022-06-28T12:00:20.424964",
     "exception": false,
     "start_time": "2022-06-28T12:00:20.392858",
     "status": "completed"
    },
    "tags": []
   },
   "outputs": [],
   "source": [
    "def read_data(path):\n",
    "    data_dir = Path(path)\n",
    "\n",
    "    train = pd.read_csv(data_dir / \"train.csv\")\n",
    "    test = pd.read_csv(data_dir / \"test.csv\")\n",
    "    submission_df = pd.read_csv(data_dir / \"sample_submission.csv\")\n",
    "\n",
    "    print(f\"train data: Rows={train.shape[0]}, Columns={train.shape[1]}\")\n",
    "    print(f\"test data : Rows={test.shape[0]}, Columns={test.shape[1]}\")\n",
    "    return train, test, submission_df"
   ]
  },
  {
   "cell_type": "code",
   "execution_count": 4,
   "id": "297c57dd",
   "metadata": {
    "execution": {
     "iopub.execute_input": "2022-06-28T12:00:20.450615Z",
     "iopub.status.busy": "2022-06-28T12:00:20.449364Z",
     "iopub.status.idle": "2022-06-28T12:00:20.462905Z",
     "shell.execute_reply": "2022-06-28T12:00:20.461954Z"
    },
    "papermill": {
     "duration": 0.028973,
     "end_time": "2022-06-28T12:00:20.465216",
     "exception": false,
     "start_time": "2022-06-28T12:00:20.436243",
     "status": "completed"
    },
    "tags": []
   },
   "outputs": [],
   "source": [
    "def create_submission(model_name, target, preds):\n",
    "    sample_submission[target] = preds\n",
    "    if len(model_name) > 0:\n",
    "        sample_submission.to_csv(f\"submission_{model_name}.csv\", index=False)\n",
    "    else:\n",
    "        sample_submission.to_csv(f\"submission.csv\", index=False)\n",
    "\n",
    "    return sample_submission[:5]"
   ]
  },
  {
   "cell_type": "code",
   "execution_count": 5,
   "id": "fb2968d1",
   "metadata": {
    "execution": {
     "iopub.execute_input": "2022-06-28T12:00:20.490011Z",
     "iopub.status.busy": "2022-06-28T12:00:20.489184Z",
     "iopub.status.idle": "2022-06-28T12:00:21.655240Z",
     "shell.execute_reply": "2022-06-28T12:00:21.653762Z"
    },
    "papermill": {
     "duration": 1.181847,
     "end_time": "2022-06-28T12:00:21.658216",
     "exception": false,
     "start_time": "2022-06-28T12:00:20.476369",
     "status": "completed"
    },
    "tags": []
   },
   "outputs": [],
   "source": [
    "from sklearn.metrics import mean_absolute_error, mean_squared_error, r2_score\n",
    "\n",
    "\n",
    "def show_scores(gt, yhat):\n",
    "    mse = mean_squared_error(gt, yhat)\n",
    "    mae = mean_absolute_error(gt, yhat)\n",
    "    rmse = np.sqrt(mse)\n",
    "    r2_square = r2_score(gt, yhat)\n",
    "\n",
    "    print(f\"MAE: {mae:.4f}\")\n",
    "    print(f\"MSE: {mse:.4f}\")\n",
    "    print(f\"RMSE: {rmse:.4f}\")\n",
    "    print(f\"R^2: {r2_square:.4f}\")"
   ]
  },
  {
   "cell_type": "code",
   "execution_count": 6,
   "id": "3e274eab",
   "metadata": {
    "execution": {
     "iopub.execute_input": "2022-06-28T12:00:21.683101Z",
     "iopub.status.busy": "2022-06-28T12:00:21.682587Z",
     "iopub.status.idle": "2022-06-28T12:00:21.699688Z",
     "shell.execute_reply": "2022-06-28T12:00:21.698373Z"
    },
    "papermill": {
     "duration": 0.033304,
     "end_time": "2022-06-28T12:00:21.702733",
     "exception": false,
     "start_time": "2022-06-28T12:00:21.669429",
     "status": "completed"
    },
    "tags": []
   },
   "outputs": [],
   "source": [
    "from sklearn.preprocessing import LabelEncoder\n",
    "\n",
    "\n",
    "def label_encoder(train, test, columns):\n",
    "    for col in columns:\n",
    "        train[col] = train[col].astype(str)\n",
    "        test[col] = test[col].astype(str)\n",
    "        train[col] = LabelEncoder().fit_transform(train[col])\n",
    "        test[col] = LabelEncoder().fit_transform(test[col])\n",
    "    return train, test"
   ]
  },
  {
   "cell_type": "markdown",
   "id": "9a2cfc87",
   "metadata": {
    "papermill": {
     "duration": 0.010944,
     "end_time": "2022-06-28T12:00:21.725349",
     "exception": false,
     "start_time": "2022-06-28T12:00:21.714405",
     "status": "completed"
    },
    "tags": []
   },
   "source": [
    "<div style=\"background-color:rgba(128, 0, 128, 0.6);border-radius:5px;display:fill\"><h1 style=\"text-align: center;padding: 12px 0px 12px 0px;\">Load Train/Test Data</h1>\n",
    "</div>\n",
    "\n",
    "- train.csv - Data used to build our machine learning model\n",
    "- test.csv - Data used to build our machine learning model. Does not contain the target variable\n",
    "- sample_submission.csv - A file in the proper format to submit test predictions"
   ]
  },
  {
   "cell_type": "code",
   "execution_count": 7,
   "id": "ad5d2079",
   "metadata": {
    "execution": {
     "iopub.execute_input": "2022-06-28T12:00:21.749706Z",
     "iopub.status.busy": "2022-06-28T12:00:21.748819Z",
     "iopub.status.idle": "2022-06-28T12:00:21.840492Z",
     "shell.execute_reply": "2022-06-28T12:00:21.838984Z"
    },
    "papermill": {
     "duration": 0.106919,
     "end_time": "2022-06-28T12:00:21.843348",
     "exception": false,
     "start_time": "2022-06-28T12:00:21.736429",
     "status": "completed"
    },
    "tags": []
   },
   "outputs": [
    {
     "name": "stdout",
     "output_type": "stream",
     "text": [
      "train data: Rows=1460, Columns=81\n",
      "test data : Rows=1459, Columns=80\n"
     ]
    }
   ],
   "source": [
    "train, test, sample_submission = read_data(\n",
    "    \"../input/house-prices-advanced-regression-techniques\"\n",
    ")"
   ]
  },
  {
   "cell_type": "code",
   "execution_count": 8,
   "id": "1a836de9",
   "metadata": {
    "execution": {
     "iopub.execute_input": "2022-06-28T12:00:21.868305Z",
     "iopub.status.busy": "2022-06-28T12:00:21.867858Z",
     "iopub.status.idle": "2022-06-28T12:00:21.935196Z",
     "shell.execute_reply": "2022-06-28T12:00:21.933975Z"
    },
    "papermill": {
     "duration": 0.08334,
     "end_time": "2022-06-28T12:00:21.938156",
     "exception": false,
     "start_time": "2022-06-28T12:00:21.854816",
     "status": "completed"
    },
    "tags": []
   },
   "outputs": [
    {
     "data": {
      "text/html": [
       "<div>\n",
       "<style scoped>\n",
       "    .dataframe tbody tr th:only-of-type {\n",
       "        vertical-align: middle;\n",
       "    }\n",
       "\n",
       "    .dataframe tbody tr th {\n",
       "        vertical-align: top;\n",
       "    }\n",
       "\n",
       "    .dataframe thead th {\n",
       "        text-align: right;\n",
       "    }\n",
       "</style>\n",
       "<table border=\"1\" class=\"dataframe\">\n",
       "  <thead>\n",
       "    <tr style=\"text-align: right;\">\n",
       "      <th></th>\n",
       "      <th>Id</th>\n",
       "      <th>MSSubClass</th>\n",
       "      <th>MSZoning</th>\n",
       "      <th>LotFrontage</th>\n",
       "      <th>LotArea</th>\n",
       "      <th>Street</th>\n",
       "      <th>Alley</th>\n",
       "      <th>LotShape</th>\n",
       "      <th>LandContour</th>\n",
       "      <th>Utilities</th>\n",
       "      <th>LotConfig</th>\n",
       "      <th>LandSlope</th>\n",
       "      <th>Neighborhood</th>\n",
       "      <th>Condition1</th>\n",
       "      <th>Condition2</th>\n",
       "      <th>BldgType</th>\n",
       "      <th>HouseStyle</th>\n",
       "      <th>OverallQual</th>\n",
       "      <th>OverallCond</th>\n",
       "      <th>YearBuilt</th>\n",
       "      <th>YearRemodAdd</th>\n",
       "      <th>RoofStyle</th>\n",
       "      <th>RoofMatl</th>\n",
       "      <th>Exterior1st</th>\n",
       "      <th>Exterior2nd</th>\n",
       "      <th>MasVnrType</th>\n",
       "      <th>MasVnrArea</th>\n",
       "      <th>ExterQual</th>\n",
       "      <th>ExterCond</th>\n",
       "      <th>Foundation</th>\n",
       "      <th>BsmtQual</th>\n",
       "      <th>BsmtCond</th>\n",
       "      <th>BsmtExposure</th>\n",
       "      <th>BsmtFinType1</th>\n",
       "      <th>BsmtFinSF1</th>\n",
       "      <th>BsmtFinType2</th>\n",
       "      <th>BsmtFinSF2</th>\n",
       "      <th>BsmtUnfSF</th>\n",
       "      <th>TotalBsmtSF</th>\n",
       "      <th>Heating</th>\n",
       "      <th>HeatingQC</th>\n",
       "      <th>CentralAir</th>\n",
       "      <th>Electrical</th>\n",
       "      <th>1stFlrSF</th>\n",
       "      <th>2ndFlrSF</th>\n",
       "      <th>LowQualFinSF</th>\n",
       "      <th>GrLivArea</th>\n",
       "      <th>BsmtFullBath</th>\n",
       "      <th>BsmtHalfBath</th>\n",
       "      <th>FullBath</th>\n",
       "      <th>HalfBath</th>\n",
       "      <th>BedroomAbvGr</th>\n",
       "      <th>KitchenAbvGr</th>\n",
       "      <th>KitchenQual</th>\n",
       "      <th>TotRmsAbvGrd</th>\n",
       "      <th>Functional</th>\n",
       "      <th>Fireplaces</th>\n",
       "      <th>FireplaceQu</th>\n",
       "      <th>GarageType</th>\n",
       "      <th>GarageYrBlt</th>\n",
       "      <th>GarageFinish</th>\n",
       "      <th>GarageCars</th>\n",
       "      <th>GarageArea</th>\n",
       "      <th>GarageQual</th>\n",
       "      <th>GarageCond</th>\n",
       "      <th>PavedDrive</th>\n",
       "      <th>WoodDeckSF</th>\n",
       "      <th>OpenPorchSF</th>\n",
       "      <th>EnclosedPorch</th>\n",
       "      <th>3SsnPorch</th>\n",
       "      <th>ScreenPorch</th>\n",
       "      <th>PoolArea</th>\n",
       "      <th>PoolQC</th>\n",
       "      <th>Fence</th>\n",
       "      <th>MiscFeature</th>\n",
       "      <th>MiscVal</th>\n",
       "      <th>MoSold</th>\n",
       "      <th>YrSold</th>\n",
       "      <th>SaleType</th>\n",
       "      <th>SaleCondition</th>\n",
       "      <th>SalePrice</th>\n",
       "    </tr>\n",
       "  </thead>\n",
       "  <tbody>\n",
       "    <tr>\n",
       "      <th>0</th>\n",
       "      <td>1</td>\n",
       "      <td>60</td>\n",
       "      <td>RL</td>\n",
       "      <td>65.0</td>\n",
       "      <td>8450</td>\n",
       "      <td>Pave</td>\n",
       "      <td>NaN</td>\n",
       "      <td>Reg</td>\n",
       "      <td>Lvl</td>\n",
       "      <td>AllPub</td>\n",
       "      <td>Inside</td>\n",
       "      <td>Gtl</td>\n",
       "      <td>CollgCr</td>\n",
       "      <td>Norm</td>\n",
       "      <td>Norm</td>\n",
       "      <td>1Fam</td>\n",
       "      <td>2Story</td>\n",
       "      <td>7</td>\n",
       "      <td>5</td>\n",
       "      <td>2003</td>\n",
       "      <td>2003</td>\n",
       "      <td>Gable</td>\n",
       "      <td>CompShg</td>\n",
       "      <td>VinylSd</td>\n",
       "      <td>VinylSd</td>\n",
       "      <td>BrkFace</td>\n",
       "      <td>196.0</td>\n",
       "      <td>Gd</td>\n",
       "      <td>TA</td>\n",
       "      <td>PConc</td>\n",
       "      <td>Gd</td>\n",
       "      <td>TA</td>\n",
       "      <td>No</td>\n",
       "      <td>GLQ</td>\n",
       "      <td>706</td>\n",
       "      <td>Unf</td>\n",
       "      <td>0</td>\n",
       "      <td>150</td>\n",
       "      <td>856</td>\n",
       "      <td>GasA</td>\n",
       "      <td>Ex</td>\n",
       "      <td>Y</td>\n",
       "      <td>SBrkr</td>\n",
       "      <td>856</td>\n",
       "      <td>854</td>\n",
       "      <td>0</td>\n",
       "      <td>1710</td>\n",
       "      <td>1</td>\n",
       "      <td>0</td>\n",
       "      <td>2</td>\n",
       "      <td>1</td>\n",
       "      <td>3</td>\n",
       "      <td>1</td>\n",
       "      <td>Gd</td>\n",
       "      <td>8</td>\n",
       "      <td>Typ</td>\n",
       "      <td>0</td>\n",
       "      <td>NaN</td>\n",
       "      <td>Attchd</td>\n",
       "      <td>2003.0</td>\n",
       "      <td>RFn</td>\n",
       "      <td>2</td>\n",
       "      <td>548</td>\n",
       "      <td>TA</td>\n",
       "      <td>TA</td>\n",
       "      <td>Y</td>\n",
       "      <td>0</td>\n",
       "      <td>61</td>\n",
       "      <td>0</td>\n",
       "      <td>0</td>\n",
       "      <td>0</td>\n",
       "      <td>0</td>\n",
       "      <td>NaN</td>\n",
       "      <td>NaN</td>\n",
       "      <td>NaN</td>\n",
       "      <td>0</td>\n",
       "      <td>2</td>\n",
       "      <td>2008</td>\n",
       "      <td>WD</td>\n",
       "      <td>Normal</td>\n",
       "      <td>208500</td>\n",
       "    </tr>\n",
       "    <tr>\n",
       "      <th>1</th>\n",
       "      <td>2</td>\n",
       "      <td>20</td>\n",
       "      <td>RL</td>\n",
       "      <td>80.0</td>\n",
       "      <td>9600</td>\n",
       "      <td>Pave</td>\n",
       "      <td>NaN</td>\n",
       "      <td>Reg</td>\n",
       "      <td>Lvl</td>\n",
       "      <td>AllPub</td>\n",
       "      <td>FR2</td>\n",
       "      <td>Gtl</td>\n",
       "      <td>Veenker</td>\n",
       "      <td>Feedr</td>\n",
       "      <td>Norm</td>\n",
       "      <td>1Fam</td>\n",
       "      <td>1Story</td>\n",
       "      <td>6</td>\n",
       "      <td>8</td>\n",
       "      <td>1976</td>\n",
       "      <td>1976</td>\n",
       "      <td>Gable</td>\n",
       "      <td>CompShg</td>\n",
       "      <td>MetalSd</td>\n",
       "      <td>MetalSd</td>\n",
       "      <td>None</td>\n",
       "      <td>0.0</td>\n",
       "      <td>TA</td>\n",
       "      <td>TA</td>\n",
       "      <td>CBlock</td>\n",
       "      <td>Gd</td>\n",
       "      <td>TA</td>\n",
       "      <td>Gd</td>\n",
       "      <td>ALQ</td>\n",
       "      <td>978</td>\n",
       "      <td>Unf</td>\n",
       "      <td>0</td>\n",
       "      <td>284</td>\n",
       "      <td>1262</td>\n",
       "      <td>GasA</td>\n",
       "      <td>Ex</td>\n",
       "      <td>Y</td>\n",
       "      <td>SBrkr</td>\n",
       "      <td>1262</td>\n",
       "      <td>0</td>\n",
       "      <td>0</td>\n",
       "      <td>1262</td>\n",
       "      <td>0</td>\n",
       "      <td>1</td>\n",
       "      <td>2</td>\n",
       "      <td>0</td>\n",
       "      <td>3</td>\n",
       "      <td>1</td>\n",
       "      <td>TA</td>\n",
       "      <td>6</td>\n",
       "      <td>Typ</td>\n",
       "      <td>1</td>\n",
       "      <td>TA</td>\n",
       "      <td>Attchd</td>\n",
       "      <td>1976.0</td>\n",
       "      <td>RFn</td>\n",
       "      <td>2</td>\n",
       "      <td>460</td>\n",
       "      <td>TA</td>\n",
       "      <td>TA</td>\n",
       "      <td>Y</td>\n",
       "      <td>298</td>\n",
       "      <td>0</td>\n",
       "      <td>0</td>\n",
       "      <td>0</td>\n",
       "      <td>0</td>\n",
       "      <td>0</td>\n",
       "      <td>NaN</td>\n",
       "      <td>NaN</td>\n",
       "      <td>NaN</td>\n",
       "      <td>0</td>\n",
       "      <td>5</td>\n",
       "      <td>2007</td>\n",
       "      <td>WD</td>\n",
       "      <td>Normal</td>\n",
       "      <td>181500</td>\n",
       "    </tr>\n",
       "    <tr>\n",
       "      <th>2</th>\n",
       "      <td>3</td>\n",
       "      <td>60</td>\n",
       "      <td>RL</td>\n",
       "      <td>68.0</td>\n",
       "      <td>11250</td>\n",
       "      <td>Pave</td>\n",
       "      <td>NaN</td>\n",
       "      <td>IR1</td>\n",
       "      <td>Lvl</td>\n",
       "      <td>AllPub</td>\n",
       "      <td>Inside</td>\n",
       "      <td>Gtl</td>\n",
       "      <td>CollgCr</td>\n",
       "      <td>Norm</td>\n",
       "      <td>Norm</td>\n",
       "      <td>1Fam</td>\n",
       "      <td>2Story</td>\n",
       "      <td>7</td>\n",
       "      <td>5</td>\n",
       "      <td>2001</td>\n",
       "      <td>2002</td>\n",
       "      <td>Gable</td>\n",
       "      <td>CompShg</td>\n",
       "      <td>VinylSd</td>\n",
       "      <td>VinylSd</td>\n",
       "      <td>BrkFace</td>\n",
       "      <td>162.0</td>\n",
       "      <td>Gd</td>\n",
       "      <td>TA</td>\n",
       "      <td>PConc</td>\n",
       "      <td>Gd</td>\n",
       "      <td>TA</td>\n",
       "      <td>Mn</td>\n",
       "      <td>GLQ</td>\n",
       "      <td>486</td>\n",
       "      <td>Unf</td>\n",
       "      <td>0</td>\n",
       "      <td>434</td>\n",
       "      <td>920</td>\n",
       "      <td>GasA</td>\n",
       "      <td>Ex</td>\n",
       "      <td>Y</td>\n",
       "      <td>SBrkr</td>\n",
       "      <td>920</td>\n",
       "      <td>866</td>\n",
       "      <td>0</td>\n",
       "      <td>1786</td>\n",
       "      <td>1</td>\n",
       "      <td>0</td>\n",
       "      <td>2</td>\n",
       "      <td>1</td>\n",
       "      <td>3</td>\n",
       "      <td>1</td>\n",
       "      <td>Gd</td>\n",
       "      <td>6</td>\n",
       "      <td>Typ</td>\n",
       "      <td>1</td>\n",
       "      <td>TA</td>\n",
       "      <td>Attchd</td>\n",
       "      <td>2001.0</td>\n",
       "      <td>RFn</td>\n",
       "      <td>2</td>\n",
       "      <td>608</td>\n",
       "      <td>TA</td>\n",
       "      <td>TA</td>\n",
       "      <td>Y</td>\n",
       "      <td>0</td>\n",
       "      <td>42</td>\n",
       "      <td>0</td>\n",
       "      <td>0</td>\n",
       "      <td>0</td>\n",
       "      <td>0</td>\n",
       "      <td>NaN</td>\n",
       "      <td>NaN</td>\n",
       "      <td>NaN</td>\n",
       "      <td>0</td>\n",
       "      <td>9</td>\n",
       "      <td>2008</td>\n",
       "      <td>WD</td>\n",
       "      <td>Normal</td>\n",
       "      <td>223500</td>\n",
       "    </tr>\n",
       "    <tr>\n",
       "      <th>3</th>\n",
       "      <td>4</td>\n",
       "      <td>70</td>\n",
       "      <td>RL</td>\n",
       "      <td>60.0</td>\n",
       "      <td>9550</td>\n",
       "      <td>Pave</td>\n",
       "      <td>NaN</td>\n",
       "      <td>IR1</td>\n",
       "      <td>Lvl</td>\n",
       "      <td>AllPub</td>\n",
       "      <td>Corner</td>\n",
       "      <td>Gtl</td>\n",
       "      <td>Crawfor</td>\n",
       "      <td>Norm</td>\n",
       "      <td>Norm</td>\n",
       "      <td>1Fam</td>\n",
       "      <td>2Story</td>\n",
       "      <td>7</td>\n",
       "      <td>5</td>\n",
       "      <td>1915</td>\n",
       "      <td>1970</td>\n",
       "      <td>Gable</td>\n",
       "      <td>CompShg</td>\n",
       "      <td>Wd Sdng</td>\n",
       "      <td>Wd Shng</td>\n",
       "      <td>None</td>\n",
       "      <td>0.0</td>\n",
       "      <td>TA</td>\n",
       "      <td>TA</td>\n",
       "      <td>BrkTil</td>\n",
       "      <td>TA</td>\n",
       "      <td>Gd</td>\n",
       "      <td>No</td>\n",
       "      <td>ALQ</td>\n",
       "      <td>216</td>\n",
       "      <td>Unf</td>\n",
       "      <td>0</td>\n",
       "      <td>540</td>\n",
       "      <td>756</td>\n",
       "      <td>GasA</td>\n",
       "      <td>Gd</td>\n",
       "      <td>Y</td>\n",
       "      <td>SBrkr</td>\n",
       "      <td>961</td>\n",
       "      <td>756</td>\n",
       "      <td>0</td>\n",
       "      <td>1717</td>\n",
       "      <td>1</td>\n",
       "      <td>0</td>\n",
       "      <td>1</td>\n",
       "      <td>0</td>\n",
       "      <td>3</td>\n",
       "      <td>1</td>\n",
       "      <td>Gd</td>\n",
       "      <td>7</td>\n",
       "      <td>Typ</td>\n",
       "      <td>1</td>\n",
       "      <td>Gd</td>\n",
       "      <td>Detchd</td>\n",
       "      <td>1998.0</td>\n",
       "      <td>Unf</td>\n",
       "      <td>3</td>\n",
       "      <td>642</td>\n",
       "      <td>TA</td>\n",
       "      <td>TA</td>\n",
       "      <td>Y</td>\n",
       "      <td>0</td>\n",
       "      <td>35</td>\n",
       "      <td>272</td>\n",
       "      <td>0</td>\n",
       "      <td>0</td>\n",
       "      <td>0</td>\n",
       "      <td>NaN</td>\n",
       "      <td>NaN</td>\n",
       "      <td>NaN</td>\n",
       "      <td>0</td>\n",
       "      <td>2</td>\n",
       "      <td>2006</td>\n",
       "      <td>WD</td>\n",
       "      <td>Abnorml</td>\n",
       "      <td>140000</td>\n",
       "    </tr>\n",
       "    <tr>\n",
       "      <th>4</th>\n",
       "      <td>5</td>\n",
       "      <td>60</td>\n",
       "      <td>RL</td>\n",
       "      <td>84.0</td>\n",
       "      <td>14260</td>\n",
       "      <td>Pave</td>\n",
       "      <td>NaN</td>\n",
       "      <td>IR1</td>\n",
       "      <td>Lvl</td>\n",
       "      <td>AllPub</td>\n",
       "      <td>FR2</td>\n",
       "      <td>Gtl</td>\n",
       "      <td>NoRidge</td>\n",
       "      <td>Norm</td>\n",
       "      <td>Norm</td>\n",
       "      <td>1Fam</td>\n",
       "      <td>2Story</td>\n",
       "      <td>8</td>\n",
       "      <td>5</td>\n",
       "      <td>2000</td>\n",
       "      <td>2000</td>\n",
       "      <td>Gable</td>\n",
       "      <td>CompShg</td>\n",
       "      <td>VinylSd</td>\n",
       "      <td>VinylSd</td>\n",
       "      <td>BrkFace</td>\n",
       "      <td>350.0</td>\n",
       "      <td>Gd</td>\n",
       "      <td>TA</td>\n",
       "      <td>PConc</td>\n",
       "      <td>Gd</td>\n",
       "      <td>TA</td>\n",
       "      <td>Av</td>\n",
       "      <td>GLQ</td>\n",
       "      <td>655</td>\n",
       "      <td>Unf</td>\n",
       "      <td>0</td>\n",
       "      <td>490</td>\n",
       "      <td>1145</td>\n",
       "      <td>GasA</td>\n",
       "      <td>Ex</td>\n",
       "      <td>Y</td>\n",
       "      <td>SBrkr</td>\n",
       "      <td>1145</td>\n",
       "      <td>1053</td>\n",
       "      <td>0</td>\n",
       "      <td>2198</td>\n",
       "      <td>1</td>\n",
       "      <td>0</td>\n",
       "      <td>2</td>\n",
       "      <td>1</td>\n",
       "      <td>4</td>\n",
       "      <td>1</td>\n",
       "      <td>Gd</td>\n",
       "      <td>9</td>\n",
       "      <td>Typ</td>\n",
       "      <td>1</td>\n",
       "      <td>TA</td>\n",
       "      <td>Attchd</td>\n",
       "      <td>2000.0</td>\n",
       "      <td>RFn</td>\n",
       "      <td>3</td>\n",
       "      <td>836</td>\n",
       "      <td>TA</td>\n",
       "      <td>TA</td>\n",
       "      <td>Y</td>\n",
       "      <td>192</td>\n",
       "      <td>84</td>\n",
       "      <td>0</td>\n",
       "      <td>0</td>\n",
       "      <td>0</td>\n",
       "      <td>0</td>\n",
       "      <td>NaN</td>\n",
       "      <td>NaN</td>\n",
       "      <td>NaN</td>\n",
       "      <td>0</td>\n",
       "      <td>12</td>\n",
       "      <td>2008</td>\n",
       "      <td>WD</td>\n",
       "      <td>Normal</td>\n",
       "      <td>250000</td>\n",
       "    </tr>\n",
       "  </tbody>\n",
       "</table>\n",
       "</div>"
      ],
      "text/plain": [
       "   Id  MSSubClass MSZoning  LotFrontage  LotArea Street Alley LotShape  \\\n",
       "0   1          60       RL         65.0     8450   Pave   NaN      Reg   \n",
       "1   2          20       RL         80.0     9600   Pave   NaN      Reg   \n",
       "2   3          60       RL         68.0    11250   Pave   NaN      IR1   \n",
       "3   4          70       RL         60.0     9550   Pave   NaN      IR1   \n",
       "4   5          60       RL         84.0    14260   Pave   NaN      IR1   \n",
       "\n",
       "  LandContour Utilities LotConfig LandSlope Neighborhood Condition1  \\\n",
       "0         Lvl    AllPub    Inside       Gtl      CollgCr       Norm   \n",
       "1         Lvl    AllPub       FR2       Gtl      Veenker      Feedr   \n",
       "2         Lvl    AllPub    Inside       Gtl      CollgCr       Norm   \n",
       "3         Lvl    AllPub    Corner       Gtl      Crawfor       Norm   \n",
       "4         Lvl    AllPub       FR2       Gtl      NoRidge       Norm   \n",
       "\n",
       "  Condition2 BldgType HouseStyle  OverallQual  OverallCond  YearBuilt  \\\n",
       "0       Norm     1Fam     2Story            7            5       2003   \n",
       "1       Norm     1Fam     1Story            6            8       1976   \n",
       "2       Norm     1Fam     2Story            7            5       2001   \n",
       "3       Norm     1Fam     2Story            7            5       1915   \n",
       "4       Norm     1Fam     2Story            8            5       2000   \n",
       "\n",
       "   YearRemodAdd RoofStyle RoofMatl Exterior1st Exterior2nd MasVnrType  \\\n",
       "0          2003     Gable  CompShg     VinylSd     VinylSd    BrkFace   \n",
       "1          1976     Gable  CompShg     MetalSd     MetalSd       None   \n",
       "2          2002     Gable  CompShg     VinylSd     VinylSd    BrkFace   \n",
       "3          1970     Gable  CompShg     Wd Sdng     Wd Shng       None   \n",
       "4          2000     Gable  CompShg     VinylSd     VinylSd    BrkFace   \n",
       "\n",
       "   MasVnrArea ExterQual ExterCond Foundation BsmtQual BsmtCond BsmtExposure  \\\n",
       "0       196.0        Gd        TA      PConc       Gd       TA           No   \n",
       "1         0.0        TA        TA     CBlock       Gd       TA           Gd   \n",
       "2       162.0        Gd        TA      PConc       Gd       TA           Mn   \n",
       "3         0.0        TA        TA     BrkTil       TA       Gd           No   \n",
       "4       350.0        Gd        TA      PConc       Gd       TA           Av   \n",
       "\n",
       "  BsmtFinType1  BsmtFinSF1 BsmtFinType2  BsmtFinSF2  BsmtUnfSF  TotalBsmtSF  \\\n",
       "0          GLQ         706          Unf           0        150          856   \n",
       "1          ALQ         978          Unf           0        284         1262   \n",
       "2          GLQ         486          Unf           0        434          920   \n",
       "3          ALQ         216          Unf           0        540          756   \n",
       "4          GLQ         655          Unf           0        490         1145   \n",
       "\n",
       "  Heating HeatingQC CentralAir Electrical  1stFlrSF  2ndFlrSF  LowQualFinSF  \\\n",
       "0    GasA        Ex          Y      SBrkr       856       854             0   \n",
       "1    GasA        Ex          Y      SBrkr      1262         0             0   \n",
       "2    GasA        Ex          Y      SBrkr       920       866             0   \n",
       "3    GasA        Gd          Y      SBrkr       961       756             0   \n",
       "4    GasA        Ex          Y      SBrkr      1145      1053             0   \n",
       "\n",
       "   GrLivArea  BsmtFullBath  BsmtHalfBath  FullBath  HalfBath  BedroomAbvGr  \\\n",
       "0       1710             1             0         2         1             3   \n",
       "1       1262             0             1         2         0             3   \n",
       "2       1786             1             0         2         1             3   \n",
       "3       1717             1             0         1         0             3   \n",
       "4       2198             1             0         2         1             4   \n",
       "\n",
       "   KitchenAbvGr KitchenQual  TotRmsAbvGrd Functional  Fireplaces FireplaceQu  \\\n",
       "0             1          Gd             8        Typ           0         NaN   \n",
       "1             1          TA             6        Typ           1          TA   \n",
       "2             1          Gd             6        Typ           1          TA   \n",
       "3             1          Gd             7        Typ           1          Gd   \n",
       "4             1          Gd             9        Typ           1          TA   \n",
       "\n",
       "  GarageType  GarageYrBlt GarageFinish  GarageCars  GarageArea GarageQual  \\\n",
       "0     Attchd       2003.0          RFn           2         548         TA   \n",
       "1     Attchd       1976.0          RFn           2         460         TA   \n",
       "2     Attchd       2001.0          RFn           2         608         TA   \n",
       "3     Detchd       1998.0          Unf           3         642         TA   \n",
       "4     Attchd       2000.0          RFn           3         836         TA   \n",
       "\n",
       "  GarageCond PavedDrive  WoodDeckSF  OpenPorchSF  EnclosedPorch  3SsnPorch  \\\n",
       "0         TA          Y           0           61              0          0   \n",
       "1         TA          Y         298            0              0          0   \n",
       "2         TA          Y           0           42              0          0   \n",
       "3         TA          Y           0           35            272          0   \n",
       "4         TA          Y         192           84              0          0   \n",
       "\n",
       "   ScreenPorch  PoolArea PoolQC Fence MiscFeature  MiscVal  MoSold  YrSold  \\\n",
       "0            0         0    NaN   NaN         NaN        0       2    2008   \n",
       "1            0         0    NaN   NaN         NaN        0       5    2007   \n",
       "2            0         0    NaN   NaN         NaN        0       9    2008   \n",
       "3            0         0    NaN   NaN         NaN        0       2    2006   \n",
       "4            0         0    NaN   NaN         NaN        0      12    2008   \n",
       "\n",
       "  SaleType SaleCondition  SalePrice  \n",
       "0       WD        Normal     208500  \n",
       "1       WD        Normal     181500  \n",
       "2       WD        Normal     223500  \n",
       "3       WD       Abnorml     140000  \n",
       "4       WD        Normal     250000  "
      ]
     },
     "execution_count": 8,
     "metadata": {},
     "output_type": "execute_result"
    }
   ],
   "source": [
    "train.head()"
   ]
  },
  {
   "cell_type": "markdown",
   "id": "6b0cb0ff",
   "metadata": {
    "papermill": {
     "duration": 0.011744,
     "end_time": "2022-06-28T12:00:21.962100",
     "exception": false,
     "start_time": "2022-06-28T12:00:21.950356",
     "status": "completed"
    },
    "tags": []
   },
   "source": [
    "In supervised learning problems, we have a label or target."
   ]
  },
  {
   "cell_type": "code",
   "execution_count": 9,
   "id": "b2dc9b0d",
   "metadata": {
    "execution": {
     "iopub.execute_input": "2022-06-28T12:00:21.988433Z",
     "iopub.status.busy": "2022-06-28T12:00:21.988040Z",
     "iopub.status.idle": "2022-06-28T12:00:21.994443Z",
     "shell.execute_reply": "2022-06-28T12:00:21.992990Z"
    },
    "papermill": {
     "duration": 0.022791,
     "end_time": "2022-06-28T12:00:21.997028",
     "exception": false,
     "start_time": "2022-06-28T12:00:21.974237",
     "status": "completed"
    },
    "tags": []
   },
   "outputs": [],
   "source": [
    "TARGET = \"SalePrice\""
   ]
  },
  {
   "cell_type": "markdown",
   "id": "72b8bce1",
   "metadata": {
    "papermill": {
     "duration": 0.011954,
     "end_time": "2022-06-28T12:00:22.022375",
     "exception": false,
     "start_time": "2022-06-28T12:00:22.010421",
     "status": "completed"
    },
    "tags": []
   },
   "source": [
    "There are 79 features but to keep it simple we are only going to start with one."
   ]
  },
  {
   "cell_type": "code",
   "execution_count": 10,
   "id": "a0a43381",
   "metadata": {
    "execution": {
     "iopub.execute_input": "2022-06-28T12:00:22.048693Z",
     "iopub.status.busy": "2022-06-28T12:00:22.048222Z",
     "iopub.status.idle": "2022-06-28T12:00:22.056584Z",
     "shell.execute_reply": "2022-06-28T12:00:22.054983Z"
    },
    "papermill": {
     "duration": 0.024939,
     "end_time": "2022-06-28T12:00:22.059494",
     "exception": false,
     "start_time": "2022-06-28T12:00:22.034555",
     "status": "completed"
    },
    "tags": []
   },
   "outputs": [],
   "source": [
    "FEATURES = [\"GrLivArea\", \"LotArea\", \"TotalBsmtSF\", \"FullBath\"]"
   ]
  },
  {
   "cell_type": "markdown",
   "id": "d5d796a2",
   "metadata": {
    "papermill": {
     "duration": 0.012633,
     "end_time": "2022-06-28T12:00:22.084786",
     "exception": false,
     "start_time": "2022-06-28T12:00:22.072153",
     "status": "completed"
    },
    "tags": []
   },
   "source": [
    "<div style=\"background-color:rgba(128, 0, 128, 0.6);border-radius:5px;display:fill\"><h1 style=\"text-align: center;padding: 12px 0px 12px 0px;\">Missing Data</h1>\n",
    "</div>"
   ]
  },
  {
   "cell_type": "code",
   "execution_count": 11,
   "id": "3a1bfcb9",
   "metadata": {
    "execution": {
     "iopub.execute_input": "2022-06-28T12:00:22.110959Z",
     "iopub.status.busy": "2022-06-28T12:00:22.110517Z",
     "iopub.status.idle": "2022-06-28T12:00:22.129880Z",
     "shell.execute_reply": "2022-06-28T12:00:22.128801Z"
    },
    "papermill": {
     "duration": 0.035637,
     "end_time": "2022-06-28T12:00:22.132625",
     "exception": false,
     "start_time": "2022-06-28T12:00:22.096988",
     "status": "completed"
    },
    "tags": []
   },
   "outputs": [
    {
     "name": "stdout",
     "output_type": "stream",
     "text": [
      "LotFrontage      259\n",
      "Alley           1369\n",
      "MasVnrType         8\n",
      "MasVnrArea         8\n",
      "BsmtQual          37\n",
      "BsmtCond          37\n",
      "BsmtExposure      38\n",
      "BsmtFinType1      37\n",
      "BsmtFinType2      38\n",
      "Electrical         1\n",
      "FireplaceQu      690\n",
      "GarageType        81\n",
      "GarageYrBlt       81\n",
      "GarageFinish      81\n",
      "GarageQual        81\n",
      "GarageCond        81\n",
      "PoolQC          1453\n",
      "Fence           1179\n",
      "MiscFeature     1406\n",
      "dtype: int64\n"
     ]
    }
   ],
   "source": [
    "missing_vals = train.isna().sum()\n",
    "print(missing_vals[missing_vals > 0])"
   ]
  },
  {
   "cell_type": "code",
   "execution_count": 12,
   "id": "3f0efe8c",
   "metadata": {
    "execution": {
     "iopub.execute_input": "2022-06-28T12:00:22.158852Z",
     "iopub.status.busy": "2022-06-28T12:00:22.158416Z",
     "iopub.status.idle": "2022-06-28T12:00:22.183851Z",
     "shell.execute_reply": "2022-06-28T12:00:22.182282Z"
    },
    "papermill": {
     "duration": 0.041954,
     "end_time": "2022-06-28T12:00:22.186768",
     "exception": false,
     "start_time": "2022-06-28T12:00:22.144814",
     "status": "completed"
    },
    "tags": []
   },
   "outputs": [
    {
     "name": "stdout",
     "output_type": "stream",
     "text": [
      "Index(['LotFrontage', 'Alley', 'FireplaceQu', 'PoolQC', 'Fence',\n",
      "       'MiscFeature'],\n",
      "      dtype='object')\n"
     ]
    }
   ],
   "source": [
    "# Drop columns with more than 100 missing values\n",
    "columns_to_drop = missing_vals[missing_vals > 100].index\n",
    "train = train.drop(columns_to_drop, axis=\"columns\")\n",
    "test = test.drop(columns_to_drop, axis=\"columns\")\n",
    "print(columns_to_drop)"
   ]
  },
  {
   "cell_type": "code",
   "execution_count": 13,
   "id": "d690eb2c",
   "metadata": {
    "execution": {
     "iopub.execute_input": "2022-06-28T12:00:22.214367Z",
     "iopub.status.busy": "2022-06-28T12:00:22.213924Z",
     "iopub.status.idle": "2022-06-28T12:00:22.248231Z",
     "shell.execute_reply": "2022-06-28T12:00:22.246437Z"
    },
    "papermill": {
     "duration": 0.051486,
     "end_time": "2022-06-28T12:00:22.251186",
     "exception": false,
     "start_time": "2022-06-28T12:00:22.199700",
     "status": "completed"
    },
    "tags": []
   },
   "outputs": [
    {
     "name": "stdout",
     "output_type": "stream",
     "text": [
      "===== Train =====\n",
      "MasVnrType       8\n",
      "MasVnrArea       8\n",
      "BsmtQual        37\n",
      "BsmtCond        37\n",
      "BsmtExposure    38\n",
      "BsmtFinType1    37\n",
      "BsmtFinType2    38\n",
      "Electrical       1\n",
      "GarageType      81\n",
      "GarageYrBlt     81\n",
      "GarageFinish    81\n",
      "GarageQual      81\n",
      "GarageCond      81\n",
      "dtype: int64\n",
      "===== Test =====\n",
      "MSZoning         4\n",
      "Utilities        2\n",
      "Exterior1st      1\n",
      "Exterior2nd      1\n",
      "MasVnrType      16\n",
      "MasVnrArea      15\n",
      "BsmtQual        44\n",
      "BsmtCond        45\n",
      "BsmtExposure    44\n",
      "BsmtFinType1    42\n",
      "BsmtFinSF1       1\n",
      "BsmtFinType2    42\n",
      "BsmtFinSF2       1\n",
      "BsmtUnfSF        1\n",
      "TotalBsmtSF      1\n",
      "BsmtFullBath     2\n",
      "BsmtHalfBath     2\n",
      "KitchenQual      1\n",
      "Functional       2\n",
      "GarageType      76\n",
      "GarageYrBlt     78\n",
      "GarageFinish    78\n",
      "GarageCars       1\n",
      "GarageArea       1\n",
      "GarageQual      78\n",
      "GarageCond      78\n",
      "SaleType         1\n",
      "dtype: int64\n"
     ]
    }
   ],
   "source": [
    "print(5 * \"=\", \"Train\", 5 * \"=\")\n",
    "missing_vals = train.isna().sum()\n",
    "print(missing_vals[missing_vals > 0])\n",
    "print(5 * \"=\", \"Test\", 5 * \"=\")\n",
    "missing_vals = test.isna().sum()\n",
    "print(missing_vals[missing_vals > 0])"
   ]
  },
  {
   "cell_type": "code",
   "execution_count": 14,
   "id": "eed10868",
   "metadata": {
    "execution": {
     "iopub.execute_input": "2022-06-28T12:00:22.278606Z",
     "iopub.status.busy": "2022-06-28T12:00:22.277686Z",
     "iopub.status.idle": "2022-06-28T12:00:22.294988Z",
     "shell.execute_reply": "2022-06-28T12:00:22.293410Z"
    },
    "papermill": {
     "duration": 0.034016,
     "end_time": "2022-06-28T12:00:22.297819",
     "exception": false,
     "start_time": "2022-06-28T12:00:22.263803",
     "status": "completed"
    },
    "tags": []
   },
   "outputs": [],
   "source": [
    "## Separate Categorical and Numerical Features\n",
    "cat_features = list(train.select_dtypes(include=[\"category\", \"object\"]).columns)\n",
    "num_features = list(test.select_dtypes(include=[\"number\"]).columns)"
   ]
  },
  {
   "cell_type": "markdown",
   "id": "712e3d3c",
   "metadata": {
    "papermill": {
     "duration": 0.012214,
     "end_time": "2022-06-28T12:00:22.322699",
     "exception": false,
     "start_time": "2022-06-28T12:00:22.310485",
     "status": "completed"
    },
    "tags": []
   },
   "source": [
    "## Impute Categorical Features"
   ]
  },
  {
   "cell_type": "code",
   "execution_count": 15,
   "id": "d69b4aff",
   "metadata": {
    "execution": {
     "iopub.execute_input": "2022-06-28T12:00:22.349728Z",
     "iopub.status.busy": "2022-06-28T12:00:22.349265Z",
     "iopub.status.idle": "2022-06-28T12:00:22.544619Z",
     "shell.execute_reply": "2022-06-28T12:00:22.543227Z"
    },
    "papermill": {
     "duration": 0.212114,
     "end_time": "2022-06-28T12:00:22.547291",
     "exception": false,
     "start_time": "2022-06-28T12:00:22.335177",
     "status": "completed"
    },
    "tags": []
   },
   "outputs": [],
   "source": [
    "from sklearn.impute import SimpleImputer\n",
    "\n",
    "imputer = SimpleImputer(strategy=\"most_frequent\")\n",
    "\n",
    "train[cat_features] = imputer.fit_transform(train[cat_features])\n",
    "test[cat_features] = imputer.transform(test[cat_features])"
   ]
  },
  {
   "cell_type": "markdown",
   "id": "a9814448",
   "metadata": {
    "papermill": {
     "duration": 0.012168,
     "end_time": "2022-06-28T12:00:22.572023",
     "exception": false,
     "start_time": "2022-06-28T12:00:22.559855",
     "status": "completed"
    },
    "tags": []
   },
   "source": [
    "## Impute Numerical Features"
   ]
  },
  {
   "cell_type": "code",
   "execution_count": 16,
   "id": "d4e98f8e",
   "metadata": {
    "execution": {
     "iopub.execute_input": "2022-06-28T12:00:22.599653Z",
     "iopub.status.busy": "2022-06-28T12:00:22.598521Z",
     "iopub.status.idle": "2022-06-28T12:00:22.636642Z",
     "shell.execute_reply": "2022-06-28T12:00:22.635467Z"
    },
    "papermill": {
     "duration": 0.055003,
     "end_time": "2022-06-28T12:00:22.639462",
     "exception": false,
     "start_time": "2022-06-28T12:00:22.584459",
     "status": "completed"
    },
    "tags": []
   },
   "outputs": [],
   "source": [
    "# imputer = SimpleImputer(strategy=\"mean\")\n",
    "imputer = SimpleImputer(strategy=\"median\")  # median is more robust to outliers\n",
    "\n",
    "train[num_features] = imputer.fit_transform(train[num_features])\n",
    "test[num_features] = imputer.transform(test[num_features])"
   ]
  },
  {
   "cell_type": "markdown",
   "id": "6ae098e5",
   "metadata": {
    "papermill": {
     "duration": 0.01213,
     "end_time": "2022-06-28T12:00:22.663983",
     "exception": false,
     "start_time": "2022-06-28T12:00:22.651853",
     "status": "completed"
    },
    "tags": []
   },
   "source": [
    "## Verify No Missing Data"
   ]
  },
  {
   "cell_type": "code",
   "execution_count": 17,
   "id": "2b4bb0b7",
   "metadata": {
    "execution": {
     "iopub.execute_input": "2022-06-28T12:00:22.692023Z",
     "iopub.status.busy": "2022-06-28T12:00:22.690737Z",
     "iopub.status.idle": "2022-06-28T12:00:22.715217Z",
     "shell.execute_reply": "2022-06-28T12:00:22.713748Z"
    },
    "papermill": {
     "duration": 0.040883,
     "end_time": "2022-06-28T12:00:22.717632",
     "exception": false,
     "start_time": "2022-06-28T12:00:22.676749",
     "status": "completed"
    },
    "tags": []
   },
   "outputs": [
    {
     "name": "stdout",
     "output_type": "stream",
     "text": [
      "Series([], dtype: int64)\n"
     ]
    }
   ],
   "source": [
    "missing_vals = train.isna().sum()\n",
    "print(missing_vals[missing_vals > 0])"
   ]
  },
  {
   "cell_type": "markdown",
   "id": "1b185977",
   "metadata": {
    "papermill": {
     "duration": 0.013005,
     "end_time": "2022-06-28T12:00:22.743101",
     "exception": false,
     "start_time": "2022-06-28T12:00:22.730096",
     "status": "completed"
    },
    "tags": []
   },
   "source": [
    "<div style=\"background-color:rgba(128, 0, 128, 0.6);border-radius:5px;display:fill\"><h1 style=\"text-align: center;padding: 12px 0px 12px 0px;\">Encode Categorical Features</h1>\n",
    "</div>"
   ]
  },
  {
   "cell_type": "code",
   "execution_count": 18,
   "id": "872159af",
   "metadata": {
    "execution": {
     "iopub.execute_input": "2022-06-28T12:00:22.772667Z",
     "iopub.status.busy": "2022-06-28T12:00:22.771713Z",
     "iopub.status.idle": "2022-06-28T12:00:22.873305Z",
     "shell.execute_reply": "2022-06-28T12:00:22.871754Z"
    },
    "papermill": {
     "duration": 0.11959,
     "end_time": "2022-06-28T12:00:22.876096",
     "exception": false,
     "start_time": "2022-06-28T12:00:22.756506",
     "status": "completed"
    },
    "tags": []
   },
   "outputs": [],
   "source": [
    "train, test = label_encoder(train, test, cat_features)"
   ]
  },
  {
   "cell_type": "code",
   "execution_count": 19,
   "id": "663b020e",
   "metadata": {
    "execution": {
     "iopub.execute_input": "2022-06-28T12:00:22.903982Z",
     "iopub.status.busy": "2022-06-28T12:00:22.903503Z",
     "iopub.status.idle": "2022-06-28T12:00:22.923744Z",
     "shell.execute_reply": "2022-06-28T12:00:22.922337Z"
    },
    "papermill": {
     "duration": 0.037396,
     "end_time": "2022-06-28T12:00:22.926842",
     "exception": false,
     "start_time": "2022-06-28T12:00:22.889446",
     "status": "completed"
    },
    "tags": []
   },
   "outputs": [],
   "source": [
    "FEATURES = cat_features + num_features\n",
    "\n",
    "y = train[TARGET]\n",
    "X = train[FEATURES].copy()\n",
    "\n",
    "X_test = test[FEATURES].copy()"
   ]
  },
  {
   "cell_type": "code",
   "execution_count": 20,
   "id": "406e8644",
   "metadata": {
    "execution": {
     "iopub.execute_input": "2022-06-28T12:00:22.955488Z",
     "iopub.status.busy": "2022-06-28T12:00:22.955013Z",
     "iopub.status.idle": "2022-06-28T12:00:23.028739Z",
     "shell.execute_reply": "2022-06-28T12:00:23.027266Z"
    },
    "papermill": {
     "duration": 0.092179,
     "end_time": "2022-06-28T12:00:23.031801",
     "exception": false,
     "start_time": "2022-06-28T12:00:22.939622",
     "status": "completed"
    },
    "tags": []
   },
   "outputs": [
    {
     "data": {
      "text/html": [
       "<div>\n",
       "<style scoped>\n",
       "    .dataframe tbody tr th:only-of-type {\n",
       "        vertical-align: middle;\n",
       "    }\n",
       "\n",
       "    .dataframe tbody tr th {\n",
       "        vertical-align: top;\n",
       "    }\n",
       "\n",
       "    .dataframe thead th {\n",
       "        text-align: right;\n",
       "    }\n",
       "</style>\n",
       "<table border=\"1\" class=\"dataframe\">\n",
       "  <thead>\n",
       "    <tr style=\"text-align: right;\">\n",
       "      <th></th>\n",
       "      <th>MSZoning</th>\n",
       "      <th>Street</th>\n",
       "      <th>LotShape</th>\n",
       "      <th>LandContour</th>\n",
       "      <th>Utilities</th>\n",
       "      <th>LotConfig</th>\n",
       "      <th>LandSlope</th>\n",
       "      <th>Neighborhood</th>\n",
       "      <th>Condition1</th>\n",
       "      <th>Condition2</th>\n",
       "      <th>BldgType</th>\n",
       "      <th>HouseStyle</th>\n",
       "      <th>RoofStyle</th>\n",
       "      <th>RoofMatl</th>\n",
       "      <th>Exterior1st</th>\n",
       "      <th>Exterior2nd</th>\n",
       "      <th>MasVnrType</th>\n",
       "      <th>ExterQual</th>\n",
       "      <th>ExterCond</th>\n",
       "      <th>Foundation</th>\n",
       "      <th>BsmtQual</th>\n",
       "      <th>BsmtCond</th>\n",
       "      <th>BsmtExposure</th>\n",
       "      <th>BsmtFinType1</th>\n",
       "      <th>BsmtFinType2</th>\n",
       "      <th>Heating</th>\n",
       "      <th>HeatingQC</th>\n",
       "      <th>CentralAir</th>\n",
       "      <th>Electrical</th>\n",
       "      <th>KitchenQual</th>\n",
       "      <th>Functional</th>\n",
       "      <th>GarageType</th>\n",
       "      <th>GarageFinish</th>\n",
       "      <th>GarageQual</th>\n",
       "      <th>GarageCond</th>\n",
       "      <th>PavedDrive</th>\n",
       "      <th>SaleType</th>\n",
       "      <th>SaleCondition</th>\n",
       "      <th>Id</th>\n",
       "      <th>MSSubClass</th>\n",
       "      <th>LotArea</th>\n",
       "      <th>OverallQual</th>\n",
       "      <th>OverallCond</th>\n",
       "      <th>YearBuilt</th>\n",
       "      <th>YearRemodAdd</th>\n",
       "      <th>MasVnrArea</th>\n",
       "      <th>BsmtFinSF1</th>\n",
       "      <th>BsmtFinSF2</th>\n",
       "      <th>BsmtUnfSF</th>\n",
       "      <th>TotalBsmtSF</th>\n",
       "      <th>1stFlrSF</th>\n",
       "      <th>2ndFlrSF</th>\n",
       "      <th>LowQualFinSF</th>\n",
       "      <th>GrLivArea</th>\n",
       "      <th>BsmtFullBath</th>\n",
       "      <th>BsmtHalfBath</th>\n",
       "      <th>FullBath</th>\n",
       "      <th>HalfBath</th>\n",
       "      <th>BedroomAbvGr</th>\n",
       "      <th>KitchenAbvGr</th>\n",
       "      <th>TotRmsAbvGrd</th>\n",
       "      <th>Fireplaces</th>\n",
       "      <th>GarageYrBlt</th>\n",
       "      <th>GarageCars</th>\n",
       "      <th>GarageArea</th>\n",
       "      <th>WoodDeckSF</th>\n",
       "      <th>OpenPorchSF</th>\n",
       "      <th>EnclosedPorch</th>\n",
       "      <th>3SsnPorch</th>\n",
       "      <th>ScreenPorch</th>\n",
       "      <th>PoolArea</th>\n",
       "      <th>MiscVal</th>\n",
       "      <th>MoSold</th>\n",
       "      <th>YrSold</th>\n",
       "    </tr>\n",
       "  </thead>\n",
       "  <tbody>\n",
       "    <tr>\n",
       "      <th>0</th>\n",
       "      <td>3</td>\n",
       "      <td>1</td>\n",
       "      <td>3</td>\n",
       "      <td>3</td>\n",
       "      <td>0</td>\n",
       "      <td>4</td>\n",
       "      <td>0</td>\n",
       "      <td>5</td>\n",
       "      <td>2</td>\n",
       "      <td>2</td>\n",
       "      <td>0</td>\n",
       "      <td>5</td>\n",
       "      <td>1</td>\n",
       "      <td>1</td>\n",
       "      <td>12</td>\n",
       "      <td>13</td>\n",
       "      <td>1</td>\n",
       "      <td>2</td>\n",
       "      <td>4</td>\n",
       "      <td>2</td>\n",
       "      <td>2</td>\n",
       "      <td>3</td>\n",
       "      <td>3</td>\n",
       "      <td>2</td>\n",
       "      <td>5</td>\n",
       "      <td>1</td>\n",
       "      <td>0</td>\n",
       "      <td>1</td>\n",
       "      <td>4</td>\n",
       "      <td>2</td>\n",
       "      <td>6</td>\n",
       "      <td>1</td>\n",
       "      <td>1</td>\n",
       "      <td>4</td>\n",
       "      <td>4</td>\n",
       "      <td>2</td>\n",
       "      <td>8</td>\n",
       "      <td>4</td>\n",
       "      <td>1.0</td>\n",
       "      <td>60.0</td>\n",
       "      <td>8450.0</td>\n",
       "      <td>7.0</td>\n",
       "      <td>5.0</td>\n",
       "      <td>2003.0</td>\n",
       "      <td>2003.0</td>\n",
       "      <td>196.0</td>\n",
       "      <td>706.0</td>\n",
       "      <td>0.0</td>\n",
       "      <td>150.0</td>\n",
       "      <td>856.0</td>\n",
       "      <td>856.0</td>\n",
       "      <td>854.0</td>\n",
       "      <td>0.0</td>\n",
       "      <td>1710.0</td>\n",
       "      <td>1.0</td>\n",
       "      <td>0.0</td>\n",
       "      <td>2.0</td>\n",
       "      <td>1.0</td>\n",
       "      <td>3.0</td>\n",
       "      <td>1.0</td>\n",
       "      <td>8.0</td>\n",
       "      <td>0.0</td>\n",
       "      <td>2003.0</td>\n",
       "      <td>2.0</td>\n",
       "      <td>548.0</td>\n",
       "      <td>0.0</td>\n",
       "      <td>61.0</td>\n",
       "      <td>0.0</td>\n",
       "      <td>0.0</td>\n",
       "      <td>0.0</td>\n",
       "      <td>0.0</td>\n",
       "      <td>0.0</td>\n",
       "      <td>2.0</td>\n",
       "      <td>2008.0</td>\n",
       "    </tr>\n",
       "    <tr>\n",
       "      <th>1</th>\n",
       "      <td>3</td>\n",
       "      <td>1</td>\n",
       "      <td>3</td>\n",
       "      <td>3</td>\n",
       "      <td>0</td>\n",
       "      <td>2</td>\n",
       "      <td>0</td>\n",
       "      <td>24</td>\n",
       "      <td>1</td>\n",
       "      <td>2</td>\n",
       "      <td>0</td>\n",
       "      <td>2</td>\n",
       "      <td>1</td>\n",
       "      <td>1</td>\n",
       "      <td>8</td>\n",
       "      <td>8</td>\n",
       "      <td>2</td>\n",
       "      <td>3</td>\n",
       "      <td>4</td>\n",
       "      <td>1</td>\n",
       "      <td>2</td>\n",
       "      <td>3</td>\n",
       "      <td>1</td>\n",
       "      <td>0</td>\n",
       "      <td>5</td>\n",
       "      <td>1</td>\n",
       "      <td>0</td>\n",
       "      <td>1</td>\n",
       "      <td>4</td>\n",
       "      <td>3</td>\n",
       "      <td>6</td>\n",
       "      <td>1</td>\n",
       "      <td>1</td>\n",
       "      <td>4</td>\n",
       "      <td>4</td>\n",
       "      <td>2</td>\n",
       "      <td>8</td>\n",
       "      <td>4</td>\n",
       "      <td>2.0</td>\n",
       "      <td>20.0</td>\n",
       "      <td>9600.0</td>\n",
       "      <td>6.0</td>\n",
       "      <td>8.0</td>\n",
       "      <td>1976.0</td>\n",
       "      <td>1976.0</td>\n",
       "      <td>0.0</td>\n",
       "      <td>978.0</td>\n",
       "      <td>0.0</td>\n",
       "      <td>284.0</td>\n",
       "      <td>1262.0</td>\n",
       "      <td>1262.0</td>\n",
       "      <td>0.0</td>\n",
       "      <td>0.0</td>\n",
       "      <td>1262.0</td>\n",
       "      <td>0.0</td>\n",
       "      <td>1.0</td>\n",
       "      <td>2.0</td>\n",
       "      <td>0.0</td>\n",
       "      <td>3.0</td>\n",
       "      <td>1.0</td>\n",
       "      <td>6.0</td>\n",
       "      <td>1.0</td>\n",
       "      <td>1976.0</td>\n",
       "      <td>2.0</td>\n",
       "      <td>460.0</td>\n",
       "      <td>298.0</td>\n",
       "      <td>0.0</td>\n",
       "      <td>0.0</td>\n",
       "      <td>0.0</td>\n",
       "      <td>0.0</td>\n",
       "      <td>0.0</td>\n",
       "      <td>0.0</td>\n",
       "      <td>5.0</td>\n",
       "      <td>2007.0</td>\n",
       "    </tr>\n",
       "    <tr>\n",
       "      <th>2</th>\n",
       "      <td>3</td>\n",
       "      <td>1</td>\n",
       "      <td>0</td>\n",
       "      <td>3</td>\n",
       "      <td>0</td>\n",
       "      <td>4</td>\n",
       "      <td>0</td>\n",
       "      <td>5</td>\n",
       "      <td>2</td>\n",
       "      <td>2</td>\n",
       "      <td>0</td>\n",
       "      <td>5</td>\n",
       "      <td>1</td>\n",
       "      <td>1</td>\n",
       "      <td>12</td>\n",
       "      <td>13</td>\n",
       "      <td>1</td>\n",
       "      <td>2</td>\n",
       "      <td>4</td>\n",
       "      <td>2</td>\n",
       "      <td>2</td>\n",
       "      <td>3</td>\n",
       "      <td>2</td>\n",
       "      <td>2</td>\n",
       "      <td>5</td>\n",
       "      <td>1</td>\n",
       "      <td>0</td>\n",
       "      <td>1</td>\n",
       "      <td>4</td>\n",
       "      <td>2</td>\n",
       "      <td>6</td>\n",
       "      <td>1</td>\n",
       "      <td>1</td>\n",
       "      <td>4</td>\n",
       "      <td>4</td>\n",
       "      <td>2</td>\n",
       "      <td>8</td>\n",
       "      <td>4</td>\n",
       "      <td>3.0</td>\n",
       "      <td>60.0</td>\n",
       "      <td>11250.0</td>\n",
       "      <td>7.0</td>\n",
       "      <td>5.0</td>\n",
       "      <td>2001.0</td>\n",
       "      <td>2002.0</td>\n",
       "      <td>162.0</td>\n",
       "      <td>486.0</td>\n",
       "      <td>0.0</td>\n",
       "      <td>434.0</td>\n",
       "      <td>920.0</td>\n",
       "      <td>920.0</td>\n",
       "      <td>866.0</td>\n",
       "      <td>0.0</td>\n",
       "      <td>1786.0</td>\n",
       "      <td>1.0</td>\n",
       "      <td>0.0</td>\n",
       "      <td>2.0</td>\n",
       "      <td>1.0</td>\n",
       "      <td>3.0</td>\n",
       "      <td>1.0</td>\n",
       "      <td>6.0</td>\n",
       "      <td>1.0</td>\n",
       "      <td>2001.0</td>\n",
       "      <td>2.0</td>\n",
       "      <td>608.0</td>\n",
       "      <td>0.0</td>\n",
       "      <td>42.0</td>\n",
       "      <td>0.0</td>\n",
       "      <td>0.0</td>\n",
       "      <td>0.0</td>\n",
       "      <td>0.0</td>\n",
       "      <td>0.0</td>\n",
       "      <td>9.0</td>\n",
       "      <td>2008.0</td>\n",
       "    </tr>\n",
       "    <tr>\n",
       "      <th>3</th>\n",
       "      <td>3</td>\n",
       "      <td>1</td>\n",
       "      <td>0</td>\n",
       "      <td>3</td>\n",
       "      <td>0</td>\n",
       "      <td>0</td>\n",
       "      <td>0</td>\n",
       "      <td>6</td>\n",
       "      <td>2</td>\n",
       "      <td>2</td>\n",
       "      <td>0</td>\n",
       "      <td>5</td>\n",
       "      <td>1</td>\n",
       "      <td>1</td>\n",
       "      <td>13</td>\n",
       "      <td>15</td>\n",
       "      <td>2</td>\n",
       "      <td>3</td>\n",
       "      <td>4</td>\n",
       "      <td>0</td>\n",
       "      <td>3</td>\n",
       "      <td>1</td>\n",
       "      <td>3</td>\n",
       "      <td>0</td>\n",
       "      <td>5</td>\n",
       "      <td>1</td>\n",
       "      <td>2</td>\n",
       "      <td>1</td>\n",
       "      <td>4</td>\n",
       "      <td>2</td>\n",
       "      <td>6</td>\n",
       "      <td>5</td>\n",
       "      <td>2</td>\n",
       "      <td>4</td>\n",
       "      <td>4</td>\n",
       "      <td>2</td>\n",
       "      <td>8</td>\n",
       "      <td>0</td>\n",
       "      <td>4.0</td>\n",
       "      <td>70.0</td>\n",
       "      <td>9550.0</td>\n",
       "      <td>7.0</td>\n",
       "      <td>5.0</td>\n",
       "      <td>1915.0</td>\n",
       "      <td>1970.0</td>\n",
       "      <td>0.0</td>\n",
       "      <td>216.0</td>\n",
       "      <td>0.0</td>\n",
       "      <td>540.0</td>\n",
       "      <td>756.0</td>\n",
       "      <td>961.0</td>\n",
       "      <td>756.0</td>\n",
       "      <td>0.0</td>\n",
       "      <td>1717.0</td>\n",
       "      <td>1.0</td>\n",
       "      <td>0.0</td>\n",
       "      <td>1.0</td>\n",
       "      <td>0.0</td>\n",
       "      <td>3.0</td>\n",
       "      <td>1.0</td>\n",
       "      <td>7.0</td>\n",
       "      <td>1.0</td>\n",
       "      <td>1998.0</td>\n",
       "      <td>3.0</td>\n",
       "      <td>642.0</td>\n",
       "      <td>0.0</td>\n",
       "      <td>35.0</td>\n",
       "      <td>272.0</td>\n",
       "      <td>0.0</td>\n",
       "      <td>0.0</td>\n",
       "      <td>0.0</td>\n",
       "      <td>0.0</td>\n",
       "      <td>2.0</td>\n",
       "      <td>2006.0</td>\n",
       "    </tr>\n",
       "    <tr>\n",
       "      <th>4</th>\n",
       "      <td>3</td>\n",
       "      <td>1</td>\n",
       "      <td>0</td>\n",
       "      <td>3</td>\n",
       "      <td>0</td>\n",
       "      <td>2</td>\n",
       "      <td>0</td>\n",
       "      <td>15</td>\n",
       "      <td>2</td>\n",
       "      <td>2</td>\n",
       "      <td>0</td>\n",
       "      <td>5</td>\n",
       "      <td>1</td>\n",
       "      <td>1</td>\n",
       "      <td>12</td>\n",
       "      <td>13</td>\n",
       "      <td>1</td>\n",
       "      <td>2</td>\n",
       "      <td>4</td>\n",
       "      <td>2</td>\n",
       "      <td>2</td>\n",
       "      <td>3</td>\n",
       "      <td>0</td>\n",
       "      <td>2</td>\n",
       "      <td>5</td>\n",
       "      <td>1</td>\n",
       "      <td>0</td>\n",
       "      <td>1</td>\n",
       "      <td>4</td>\n",
       "      <td>2</td>\n",
       "      <td>6</td>\n",
       "      <td>1</td>\n",
       "      <td>1</td>\n",
       "      <td>4</td>\n",
       "      <td>4</td>\n",
       "      <td>2</td>\n",
       "      <td>8</td>\n",
       "      <td>4</td>\n",
       "      <td>5.0</td>\n",
       "      <td>60.0</td>\n",
       "      <td>14260.0</td>\n",
       "      <td>8.0</td>\n",
       "      <td>5.0</td>\n",
       "      <td>2000.0</td>\n",
       "      <td>2000.0</td>\n",
       "      <td>350.0</td>\n",
       "      <td>655.0</td>\n",
       "      <td>0.0</td>\n",
       "      <td>490.0</td>\n",
       "      <td>1145.0</td>\n",
       "      <td>1145.0</td>\n",
       "      <td>1053.0</td>\n",
       "      <td>0.0</td>\n",
       "      <td>2198.0</td>\n",
       "      <td>1.0</td>\n",
       "      <td>0.0</td>\n",
       "      <td>2.0</td>\n",
       "      <td>1.0</td>\n",
       "      <td>4.0</td>\n",
       "      <td>1.0</td>\n",
       "      <td>9.0</td>\n",
       "      <td>1.0</td>\n",
       "      <td>2000.0</td>\n",
       "      <td>3.0</td>\n",
       "      <td>836.0</td>\n",
       "      <td>192.0</td>\n",
       "      <td>84.0</td>\n",
       "      <td>0.0</td>\n",
       "      <td>0.0</td>\n",
       "      <td>0.0</td>\n",
       "      <td>0.0</td>\n",
       "      <td>0.0</td>\n",
       "      <td>12.0</td>\n",
       "      <td>2008.0</td>\n",
       "    </tr>\n",
       "  </tbody>\n",
       "</table>\n",
       "</div>"
      ],
      "text/plain": [
       "   MSZoning  Street  LotShape  LandContour  Utilities  LotConfig  LandSlope  \\\n",
       "0         3       1         3            3          0          4          0   \n",
       "1         3       1         3            3          0          2          0   \n",
       "2         3       1         0            3          0          4          0   \n",
       "3         3       1         0            3          0          0          0   \n",
       "4         3       1         0            3          0          2          0   \n",
       "\n",
       "   Neighborhood  Condition1  Condition2  BldgType  HouseStyle  RoofStyle  \\\n",
       "0             5           2           2         0           5          1   \n",
       "1            24           1           2         0           2          1   \n",
       "2             5           2           2         0           5          1   \n",
       "3             6           2           2         0           5          1   \n",
       "4            15           2           2         0           5          1   \n",
       "\n",
       "   RoofMatl  Exterior1st  Exterior2nd  MasVnrType  ExterQual  ExterCond  \\\n",
       "0         1           12           13           1          2          4   \n",
       "1         1            8            8           2          3          4   \n",
       "2         1           12           13           1          2          4   \n",
       "3         1           13           15           2          3          4   \n",
       "4         1           12           13           1          2          4   \n",
       "\n",
       "   Foundation  BsmtQual  BsmtCond  BsmtExposure  BsmtFinType1  BsmtFinType2  \\\n",
       "0           2         2         3             3             2             5   \n",
       "1           1         2         3             1             0             5   \n",
       "2           2         2         3             2             2             5   \n",
       "3           0         3         1             3             0             5   \n",
       "4           2         2         3             0             2             5   \n",
       "\n",
       "   Heating  HeatingQC  CentralAir  Electrical  KitchenQual  Functional  \\\n",
       "0        1          0           1           4            2           6   \n",
       "1        1          0           1           4            3           6   \n",
       "2        1          0           1           4            2           6   \n",
       "3        1          2           1           4            2           6   \n",
       "4        1          0           1           4            2           6   \n",
       "\n",
       "   GarageType  GarageFinish  GarageQual  GarageCond  PavedDrive  SaleType  \\\n",
       "0           1             1           4           4           2         8   \n",
       "1           1             1           4           4           2         8   \n",
       "2           1             1           4           4           2         8   \n",
       "3           5             2           4           4           2         8   \n",
       "4           1             1           4           4           2         8   \n",
       "\n",
       "   SaleCondition   Id  MSSubClass  LotArea  OverallQual  OverallCond  \\\n",
       "0              4  1.0        60.0   8450.0          7.0          5.0   \n",
       "1              4  2.0        20.0   9600.0          6.0          8.0   \n",
       "2              4  3.0        60.0  11250.0          7.0          5.0   \n",
       "3              0  4.0        70.0   9550.0          7.0          5.0   \n",
       "4              4  5.0        60.0  14260.0          8.0          5.0   \n",
       "\n",
       "   YearBuilt  YearRemodAdd  MasVnrArea  BsmtFinSF1  BsmtFinSF2  BsmtUnfSF  \\\n",
       "0     2003.0        2003.0       196.0       706.0         0.0      150.0   \n",
       "1     1976.0        1976.0         0.0       978.0         0.0      284.0   \n",
       "2     2001.0        2002.0       162.0       486.0         0.0      434.0   \n",
       "3     1915.0        1970.0         0.0       216.0         0.0      540.0   \n",
       "4     2000.0        2000.0       350.0       655.0         0.0      490.0   \n",
       "\n",
       "   TotalBsmtSF  1stFlrSF  2ndFlrSF  LowQualFinSF  GrLivArea  BsmtFullBath  \\\n",
       "0        856.0     856.0     854.0           0.0     1710.0           1.0   \n",
       "1       1262.0    1262.0       0.0           0.0     1262.0           0.0   \n",
       "2        920.0     920.0     866.0           0.0     1786.0           1.0   \n",
       "3        756.0     961.0     756.0           0.0     1717.0           1.0   \n",
       "4       1145.0    1145.0    1053.0           0.0     2198.0           1.0   \n",
       "\n",
       "   BsmtHalfBath  FullBath  HalfBath  BedroomAbvGr  KitchenAbvGr  TotRmsAbvGrd  \\\n",
       "0           0.0       2.0       1.0           3.0           1.0           8.0   \n",
       "1           1.0       2.0       0.0           3.0           1.0           6.0   \n",
       "2           0.0       2.0       1.0           3.0           1.0           6.0   \n",
       "3           0.0       1.0       0.0           3.0           1.0           7.0   \n",
       "4           0.0       2.0       1.0           4.0           1.0           9.0   \n",
       "\n",
       "   Fireplaces  GarageYrBlt  GarageCars  GarageArea  WoodDeckSF  OpenPorchSF  \\\n",
       "0         0.0       2003.0         2.0       548.0         0.0         61.0   \n",
       "1         1.0       1976.0         2.0       460.0       298.0          0.0   \n",
       "2         1.0       2001.0         2.0       608.0         0.0         42.0   \n",
       "3         1.0       1998.0         3.0       642.0         0.0         35.0   \n",
       "4         1.0       2000.0         3.0       836.0       192.0         84.0   \n",
       "\n",
       "   EnclosedPorch  3SsnPorch  ScreenPorch  PoolArea  MiscVal  MoSold  YrSold  \n",
       "0            0.0        0.0          0.0       0.0      0.0     2.0  2008.0  \n",
       "1            0.0        0.0          0.0       0.0      0.0     5.0  2007.0  \n",
       "2            0.0        0.0          0.0       0.0      0.0     9.0  2008.0  \n",
       "3          272.0        0.0          0.0       0.0      0.0     2.0  2006.0  \n",
       "4            0.0        0.0          0.0       0.0      0.0    12.0  2008.0  "
      ]
     },
     "execution_count": 20,
     "metadata": {},
     "output_type": "execute_result"
    }
   ],
   "source": [
    "X.head()"
   ]
  },
  {
   "cell_type": "markdown",
   "id": "b3bbce5b",
   "metadata": {
    "papermill": {
     "duration": 0.013423,
     "end_time": "2022-06-28T12:00:23.059582",
     "exception": false,
     "start_time": "2022-06-28T12:00:23.046159",
     "status": "completed"
    },
    "tags": []
   },
   "source": [
    "## Scale the Data\n",
    "\n",
    "Doesn't make a difference so it's commented out."
   ]
  },
  {
   "cell_type": "code",
   "execution_count": 21,
   "id": "3fc7fe86",
   "metadata": {
    "execution": {
     "iopub.execute_input": "2022-06-28T12:00:23.088246Z",
     "iopub.status.busy": "2022-06-28T12:00:23.087809Z",
     "iopub.status.idle": "2022-06-28T12:00:23.109931Z",
     "shell.execute_reply": "2022-06-28T12:00:23.108667Z"
    },
    "papermill": {
     "duration": 0.039726,
     "end_time": "2022-06-28T12:00:23.112748",
     "exception": false,
     "start_time": "2022-06-28T12:00:23.073022",
     "status": "completed"
    },
    "tags": []
   },
   "outputs": [],
   "source": [
    "from sklearn.preprocessing import StandardScaler, RobustScaler\n",
    "\n",
    "scaler = StandardScaler()\n",
    "\n",
    "X = scaler.fit(X).transform(X)\n",
    "X_test = scaler.transform(X_test)"
   ]
  },
  {
   "cell_type": "markdown",
   "id": "a0bd3386",
   "metadata": {
    "papermill": {
     "duration": 0.013478,
     "end_time": "2022-06-28T12:00:23.139758",
     "exception": false,
     "start_time": "2022-06-28T12:00:23.126280",
     "status": "completed"
    },
    "tags": []
   },
   "source": [
    "<div style=\"background-color:rgba(128, 0, 128, 0.6);border-radius:5px;display:fill\"><h1 style=\"text-align: center;padding: 12px 0px 12px 0px;\">Train Model with Train/Test Split</h1>\n",
    "</div>\n",
    "\n",
    "We split the training data so we can evaluate how well each model performs  We are saving 20% of the training data to validate the model(s)."
   ]
  },
  {
   "cell_type": "code",
   "execution_count": 22,
   "id": "48631e42",
   "metadata": {
    "execution": {
     "iopub.execute_input": "2022-06-28T12:00:23.168431Z",
     "iopub.status.busy": "2022-06-28T12:00:23.168003Z",
     "iopub.status.idle": "2022-06-28T12:00:23.184986Z",
     "shell.execute_reply": "2022-06-28T12:00:23.184085Z"
    },
    "papermill": {
     "duration": 0.034126,
     "end_time": "2022-06-28T12:00:23.187224",
     "exception": false,
     "start_time": "2022-06-28T12:00:23.153098",
     "status": "completed"
    },
    "tags": []
   },
   "outputs": [
    {
     "data": {
      "text/plain": [
       "((1168, 74), (1168,), (292, 74), (292,))"
      ]
     },
     "execution_count": 22,
     "metadata": {},
     "output_type": "execute_result"
    }
   ],
   "source": [
    "from sklearn.model_selection import train_test_split\n",
    "\n",
    "X_train, X_valid, y_train, y_valid = train_test_split(\n",
    "    X,\n",
    "    y,\n",
    "    test_size=0.2,  # Save 20% for validation\n",
    "    random_state=42,  # Make the split deterministic\n",
    ")\n",
    "X_train.shape, y_train.shape, X_valid.shape, y_valid.shape"
   ]
  },
  {
   "cell_type": "markdown",
   "id": "fb4814cc",
   "metadata": {
    "papermill": {
     "duration": 0.013334,
     "end_time": "2022-06-28T12:00:23.213994",
     "exception": false,
     "start_time": "2022-06-28T12:00:23.200660",
     "status": "completed"
    },
    "tags": []
   },
   "source": [
    "<div style=\"background-color:rgba(128, 0, 128, 0.6);border-radius:5px;display:fill\"><h1 style=\"text-align: center;padding: 12px 0px 12px 0px;\">Create Models</h1>\n",
    "</div> "
   ]
  },
  {
   "cell_type": "markdown",
   "id": "52a07437",
   "metadata": {
    "papermill": {
     "duration": 0.013223,
     "end_time": "2022-06-28T12:00:23.240683",
     "exception": false,
     "start_time": "2022-06-28T12:00:23.227460",
     "status": "completed"
    },
    "tags": []
   },
   "source": [
    "## SGDRegressor\n",
    "\n",
    "- [Parameters](https://scikit-learn.org/stable/modules/generated/sklearn.linear_model.SGDRegressor.html)\n",
    "\n",
    "- penalty=('elasticnet', 'l1','l2')\n",
    "- loss: ('squared_error’, ‘huber’, ‘epsilon_insensitive’,‘squared_epsilon_insensitive’)\n"
   ]
  },
  {
   "cell_type": "code",
   "execution_count": 23,
   "id": "7fce2224",
   "metadata": {
    "execution": {
     "iopub.execute_input": "2022-06-28T12:00:23.269630Z",
     "iopub.status.busy": "2022-06-28T12:00:23.269233Z",
     "iopub.status.idle": "2022-06-28T12:01:01.079210Z",
     "shell.execute_reply": "2022-06-28T12:01:01.077286Z"
    },
    "papermill": {
     "duration": 37.846943,
     "end_time": "2022-06-28T12:01:01.101045",
     "exception": false,
     "start_time": "2022-06-28T12:00:23.254102",
     "status": "completed"
    },
    "tags": []
   },
   "outputs": [
    {
     "name": "stdout",
     "output_type": "stream",
     "text": [
      "MAE: 21637.0830\n",
      "MSE: 1200497796.3621\n",
      "RMSE: 34648.2005\n",
      "R^2: 0.8435\n",
      "CPU times: user 1min 18s, sys: 1min 9s, total: 2min 28s\n",
      "Wall time: 37.8 s\n"
     ]
    }
   ],
   "source": [
    "%%time\n",
    "from sklearn.linear_model import SGDRegressor\n",
    "\n",
    "model = SGDRegressor(\n",
    "    n_iter_no_change=2000, loss='squared_error',\n",
    "    penalty=\"l1\", eta0=0.001, max_iter=200_000,\n",
    "    learning_rate='adaptive',\n",
    "    early_stopping=True,\n",
    ")\n",
    "model.fit(X_train, y_train)\n",
    "\n",
    "# valid_preds = model.predict(poly_features.transform(X_valid))\n",
    "valid_preds = model.predict(X_valid)\n",
    "show_scores(y_valid, valid_preds)"
   ]
  },
  {
   "cell_type": "code",
   "execution_count": 24,
   "id": "88693f9e",
   "metadata": {
    "execution": {
     "iopub.execute_input": "2022-06-28T12:01:01.156389Z",
     "iopub.status.busy": "2022-06-28T12:01:01.155738Z",
     "iopub.status.idle": "2022-06-28T12:01:01.199067Z",
     "shell.execute_reply": "2022-06-28T12:01:01.197685Z"
    },
    "papermill": {
     "duration": 0.076022,
     "end_time": "2022-06-28T12:01:01.203581",
     "exception": false,
     "start_time": "2022-06-28T12:01:01.127559",
     "status": "completed"
    },
    "tags": []
   },
   "outputs": [
    {
     "data": {
      "text/html": [
       "<div>\n",
       "<style scoped>\n",
       "    .dataframe tbody tr th:only-of-type {\n",
       "        vertical-align: middle;\n",
       "    }\n",
       "\n",
       "    .dataframe tbody tr th {\n",
       "        vertical-align: top;\n",
       "    }\n",
       "\n",
       "    .dataframe thead th {\n",
       "        text-align: right;\n",
       "    }\n",
       "</style>\n",
       "<table border=\"1\" class=\"dataframe\">\n",
       "  <thead>\n",
       "    <tr style=\"text-align: right;\">\n",
       "      <th></th>\n",
       "      <th>Id</th>\n",
       "      <th>SalePrice</th>\n",
       "    </tr>\n",
       "  </thead>\n",
       "  <tbody>\n",
       "    <tr>\n",
       "      <th>0</th>\n",
       "      <td>1461</td>\n",
       "      <td>106813.261437</td>\n",
       "    </tr>\n",
       "    <tr>\n",
       "      <th>1</th>\n",
       "      <td>1462</td>\n",
       "      <td>146780.858067</td>\n",
       "    </tr>\n",
       "    <tr>\n",
       "      <th>2</th>\n",
       "      <td>1463</td>\n",
       "      <td>164278.270335</td>\n",
       "    </tr>\n",
       "    <tr>\n",
       "      <th>3</th>\n",
       "      <td>1464</td>\n",
       "      <td>183398.106860</td>\n",
       "    </tr>\n",
       "    <tr>\n",
       "      <th>4</th>\n",
       "      <td>1465</td>\n",
       "      <td>187406.694373</td>\n",
       "    </tr>\n",
       "  </tbody>\n",
       "</table>\n",
       "</div>"
      ],
      "text/plain": [
       "     Id      SalePrice\n",
       "0  1461  106813.261437\n",
       "1  1462  146780.858067\n",
       "2  1463  164278.270335\n",
       "3  1464  183398.106860\n",
       "4  1465  187406.694373"
      ]
     },
     "execution_count": 24,
     "metadata": {},
     "output_type": "execute_result"
    }
   ],
   "source": [
    "# test_preds = model.predict(poly_features.transform(X_test))\n",
    "test_preds = model.predict(X_test)\n",
    "create_submission(\"sgd\", TARGET, test_preds)"
   ]
  },
  {
   "cell_type": "markdown",
   "id": "bff3453d",
   "metadata": {
    "papermill": {
     "duration": 0.025001,
     "end_time": "2022-06-28T12:01:01.253962",
     "exception": false,
     "start_time": "2022-06-28T12:01:01.228961",
     "status": "completed"
    },
    "tags": []
   },
   "source": [
    "## Fit/Train the model"
   ]
  },
  {
   "cell_type": "code",
   "execution_count": 25,
   "id": "71e7b9a1",
   "metadata": {
    "execution": {
     "iopub.execute_input": "2022-06-28T12:01:01.299073Z",
     "iopub.status.busy": "2022-06-28T12:01:01.298641Z",
     "iopub.status.idle": "2022-06-28T12:07:39.246120Z",
     "shell.execute_reply": "2022-06-28T12:07:39.244826Z"
    },
    "papermill": {
     "duration": 398.001231,
     "end_time": "2022-06-28T12:07:39.280631",
     "exception": false,
     "start_time": "2022-06-28T12:01:01.279400",
     "status": "completed"
    },
    "tags": []
   },
   "outputs": [
    {
     "name": "stderr",
     "output_type": "stream",
     "text": [
      "/opt/conda/lib/python3.7/site-packages/sklearn/linear_model/_stochastic_gradient.py:1507: ConvergenceWarning: Maximum number of iteration reached before convergence. Consider increasing max_iter to improve the fit.\n",
      "  ConvergenceWarning,\n",
      "/opt/conda/lib/python3.7/site-packages/sklearn/linear_model/_stochastic_gradient.py:1507: ConvergenceWarning: Maximum number of iteration reached before convergence. Consider increasing max_iter to improve the fit.\n",
      "  ConvergenceWarning,\n",
      "/opt/conda/lib/python3.7/site-packages/sklearn/linear_model/_stochastic_gradient.py:1507: ConvergenceWarning: Maximum number of iteration reached before convergence. Consider increasing max_iter to improve the fit.\n",
      "  ConvergenceWarning,\n",
      "/opt/conda/lib/python3.7/site-packages/sklearn/linear_model/_stochastic_gradient.py:1507: ConvergenceWarning: Maximum number of iteration reached before convergence. Consider increasing max_iter to improve the fit.\n",
      "  ConvergenceWarning,\n",
      "/opt/conda/lib/python3.7/site-packages/sklearn/linear_model/_stochastic_gradient.py:1507: ConvergenceWarning: Maximum number of iteration reached before convergence. Consider increasing max_iter to improve the fit.\n",
      "  ConvergenceWarning,\n",
      "/opt/conda/lib/python3.7/site-packages/sklearn/linear_model/_stochastic_gradient.py:1507: ConvergenceWarning: Maximum number of iteration reached before convergence. Consider increasing max_iter to improve the fit.\n",
      "  ConvergenceWarning,\n",
      "/opt/conda/lib/python3.7/site-packages/sklearn/linear_model/_stochastic_gradient.py:1507: ConvergenceWarning: Maximum number of iteration reached before convergence. Consider increasing max_iter to improve the fit.\n",
      "  ConvergenceWarning,\n",
      "/opt/conda/lib/python3.7/site-packages/sklearn/linear_model/_stochastic_gradient.py:1507: ConvergenceWarning: Maximum number of iteration reached before convergence. Consider increasing max_iter to improve the fit.\n",
      "  ConvergenceWarning,\n",
      "/opt/conda/lib/python3.7/site-packages/sklearn/linear_model/_stochastic_gradient.py:1507: ConvergenceWarning: Maximum number of iteration reached before convergence. Consider increasing max_iter to improve the fit.\n",
      "  ConvergenceWarning,\n",
      "/opt/conda/lib/python3.7/site-packages/sklearn/linear_model/_stochastic_gradient.py:1507: ConvergenceWarning: Maximum number of iteration reached before convergence. Consider increasing max_iter to improve the fit.\n",
      "  ConvergenceWarning,\n",
      "/opt/conda/lib/python3.7/site-packages/sklearn/linear_model/_stochastic_gradient.py:1507: ConvergenceWarning: Maximum number of iteration reached before convergence. Consider increasing max_iter to improve the fit.\n",
      "  ConvergenceWarning,\n",
      "/opt/conda/lib/python3.7/site-packages/sklearn/linear_model/_stochastic_gradient.py:1507: ConvergenceWarning: Maximum number of iteration reached before convergence. Consider increasing max_iter to improve the fit.\n",
      "  ConvergenceWarning,\n",
      "/opt/conda/lib/python3.7/site-packages/sklearn/linear_model/_stochastic_gradient.py:1507: ConvergenceWarning: Maximum number of iteration reached before convergence. Consider increasing max_iter to improve the fit.\n",
      "  ConvergenceWarning,\n",
      "/opt/conda/lib/python3.7/site-packages/sklearn/linear_model/_stochastic_gradient.py:1507: ConvergenceWarning: Maximum number of iteration reached before convergence. Consider increasing max_iter to improve the fit.\n",
      "  ConvergenceWarning,\n",
      "/opt/conda/lib/python3.7/site-packages/sklearn/linear_model/_stochastic_gradient.py:1507: ConvergenceWarning: Maximum number of iteration reached before convergence. Consider increasing max_iter to improve the fit.\n",
      "  ConvergenceWarning,\n",
      "/opt/conda/lib/python3.7/site-packages/sklearn/linear_model/_stochastic_gradient.py:1507: ConvergenceWarning: Maximum number of iteration reached before convergence. Consider increasing max_iter to improve the fit.\n",
      "  ConvergenceWarning,\n",
      "/opt/conda/lib/python3.7/site-packages/sklearn/linear_model/_stochastic_gradient.py:1507: ConvergenceWarning: Maximum number of iteration reached before convergence. Consider increasing max_iter to improve the fit.\n",
      "  ConvergenceWarning,\n",
      "/opt/conda/lib/python3.7/site-packages/sklearn/linear_model/_stochastic_gradient.py:1507: ConvergenceWarning: Maximum number of iteration reached before convergence. Consider increasing max_iter to improve the fit.\n",
      "  ConvergenceWarning,\n",
      "/opt/conda/lib/python3.7/site-packages/sklearn/linear_model/_stochastic_gradient.py:1507: ConvergenceWarning: Maximum number of iteration reached before convergence. Consider increasing max_iter to improve the fit.\n",
      "  ConvergenceWarning,\n",
      "/opt/conda/lib/python3.7/site-packages/sklearn/linear_model/_stochastic_gradient.py:1507: ConvergenceWarning: Maximum number of iteration reached before convergence. Consider increasing max_iter to improve the fit.\n",
      "  ConvergenceWarning,\n",
      "/opt/conda/lib/python3.7/site-packages/sklearn/linear_model/_stochastic_gradient.py:1507: ConvergenceWarning: Maximum number of iteration reached before convergence. Consider increasing max_iter to improve the fit.\n",
      "  ConvergenceWarning,\n",
      "/opt/conda/lib/python3.7/site-packages/sklearn/linear_model/_stochastic_gradient.py:1507: ConvergenceWarning: Maximum number of iteration reached before convergence. Consider increasing max_iter to improve the fit.\n",
      "  ConvergenceWarning,\n",
      "/opt/conda/lib/python3.7/site-packages/sklearn/linear_model/_stochastic_gradient.py:1507: ConvergenceWarning: Maximum number of iteration reached before convergence. Consider increasing max_iter to improve the fit.\n",
      "  ConvergenceWarning,\n",
      "/opt/conda/lib/python3.7/site-packages/sklearn/linear_model/_stochastic_gradient.py:1507: ConvergenceWarning: Maximum number of iteration reached before convergence. Consider increasing max_iter to improve the fit.\n",
      "  ConvergenceWarning,\n",
      "/opt/conda/lib/python3.7/site-packages/sklearn/linear_model/_stochastic_gradient.py:1507: ConvergenceWarning: Maximum number of iteration reached before convergence. Consider increasing max_iter to improve the fit.\n",
      "  ConvergenceWarning,\n",
      "/opt/conda/lib/python3.7/site-packages/sklearn/linear_model/_stochastic_gradient.py:1507: ConvergenceWarning: Maximum number of iteration reached before convergence. Consider increasing max_iter to improve the fit.\n",
      "  ConvergenceWarning,\n",
      "/opt/conda/lib/python3.7/site-packages/sklearn/linear_model/_stochastic_gradient.py:1507: ConvergenceWarning: Maximum number of iteration reached before convergence. Consider increasing max_iter to improve the fit.\n",
      "  ConvergenceWarning,\n",
      "/opt/conda/lib/python3.7/site-packages/sklearn/linear_model/_stochastic_gradient.py:1507: ConvergenceWarning: Maximum number of iteration reached before convergence. Consider increasing max_iter to improve the fit.\n",
      "  ConvergenceWarning,\n",
      "/opt/conda/lib/python3.7/site-packages/sklearn/linear_model/_stochastic_gradient.py:1507: ConvergenceWarning: Maximum number of iteration reached before convergence. Consider increasing max_iter to improve the fit.\n",
      "  ConvergenceWarning,\n",
      "/opt/conda/lib/python3.7/site-packages/sklearn/linear_model/_stochastic_gradient.py:1507: ConvergenceWarning: Maximum number of iteration reached before convergence. Consider increasing max_iter to improve the fit.\n",
      "  ConvergenceWarning,\n",
      "/opt/conda/lib/python3.7/site-packages/sklearn/linear_model/_stochastic_gradient.py:1507: ConvergenceWarning: Maximum number of iteration reached before convergence. Consider increasing max_iter to improve the fit.\n",
      "  ConvergenceWarning,\n",
      "/opt/conda/lib/python3.7/site-packages/sklearn/linear_model/_stochastic_gradient.py:1507: ConvergenceWarning: Maximum number of iteration reached before convergence. Consider increasing max_iter to improve the fit.\n",
      "  ConvergenceWarning,\n",
      "/opt/conda/lib/python3.7/site-packages/sklearn/linear_model/_stochastic_gradient.py:1507: ConvergenceWarning: Maximum number of iteration reached before convergence. Consider increasing max_iter to improve the fit.\n",
      "  ConvergenceWarning,\n",
      "/opt/conda/lib/python3.7/site-packages/sklearn/linear_model/_stochastic_gradient.py:1507: ConvergenceWarning: Maximum number of iteration reached before convergence. Consider increasing max_iter to improve the fit.\n",
      "  ConvergenceWarning,\n",
      "/opt/conda/lib/python3.7/site-packages/sklearn/linear_model/_stochastic_gradient.py:1507: ConvergenceWarning: Maximum number of iteration reached before convergence. Consider increasing max_iter to improve the fit.\n",
      "  ConvergenceWarning,\n",
      "/opt/conda/lib/python3.7/site-packages/sklearn/linear_model/_stochastic_gradient.py:1507: ConvergenceWarning: Maximum number of iteration reached before convergence. Consider increasing max_iter to improve the fit.\n",
      "  ConvergenceWarning,\n",
      "/opt/conda/lib/python3.7/site-packages/sklearn/linear_model/_stochastic_gradient.py:1507: ConvergenceWarning: Maximum number of iteration reached before convergence. Consider increasing max_iter to improve the fit.\n",
      "  ConvergenceWarning,\n",
      "/opt/conda/lib/python3.7/site-packages/sklearn/linear_model/_stochastic_gradient.py:1507: ConvergenceWarning: Maximum number of iteration reached before convergence. Consider increasing max_iter to improve the fit.\n",
      "  ConvergenceWarning,\n",
      "/opt/conda/lib/python3.7/site-packages/sklearn/linear_model/_stochastic_gradient.py:1507: ConvergenceWarning: Maximum number of iteration reached before convergence. Consider increasing max_iter to improve the fit.\n",
      "  ConvergenceWarning,\n",
      "/opt/conda/lib/python3.7/site-packages/sklearn/linear_model/_stochastic_gradient.py:1507: ConvergenceWarning: Maximum number of iteration reached before convergence. Consider increasing max_iter to improve the fit.\n",
      "  ConvergenceWarning,\n",
      "/opt/conda/lib/python3.7/site-packages/sklearn/linear_model/_stochastic_gradient.py:1507: ConvergenceWarning: Maximum number of iteration reached before convergence. Consider increasing max_iter to improve the fit.\n",
      "  ConvergenceWarning,\n",
      "/opt/conda/lib/python3.7/site-packages/sklearn/linear_model/_stochastic_gradient.py:1507: ConvergenceWarning: Maximum number of iteration reached before convergence. Consider increasing max_iter to improve the fit.\n",
      "  ConvergenceWarning,\n",
      "/opt/conda/lib/python3.7/site-packages/sklearn/linear_model/_stochastic_gradient.py:1507: ConvergenceWarning: Maximum number of iteration reached before convergence. Consider increasing max_iter to improve the fit.\n",
      "  ConvergenceWarning,\n",
      "/opt/conda/lib/python3.7/site-packages/sklearn/linear_model/_stochastic_gradient.py:1507: ConvergenceWarning: Maximum number of iteration reached before convergence. Consider increasing max_iter to improve the fit.\n",
      "  ConvergenceWarning,\n"
     ]
    },
    {
     "name": "stdout",
     "output_type": "stream",
     "text": [
      "CPU times: user 6min 45s, sys: 14.3 s, total: 6min 59s\n",
      "Wall time: 6min 37s\n"
     ]
    },
    {
     "name": "stderr",
     "output_type": "stream",
     "text": [
      "/opt/conda/lib/python3.7/site-packages/sklearn/linear_model/_stochastic_gradient.py:1507: ConvergenceWarning: Maximum number of iteration reached before convergence. Consider increasing max_iter to improve the fit.\n",
      "  ConvergenceWarning,\n"
     ]
    },
    {
     "data": {
      "text/plain": [
       "GridSearchCV(cv=5, estimator=SGDRegressor(),\n",
       "             param_grid={'learning_rate': ['constant', 'optimal', 'invscaling'],\n",
       "                         'loss': ['squared_error', 'huber'],\n",
       "                         'max_iter': [20000],\n",
       "                         'penalty': ['l2', 'l1', 'elasticnet']},\n",
       "             scoring='neg_mean_absolute_error')"
      ]
     },
     "execution_count": 25,
     "metadata": {},
     "output_type": "execute_result"
    }
   ],
   "source": [
    "%%time\n",
    "\n",
    "from sklearn.model_selection import GridSearchCV, RandomizedSearchCV\n",
    "\n",
    "model = SGDRegressor()\n",
    "\n",
    "params = {'loss': ['squared_error','huber'],\n",
    "          'max_iter': [20_000],\n",
    "          'learning_rate': ['constant', 'optimal', 'invscaling'],\n",
    "          'penalty': ['l2','l1','elasticnet']\n",
    "          }\n",
    "\n",
    "grid_search = GridSearchCV(model, params, cv=5, scoring='neg_mean_absolute_error')\n",
    "grid_search.fit(X_train, y_train)"
   ]
  },
  {
   "cell_type": "code",
   "execution_count": 26,
   "id": "ad2e12cb",
   "metadata": {
    "execution": {
     "iopub.execute_input": "2022-06-28T12:07:39.343282Z",
     "iopub.status.busy": "2022-06-28T12:07:39.342826Z",
     "iopub.status.idle": "2022-06-28T12:07:39.352336Z",
     "shell.execute_reply": "2022-06-28T12:07:39.350943Z"
    },
    "papermill": {
     "duration": 0.041624,
     "end_time": "2022-06-28T12:07:39.354757",
     "exception": false,
     "start_time": "2022-06-28T12:07:39.313133",
     "status": "completed"
    },
    "tags": []
   },
   "outputs": [
    {
     "data": {
      "text/plain": [
       "{'learning_rate': 'invscaling',\n",
       " 'loss': 'squared_error',\n",
       " 'max_iter': 20000,\n",
       " 'penalty': 'l2'}"
      ]
     },
     "execution_count": 26,
     "metadata": {},
     "output_type": "execute_result"
    }
   ],
   "source": [
    "grid_search.best_params_"
   ]
  },
  {
   "cell_type": "code",
   "execution_count": 27,
   "id": "2ae8c57c",
   "metadata": {
    "execution": {
     "iopub.execute_input": "2022-06-28T12:07:39.391341Z",
     "iopub.status.busy": "2022-06-28T12:07:39.390952Z",
     "iopub.status.idle": "2022-06-28T12:07:39.400126Z",
     "shell.execute_reply": "2022-06-28T12:07:39.398882Z"
    },
    "papermill": {
     "duration": 0.03034,
     "end_time": "2022-06-28T12:07:39.402360",
     "exception": false,
     "start_time": "2022-06-28T12:07:39.372020",
     "status": "completed"
    },
    "tags": []
   },
   "outputs": [
    {
     "data": {
      "text/plain": [
       "SGDRegressor(max_iter=20000)"
      ]
     },
     "execution_count": 27,
     "metadata": {},
     "output_type": "execute_result"
    }
   ],
   "source": [
    "grid_search.best_estimator_"
   ]
  },
  {
   "cell_type": "markdown",
   "id": "6ade2a15",
   "metadata": {
    "papermill": {
     "duration": 0.017056,
     "end_time": "2022-06-28T12:07:39.437273",
     "exception": false,
     "start_time": "2022-06-28T12:07:39.420217",
     "status": "completed"
    },
    "tags": []
   },
   "source": [
    "### Evaluate Model"
   ]
  },
  {
   "cell_type": "code",
   "execution_count": 28,
   "id": "65a25135",
   "metadata": {
    "execution": {
     "iopub.execute_input": "2022-06-28T12:07:39.475294Z",
     "iopub.status.busy": "2022-06-28T12:07:39.474548Z",
     "iopub.status.idle": "2022-06-28T12:07:39.491844Z",
     "shell.execute_reply": "2022-06-28T12:07:39.490495Z"
    },
    "papermill": {
     "duration": 0.040247,
     "end_time": "2022-06-28T12:07:39.495526",
     "exception": false,
     "start_time": "2022-06-28T12:07:39.455279",
     "status": "completed"
    },
    "tags": []
   },
   "outputs": [
    {
     "name": "stdout",
     "output_type": "stream",
     "text": [
      "MAE: 23074.2818\n",
      "MSE: 1413210920.2955\n",
      "RMSE: 37592.6977\n",
      "R^2: 0.8158\n"
     ]
    }
   ],
   "source": [
    "final_model = grid_search.best_estimator_\n",
    "valid_preds = final_model.predict(X_valid)\n",
    "show_scores(y_valid, valid_preds)"
   ]
  },
  {
   "cell_type": "markdown",
   "id": "7b332af7",
   "metadata": {
    "papermill": {
     "duration": 0.032064,
     "end_time": "2022-06-28T12:07:39.559933",
     "exception": false,
     "start_time": "2022-06-28T12:07:39.527869",
     "status": "completed"
    },
    "tags": []
   },
   "source": [
    "### Predict Test Data and Generate Submission"
   ]
  },
  {
   "cell_type": "code",
   "execution_count": 29,
   "id": "2f7773b6",
   "metadata": {
    "execution": {
     "iopub.execute_input": "2022-06-28T12:07:39.614939Z",
     "iopub.status.busy": "2022-06-28T12:07:39.614525Z",
     "iopub.status.idle": "2022-06-28T12:07:39.647050Z",
     "shell.execute_reply": "2022-06-28T12:07:39.645573Z"
    },
    "papermill": {
     "duration": 0.058119,
     "end_time": "2022-06-28T12:07:39.650810",
     "exception": false,
     "start_time": "2022-06-28T12:07:39.592691",
     "status": "completed"
    },
    "tags": []
   },
   "outputs": [
    {
     "data": {
      "text/html": [
       "<div>\n",
       "<style scoped>\n",
       "    .dataframe tbody tr th:only-of-type {\n",
       "        vertical-align: middle;\n",
       "    }\n",
       "\n",
       "    .dataframe tbody tr th {\n",
       "        vertical-align: top;\n",
       "    }\n",
       "\n",
       "    .dataframe thead th {\n",
       "        text-align: right;\n",
       "    }\n",
       "</style>\n",
       "<table border=\"1\" class=\"dataframe\">\n",
       "  <thead>\n",
       "    <tr style=\"text-align: right;\">\n",
       "      <th></th>\n",
       "      <th>Id</th>\n",
       "      <th>SalePrice</th>\n",
       "    </tr>\n",
       "  </thead>\n",
       "  <tbody>\n",
       "    <tr>\n",
       "      <th>0</th>\n",
       "      <td>1461</td>\n",
       "      <td>120807.404287</td>\n",
       "    </tr>\n",
       "    <tr>\n",
       "      <th>1</th>\n",
       "      <td>1462</td>\n",
       "      <td>141910.125895</td>\n",
       "    </tr>\n",
       "    <tr>\n",
       "      <th>2</th>\n",
       "      <td>1463</td>\n",
       "      <td>164792.002399</td>\n",
       "    </tr>\n",
       "    <tr>\n",
       "      <th>3</th>\n",
       "      <td>1464</td>\n",
       "      <td>182321.263388</td>\n",
       "    </tr>\n",
       "    <tr>\n",
       "      <th>4</th>\n",
       "      <td>1465</td>\n",
       "      <td>186136.887591</td>\n",
       "    </tr>\n",
       "  </tbody>\n",
       "</table>\n",
       "</div>"
      ],
      "text/plain": [
       "     Id      SalePrice\n",
       "0  1461  120807.404287\n",
       "1  1462  141910.125895\n",
       "2  1463  164792.002399\n",
       "3  1464  182321.263388\n",
       "4  1465  186136.887591"
      ]
     },
     "execution_count": 29,
     "metadata": {},
     "output_type": "execute_result"
    }
   ],
   "source": [
    "test_preds = final_model.predict(X_test)\n",
    "\n",
    "create_submission(\"sgd_cv\", TARGET, test_preds)"
   ]
  }
 ],
 "metadata": {
  "kernelspec": {
   "display_name": "Python 3",
   "language": "python",
   "name": "python3"
  },
  "language_info": {
   "codemirror_mode": {
    "name": "ipython",
    "version": 3
   },
   "file_extension": ".py",
   "mimetype": "text/x-python",
   "name": "python",
   "nbconvert_exporter": "python",
   "pygments_lexer": "ipython3",
   "version": "3.7.12"
  },
  "papermill": {
   "default_parameters": {},
   "duration": 469.837335,
   "end_time": "2022-06-28T12:07:43.022411",
   "environment_variables": {},
   "exception": null,
   "input_path": "__notebook__.ipynb",
   "output_path": "__notebook__.ipynb",
   "parameters": {},
   "start_time": "2022-06-28T11:59:53.185076",
   "version": "2.3.4"
  }
 },
 "nbformat": 4,
 "nbformat_minor": 5
}

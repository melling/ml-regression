{
 "cells": [
  {
   "cell_type": "markdown",
   "id": "7feda193",
   "metadata": {
    "papermill": {
     "duration": 0.019919,
     "end_time": "2022-06-28T12:42:43.492990",
     "exception": false,
     "start_time": "2022-06-28T12:42:43.473071",
     "status": "completed"
    },
    "tags": []
   },
   "source": [
    "# House Prices: Linear Regression from Scratch\n",
    "\n",
    "Implemented using several sources:\n",
    "\n",
    "- [Mathematics for Machine Learning](https://mml-book.github.io)\n",
    "- [Data Science Machine Learning](https://people.smp.uq.edu.au/DirkKroese/DSML)\n"
   ]
  },
  {
   "cell_type": "code",
   "execution_count": 1,
   "id": "387ed432",
   "metadata": {
    "execution": {
     "iopub.execute_input": "2022-06-28T12:42:43.530871Z",
     "iopub.status.busy": "2022-06-28T12:42:43.530403Z",
     "iopub.status.idle": "2022-06-28T12:42:44.923521Z",
     "shell.execute_reply": "2022-06-28T12:42:44.922558Z"
    },
    "papermill": {
     "duration": 1.414851,
     "end_time": "2022-06-28T12:42:44.925989",
     "exception": false,
     "start_time": "2022-06-28T12:42:43.511138",
     "status": "completed"
    },
    "tags": []
   },
   "outputs": [],
   "source": [
    "import os\n",
    "import time\n",
    "from pathlib import Path\n",
    "\n",
    "import pandas as pd\n",
    "import numpy as np\n",
    "\n",
    "from sklearn.model_selection import train_test_split\n",
    "from sklearn.linear_model import LinearRegression, Lasso, Ridge\n",
    "from sklearn.impute import SimpleImputer\n",
    "from sklearn.model_selection import KFold, StratifiedKFold\n",
    "\n",
    "from sklearn.preprocessing import LabelEncoder\n",
    "\n",
    "# from sklearn.metrics import mean_squared_error\n",
    "from sklearn.metrics import accuracy_score\n",
    "from sklearn import model_selection, metrics\n",
    "\n",
    "\n",
    "# Visualization Libraries\n",
    "import matplotlib.pylab as plt\n",
    "import seaborn as sns\n",
    "\n",
    "pd.options.display.max_columns = 100\n",
    "\n",
    "from itertools import cycle\n",
    "\n",
    "plt.style.use(\"fivethirtyeight\")  # ggplot, fivethirtyeight\n",
    "color_pal = plt.rcParams[\"axes.prop_cycle\"].by_key()[\"color\"]\n",
    "color_cycle = cycle(plt.rcParams[\"axes.prop_cycle\"].by_key()[\"color\"])"
   ]
  },
  {
   "cell_type": "code",
   "execution_count": 2,
   "id": "452099c0",
   "metadata": {
    "execution": {
     "iopub.execute_input": "2022-06-28T12:42:44.965842Z",
     "iopub.status.busy": "2022-06-28T12:42:44.965186Z",
     "iopub.status.idle": "2022-06-28T12:43:00.610798Z",
     "shell.execute_reply": "2022-06-28T12:43:00.609865Z"
    },
    "papermill": {
     "duration": 15.668739,
     "end_time": "2022-06-28T12:43:00.613264",
     "exception": false,
     "start_time": "2022-06-28T12:42:44.944525",
     "status": "completed"
    },
    "tags": []
   },
   "outputs": [
    {
     "name": "stdout",
     "output_type": "stream",
     "text": [
      "\u001b[33mWARNING: Running pip as the 'root' user can result in broken permissions and conflicting behaviour with the system package manager. It is recommended to use a virtual environment instead: https://pip.pypa.io/warnings/venv\u001b[0m\u001b[33m\r\n",
      "\u001b[0m"
     ]
    }
   ],
   "source": [
    "# Black formatter https://black.readthedocs.io/en/stable/\n",
    "\n",
    "! pip install nb-black > /dev/null\n",
    "\n",
    "%load_ext lab_black"
   ]
  },
  {
   "cell_type": "code",
   "execution_count": 3,
   "id": "1e816344",
   "metadata": {
    "execution": {
     "iopub.execute_input": "2022-06-28T12:43:00.652827Z",
     "iopub.status.busy": "2022-06-28T12:43:00.652427Z",
     "iopub.status.idle": "2022-06-28T12:43:00.665617Z",
     "shell.execute_reply": "2022-06-28T12:43:00.664695Z"
    },
    "papermill": {
     "duration": 0.034938,
     "end_time": "2022-06-28T12:43:00.667555",
     "exception": false,
     "start_time": "2022-06-28T12:43:00.632617",
     "status": "completed"
    },
    "tags": []
   },
   "outputs": [],
   "source": [
    "class Config:\n",
    "    path = \"../input/house-prices-advanced-regression-techniques\"\n",
    "    gpu = False\n",
    "    optimize = False\n",
    "    model_type = \"xgb\"  # (xgb, cat, lgbm, keras)\n",
    "    model_name = \"xgb1\"\n",
    "    debug = False\n",
    "    competition = \"Housing Prices\"\n",
    "    seed = 42\n",
    "    N_ESTIMATORS = 100  # 5000\n",
    "    N_FOLDS = 5\n",
    "    EPOCHS = 10"
   ]
  },
  {
   "cell_type": "code",
   "execution_count": 4,
   "id": "42491171",
   "metadata": {
    "execution": {
     "iopub.execute_input": "2022-06-28T12:43:00.706004Z",
     "iopub.status.busy": "2022-06-28T12:43:00.705609Z",
     "iopub.status.idle": "2022-06-28T12:43:00.710977Z",
     "shell.execute_reply": "2022-06-28T12:43:00.710130Z"
    },
    "papermill": {
     "duration": 0.026953,
     "end_time": "2022-06-28T12:43:00.712843",
     "exception": false,
     "start_time": "2022-06-28T12:43:00.685890",
     "status": "completed"
    },
    "tags": []
   },
   "outputs": [],
   "source": [
    "TARGET = \"SalePrice\""
   ]
  },
  {
   "cell_type": "code",
   "execution_count": 5,
   "id": "2c146645",
   "metadata": {
    "execution": {
     "iopub.execute_input": "2022-06-28T12:43:00.751193Z",
     "iopub.status.busy": "2022-06-28T12:43:00.750789Z",
     "iopub.status.idle": "2022-06-28T12:43:00.759971Z",
     "shell.execute_reply": "2022-06-28T12:43:00.759168Z"
    },
    "papermill": {
     "duration": 0.030759,
     "end_time": "2022-06-28T12:43:00.761893",
     "exception": false,
     "start_time": "2022-06-28T12:43:00.731134",
     "status": "completed"
    },
    "tags": []
   },
   "outputs": [],
   "source": [
    "def create_submission(model_name, target, preds):\n",
    "    sample_submission[target] = preds\n",
    "    sample_submission.to_csv(f\"submission_{model_name}.csv\", index=False)\n",
    "    return sample_submission"
   ]
  },
  {
   "cell_type": "code",
   "execution_count": 6,
   "id": "bbf01e66",
   "metadata": {
    "execution": {
     "iopub.execute_input": "2022-06-28T12:43:00.801037Z",
     "iopub.status.busy": "2022-06-28T12:43:00.800649Z",
     "iopub.status.idle": "2022-06-28T12:43:00.815382Z",
     "shell.execute_reply": "2022-06-28T12:43:00.814473Z"
    },
    "papermill": {
     "duration": 0.036364,
     "end_time": "2022-06-28T12:43:00.817330",
     "exception": false,
     "start_time": "2022-06-28T12:43:00.780966",
     "status": "completed"
    },
    "tags": []
   },
   "outputs": [],
   "source": [
    "def label_encoder(train, test, columns):\n",
    "    for col in columns:\n",
    "        train[col] = train[col].astype(str)\n",
    "        test[col] = test[col].astype(str)\n",
    "        train[col] = LabelEncoder().fit_transform(train[col])\n",
    "        test[col] = LabelEncoder().fit_transform(test[col])\n",
    "    return train, test"
   ]
  },
  {
   "cell_type": "code",
   "execution_count": 7,
   "id": "701f71a3",
   "metadata": {
    "execution": {
     "iopub.execute_input": "2022-06-28T12:43:00.855907Z",
     "iopub.status.busy": "2022-06-28T12:43:00.855507Z",
     "iopub.status.idle": "2022-06-28T12:43:00.868518Z",
     "shell.execute_reply": "2022-06-28T12:43:00.867612Z"
    },
    "papermill": {
     "duration": 0.034588,
     "end_time": "2022-06-28T12:43:00.870323",
     "exception": false,
     "start_time": "2022-06-28T12:43:00.835735",
     "status": "completed"
    },
    "tags": []
   },
   "outputs": [],
   "source": [
    "def read_data(path):\n",
    "    data_dir = Path(path)\n",
    "\n",
    "    train = pd.read_csv(data_dir / \"train.csv\")\n",
    "    test = pd.read_csv(data_dir / \"test.csv\")\n",
    "    submission_df = pd.read_csv(data_dir / \"sample_submission.csv\")\n",
    "\n",
    "    print(f\"train data: Rows={train.shape[0]}, Columns={train.shape[1]}\")\n",
    "    print(f\"test data : Rows={test.shape[0]}, Columns={test.shape[1]}\")\n",
    "    return train, test, submission_df"
   ]
  },
  {
   "cell_type": "code",
   "execution_count": 8,
   "id": "c3bd8aa7",
   "metadata": {
    "execution": {
     "iopub.execute_input": "2022-06-28T12:43:00.908748Z",
     "iopub.status.busy": "2022-06-28T12:43:00.908351Z",
     "iopub.status.idle": "2022-06-28T12:43:00.992284Z",
     "shell.execute_reply": "2022-06-28T12:43:00.991002Z"
    },
    "papermill": {
     "duration": 0.105925,
     "end_time": "2022-06-28T12:43:00.994701",
     "exception": false,
     "start_time": "2022-06-28T12:43:00.888776",
     "status": "completed"
    },
    "tags": []
   },
   "outputs": [
    {
     "name": "stdout",
     "output_type": "stream",
     "text": [
      "train data: Rows=1460, Columns=81\n",
      "test data : Rows=1459, Columns=80\n"
     ]
    }
   ],
   "source": [
    "train, test, sample_submission = read_data(Config.path)"
   ]
  },
  {
   "cell_type": "code",
   "execution_count": 9,
   "id": "eba2273f",
   "metadata": {
    "execution": {
     "iopub.execute_input": "2022-06-28T12:43:01.033454Z",
     "iopub.status.busy": "2022-06-28T12:43:01.032870Z",
     "iopub.status.idle": "2022-06-28T12:43:01.098035Z",
     "shell.execute_reply": "2022-06-28T12:43:01.097115Z"
    },
    "papermill": {
     "duration": 0.086475,
     "end_time": "2022-06-28T12:43:01.099947",
     "exception": false,
     "start_time": "2022-06-28T12:43:01.013472",
     "status": "completed"
    },
    "tags": []
   },
   "outputs": [
    {
     "data": {
      "text/html": [
       "<div>\n",
       "<style scoped>\n",
       "    .dataframe tbody tr th:only-of-type {\n",
       "        vertical-align: middle;\n",
       "    }\n",
       "\n",
       "    .dataframe tbody tr th {\n",
       "        vertical-align: top;\n",
       "    }\n",
       "\n",
       "    .dataframe thead th {\n",
       "        text-align: right;\n",
       "    }\n",
       "</style>\n",
       "<table border=\"1\" class=\"dataframe\">\n",
       "  <thead>\n",
       "    <tr style=\"text-align: right;\">\n",
       "      <th></th>\n",
       "      <th>Id</th>\n",
       "      <th>MSSubClass</th>\n",
       "      <th>MSZoning</th>\n",
       "      <th>LotFrontage</th>\n",
       "      <th>LotArea</th>\n",
       "      <th>Street</th>\n",
       "      <th>Alley</th>\n",
       "      <th>LotShape</th>\n",
       "      <th>LandContour</th>\n",
       "      <th>Utilities</th>\n",
       "      <th>LotConfig</th>\n",
       "      <th>LandSlope</th>\n",
       "      <th>Neighborhood</th>\n",
       "      <th>Condition1</th>\n",
       "      <th>Condition2</th>\n",
       "      <th>BldgType</th>\n",
       "      <th>HouseStyle</th>\n",
       "      <th>OverallQual</th>\n",
       "      <th>OverallCond</th>\n",
       "      <th>YearBuilt</th>\n",
       "      <th>YearRemodAdd</th>\n",
       "      <th>RoofStyle</th>\n",
       "      <th>RoofMatl</th>\n",
       "      <th>Exterior1st</th>\n",
       "      <th>Exterior2nd</th>\n",
       "      <th>MasVnrType</th>\n",
       "      <th>MasVnrArea</th>\n",
       "      <th>ExterQual</th>\n",
       "      <th>ExterCond</th>\n",
       "      <th>Foundation</th>\n",
       "      <th>BsmtQual</th>\n",
       "      <th>BsmtCond</th>\n",
       "      <th>BsmtExposure</th>\n",
       "      <th>BsmtFinType1</th>\n",
       "      <th>BsmtFinSF1</th>\n",
       "      <th>BsmtFinType2</th>\n",
       "      <th>BsmtFinSF2</th>\n",
       "      <th>BsmtUnfSF</th>\n",
       "      <th>TotalBsmtSF</th>\n",
       "      <th>Heating</th>\n",
       "      <th>HeatingQC</th>\n",
       "      <th>CentralAir</th>\n",
       "      <th>Electrical</th>\n",
       "      <th>1stFlrSF</th>\n",
       "      <th>2ndFlrSF</th>\n",
       "      <th>LowQualFinSF</th>\n",
       "      <th>GrLivArea</th>\n",
       "      <th>BsmtFullBath</th>\n",
       "      <th>BsmtHalfBath</th>\n",
       "      <th>FullBath</th>\n",
       "      <th>HalfBath</th>\n",
       "      <th>BedroomAbvGr</th>\n",
       "      <th>KitchenAbvGr</th>\n",
       "      <th>KitchenQual</th>\n",
       "      <th>TotRmsAbvGrd</th>\n",
       "      <th>Functional</th>\n",
       "      <th>Fireplaces</th>\n",
       "      <th>FireplaceQu</th>\n",
       "      <th>GarageType</th>\n",
       "      <th>GarageYrBlt</th>\n",
       "      <th>GarageFinish</th>\n",
       "      <th>GarageCars</th>\n",
       "      <th>GarageArea</th>\n",
       "      <th>GarageQual</th>\n",
       "      <th>GarageCond</th>\n",
       "      <th>PavedDrive</th>\n",
       "      <th>WoodDeckSF</th>\n",
       "      <th>OpenPorchSF</th>\n",
       "      <th>EnclosedPorch</th>\n",
       "      <th>3SsnPorch</th>\n",
       "      <th>ScreenPorch</th>\n",
       "      <th>PoolArea</th>\n",
       "      <th>PoolQC</th>\n",
       "      <th>Fence</th>\n",
       "      <th>MiscFeature</th>\n",
       "      <th>MiscVal</th>\n",
       "      <th>MoSold</th>\n",
       "      <th>YrSold</th>\n",
       "      <th>SaleType</th>\n",
       "      <th>SaleCondition</th>\n",
       "      <th>SalePrice</th>\n",
       "    </tr>\n",
       "  </thead>\n",
       "  <tbody>\n",
       "    <tr>\n",
       "      <th>742</th>\n",
       "      <td>743</td>\n",
       "      <td>20</td>\n",
       "      <td>RL</td>\n",
       "      <td>65.0</td>\n",
       "      <td>8450</td>\n",
       "      <td>Pave</td>\n",
       "      <td>NaN</td>\n",
       "      <td>Reg</td>\n",
       "      <td>Lvl</td>\n",
       "      <td>AllPub</td>\n",
       "      <td>Inside</td>\n",
       "      <td>Gtl</td>\n",
       "      <td>SawyerW</td>\n",
       "      <td>Norm</td>\n",
       "      <td>Norm</td>\n",
       "      <td>1Fam</td>\n",
       "      <td>1Story</td>\n",
       "      <td>7</td>\n",
       "      <td>5</td>\n",
       "      <td>2000</td>\n",
       "      <td>2001</td>\n",
       "      <td>Gable</td>\n",
       "      <td>CompShg</td>\n",
       "      <td>VinylSd</td>\n",
       "      <td>VinylSd</td>\n",
       "      <td>BrkFace</td>\n",
       "      <td>108.0</td>\n",
       "      <td>TA</td>\n",
       "      <td>TA</td>\n",
       "      <td>PConc</td>\n",
       "      <td>Gd</td>\n",
       "      <td>TA</td>\n",
       "      <td>No</td>\n",
       "      <td>Unf</td>\n",
       "      <td>0</td>\n",
       "      <td>Unf</td>\n",
       "      <td>0</td>\n",
       "      <td>1349</td>\n",
       "      <td>1349</td>\n",
       "      <td>GasA</td>\n",
       "      <td>Ex</td>\n",
       "      <td>Y</td>\n",
       "      <td>SBrkr</td>\n",
       "      <td>1349</td>\n",
       "      <td>0</td>\n",
       "      <td>0</td>\n",
       "      <td>1349</td>\n",
       "      <td>0</td>\n",
       "      <td>0</td>\n",
       "      <td>2</td>\n",
       "      <td>0</td>\n",
       "      <td>3</td>\n",
       "      <td>1</td>\n",
       "      <td>TA</td>\n",
       "      <td>6</td>\n",
       "      <td>Typ</td>\n",
       "      <td>0</td>\n",
       "      <td>NaN</td>\n",
       "      <td>Attchd</td>\n",
       "      <td>2000.0</td>\n",
       "      <td>Unf</td>\n",
       "      <td>2</td>\n",
       "      <td>539</td>\n",
       "      <td>TA</td>\n",
       "      <td>TA</td>\n",
       "      <td>Y</td>\n",
       "      <td>120</td>\n",
       "      <td>55</td>\n",
       "      <td>0</td>\n",
       "      <td>0</td>\n",
       "      <td>0</td>\n",
       "      <td>0</td>\n",
       "      <td>NaN</td>\n",
       "      <td>GdPrv</td>\n",
       "      <td>NaN</td>\n",
       "      <td>0</td>\n",
       "      <td>12</td>\n",
       "      <td>2007</td>\n",
       "      <td>WD</td>\n",
       "      <td>Normal</td>\n",
       "      <td>179000</td>\n",
       "    </tr>\n",
       "    <tr>\n",
       "      <th>446</th>\n",
       "      <td>447</td>\n",
       "      <td>20</td>\n",
       "      <td>RL</td>\n",
       "      <td>137.0</td>\n",
       "      <td>16492</td>\n",
       "      <td>Pave</td>\n",
       "      <td>NaN</td>\n",
       "      <td>IR1</td>\n",
       "      <td>Lvl</td>\n",
       "      <td>AllPub</td>\n",
       "      <td>Corner</td>\n",
       "      <td>Gtl</td>\n",
       "      <td>NAmes</td>\n",
       "      <td>PosA</td>\n",
       "      <td>Norm</td>\n",
       "      <td>1Fam</td>\n",
       "      <td>1Story</td>\n",
       "      <td>6</td>\n",
       "      <td>6</td>\n",
       "      <td>1966</td>\n",
       "      <td>2002</td>\n",
       "      <td>Gable</td>\n",
       "      <td>CompShg</td>\n",
       "      <td>BrkFace</td>\n",
       "      <td>Plywood</td>\n",
       "      <td>None</td>\n",
       "      <td>0.0</td>\n",
       "      <td>Gd</td>\n",
       "      <td>TA</td>\n",
       "      <td>CBlock</td>\n",
       "      <td>TA</td>\n",
       "      <td>TA</td>\n",
       "      <td>No</td>\n",
       "      <td>ALQ</td>\n",
       "      <td>247</td>\n",
       "      <td>Rec</td>\n",
       "      <td>713</td>\n",
       "      <td>557</td>\n",
       "      <td>1517</td>\n",
       "      <td>GasA</td>\n",
       "      <td>Ex</td>\n",
       "      <td>Y</td>\n",
       "      <td>SBrkr</td>\n",
       "      <td>1888</td>\n",
       "      <td>0</td>\n",
       "      <td>0</td>\n",
       "      <td>1888</td>\n",
       "      <td>0</td>\n",
       "      <td>0</td>\n",
       "      <td>2</td>\n",
       "      <td>1</td>\n",
       "      <td>2</td>\n",
       "      <td>1</td>\n",
       "      <td>Gd</td>\n",
       "      <td>6</td>\n",
       "      <td>Mod</td>\n",
       "      <td>1</td>\n",
       "      <td>Gd</td>\n",
       "      <td>Attchd</td>\n",
       "      <td>1966.0</td>\n",
       "      <td>Fin</td>\n",
       "      <td>2</td>\n",
       "      <td>578</td>\n",
       "      <td>TA</td>\n",
       "      <td>TA</td>\n",
       "      <td>Y</td>\n",
       "      <td>0</td>\n",
       "      <td>0</td>\n",
       "      <td>0</td>\n",
       "      <td>0</td>\n",
       "      <td>0</td>\n",
       "      <td>0</td>\n",
       "      <td>NaN</td>\n",
       "      <td>NaN</td>\n",
       "      <td>NaN</td>\n",
       "      <td>0</td>\n",
       "      <td>6</td>\n",
       "      <td>2010</td>\n",
       "      <td>WD</td>\n",
       "      <td>Normal</td>\n",
       "      <td>190000</td>\n",
       "    </tr>\n",
       "    <tr>\n",
       "      <th>810</th>\n",
       "      <td>811</td>\n",
       "      <td>20</td>\n",
       "      <td>RL</td>\n",
       "      <td>78.0</td>\n",
       "      <td>10140</td>\n",
       "      <td>Pave</td>\n",
       "      <td>NaN</td>\n",
       "      <td>Reg</td>\n",
       "      <td>Lvl</td>\n",
       "      <td>AllPub</td>\n",
       "      <td>Inside</td>\n",
       "      <td>Gtl</td>\n",
       "      <td>NWAmes</td>\n",
       "      <td>Norm</td>\n",
       "      <td>Norm</td>\n",
       "      <td>1Fam</td>\n",
       "      <td>1Story</td>\n",
       "      <td>6</td>\n",
       "      <td>6</td>\n",
       "      <td>1974</td>\n",
       "      <td>1999</td>\n",
       "      <td>Hip</td>\n",
       "      <td>CompShg</td>\n",
       "      <td>HdBoard</td>\n",
       "      <td>HdBoard</td>\n",
       "      <td>BrkFace</td>\n",
       "      <td>99.0</td>\n",
       "      <td>TA</td>\n",
       "      <td>TA</td>\n",
       "      <td>CBlock</td>\n",
       "      <td>TA</td>\n",
       "      <td>TA</td>\n",
       "      <td>No</td>\n",
       "      <td>ALQ</td>\n",
       "      <td>663</td>\n",
       "      <td>LwQ</td>\n",
       "      <td>377</td>\n",
       "      <td>0</td>\n",
       "      <td>1040</td>\n",
       "      <td>GasA</td>\n",
       "      <td>Fa</td>\n",
       "      <td>Y</td>\n",
       "      <td>SBrkr</td>\n",
       "      <td>1309</td>\n",
       "      <td>0</td>\n",
       "      <td>0</td>\n",
       "      <td>1309</td>\n",
       "      <td>1</td>\n",
       "      <td>0</td>\n",
       "      <td>1</td>\n",
       "      <td>1</td>\n",
       "      <td>3</td>\n",
       "      <td>1</td>\n",
       "      <td>Gd</td>\n",
       "      <td>5</td>\n",
       "      <td>Typ</td>\n",
       "      <td>1</td>\n",
       "      <td>Fa</td>\n",
       "      <td>Attchd</td>\n",
       "      <td>1974.0</td>\n",
       "      <td>RFn</td>\n",
       "      <td>2</td>\n",
       "      <td>484</td>\n",
       "      <td>TA</td>\n",
       "      <td>TA</td>\n",
       "      <td>Y</td>\n",
       "      <td>265</td>\n",
       "      <td>0</td>\n",
       "      <td>0</td>\n",
       "      <td>0</td>\n",
       "      <td>0</td>\n",
       "      <td>648</td>\n",
       "      <td>Fa</td>\n",
       "      <td>GdPrv</td>\n",
       "      <td>NaN</td>\n",
       "      <td>0</td>\n",
       "      <td>1</td>\n",
       "      <td>2006</td>\n",
       "      <td>WD</td>\n",
       "      <td>Normal</td>\n",
       "      <td>181000</td>\n",
       "    </tr>\n",
       "    <tr>\n",
       "      <th>651</th>\n",
       "      <td>652</td>\n",
       "      <td>70</td>\n",
       "      <td>RL</td>\n",
       "      <td>60.0</td>\n",
       "      <td>9084</td>\n",
       "      <td>Pave</td>\n",
       "      <td>NaN</td>\n",
       "      <td>Reg</td>\n",
       "      <td>Lvl</td>\n",
       "      <td>AllPub</td>\n",
       "      <td>Inside</td>\n",
       "      <td>Gtl</td>\n",
       "      <td>Edwards</td>\n",
       "      <td>Artery</td>\n",
       "      <td>Norm</td>\n",
       "      <td>1Fam</td>\n",
       "      <td>2Story</td>\n",
       "      <td>4</td>\n",
       "      <td>5</td>\n",
       "      <td>1940</td>\n",
       "      <td>1950</td>\n",
       "      <td>Gable</td>\n",
       "      <td>CompShg</td>\n",
       "      <td>MetalSd</td>\n",
       "      <td>MetalSd</td>\n",
       "      <td>None</td>\n",
       "      <td>0.0</td>\n",
       "      <td>TA</td>\n",
       "      <td>TA</td>\n",
       "      <td>CBlock</td>\n",
       "      <td>TA</td>\n",
       "      <td>TA</td>\n",
       "      <td>Mn</td>\n",
       "      <td>Unf</td>\n",
       "      <td>0</td>\n",
       "      <td>Unf</td>\n",
       "      <td>0</td>\n",
       "      <td>755</td>\n",
       "      <td>755</td>\n",
       "      <td>GasA</td>\n",
       "      <td>TA</td>\n",
       "      <td>Y</td>\n",
       "      <td>SBrkr</td>\n",
       "      <td>755</td>\n",
       "      <td>755</td>\n",
       "      <td>0</td>\n",
       "      <td>1510</td>\n",
       "      <td>1</td>\n",
       "      <td>0</td>\n",
       "      <td>1</td>\n",
       "      <td>0</td>\n",
       "      <td>4</td>\n",
       "      <td>1</td>\n",
       "      <td>TA</td>\n",
       "      <td>7</td>\n",
       "      <td>Typ</td>\n",
       "      <td>1</td>\n",
       "      <td>Gd</td>\n",
       "      <td>Detchd</td>\n",
       "      <td>1940.0</td>\n",
       "      <td>Unf</td>\n",
       "      <td>1</td>\n",
       "      <td>296</td>\n",
       "      <td>Fa</td>\n",
       "      <td>Po</td>\n",
       "      <td>P</td>\n",
       "      <td>120</td>\n",
       "      <td>0</td>\n",
       "      <td>0</td>\n",
       "      <td>0</td>\n",
       "      <td>0</td>\n",
       "      <td>0</td>\n",
       "      <td>NaN</td>\n",
       "      <td>MnPrv</td>\n",
       "      <td>NaN</td>\n",
       "      <td>0</td>\n",
       "      <td>10</td>\n",
       "      <td>2009</td>\n",
       "      <td>WD</td>\n",
       "      <td>Normal</td>\n",
       "      <td>108000</td>\n",
       "    </tr>\n",
       "    <tr>\n",
       "      <th>532</th>\n",
       "      <td>533</td>\n",
       "      <td>20</td>\n",
       "      <td>RL</td>\n",
       "      <td>60.0</td>\n",
       "      <td>7200</td>\n",
       "      <td>Pave</td>\n",
       "      <td>NaN</td>\n",
       "      <td>Reg</td>\n",
       "      <td>Lvl</td>\n",
       "      <td>AllPub</td>\n",
       "      <td>Inside</td>\n",
       "      <td>Gtl</td>\n",
       "      <td>NAmes</td>\n",
       "      <td>Norm</td>\n",
       "      <td>Norm</td>\n",
       "      <td>1Fam</td>\n",
       "      <td>1Story</td>\n",
       "      <td>5</td>\n",
       "      <td>7</td>\n",
       "      <td>1955</td>\n",
       "      <td>2007</td>\n",
       "      <td>Gable</td>\n",
       "      <td>CompShg</td>\n",
       "      <td>VinylSd</td>\n",
       "      <td>VinylSd</td>\n",
       "      <td>None</td>\n",
       "      <td>0.0</td>\n",
       "      <td>TA</td>\n",
       "      <td>TA</td>\n",
       "      <td>Slab</td>\n",
       "      <td>NaN</td>\n",
       "      <td>NaN</td>\n",
       "      <td>NaN</td>\n",
       "      <td>NaN</td>\n",
       "      <td>0</td>\n",
       "      <td>NaN</td>\n",
       "      <td>0</td>\n",
       "      <td>0</td>\n",
       "      <td>0</td>\n",
       "      <td>GasA</td>\n",
       "      <td>Ex</td>\n",
       "      <td>Y</td>\n",
       "      <td>SBrkr</td>\n",
       "      <td>827</td>\n",
       "      <td>0</td>\n",
       "      <td>0</td>\n",
       "      <td>827</td>\n",
       "      <td>0</td>\n",
       "      <td>0</td>\n",
       "      <td>1</td>\n",
       "      <td>0</td>\n",
       "      <td>2</td>\n",
       "      <td>1</td>\n",
       "      <td>TA</td>\n",
       "      <td>5</td>\n",
       "      <td>Mod</td>\n",
       "      <td>1</td>\n",
       "      <td>Po</td>\n",
       "      <td>Detchd</td>\n",
       "      <td>1967.0</td>\n",
       "      <td>Unf</td>\n",
       "      <td>1</td>\n",
       "      <td>392</td>\n",
       "      <td>TA</td>\n",
       "      <td>TA</td>\n",
       "      <td>Y</td>\n",
       "      <td>0</td>\n",
       "      <td>0</td>\n",
       "      <td>0</td>\n",
       "      <td>0</td>\n",
       "      <td>0</td>\n",
       "      <td>0</td>\n",
       "      <td>NaN</td>\n",
       "      <td>NaN</td>\n",
       "      <td>NaN</td>\n",
       "      <td>0</td>\n",
       "      <td>4</td>\n",
       "      <td>2010</td>\n",
       "      <td>WD</td>\n",
       "      <td>Normal</td>\n",
       "      <td>107500</td>\n",
       "    </tr>\n",
       "  </tbody>\n",
       "</table>\n",
       "</div>"
      ],
      "text/plain": [
       "      Id  MSSubClass MSZoning  LotFrontage  LotArea Street Alley LotShape  \\\n",
       "742  743          20       RL         65.0     8450   Pave   NaN      Reg   \n",
       "446  447          20       RL        137.0    16492   Pave   NaN      IR1   \n",
       "810  811          20       RL         78.0    10140   Pave   NaN      Reg   \n",
       "651  652          70       RL         60.0     9084   Pave   NaN      Reg   \n",
       "532  533          20       RL         60.0     7200   Pave   NaN      Reg   \n",
       "\n",
       "    LandContour Utilities LotConfig LandSlope Neighborhood Condition1  \\\n",
       "742         Lvl    AllPub    Inside       Gtl      SawyerW       Norm   \n",
       "446         Lvl    AllPub    Corner       Gtl        NAmes       PosA   \n",
       "810         Lvl    AllPub    Inside       Gtl       NWAmes       Norm   \n",
       "651         Lvl    AllPub    Inside       Gtl      Edwards     Artery   \n",
       "532         Lvl    AllPub    Inside       Gtl        NAmes       Norm   \n",
       "\n",
       "    Condition2 BldgType HouseStyle  OverallQual  OverallCond  YearBuilt  \\\n",
       "742       Norm     1Fam     1Story            7            5       2000   \n",
       "446       Norm     1Fam     1Story            6            6       1966   \n",
       "810       Norm     1Fam     1Story            6            6       1974   \n",
       "651       Norm     1Fam     2Story            4            5       1940   \n",
       "532       Norm     1Fam     1Story            5            7       1955   \n",
       "\n",
       "     YearRemodAdd RoofStyle RoofMatl Exterior1st Exterior2nd MasVnrType  \\\n",
       "742          2001     Gable  CompShg     VinylSd     VinylSd    BrkFace   \n",
       "446          2002     Gable  CompShg     BrkFace     Plywood       None   \n",
       "810          1999       Hip  CompShg     HdBoard     HdBoard    BrkFace   \n",
       "651          1950     Gable  CompShg     MetalSd     MetalSd       None   \n",
       "532          2007     Gable  CompShg     VinylSd     VinylSd       None   \n",
       "\n",
       "     MasVnrArea ExterQual ExterCond Foundation BsmtQual BsmtCond BsmtExposure  \\\n",
       "742       108.0        TA        TA      PConc       Gd       TA           No   \n",
       "446         0.0        Gd        TA     CBlock       TA       TA           No   \n",
       "810        99.0        TA        TA     CBlock       TA       TA           No   \n",
       "651         0.0        TA        TA     CBlock       TA       TA           Mn   \n",
       "532         0.0        TA        TA       Slab      NaN      NaN          NaN   \n",
       "\n",
       "    BsmtFinType1  BsmtFinSF1 BsmtFinType2  BsmtFinSF2  BsmtUnfSF  TotalBsmtSF  \\\n",
       "742          Unf           0          Unf           0       1349         1349   \n",
       "446          ALQ         247          Rec         713        557         1517   \n",
       "810          ALQ         663          LwQ         377          0         1040   \n",
       "651          Unf           0          Unf           0        755          755   \n",
       "532          NaN           0          NaN           0          0            0   \n",
       "\n",
       "    Heating HeatingQC CentralAir Electrical  1stFlrSF  2ndFlrSF  LowQualFinSF  \\\n",
       "742    GasA        Ex          Y      SBrkr      1349         0             0   \n",
       "446    GasA        Ex          Y      SBrkr      1888         0             0   \n",
       "810    GasA        Fa          Y      SBrkr      1309         0             0   \n",
       "651    GasA        TA          Y      SBrkr       755       755             0   \n",
       "532    GasA        Ex          Y      SBrkr       827         0             0   \n",
       "\n",
       "     GrLivArea  BsmtFullBath  BsmtHalfBath  FullBath  HalfBath  BedroomAbvGr  \\\n",
       "742       1349             0             0         2         0             3   \n",
       "446       1888             0             0         2         1             2   \n",
       "810       1309             1             0         1         1             3   \n",
       "651       1510             1             0         1         0             4   \n",
       "532        827             0             0         1         0             2   \n",
       "\n",
       "     KitchenAbvGr KitchenQual  TotRmsAbvGrd Functional  Fireplaces  \\\n",
       "742             1          TA             6        Typ           0   \n",
       "446             1          Gd             6        Mod           1   \n",
       "810             1          Gd             5        Typ           1   \n",
       "651             1          TA             7        Typ           1   \n",
       "532             1          TA             5        Mod           1   \n",
       "\n",
       "    FireplaceQu GarageType  GarageYrBlt GarageFinish  GarageCars  GarageArea  \\\n",
       "742         NaN     Attchd       2000.0          Unf           2         539   \n",
       "446          Gd     Attchd       1966.0          Fin           2         578   \n",
       "810          Fa     Attchd       1974.0          RFn           2         484   \n",
       "651          Gd     Detchd       1940.0          Unf           1         296   \n",
       "532          Po     Detchd       1967.0          Unf           1         392   \n",
       "\n",
       "    GarageQual GarageCond PavedDrive  WoodDeckSF  OpenPorchSF  EnclosedPorch  \\\n",
       "742         TA         TA          Y         120           55              0   \n",
       "446         TA         TA          Y           0            0              0   \n",
       "810         TA         TA          Y         265            0              0   \n",
       "651         Fa         Po          P         120            0              0   \n",
       "532         TA         TA          Y           0            0              0   \n",
       "\n",
       "     3SsnPorch  ScreenPorch  PoolArea PoolQC  Fence MiscFeature  MiscVal  \\\n",
       "742          0            0         0    NaN  GdPrv         NaN        0   \n",
       "446          0            0         0    NaN    NaN         NaN        0   \n",
       "810          0            0       648     Fa  GdPrv         NaN        0   \n",
       "651          0            0         0    NaN  MnPrv         NaN        0   \n",
       "532          0            0         0    NaN    NaN         NaN        0   \n",
       "\n",
       "     MoSold  YrSold SaleType SaleCondition  SalePrice  \n",
       "742      12    2007       WD        Normal     179000  \n",
       "446       6    2010       WD        Normal     190000  \n",
       "810       1    2006       WD        Normal     181000  \n",
       "651      10    2009       WD        Normal     108000  \n",
       "532       4    2010       WD        Normal     107500  "
      ]
     },
     "execution_count": 9,
     "metadata": {},
     "output_type": "execute_result"
    }
   ],
   "source": [
    "train.sample(5)"
   ]
  },
  {
   "cell_type": "code",
   "execution_count": 10,
   "id": "49ef6253",
   "metadata": {
    "execution": {
     "iopub.execute_input": "2022-06-28T12:43:01.141082Z",
     "iopub.status.busy": "2022-06-28T12:43:01.140377Z",
     "iopub.status.idle": "2022-06-28T12:43:01.148171Z",
     "shell.execute_reply": "2022-06-28T12:43:01.147448Z"
    },
    "papermill": {
     "duration": 0.030623,
     "end_time": "2022-06-28T12:43:01.150075",
     "exception": false,
     "start_time": "2022-06-28T12:43:01.119452",
     "status": "completed"
    },
    "tags": []
   },
   "outputs": [
    {
     "data": {
      "text/plain": [
       "Index(['Id', 'MSSubClass', 'MSZoning', 'LotFrontage', 'LotArea', 'Street',\n",
       "       'Alley', 'LotShape', 'LandContour', 'Utilities', 'LotConfig',\n",
       "       'LandSlope', 'Neighborhood', 'Condition1', 'Condition2', 'BldgType',\n",
       "       'HouseStyle', 'OverallQual', 'OverallCond', 'YearBuilt', 'YearRemodAdd',\n",
       "       'RoofStyle', 'RoofMatl', 'Exterior1st', 'Exterior2nd', 'MasVnrType',\n",
       "       'MasVnrArea', 'ExterQual', 'ExterCond', 'Foundation', 'BsmtQual',\n",
       "       'BsmtCond', 'BsmtExposure', 'BsmtFinType1', 'BsmtFinSF1',\n",
       "       'BsmtFinType2', 'BsmtFinSF2', 'BsmtUnfSF', 'TotalBsmtSF', 'Heating',\n",
       "       'HeatingQC', 'CentralAir', 'Electrical', '1stFlrSF', '2ndFlrSF',\n",
       "       'LowQualFinSF', 'GrLivArea', 'BsmtFullBath', 'BsmtHalfBath', 'FullBath',\n",
       "       'HalfBath', 'BedroomAbvGr', 'KitchenAbvGr', 'KitchenQual',\n",
       "       'TotRmsAbvGrd', 'Functional', 'Fireplaces', 'FireplaceQu', 'GarageType',\n",
       "       'GarageYrBlt', 'GarageFinish', 'GarageCars', 'GarageArea', 'GarageQual',\n",
       "       'GarageCond', 'PavedDrive', 'WoodDeckSF', 'OpenPorchSF',\n",
       "       'EnclosedPorch', '3SsnPorch', 'ScreenPorch', 'PoolArea', 'PoolQC',\n",
       "       'Fence', 'MiscFeature', 'MiscVal', 'MoSold', 'YrSold', 'SaleType',\n",
       "       'SaleCondition', 'SalePrice'],\n",
       "      dtype='object')"
      ]
     },
     "execution_count": 10,
     "metadata": {},
     "output_type": "execute_result"
    }
   ],
   "source": [
    "train.columns"
   ]
  },
  {
   "cell_type": "code",
   "execution_count": 11,
   "id": "cb3c38af",
   "metadata": {
    "execution": {
     "iopub.execute_input": "2022-06-28T12:43:01.190803Z",
     "iopub.status.busy": "2022-06-28T12:43:01.190360Z",
     "iopub.status.idle": "2022-06-28T12:43:01.223758Z",
     "shell.execute_reply": "2022-06-28T12:43:01.222351Z"
    },
    "papermill": {
     "duration": 0.056318,
     "end_time": "2022-06-28T12:43:01.226049",
     "exception": false,
     "start_time": "2022-06-28T12:43:01.169731",
     "status": "completed"
    },
    "tags": []
   },
   "outputs": [
    {
     "name": "stdout",
     "output_type": "stream",
     "text": [
      "===== Missing Training Data =====\n",
      "Id                 0\n",
      "MSSubClass         0\n",
      "MSZoning           0\n",
      "LotFrontage      259\n",
      "LotArea            0\n",
      "                ... \n",
      "MoSold             0\n",
      "YrSold             0\n",
      "SaleType           0\n",
      "SaleCondition      0\n",
      "SalePrice          0\n",
      "Length: 81, dtype: int64\n",
      "===== Missing Test Data =====\n",
      "Id                 0\n",
      "MSSubClass         0\n",
      "MSZoning           4\n",
      "LotFrontage      227\n",
      "LotArea            0\n",
      "                ... \n",
      "MiscVal            0\n",
      "MoSold             0\n",
      "YrSold             0\n",
      "SaleType           1\n",
      "SaleCondition      0\n",
      "Length: 80, dtype: int64\n"
     ]
    }
   ],
   "source": [
    "print(\"=\" * 5, \"Missing Training Data\", \"=\" * 5)\n",
    "print(train.isnull().sum())\n",
    "print(\"=\" * 5, \"Missing Test Data\", \"=\" * 5)\n",
    "print(test.isnull().sum())"
   ]
  },
  {
   "cell_type": "code",
   "execution_count": 12,
   "id": "560a15af",
   "metadata": {
    "execution": {
     "iopub.execute_input": "2022-06-28T12:43:01.267488Z",
     "iopub.status.busy": "2022-06-28T12:43:01.266875Z",
     "iopub.status.idle": "2022-06-28T12:43:01.272526Z",
     "shell.execute_reply": "2022-06-28T12:43:01.271887Z"
    },
    "papermill": {
     "duration": 0.028089,
     "end_time": "2022-06-28T12:43:01.274208",
     "exception": false,
     "start_time": "2022-06-28T12:43:01.246119",
     "status": "completed"
    },
    "tags": []
   },
   "outputs": [],
   "source": [
    "numerical_features = [\"LotArea\", \"GrLivArea\"]\n",
    "# numerical_features = [\"LotArea\"]"
   ]
  },
  {
   "cell_type": "code",
   "execution_count": 13,
   "id": "adfa3b1a",
   "metadata": {
    "execution": {
     "iopub.execute_input": "2022-06-28T12:43:01.315085Z",
     "iopub.status.busy": "2022-06-28T12:43:01.314523Z",
     "iopub.status.idle": "2022-06-28T12:43:01.349799Z",
     "shell.execute_reply": "2022-06-28T12:43:01.348884Z"
    },
    "papermill": {
     "duration": 0.057863,
     "end_time": "2022-06-28T12:43:01.351728",
     "exception": false,
     "start_time": "2022-06-28T12:43:01.293865",
     "status": "completed"
    },
    "tags": []
   },
   "outputs": [],
   "source": [
    "FEATURES = numerical_features\n",
    "\n",
    "FEATURES = [\n",
    "    \"MSSubClass\",\n",
    "    \"MSZoning\",\n",
    "    \"LotFrontage\",\n",
    "    \"LotArea\",\n",
    "    \"Street\",\n",
    "    \"Alley\",\n",
    "    \"LotShape\",\n",
    "    \"LandContour\",\n",
    "    \"Utilities\",\n",
    "    \"LotConfig\",\n",
    "    \"LandSlope\",\n",
    "    \"Neighborhood\",\n",
    "    \"Condition1\",\n",
    "    \"Condition2\",\n",
    "    \"BldgType\",\n",
    "    \"HouseStyle\",\n",
    "    \"OverallQual\",\n",
    "    \"OverallCond\",\n",
    "    \"YearBuilt\",\n",
    "    \"YearRemodAdd\",\n",
    "    \"RoofStyle\",\n",
    "    \"RoofMatl\",\n",
    "    \"Exterior1st\",\n",
    "    \"Exterior2nd\",\n",
    "    \"MasVnrType\",\n",
    "    \"MasVnrArea\",\n",
    "    \"ExterQual\",\n",
    "    \"ExterCond\",\n",
    "    \"Foundation\",\n",
    "    \"BsmtQual\",\n",
    "    \"BsmtCond\",\n",
    "    \"BsmtExposure\",\n",
    "    \"BsmtFinType1\",\n",
    "    \"BsmtFinSF1\",\n",
    "    \"BsmtFinType2\",\n",
    "    \"BsmtFinSF2\",\n",
    "    \"BsmtUnfSF\",\n",
    "    \"TotalBsmtSF\",\n",
    "    \"Heating\",\n",
    "    \"HeatingQC\",\n",
    "    \"CentralAir\",\n",
    "    \"Electrical\",\n",
    "    \"1stFlrSF\",\n",
    "    \"2ndFlrSF\",\n",
    "    \"LowQualFinSF\",\n",
    "    \"GrLivArea\",\n",
    "    \"BsmtFullBath\",\n",
    "    \"BsmtHalfBath\",\n",
    "    \"FullBath\",\n",
    "    \"HalfBath\",\n",
    "    \"BedroomAbvGr\",\n",
    "    \"KitchenAbvGr\",\n",
    "    \"KitchenQual\",\n",
    "    \"TotRmsAbvGrd\",\n",
    "    \"Functional\",\n",
    "    \"Fireplaces\",\n",
    "    \"FireplaceQu\",\n",
    "    \"GarageType\",\n",
    "    \"GarageYrBlt\",\n",
    "    \"GarageFinish\",\n",
    "    \"GarageCars\",\n",
    "    \"GarageArea\",\n",
    "    \"GarageQual\",\n",
    "    \"GarageCond\",\n",
    "    \"PavedDrive\",\n",
    "    \"WoodDeckSF\",\n",
    "    \"OpenPorchSF\",\n",
    "    \"EnclosedPorch\",\n",
    "    \"3SsnPorch\",\n",
    "    \"ScreenPorch\",\n",
    "    \"PoolArea\",\n",
    "    \"PoolQC\",\n",
    "    \"Fence\",\n",
    "    \"MiscFeature\",\n",
    "    \"MiscVal\",\n",
    "    \"MoSold\",\n",
    "    \"YrSold\",\n",
    "    \"SaleType\",\n",
    "    \"SaleCondition\",\n",
    "]"
   ]
  },
  {
   "cell_type": "code",
   "execution_count": 14,
   "id": "fcb43d07",
   "metadata": {
    "execution": {
     "iopub.execute_input": "2022-06-28T12:43:01.393815Z",
     "iopub.status.busy": "2022-06-28T12:43:01.392928Z",
     "iopub.status.idle": "2022-06-28T12:43:01.641517Z",
     "shell.execute_reply": "2022-06-28T12:43:01.640500Z"
    },
    "papermill": {
     "duration": 0.272379,
     "end_time": "2022-06-28T12:43:01.643947",
     "exception": false,
     "start_time": "2022-06-28T12:43:01.371568",
     "status": "completed"
    },
    "tags": []
   },
   "outputs": [],
   "source": [
    "encode = [\n",
    "    \"MSSubClass\",\n",
    "    \"MSZoning\",\n",
    "    \"LotFrontage\",\n",
    "    \"Street\",\n",
    "    \"Alley\",\n",
    "    \"LotShape\",\n",
    "    \"LandContour\",\n",
    "    \"Utilities\",\n",
    "    \"LotConfig\",\n",
    "    \"LandSlope\",\n",
    "    \"Neighborhood\",\n",
    "    \"Condition1\",\n",
    "    \"Condition2\",\n",
    "    \"BldgType\",\n",
    "    \"HouseStyle\",\n",
    "    \"OverallQual\",\n",
    "    \"OverallCond\",\n",
    "    #     \"YearBuilt\",\n",
    "    #     \"YearRemodAdd\",\n",
    "    \"RoofStyle\",\n",
    "    \"RoofMatl\",\n",
    "    \"Exterior1st\",\n",
    "    \"Exterior2nd\",\n",
    "    \"MasVnrType\",\n",
    "    #     \"MasVnrArea\",\n",
    "    \"ExterQual\",\n",
    "    \"ExterCond\",\n",
    "    \"Foundation\",\n",
    "    \"BsmtQual\",\n",
    "    \"BsmtCond\",\n",
    "    \"BsmtExposure\",\n",
    "    \"BsmtFinType1\",\n",
    "    \"BsmtFinSF1\",\n",
    "    \"BsmtFinType2\",\n",
    "    \"BsmtFinSF2\",\n",
    "    \"BsmtUnfSF\",\n",
    "    #     \"TotalBsmtSF\",\n",
    "    \"Heating\",\n",
    "    \"HeatingQC\",\n",
    "    \"CentralAir\",\n",
    "    \"Electrical\",\n",
    "    #     \"1stFlrSF\",\n",
    "    #     \"2ndFlrSF\",\n",
    "    #     \"LowQualFinSF\",\n",
    "    #     \"GrLivArea\",\n",
    "    #     \"BsmtFullBath\",\n",
    "    #     \"BsmtHalfBath\",\n",
    "    #     \"FullBath\",\n",
    "    #     \"HalfBath\",\n",
    "    #     \"BedroomAbvGr\",\n",
    "    #     \"KitchenAbvGr\",\n",
    "    \"KitchenQual\",\n",
    "    #     \"TotRmsAbvGrd\",\n",
    "    \"Functional\",\n",
    "    \"Fireplaces\",\n",
    "    \"FireplaceQu\",\n",
    "    \"GarageType\",\n",
    "    \"GarageYrBlt\",\n",
    "    \"GarageFinish\",\n",
    "    \"GarageCars\",\n",
    "    \"GarageArea\",\n",
    "    \"GarageQual\",\n",
    "    \"GarageCond\",\n",
    "    \"PavedDrive\",\n",
    "    \"WoodDeckSF\",\n",
    "    \"OpenPorchSF\",\n",
    "    \"EnclosedPorch\",\n",
    "    \"3SsnPorch\",\n",
    "    \"ScreenPorch\",\n",
    "    \"PoolArea\",\n",
    "    \"PoolQC\",\n",
    "    \"Fence\",\n",
    "    \"MiscFeature\",\n",
    "    \"MiscVal\",\n",
    "    \"MoSold\",\n",
    "    \"YrSold\",\n",
    "    \"SaleType\",\n",
    "    \"SaleCondition\",\n",
    "]\n",
    "\n",
    "train, test = label_encoder(train, test, encode)"
   ]
  },
  {
   "cell_type": "code",
   "execution_count": 15,
   "id": "6a9a180b",
   "metadata": {
    "execution": {
     "iopub.execute_input": "2022-06-28T12:43:01.684948Z",
     "iopub.status.busy": "2022-06-28T12:43:01.684553Z",
     "iopub.status.idle": "2022-06-28T12:43:01.700660Z",
     "shell.execute_reply": "2022-06-28T12:43:01.700037Z"
    },
    "papermill": {
     "duration": 0.038902,
     "end_time": "2022-06-28T12:43:01.702520",
     "exception": false,
     "start_time": "2022-06-28T12:43:01.663618",
     "status": "completed"
    },
    "tags": []
   },
   "outputs": [],
   "source": [
    "y = train[TARGET]\n",
    "X = train[FEATURES].copy()\n",
    "\n",
    "X_test = test[FEATURES].copy()"
   ]
  },
  {
   "cell_type": "markdown",
   "id": "2fc3d65f",
   "metadata": {
    "papermill": {
     "duration": 0.019447,
     "end_time": "2022-06-28T12:43:01.741441",
     "exception": false,
     "start_time": "2022-06-28T12:43:01.721994",
     "status": "completed"
    },
    "tags": []
   },
   "source": [
    "## Forward Selection and Backward Elimination"
   ]
  },
  {
   "cell_type": "code",
   "execution_count": 16,
   "id": "23fda7e4",
   "metadata": {
    "execution": {
     "iopub.execute_input": "2022-06-28T12:43:01.783995Z",
     "iopub.status.busy": "2022-06-28T12:43:01.783593Z",
     "iopub.status.idle": "2022-06-28T12:43:03.472328Z",
     "shell.execute_reply": "2022-06-28T12:43:03.471166Z"
    },
    "papermill": {
     "duration": 1.712897,
     "end_time": "2022-06-28T12:43:03.474542",
     "exception": false,
     "start_time": "2022-06-28T12:43:01.761645",
     "status": "completed"
    },
    "tags": []
   },
   "outputs": [
    {
     "name": "stdout",
     "output_type": "stream",
     "text": [
      "\n",
      " === Selected features: [] ===\n",
      "\n",
      "n=0, Best formula: \n",
      "Keep: MSSubClass, SalePrice~MSSubClass, p=0.03630525537158652\n",
      "Keep: MSZoning, SalePrice~MSZoning, p=1.4013002757706294e-10\n",
      "Keep: LotArea, SalePrice~LotArea, p=1.1231391549186041e-24\n",
      "Keep: Alley, SalePrice~Alley, p=8.043097929703818e-08\n",
      "Keep: LotShape, SalePrice~LotShape, p=3.3207118181991816e-23\n",
      "Keep: LotConfig, SalePrice~LotConfig, p=0.009997321823666323\n",
      "Keep: Neighborhood, SalePrice~Neighborhood, p=3.90673280425688e-16\n",
      "Keep: Condition1, SalePrice~Condition1, p=0.0004879176783950963\n",
      "Keep: BldgType, SalePrice~BldgType, p=0.001061792696353839\n",
      "Keep: HouseStyle, SalePrice~HouseStyle, p=4.064282849445137e-12\n",
      "Keep: OverallQual, SalePrice~OverallQual, p=2.291032330589944e-99\n",
      "Keep: OverallCond, SalePrice~OverallCond, p=0.002912351267915664\n",
      "Keep: YearBuilt, SalePrice~YearBuilt, p=2.990229099013344e-103\n",
      "Keep: YearRemodAdd, SalePrice~YearRemodAdd, p=3.1649482419160998e-96\n",
      "Keep: RoofStyle, SalePrice~RoofStyle, p=8.060304484029286e-18\n",
      "Keep: RoofMatl, SalePrice~RoofMatl, p=3.8470084533578535e-07\n",
      "Keep: Exterior1st, SalePrice~Exterior1st, p=7.371973454237625e-05\n",
      "Keep: Exterior2nd, SalePrice~Exterior2nd, p=7.120993560301518e-05\n",
      "Keep: MasVnrArea, SalePrice~MasVnrArea, p=1.4585086425870006e-83\n",
      "Keep: ExterQual, SalePrice~ExterQual, p=6.4244677574189174e-167\n",
      "Keep: ExterCond, SalePrice~ExterCond, p=6.995963215335786e-06\n",
      "Keep: Foundation, SalePrice~Foundation, p=4.579865873934316e-52\n",
      "Keep: BsmtQual, SalePrice~BsmtQual, p=2.286498109460823e-156\n",
      "Keep: BsmtExposure, SalePrice~BsmtExposure, p=1.1128268651594427e-33\n",
      "Keep: BsmtFinType1, SalePrice~BsmtFinType1, p=7.909699759412333e-05\n",
      "Keep: TotalBsmtSF, SalePrice~TotalBsmtSF, p=9.484229391499009e-152\n",
      "Keep: Heating, SalePrice~Heating, p=0.00015580603898639715\n",
      "Keep: HeatingQC, SalePrice~HeatingQC, p=2.898927554977434e-57\n",
      "Keep: CentralAir, SalePrice~CentralAir, p=1.8095061559266025e-22\n",
      "Keep: Electrical, SalePrice~Electrical, p=1.0083408315556856e-19\n",
      "Keep: GrLivArea, SalePrice~GrLivArea, p=4.518033646776791e-223\n",
      "Keep: BsmtFullBath, SalePrice~BsmtFullBath, p=1.5503441372135892e-18\n",
      "Keep: FullBath, SalePrice~FullBath, p=1.2364700667593573e-121\n",
      "Keep: HalfBath, SalePrice~HalfBath, p=1.6504733955711194e-28\n",
      "Keep: BedroomAbvGr, SalePrice~BedroomAbvGr, p=9.92749732617919e-11\n",
      "Keep: KitchenAbvGr, SalePrice~KitchenAbvGr, p=1.8604260320754307e-07\n",
      "Keep: KitchenQual, SalePrice~KitchenQual, p=3.5591161763744553e-137\n",
      "Keep: TotRmsAbvGrd, SalePrice~TotRmsAbvGrd, p=2.7722809329560075e-108\n",
      "Keep: Functional, SalePrice~Functional, p=9.97813470238327e-06\n",
      "Keep: Fireplaces, SalePrice~Fireplaces, p=6.1414874611216516e-80\n",
      "Keep: FireplaceQu, SalePrice~FireplaceQu, p=3.3926879587036267e-77\n",
      "Keep: GarageType, SalePrice~GarageType, p=5.866699485097443e-62\n",
      "Keep: GarageYrBlt, SalePrice~GarageYrBlt, p=6.581890818935044e-52\n",
      "Keep: GarageFinish, SalePrice~GarageFinish, p=7.922769146244599e-116\n",
      "Keep: GarageCars, SalePrice~GarageCars, p=2.4986441671770443e-169\n",
      "Keep: GarageArea, SalePrice~GarageArea, p=7.653384953023585e-132\n",
      "Keep: PavedDrive, SalePrice~PavedDrive, p=3.4183397482220406e-19\n",
      "Keep: WoodDeckSF, SalePrice~WoodDeckSF, p=1.0272640750196289e-13\n",
      "Keep: OpenPorchSF, SalePrice~OpenPorchSF, p=7.709533829098937e-43\n",
      "Keep: EnclosedPorch, SalePrice~EnclosedPorch, p=3.0916153065905637e-07\n",
      "Keep: ScreenPorch, SalePrice~ScreenPorch, p=0.001834445466992878\n",
      "Keep: PoolArea, SalePrice~PoolArea, p=0.0007432977701167192\n",
      "Keep: PoolQC, SalePrice~PoolQC, p=1.3497584411037684e-06\n",
      "Keep: Fence, SalePrice~Fence, p=6.81058665121881e-08\n",
      "Keep: MiscFeature, SalePrice~MiscFeature, p=0.004892952170405999\n",
      "Keep: MiscVal, SalePrice~MiscVal, p=0.005175647964899359\n",
      "Keep: SaleType, SalePrice~SaleType, p=0.03590952105111415\n",
      "Keep: SaleCondition, SalePrice~SaleCondition, p=1.8727294884816718e-16\n",
      "Reverse sorted=[(0.03630525537158652, 'MSSubClass'), (0.03590952105111415, 'SaleType'), (0.009997321823666323, 'LotConfig'), (0.005175647964899359, 'MiscVal'), (0.004892952170405999, 'MiscFeature'), (0.002912351267915664, 'OverallCond'), (0.001834445466992878, 'ScreenPorch'), (0.001061792696353839, 'BldgType'), (0.0007432977701167192, 'PoolArea'), (0.0004879176783950963, 'Condition1'), (0.00015580603898639715, 'Heating'), (7.909699759412333e-05, 'BsmtFinType1'), (7.371973454237625e-05, 'Exterior1st'), (7.120993560301518e-05, 'Exterior2nd'), (9.97813470238327e-06, 'Functional'), (6.995963215335786e-06, 'ExterCond'), (1.3497584411037684e-06, 'PoolQC'), (3.8470084533578535e-07, 'RoofMatl'), (3.0916153065905637e-07, 'EnclosedPorch'), (1.8604260320754307e-07, 'KitchenAbvGr'), (8.043097929703818e-08, 'Alley'), (6.81058665121881e-08, 'Fence'), (1.4013002757706294e-10, 'MSZoning'), (9.92749732617919e-11, 'BedroomAbvGr'), (4.064282849445137e-12, 'HouseStyle'), (1.0272640750196289e-13, 'WoodDeckSF'), (3.90673280425688e-16, 'Neighborhood'), (1.8727294884816718e-16, 'SaleCondition'), (8.060304484029286e-18, 'RoofStyle'), (1.5503441372135892e-18, 'BsmtFullBath'), (3.4183397482220406e-19, 'PavedDrive'), (1.0083408315556856e-19, 'Electrical'), (1.8095061559266025e-22, 'CentralAir'), (3.3207118181991816e-23, 'LotShape'), (1.1231391549186041e-24, 'LotArea'), (1.6504733955711194e-28, 'HalfBath'), (1.1128268651594427e-33, 'BsmtExposure'), (7.709533829098937e-43, 'OpenPorchSF'), (6.581890818935044e-52, 'GarageYrBlt'), (4.579865873934316e-52, 'Foundation'), (2.898927554977434e-57, 'HeatingQC'), (5.866699485097443e-62, 'GarageType'), (3.3926879587036267e-77, 'FireplaceQu'), (6.1414874611216516e-80, 'Fireplaces'), (1.4585086425870006e-83, 'MasVnrArea'), (3.1649482419160998e-96, 'YearRemodAdd'), (2.291032330589944e-99, 'OverallQual'), (2.990229099013344e-103, 'YearBuilt'), (2.7722809329560075e-108, 'TotRmsAbvGrd'), (7.922769146244599e-116, 'GarageFinish'), (1.2364700667593573e-121, 'FullBath'), (7.653384953023585e-132, 'GarageArea'), (3.5591161763744553e-137, 'KitchenQual'), (9.484229391499009e-152, 'TotalBsmtSF'), (2.286498109460823e-156, 'BsmtQual'), (6.4244677574189174e-167, 'ExterQual'), (2.4986441671770443e-169, 'GarageCars'), (4.518033646776791e-223, 'GrLivArea')]\n",
      "\n",
      "->Best feature GrLivArea with best P-value = 4.52E-223\n",
      "Selected Features: ['GrLivArea']\n",
      "========== \n",
      "\n",
      "\n",
      "\n",
      " === Selected features: ['GrLivArea'] ===\n",
      "\n",
      "n=1, Best formula: SalePrice~SaleCondition\n",
      "Keep: MSSubClass, SalePrice~GrLivArea+MSSubClass, p=4.265098465002362e-25\n",
      "Keep: MSZoning, SalePrice~GrLivArea+MSZoning, p=3.322823146162651e-09\n",
      "Keep: LotArea, SalePrice~GrLivArea+LotArea, p=1.3424272775610629e-05\n",
      "Keep: Alley, SalePrice~GrLivArea+Alley, p=6.038216523616174e-12\n",
      "Keep: LotShape, SalePrice~GrLivArea+LotShape, p=3.0880959335303756e-13\n",
      "Keep: LandContour, SalePrice~GrLivArea+LandContour, p=0.0005059280041703828\n",
      "Keep: Neighborhood, SalePrice~GrLivArea+Neighborhood, p=5.903871536143146e-09\n",
      "Keep: Condition1, SalePrice~GrLivArea+Condition1, p=0.0013297007430607723\n",
      "Keep: OverallQual, SalePrice~GrLivArea+OverallQual, p=1.423561660404833e-56\n",
      "Keep: YearBuilt, SalePrice~GrLivArea+YearBuilt, p=2.9247427043112663e-117\n",
      "Keep: YearRemodAdd, SalePrice~GrLivArea+YearRemodAdd, p=2.692531193874093e-73\n",
      "Keep: RoofStyle, SalePrice~GrLivArea+RoofStyle, p=8.351993389749583e-10\n",
      "Keep: RoofMatl, SalePrice~GrLivArea+RoofMatl, p=0.020158408399256835\n",
      "Keep: Exterior1st, SalePrice~GrLivArea+Exterior1st, p=0.001949408767041249\n",
      "Keep: Exterior2nd, SalePrice~GrLivArea+Exterior2nd, p=0.002497351667582958\n",
      "Keep: MasVnrType, SalePrice~GrLivArea+MasVnrType, p=0.001998350238983826\n",
      "Keep: MasVnrArea, SalePrice~GrLivArea+MasVnrArea, p=2.2767672861856737e-33\n",
      "Keep: ExterQual, SalePrice~GrLivArea+ExterQual, p=2.768794022226995e-111\n",
      "Keep: ExterCond, SalePrice~GrLivArea+ExterCond, p=2.0048191054890523e-06\n",
      "Keep: Foundation, SalePrice~GrLivArea+Foundation, p=1.4975832454410102e-37\n",
      "Keep: BsmtQual, SalePrice~GrLivArea+BsmtQual, p=2.800556712226801e-120\n",
      "Keep: BsmtCond, SalePrice~GrLivArea+BsmtCond, p=0.01298945467108404\n",
      "Keep: BsmtExposure, SalePrice~GrLivArea+BsmtExposure, p=2.0561000510171556e-46\n",
      "Keep: BsmtFinType1, SalePrice~GrLivArea+BsmtFinType1, p=1.8664140681705504e-16\n",
      "Keep: BsmtFinSF1, SalePrice~GrLivArea+BsmtFinSF1, p=0.002795187769653054\n",
      "Keep: BsmtUnfSF, SalePrice~GrLivArea+BsmtUnfSF, p=0.0007329667268934669\n",
      "Keep: TotalBsmtSF, SalePrice~GrLivArea+TotalBsmtSF, p=1.3544405341534186e-78\n",
      "Keep: Heating, SalePrice~GrLivArea+Heating, p=2.5164617457784627e-06\n",
      "Keep: HeatingQC, SalePrice~GrLivArea+HeatingQC, p=2.772751193028152e-40\n",
      "Keep: CentralAir, SalePrice~GrLivArea+CentralAir, p=1.4688362410759008e-24\n",
      "Keep: Electrical, SalePrice~GrLivArea+Electrical, p=1.3340395474918126e-15\n",
      "Keep: LowQualFinSF, SalePrice~GrLivArea+LowQualFinSF, p=2.7810116175680416e-11\n",
      "Keep: BsmtFullBath, SalePrice~GrLivArea+BsmtFullBath, p=4.43363549204623e-29\n",
      "Keep: FullBath, SalePrice~GrLivArea+FullBath, p=8.695340964838191e-16\n",
      "Keep: BedroomAbvGr, SalePrice~GrLivArea+BedroomAbvGr, p=2.2326284890353938e-39\n",
      "Keep: KitchenAbvGr, SalePrice~GrLivArea+KitchenAbvGr, p=1.3369310142648231e-30\n",
      "Keep: KitchenQual, SalePrice~GrLivArea+KitchenQual, p=1.8701763898147667e-88\n",
      "Keep: TotRmsAbvGrd, SalePrice~GrLivArea+TotRmsAbvGrd, p=8.191024833778699e-07\n",
      "Keep: Functional, SalePrice~GrLivArea+Functional, p=3.5459629774918034e-17\n",
      "Keep: Fireplaces, SalePrice~GrLivArea+Fireplaces, p=6.031389081125454e-18\n",
      "Keep: FireplaceQu, SalePrice~GrLivArea+FireplaceQu, p=1.8948476941934037e-32\n",
      "Keep: GarageType, SalePrice~GrLivArea+GarageType, p=7.52665895595199e-47\n",
      "Keep: GarageYrBlt, SalePrice~GrLivArea+GarageYrBlt, p=7.436162236054383e-50\n",
      "Keep: GarageFinish, SalePrice~GrLivArea+GarageFinish, p=9.49323741944096e-75\n",
      "Keep: GarageCars, SalePrice~GrLivArea+GarageCars, p=2.2748820163037388e-91\n",
      "Keep: GarageArea, SalePrice~GrLivArea+GarageArea, p=1.1574943099922285e-69\n",
      "Keep: PavedDrive, SalePrice~GrLivArea+PavedDrive, p=6.495277097737853e-22\n",
      "Keep: WoodDeckSF, SalePrice~GrLivArea+WoodDeckSF, p=4.072737302438168e-06\n",
      "Keep: OpenPorchSF, SalePrice~GrLivArea+OpenPorchSF, p=1.5102451761997272e-17\n",
      "Keep: EnclosedPorch, SalePrice~GrLivArea+EnclosedPorch, p=3.6671562297214516e-11\n",
      "Keep: Fence, SalePrice~GrLivArea+Fence, p=8.026429399378802e-07\n",
      "Keep: MiscFeature, SalePrice~GrLivArea+MiscFeature, p=0.02224320003899881\n",
      "Keep: MiscVal, SalePrice~GrLivArea+MiscVal, p=0.039241657661629015\n",
      "Keep: SaleCondition, SalePrice~GrLivArea+SaleCondition, p=1.0715050778676781e-17\n",
      "Reverse sorted=[(0.039241657661629015, 'MiscVal'), (0.02224320003899881, 'MiscFeature'), (0.020158408399256835, 'RoofMatl'), (0.01298945467108404, 'BsmtCond'), (0.002795187769653054, 'BsmtFinSF1'), (0.002497351667582958, 'Exterior2nd'), (0.001998350238983826, 'MasVnrType'), (0.001949408767041249, 'Exterior1st'), (0.0013297007430607723, 'Condition1'), (0.0007329667268934669, 'BsmtUnfSF'), (0.0005059280041703828, 'LandContour'), (1.3424272775610629e-05, 'LotArea'), (4.072737302438168e-06, 'WoodDeckSF'), (2.5164617457784627e-06, 'Heating'), (2.0048191054890523e-06, 'ExterCond'), (8.191024833778699e-07, 'TotRmsAbvGrd'), (8.026429399378802e-07, 'Fence'), (5.903871536143146e-09, 'Neighborhood'), (3.322823146162651e-09, 'MSZoning'), (8.351993389749583e-10, 'RoofStyle'), (3.6671562297214516e-11, 'EnclosedPorch'), (2.7810116175680416e-11, 'LowQualFinSF'), (6.038216523616174e-12, 'Alley'), (3.0880959335303756e-13, 'LotShape'), (1.3340395474918126e-15, 'Electrical'), (8.695340964838191e-16, 'FullBath'), (1.8664140681705504e-16, 'BsmtFinType1'), (3.5459629774918034e-17, 'Functional'), (1.5102451761997272e-17, 'OpenPorchSF'), (1.0715050778676781e-17, 'SaleCondition'), (6.031389081125454e-18, 'Fireplaces'), (6.495277097737853e-22, 'PavedDrive'), (1.4688362410759008e-24, 'CentralAir'), (4.265098465002362e-25, 'MSSubClass'), (4.43363549204623e-29, 'BsmtFullBath'), (1.3369310142648231e-30, 'KitchenAbvGr'), (1.8948476941934037e-32, 'FireplaceQu'), (2.2767672861856737e-33, 'MasVnrArea'), (1.4975832454410102e-37, 'Foundation'), (2.2326284890353938e-39, 'BedroomAbvGr'), (2.772751193028152e-40, 'HeatingQC'), (2.0561000510171556e-46, 'BsmtExposure'), (7.52665895595199e-47, 'GarageType'), (7.436162236054383e-50, 'GarageYrBlt'), (1.423561660404833e-56, 'OverallQual'), (1.1574943099922285e-69, 'GarageArea'), (2.692531193874093e-73, 'YearRemodAdd'), (9.49323741944096e-75, 'GarageFinish'), (1.3544405341534186e-78, 'TotalBsmtSF'), (1.8701763898147667e-88, 'KitchenQual'), (2.2748820163037388e-91, 'GarageCars'), (2.768794022226995e-111, 'ExterQual'), (2.9247427043112663e-117, 'YearBuilt'), (2.800556712226801e-120, 'BsmtQual')]\n",
      "\n",
      "->Best feature BsmtQual with best P-value = 2.80E-120\n",
      "Selected Features: ['GrLivArea', 'BsmtQual']\n",
      "========== \n",
      "\n",
      "\n"
     ]
    }
   ],
   "source": [
    "import statsmodels.api as sm\n",
    "\n",
    "from statsmodels.formula.api import ols\n",
    "\n",
    "selected_features = []\n",
    "\n",
    "remaining_features = [\n",
    "    \"MSSubClass\",\n",
    "    \"MSZoning\",\n",
    "    \"LotFrontage\",\n",
    "    \"LotArea\",\n",
    "    \"Street\",\n",
    "    \"Alley\",\n",
    "    \"LotShape\",\n",
    "    \"LandContour\",\n",
    "    \"Utilities\",\n",
    "    \"LotConfig\",\n",
    "    \"LandSlope\",\n",
    "    \"Neighborhood\",\n",
    "    \"Condition1\",\n",
    "    \"Condition2\",\n",
    "    \"BldgType\",\n",
    "    \"HouseStyle\",\n",
    "    \"OverallQual\",\n",
    "    \"OverallCond\",\n",
    "    \"YearBuilt\",\n",
    "    \"YearRemodAdd\",\n",
    "    \"RoofStyle\",\n",
    "    \"RoofMatl\",\n",
    "    \"Exterior1st\",\n",
    "    \"Exterior2nd\",\n",
    "    \"MasVnrType\",\n",
    "    \"MasVnrArea\",\n",
    "    \"ExterQual\",\n",
    "    \"ExterCond\",\n",
    "    \"Foundation\",\n",
    "    \"BsmtQual\",\n",
    "    \"BsmtCond\",\n",
    "    \"BsmtExposure\",\n",
    "    \"BsmtFinType1\",\n",
    "    \"BsmtFinSF1\",\n",
    "    \"BsmtFinType2\",\n",
    "    \"BsmtFinSF2\",\n",
    "    \"BsmtUnfSF\",\n",
    "    \"TotalBsmtSF\",\n",
    "    \"Heating\",\n",
    "    \"HeatingQC\",\n",
    "    \"CentralAir\",\n",
    "    \"Electrical\",\n",
    "    \"1stFlrSF\",\n",
    "    \"2ndFlrSF\",\n",
    "    \"LowQualFinSF\",\n",
    "    \"GrLivArea\",\n",
    "    \"BsmtFullBath\",\n",
    "    \"BsmtHalfBath\",\n",
    "    \"FullBath\",\n",
    "    \"HalfBath\",\n",
    "    \"BedroomAbvGr\",\n",
    "    \"KitchenAbvGr\",\n",
    "    \"KitchenQual\",\n",
    "    \"TotRmsAbvGrd\",\n",
    "    \"Functional\",\n",
    "    \"Fireplaces\",\n",
    "    \"FireplaceQu\",\n",
    "    \"GarageType\",\n",
    "    \"GarageYrBlt\",\n",
    "    \"GarageFinish\",\n",
    "    \"GarageCars\",\n",
    "    \"GarageArea\",\n",
    "    \"GarageQual\",\n",
    "    \"GarageCond\",\n",
    "    \"PavedDrive\",\n",
    "    \"WoodDeckSF\",\n",
    "    \"OpenPorchSF\",\n",
    "    \"EnclosedPorch\",\n",
    "    \"3SsnPorch\",\n",
    "    \"ScreenPorch\",\n",
    "    \"PoolArea\",\n",
    "    \"PoolQC\",\n",
    "    \"Fence\",\n",
    "    \"MiscFeature\",\n",
    "    \"MiscVal\",\n",
    "    \"MoSold\",\n",
    "    \"YrSold\",\n",
    "    \"SaleType\",\n",
    "    \"SaleCondition\",\n",
    "]\n",
    "\n",
    "\n",
    "remaining_features = [\n",
    "    \"MSSubClass\",\n",
    "    \"MSZoning\",\n",
    "    \"LotFrontage\",\n",
    "    \"LotArea\",\n",
    "    \"Street\",\n",
    "    \"Alley\",\n",
    "    \"LotShape\",\n",
    "    \"LandContour\",\n",
    "    \"Utilities\",\n",
    "    \"LotConfig\",\n",
    "    \"LandSlope\",\n",
    "    \"Neighborhood\",\n",
    "    \"Condition1\",\n",
    "    \"Condition2\",\n",
    "    \"BldgType\",\n",
    "    \"HouseStyle\",\n",
    "    \"OverallQual\",\n",
    "    \"OverallCond\",\n",
    "    \"YearBuilt\",\n",
    "    \"YearRemodAdd\",\n",
    "    \"RoofStyle\",\n",
    "    \"RoofMatl\",\n",
    "    \"Exterior1st\",\n",
    "    \"Exterior2nd\",\n",
    "    \"MasVnrType\",\n",
    "    \"MasVnrArea\",\n",
    "    \"ExterQual\",\n",
    "    \"ExterCond\",\n",
    "    \"Foundation\",\n",
    "    \"BsmtQual\",\n",
    "    \"BsmtCond\",\n",
    "    \"BsmtExposure\",\n",
    "    \"BsmtFinType1\",\n",
    "    \"BsmtFinSF1\",\n",
    "    \"BsmtFinType2\",\n",
    "    \"BsmtFinSF2\",\n",
    "    \"BsmtUnfSF\",\n",
    "    \"TotalBsmtSF\",\n",
    "    \"Heating\",\n",
    "    \"HeatingQC\",\n",
    "    \"CentralAir\",\n",
    "    \"Electrical\",\n",
    "    #     \"1stFlrSF\",\n",
    "    #     \"2ndFlrSF\",\n",
    "    \"LowQualFinSF\",\n",
    "    \"GrLivArea\",\n",
    "    \"BsmtFullBath\",\n",
    "    \"BsmtHalfBath\",\n",
    "    \"FullBath\",\n",
    "    \"HalfBath\",\n",
    "    \"BedroomAbvGr\",\n",
    "    \"KitchenAbvGr\",\n",
    "    \"KitchenQual\",\n",
    "    \"TotRmsAbvGrd\",\n",
    "    \"Functional\",\n",
    "    \"Fireplaces\",\n",
    "    \"FireplaceQu\",\n",
    "    \"GarageType\",\n",
    "    \"GarageYrBlt\",\n",
    "    \"GarageFinish\",\n",
    "    \"GarageCars\",\n",
    "    \"GarageArea\",\n",
    "    \"GarageQual\",\n",
    "    \"GarageCond\",\n",
    "    \"PavedDrive\",\n",
    "    \"WoodDeckSF\",\n",
    "    \"OpenPorchSF\",\n",
    "    \"EnclosedPorch\",\n",
    "    #     \"3SsnPorch\",\n",
    "    \"ScreenPorch\",\n",
    "    \"PoolArea\",\n",
    "    \"PoolQC\",\n",
    "    \"Fence\",\n",
    "    \"MiscFeature\",\n",
    "    \"MiscVal\",\n",
    "    \"MoSold\",\n",
    "    \"YrSold\",\n",
    "    \"SaleType\",\n",
    "    \"SaleCondition\",\n",
    "]\n",
    "\n",
    "FEATURES = remaining_features\n",
    "\n",
    "formula = \"\"\n",
    "\n",
    "while remaining_features and len(selected_features) < 2:\n",
    "    PF = []\n",
    "    n_features = len(selected_features)\n",
    "    print(f\"\\n === Selected features: {selected_features} ===\")\n",
    "    print(f\"\\nn={n_features}, Best formula: {formula}\")\n",
    "    # list of (P value, feature)\n",
    "\n",
    "    for feature in remaining_features:\n",
    "        #         print(f\"Checking feature: {feature}\")\n",
    "        temp = selected_features + [feature]\n",
    "\n",
    "        # temporary list of features\n",
    "\n",
    "        formula = \"SalePrice~\" + \"+\".join(temp)\n",
    "        fit = ols(formula, data=train).fit()\n",
    "\n",
    "        pval = fit.pvalues[-1]\n",
    "        #         print(f\"{formula}, {pval}\")\n",
    "\n",
    "        if pval < 0.05:\n",
    "            print(f\"Keep: {feature}, {formula}, p={pval}\")\n",
    "            PF.append((pval, feature))\n",
    "    #         else:\n",
    "    #             print(f\"Skip: {feature}, p={pval}\")\n",
    "    if PF:\n",
    "\n",
    "        # if not empty\n",
    "        #         print(f\"Unsorted={PF}\\n\\n\")\n",
    "        PF.sort(reverse=True)\n",
    "        print(f\"Reverse sorted={PF}\")\n",
    "        (best_pval, best_f) = PF.pop()\n",
    "\n",
    "        remaining_features.remove(\n",
    "            best_f\n",
    "        )  # Remove the best then continue trying the others\n",
    "\n",
    "        print(\n",
    "            \"\\n->Best feature {} with best P-value = {:.2E}\".format(best_f, best_pval)\n",
    "        )\n",
    "\n",
    "        selected_features.append(best_f)\n",
    "        print(f\"Selected Features: {selected_features}\")\n",
    "        print(10 * \"=\", \"\\n\\n\")\n",
    "    else:\n",
    "        break  # When no feature with P-value < 0.05 remains, we're done"
   ]
  },
  {
   "cell_type": "code",
   "execution_count": 17,
   "id": "0d9b8884",
   "metadata": {
    "execution": {
     "iopub.execute_input": "2022-06-28T12:43:03.517397Z",
     "iopub.status.busy": "2022-06-28T12:43:03.516769Z",
     "iopub.status.idle": "2022-06-28T12:43:03.522590Z",
     "shell.execute_reply": "2022-06-28T12:43:03.521820Z"
    },
    "papermill": {
     "duration": 0.029586,
     "end_time": "2022-06-28T12:43:03.524537",
     "exception": false,
     "start_time": "2022-06-28T12:43:03.494951",
     "status": "completed"
    },
    "tags": []
   },
   "outputs": [
    {
     "data": {
      "text/plain": [
       "'BsmtQual'"
      ]
     },
     "execution_count": 17,
     "metadata": {},
     "output_type": "execute_result"
    }
   ],
   "source": [
    "best_f"
   ]
  },
  {
   "cell_type": "code",
   "execution_count": 18,
   "id": "de1f0bff",
   "metadata": {
    "execution": {
     "iopub.execute_input": "2022-06-28T12:43:03.566957Z",
     "iopub.status.busy": "2022-06-28T12:43:03.566561Z",
     "iopub.status.idle": "2022-06-28T12:43:03.582662Z",
     "shell.execute_reply": "2022-06-28T12:43:03.581767Z"
    },
    "papermill": {
     "duration": 0.039609,
     "end_time": "2022-06-28T12:43:03.584511",
     "exception": false,
     "start_time": "2022-06-28T12:43:03.544902",
     "status": "completed"
    },
    "tags": []
   },
   "outputs": [
    {
     "data": {
      "text/plain": [
       "((1168, 79), (1168,), (292, 79), (292,))"
      ]
     },
     "execution_count": 18,
     "metadata": {},
     "output_type": "execute_result"
    }
   ],
   "source": [
    "X_train, X_valid, y_train, y_valid = train_test_split(\n",
    "    X,\n",
    "    y,\n",
    "    test_size=0.2,\n",
    "    random_state=42,\n",
    ")\n",
    "X_train.shape, y_train.shape, X_valid.shape, y_valid.shape"
   ]
  },
  {
   "cell_type": "markdown",
   "id": "f2daabfa",
   "metadata": {
    "papermill": {
     "duration": 0.020161,
     "end_time": "2022-06-28T12:43:03.625145",
     "exception": false,
     "start_time": "2022-06-28T12:43:03.604984",
     "status": "completed"
    },
    "tags": []
   },
   "source": [
    "<div style=\"background-color:rgba(128, 0, 128, 0.6);border-radius:5px;display:fill\"><h1 style=\"text-align: center;padding: 12px 0px 12px 0px;\">Linear Regression Using OLS</h1>\n",
    "</div>"
   ]
  },
  {
   "cell_type": "code",
   "execution_count": 19,
   "id": "d43984ae",
   "metadata": {
    "execution": {
     "iopub.execute_input": "2022-06-28T12:43:03.667922Z",
     "iopub.status.busy": "2022-06-28T12:43:03.667519Z",
     "iopub.status.idle": "2022-06-28T12:43:03.673677Z",
     "shell.execute_reply": "2022-06-28T12:43:03.672910Z"
    },
    "papermill": {
     "duration": 0.029913,
     "end_time": "2022-06-28T12:43:03.675414",
     "exception": false,
     "start_time": "2022-06-28T12:43:03.645501",
     "status": "completed"
    },
    "tags": []
   },
   "outputs": [],
   "source": [
    "import statsmodels.api as sm\n",
    "\n",
    "from statsmodels.formula.api import ols"
   ]
  },
  {
   "cell_type": "code",
   "execution_count": 20,
   "id": "8f3d8d56",
   "metadata": {
    "execution": {
     "iopub.execute_input": "2022-06-28T12:43:03.718830Z",
     "iopub.status.busy": "2022-06-28T12:43:03.717980Z",
     "iopub.status.idle": "2022-06-28T12:43:03.746302Z",
     "shell.execute_reply": "2022-06-28T12:43:03.745364Z"
    },
    "papermill": {
     "duration": 0.053576,
     "end_time": "2022-06-28T12:43:03.749637",
     "exception": false,
     "start_time": "2022-06-28T12:43:03.696061",
     "status": "completed"
    },
    "tags": []
   },
   "outputs": [
    {
     "name": "stdout",
     "output_type": "stream",
     "text": [
      "   Intercept   x1   x2\n",
      "0        1.0  7.4  1.0\n",
      "1        1.0  1.2  1.0\n",
      "2        1.0  3.1  2.0\n",
      "3        1.0  4.8  2.0\n",
      "4        1.0  2.8  3.0\n",
      "5        1.0  6.5  3.0\n"
     ]
    }
   ],
   "source": [
    "myData = pd.DataFrame(\n",
    "    {\n",
    "        \"y\": [10, 9, 4, 2, 4, 9],\n",
    "        \"x1\": [7.4, 1.2, 3.1, 4.8, 2.8, 6.5],\n",
    "        \"x2\": [1, 1, 2, 2, 3, 3],\n",
    "    }\n",
    ")\n",
    "\n",
    "mod = ols(\"y~x1+x2\", data=myData)\n",
    "\n",
    "mod_matrix = pd.DataFrame(mod.exog, columns=mod.exog_names)\n",
    "\n",
    "print(mod_matrix)"
   ]
  },
  {
   "cell_type": "code",
   "execution_count": 21,
   "id": "da034a6c",
   "metadata": {
    "execution": {
     "iopub.execute_input": "2022-06-28T12:43:03.794208Z",
     "iopub.status.busy": "2022-06-28T12:43:03.793597Z",
     "iopub.status.idle": "2022-06-28T12:43:04.020676Z",
     "shell.execute_reply": "2022-06-28T12:43:04.019975Z"
    },
    "papermill": {
     "duration": 0.251079,
     "end_time": "2022-06-28T12:43:04.022677",
     "exception": false,
     "start_time": "2022-06-28T12:43:03.771598",
     "status": "completed"
    },
    "tags": []
   },
   "outputs": [
    {
     "data": {
      "text/plain": [
       "Text(0, 0.5, ' SalePrice')"
      ]
     },
     "execution_count": 21,
     "metadata": {},
     "output_type": "execute_result"
    },
    {
     "data": {
      "image/png": "[encoded data removed]",
      "text/plain": [
       "<Figure size 432x288 with 1 Axes>"
      ]
     },
     "metadata": {},
     "output_type": "display_data"
    }
   ],
   "source": [
    "plt.scatter(train.LotArea, train.SalePrice)\n",
    "\n",
    "plt.xlabel(\"LotArea\")\n",
    "plt.ylabel(\" SalePrice\")"
   ]
  },
  {
   "cell_type": "code",
   "execution_count": 22,
   "id": "2329af3d",
   "metadata": {
    "execution": {
     "iopub.execute_input": "2022-06-28T12:43:04.067216Z",
     "iopub.status.busy": "2022-06-28T12:43:04.066591Z",
     "iopub.status.idle": "2022-06-28T12:43:04.085925Z",
     "shell.execute_reply": "2022-06-28T12:43:04.084879Z"
    },
    "papermill": {
     "duration": 0.044907,
     "end_time": "2022-06-28T12:43:04.088945",
     "exception": false,
     "start_time": "2022-06-28T12:43:04.044038",
     "status": "completed"
    },
    "tags": []
   },
   "outputs": [
    {
     "name": "stdout",
     "output_type": "stream",
     "text": [
      "Intercept    158836.151897\n",
      "LotArea           2.099972\n",
      "dtype: float64\n"
     ]
    }
   ],
   "source": [
    "model = ols(\"SalePrice~LotArea\", data=train)\n",
    "\n",
    "fit = model.fit()\n",
    "\n",
    "b0, b1 = fit.params\n",
    "\n",
    "print(fit.params)\n",
    "\n",
    "# fit the"
   ]
  },
  {
   "cell_type": "code",
   "execution_count": 23,
   "id": "604e402b",
   "metadata": {
    "execution": {
     "iopub.execute_input": "2022-06-28T12:43:04.134336Z",
     "iopub.status.busy": "2022-06-28T12:43:04.133495Z",
     "iopub.status.idle": "2022-06-28T12:43:04.196304Z",
     "shell.execute_reply": "2022-06-28T12:43:04.194911Z"
    },
    "papermill": {
     "duration": 0.087953,
     "end_time": "2022-06-28T12:43:04.198978",
     "exception": false,
     "start_time": "2022-06-28T12:43:04.111025",
     "status": "completed"
    },
    "tags": []
   },
   "outputs": [
    {
     "name": "stdout",
     "output_type": "stream",
     "text": [
      "Intercept       -899355.767453\n",
      "GrLivArea            53.452929\n",
      "BsmtQual         -12524.739341\n",
      "YearBuilt           500.833214\n",
      "KitchenQual      -11798.210657\n",
      "TotalBsmtSF          23.743278\n",
      "OverallCond        8373.017025\n",
      "GarageCars        14625.965223\n",
      "Fireplaces        12164.350118\n",
      "ExterQual        -13303.023698\n",
      "BldgType          -5007.726599\n",
      "SaleCondition      2124.690887\n",
      "dtype: float64\n"
     ]
    }
   ],
   "source": [
    "model = ols(\"SalePrice~LotArea+GrLivArea\", data=train)\n",
    "model = ols(\n",
    "    \"SalePrice~GrLivArea+BsmtQual+YearBuilt+KitchenQual+TotalBsmtSF+OverallCond+GarageCars+Fireplaces+ExterQual+BldgType+SaleCondition\",\n",
    "    data=train,\n",
    ")\n",
    "FEATURES = [\n",
    "    \"GrLivArea\",\n",
    "    \"BsmtQual\",\n",
    "    \"YearBuilt\",\n",
    "    \"KitchenQual\",\n",
    "    \"TotalBsmtSF\",\n",
    "    \"OverallCond\",\n",
    "    \"GarageCars\",\n",
    "    \"Fireplaces\",\n",
    "    \"ExterQual\",\n",
    "    \"BldgType\",\n",
    "    \"BsmtFullBath\",\n",
    "]\n",
    "\n",
    "model = ols(\n",
    "    \"SalePrice~GrLivArea+BsmtQual+YearBuilt+KitchenQual+TotalBsmtSF+OverallCond+GarageCars+Fireplaces+ExterQual+BldgType+SaleCondition\",\n",
    "    data=train,\n",
    ")\n",
    "\n",
    "fit = model.fit()\n",
    "\n",
    "# b0, b1, b2 = fit.params\n",
    "\n",
    "print(fit.params)"
   ]
  },
  {
   "cell_type": "code",
   "execution_count": 24,
   "id": "eedd5f26",
   "metadata": {
    "execution": {
     "iopub.execute_input": "2022-06-28T12:43:04.277430Z",
     "iopub.status.busy": "2022-06-28T12:43:04.277014Z",
     "iopub.status.idle": "2022-06-28T12:43:04.303781Z",
     "shell.execute_reply": "2022-06-28T12:43:04.302890Z"
    },
    "papermill": {
     "duration": 0.071457,
     "end_time": "2022-06-28T12:43:04.308553",
     "exception": false,
     "start_time": "2022-06-28T12:43:04.237096",
     "status": "completed"
    },
    "tags": []
   },
   "outputs": [
    {
     "name": "stdout",
     "output_type": "stream",
     "text": [
      "                            OLS Regression Results                            \n",
      "==============================================================================\n",
      "Dep. Variable:              SalePrice   R-squared:                       0.803\n",
      "Model:                            OLS   Adj. R-squared:                  0.802\n",
      "Method:                 Least Squares   F-statistic:                     536.7\n",
      "Date:                Tue, 28 Jun 2022   Prob (F-statistic):               0.00\n",
      "Time:                        12:43:04   Log-Likelihood:                -17358.\n",
      "No. Observations:                1460   AIC:                         3.474e+04\n",
      "Df Residuals:                    1448   BIC:                         3.480e+04\n",
      "Df Model:                          11                                         \n",
      "Covariance Type:            nonrobust                                         \n",
      "=================================================================================\n",
      "                    coef    std err          t      P>|t|      [0.025      0.975]\n",
      "---------------------------------------------------------------------------------\n",
      "Intercept     -8.994e+05   8.84e+04    -10.168      0.000   -1.07e+06   -7.26e+05\n",
      "GrLivArea        53.4529      2.331     22.930      0.000      48.880      58.026\n",
      "BsmtQual      -1.252e+04   1426.738     -8.779      0.000   -1.53e+04   -9726.045\n",
      "YearBuilt       500.8332     43.799     11.435      0.000     414.917     586.749\n",
      "KitchenQual    -1.18e+04   1511.330     -7.807      0.000   -1.48e+04   -8833.579\n",
      "TotalBsmtSF      23.7433      2.684      8.847      0.000      18.479      29.008\n",
      "OverallCond    8373.0170    912.188      9.179      0.000    6583.665    1.02e+04\n",
      "GarageCars     1.463e+04   1676.508      8.724      0.000    1.13e+04    1.79e+04\n",
      "Fireplaces     1.216e+04   1652.992      7.359      0.000    8921.834    1.54e+04\n",
      "ExterQual      -1.33e+04   1992.349     -6.677      0.000   -1.72e+04   -9394.824\n",
      "BldgType      -5007.7266    816.398     -6.134      0.000   -6609.176   -3406.277\n",
      "SaleCondition  2124.6909    873.454      2.433      0.015     411.320    3838.062\n",
      "==============================================================================\n",
      "Omnibus:                      711.954   Durbin-Watson:                   1.976\n",
      "Prob(Omnibus):                  0.000   Jarque-Bera (JB):           107151.253\n",
      "Skew:                          -1.203   Prob(JB):                         0.00\n",
      "Kurtosis:                      44.900   Cond. No.                     2.61e+05\n",
      "==============================================================================\n",
      "\n",
      "Notes:\n",
      "[1] Standard Errors assume that the covariance matrix of the errors is correctly specified.\n",
      "[2] The condition number is large, 2.61e+05. This might indicate that there are\n",
      "strong multicollinearity or other numerical problems.\n"
     ]
    }
   ],
   "source": [
    "print(fit.summary())"
   ]
  },
  {
   "cell_type": "code",
   "execution_count": 25,
   "id": "362168c7",
   "metadata": {
    "execution": {
     "iopub.execute_input": "2022-06-28T12:43:04.388570Z",
     "iopub.status.busy": "2022-06-28T12:43:04.387960Z",
     "iopub.status.idle": "2022-06-28T12:43:04.406113Z",
     "shell.execute_reply": "2022-06-28T12:43:04.405370Z"
    },
    "papermill": {
     "duration": 0.060786,
     "end_time": "2022-06-28T12:43:04.408293",
     "exception": false,
     "start_time": "2022-06-28T12:43:04.347507",
     "status": "completed"
    },
    "tags": []
   },
   "outputs": [],
   "source": [
    "FEATURES = [\n",
    "    \"GrLivArea\",\n",
    "    \"BsmtQual\",\n",
    "    \"YearBuilt\",\n",
    "    \"KitchenQual\",\n",
    "    \"TotalBsmtSF\",\n",
    "    \"OverallCond\",\n",
    "    \"GarageCars\",\n",
    "    \"Fireplaces\",\n",
    "    \"ExterQual\",\n",
    "    \"BldgType\",\n",
    "    \"BsmtFullBath\",\n",
    "    \"SaleCondition\",\n",
    "]"
   ]
  },
  {
   "cell_type": "code",
   "execution_count": 26,
   "id": "bc4540e7",
   "metadata": {
    "execution": {
     "iopub.execute_input": "2022-06-28T12:43:04.454329Z",
     "iopub.status.busy": "2022-06-28T12:43:04.453300Z",
     "iopub.status.idle": "2022-06-28T12:43:04.493112Z",
     "shell.execute_reply": "2022-06-28T12:43:04.492363Z"
    },
    "papermill": {
     "duration": 0.065039,
     "end_time": "2022-06-28T12:43:04.494980",
     "exception": false,
     "start_time": "2022-06-28T12:43:04.429941",
     "status": "completed"
    },
    "tags": []
   },
   "outputs": [
    {
     "data": {
      "text/html": [
       "<div>\n",
       "<style scoped>\n",
       "    .dataframe tbody tr th:only-of-type {\n",
       "        vertical-align: middle;\n",
       "    }\n",
       "\n",
       "    .dataframe tbody tr th {\n",
       "        vertical-align: top;\n",
       "    }\n",
       "\n",
       "    .dataframe thead th {\n",
       "        text-align: right;\n",
       "    }\n",
       "</style>\n",
       "<table border=\"1\" class=\"dataframe\">\n",
       "  <thead>\n",
       "    <tr style=\"text-align: right;\">\n",
       "      <th></th>\n",
       "      <th>MSSubClass</th>\n",
       "      <th>MSZoning</th>\n",
       "      <th>LotFrontage</th>\n",
       "      <th>LotArea</th>\n",
       "      <th>Street</th>\n",
       "      <th>Alley</th>\n",
       "      <th>LotShape</th>\n",
       "      <th>LandContour</th>\n",
       "      <th>Utilities</th>\n",
       "      <th>LotConfig</th>\n",
       "      <th>LandSlope</th>\n",
       "      <th>Neighborhood</th>\n",
       "      <th>Condition1</th>\n",
       "      <th>Condition2</th>\n",
       "      <th>BldgType</th>\n",
       "      <th>HouseStyle</th>\n",
       "      <th>OverallQual</th>\n",
       "      <th>OverallCond</th>\n",
       "      <th>YearBuilt</th>\n",
       "      <th>YearRemodAdd</th>\n",
       "      <th>RoofStyle</th>\n",
       "      <th>RoofMatl</th>\n",
       "      <th>Exterior1st</th>\n",
       "      <th>Exterior2nd</th>\n",
       "      <th>MasVnrType</th>\n",
       "      <th>MasVnrArea</th>\n",
       "      <th>ExterQual</th>\n",
       "      <th>ExterCond</th>\n",
       "      <th>Foundation</th>\n",
       "      <th>BsmtQual</th>\n",
       "      <th>BsmtCond</th>\n",
       "      <th>BsmtExposure</th>\n",
       "      <th>BsmtFinType1</th>\n",
       "      <th>BsmtFinSF1</th>\n",
       "      <th>BsmtFinType2</th>\n",
       "      <th>BsmtFinSF2</th>\n",
       "      <th>BsmtUnfSF</th>\n",
       "      <th>TotalBsmtSF</th>\n",
       "      <th>Heating</th>\n",
       "      <th>HeatingQC</th>\n",
       "      <th>CentralAir</th>\n",
       "      <th>Electrical</th>\n",
       "      <th>1stFlrSF</th>\n",
       "      <th>2ndFlrSF</th>\n",
       "      <th>LowQualFinSF</th>\n",
       "      <th>GrLivArea</th>\n",
       "      <th>BsmtFullBath</th>\n",
       "      <th>BsmtHalfBath</th>\n",
       "      <th>FullBath</th>\n",
       "      <th>HalfBath</th>\n",
       "      <th>BedroomAbvGr</th>\n",
       "      <th>KitchenAbvGr</th>\n",
       "      <th>KitchenQual</th>\n",
       "      <th>TotRmsAbvGrd</th>\n",
       "      <th>Functional</th>\n",
       "      <th>Fireplaces</th>\n",
       "      <th>FireplaceQu</th>\n",
       "      <th>GarageType</th>\n",
       "      <th>GarageYrBlt</th>\n",
       "      <th>GarageFinish</th>\n",
       "      <th>GarageCars</th>\n",
       "      <th>GarageArea</th>\n",
       "      <th>GarageQual</th>\n",
       "      <th>GarageCond</th>\n",
       "      <th>PavedDrive</th>\n",
       "      <th>WoodDeckSF</th>\n",
       "      <th>OpenPorchSF</th>\n",
       "      <th>EnclosedPorch</th>\n",
       "      <th>3SsnPorch</th>\n",
       "      <th>ScreenPorch</th>\n",
       "      <th>PoolArea</th>\n",
       "      <th>PoolQC</th>\n",
       "      <th>Fence</th>\n",
       "      <th>MiscFeature</th>\n",
       "      <th>MiscVal</th>\n",
       "      <th>MoSold</th>\n",
       "      <th>YrSold</th>\n",
       "      <th>SaleType</th>\n",
       "      <th>SaleCondition</th>\n",
       "    </tr>\n",
       "  </thead>\n",
       "  <tbody>\n",
       "    <tr>\n",
       "      <th>892</th>\n",
       "      <td>4</td>\n",
       "      <td>3</td>\n",
       "      <td>80</td>\n",
       "      <td>8414</td>\n",
       "      <td>1</td>\n",
       "      <td>2</td>\n",
       "      <td>3</td>\n",
       "      <td>3</td>\n",
       "      <td>0</td>\n",
       "      <td>4</td>\n",
       "      <td>0</td>\n",
       "      <td>19</td>\n",
       "      <td>2</td>\n",
       "      <td>2</td>\n",
       "      <td>0</td>\n",
       "      <td>2</td>\n",
       "      <td>6</td>\n",
       "      <td>7</td>\n",
       "      <td>1963</td>\n",
       "      <td>2003</td>\n",
       "      <td>3</td>\n",
       "      <td>1</td>\n",
       "      <td>6</td>\n",
       "      <td>6</td>\n",
       "      <td>2</td>\n",
       "      <td>0.0</td>\n",
       "      <td>3</td>\n",
       "      <td>4</td>\n",
       "      <td>1</td>\n",
       "      <td>3</td>\n",
       "      <td>3</td>\n",
       "      <td>3</td>\n",
       "      <td>2</td>\n",
       "      <td>473</td>\n",
       "      <td>5</td>\n",
       "      <td>0</td>\n",
       "      <td>407</td>\n",
       "      <td>1059</td>\n",
       "      <td>1</td>\n",
       "      <td>4</td>\n",
       "      <td>1</td>\n",
       "      <td>4</td>\n",
       "      <td>1068</td>\n",
       "      <td>0</td>\n",
       "      <td>0</td>\n",
       "      <td>1068</td>\n",
       "      <td>0</td>\n",
       "      <td>1</td>\n",
       "      <td>1</td>\n",
       "      <td>0</td>\n",
       "      <td>3</td>\n",
       "      <td>1</td>\n",
       "      <td>3</td>\n",
       "      <td>6</td>\n",
       "      <td>6</td>\n",
       "      <td>0</td>\n",
       "      <td>5</td>\n",
       "      <td>1</td>\n",
       "      <td>49</td>\n",
       "      <td>1</td>\n",
       "      <td>1</td>\n",
       "      <td>44</td>\n",
       "      <td>4</td>\n",
       "      <td>4</td>\n",
       "      <td>2</td>\n",
       "      <td>74</td>\n",
       "      <td>0</td>\n",
       "      <td>0</td>\n",
       "      <td>0</td>\n",
       "      <td>0</td>\n",
       "      <td>0</td>\n",
       "      <td>3</td>\n",
       "      <td>2</td>\n",
       "      <td>4</td>\n",
       "      <td>0</td>\n",
       "      <td>4</td>\n",
       "      <td>0</td>\n",
       "      <td>8</td>\n",
       "      <td>4</td>\n",
       "    </tr>\n",
       "    <tr>\n",
       "      <th>1105</th>\n",
       "      <td>9</td>\n",
       "      <td>3</td>\n",
       "      <td>108</td>\n",
       "      <td>12256</td>\n",
       "      <td>1</td>\n",
       "      <td>2</td>\n",
       "      <td>0</td>\n",
       "      <td>3</td>\n",
       "      <td>0</td>\n",
       "      <td>0</td>\n",
       "      <td>0</td>\n",
       "      <td>15</td>\n",
       "      <td>2</td>\n",
       "      <td>2</td>\n",
       "      <td>0</td>\n",
       "      <td>5</td>\n",
       "      <td>8</td>\n",
       "      <td>4</td>\n",
       "      <td>1994</td>\n",
       "      <td>1995</td>\n",
       "      <td>1</td>\n",
       "      <td>1</td>\n",
       "      <td>6</td>\n",
       "      <td>6</td>\n",
       "      <td>1</td>\n",
       "      <td>362.0</td>\n",
       "      <td>2</td>\n",
       "      <td>4</td>\n",
       "      <td>2</td>\n",
       "      <td>0</td>\n",
       "      <td>3</td>\n",
       "      <td>0</td>\n",
       "      <td>2</td>\n",
       "      <td>13</td>\n",
       "      <td>5</td>\n",
       "      <td>0</td>\n",
       "      <td>438</td>\n",
       "      <td>1463</td>\n",
       "      <td>1</td>\n",
       "      <td>0</td>\n",
       "      <td>1</td>\n",
       "      <td>4</td>\n",
       "      <td>1500</td>\n",
       "      <td>1122</td>\n",
       "      <td>0</td>\n",
       "      <td>2622</td>\n",
       "      <td>1</td>\n",
       "      <td>0</td>\n",
       "      <td>2</td>\n",
       "      <td>1</td>\n",
       "      <td>3</td>\n",
       "      <td>1</td>\n",
       "      <td>2</td>\n",
       "      <td>9</td>\n",
       "      <td>6</td>\n",
       "      <td>2</td>\n",
       "      <td>4</td>\n",
       "      <td>1</td>\n",
       "      <td>80</td>\n",
       "      <td>1</td>\n",
       "      <td>2</td>\n",
       "      <td>337</td>\n",
       "      <td>4</td>\n",
       "      <td>4</td>\n",
       "      <td>2</td>\n",
       "      <td>70</td>\n",
       "      <td>130</td>\n",
       "      <td>0</td>\n",
       "      <td>0</td>\n",
       "      <td>0</td>\n",
       "      <td>0</td>\n",
       "      <td>3</td>\n",
       "      <td>4</td>\n",
       "      <td>4</td>\n",
       "      <td>0</td>\n",
       "      <td>6</td>\n",
       "      <td>4</td>\n",
       "      <td>8</td>\n",
       "      <td>4</td>\n",
       "    </tr>\n",
       "    <tr>\n",
       "      <th>413</th>\n",
       "      <td>5</td>\n",
       "      <td>4</td>\n",
       "      <td>66</td>\n",
       "      <td>8960</td>\n",
       "      <td>1</td>\n",
       "      <td>0</td>\n",
       "      <td>3</td>\n",
       "      <td>3</td>\n",
       "      <td>0</td>\n",
       "      <td>4</td>\n",
       "      <td>0</td>\n",
       "      <td>17</td>\n",
       "      <td>0</td>\n",
       "      <td>2</td>\n",
       "      <td>0</td>\n",
       "      <td>2</td>\n",
       "      <td>5</td>\n",
       "      <td>5</td>\n",
       "      <td>1927</td>\n",
       "      <td>1950</td>\n",
       "      <td>1</td>\n",
       "      <td>1</td>\n",
       "      <td>14</td>\n",
       "      <td>15</td>\n",
       "      <td>2</td>\n",
       "      <td>0.0</td>\n",
       "      <td>3</td>\n",
       "      <td>4</td>\n",
       "      <td>1</td>\n",
       "      <td>3</td>\n",
       "      <td>3</td>\n",
       "      <td>3</td>\n",
       "      <td>5</td>\n",
       "      <td>0</td>\n",
       "      <td>5</td>\n",
       "      <td>0</td>\n",
       "      <td>4</td>\n",
       "      <td>1008</td>\n",
       "      <td>1</td>\n",
       "      <td>2</td>\n",
       "      <td>1</td>\n",
       "      <td>0</td>\n",
       "      <td>1028</td>\n",
       "      <td>0</td>\n",
       "      <td>0</td>\n",
       "      <td>1028</td>\n",
       "      <td>0</td>\n",
       "      <td>0</td>\n",
       "      <td>1</td>\n",
       "      <td>0</td>\n",
       "      <td>2</td>\n",
       "      <td>1</td>\n",
       "      <td>3</td>\n",
       "      <td>5</td>\n",
       "      <td>6</td>\n",
       "      <td>1</td>\n",
       "      <td>2</td>\n",
       "      <td>5</td>\n",
       "      <td>15</td>\n",
       "      <td>2</td>\n",
       "      <td>2</td>\n",
       "      <td>93</td>\n",
       "      <td>4</td>\n",
       "      <td>4</td>\n",
       "      <td>2</td>\n",
       "      <td>0</td>\n",
       "      <td>0</td>\n",
       "      <td>14</td>\n",
       "      <td>0</td>\n",
       "      <td>0</td>\n",
       "      <td>0</td>\n",
       "      <td>3</td>\n",
       "      <td>4</td>\n",
       "      <td>4</td>\n",
       "      <td>0</td>\n",
       "      <td>5</td>\n",
       "      <td>4</td>\n",
       "      <td>8</td>\n",
       "      <td>4</td>\n",
       "    </tr>\n",
       "    <tr>\n",
       "      <th>522</th>\n",
       "      <td>8</td>\n",
       "      <td>4</td>\n",
       "      <td>60</td>\n",
       "      <td>5000</td>\n",
       "      <td>1</td>\n",
       "      <td>2</td>\n",
       "      <td>3</td>\n",
       "      <td>3</td>\n",
       "      <td>0</td>\n",
       "      <td>0</td>\n",
       "      <td>0</td>\n",
       "      <td>3</td>\n",
       "      <td>1</td>\n",
       "      <td>2</td>\n",
       "      <td>0</td>\n",
       "      <td>0</td>\n",
       "      <td>6</td>\n",
       "      <td>6</td>\n",
       "      <td>1947</td>\n",
       "      <td>1950</td>\n",
       "      <td>1</td>\n",
       "      <td>1</td>\n",
       "      <td>5</td>\n",
       "      <td>5</td>\n",
       "      <td>2</td>\n",
       "      <td>0.0</td>\n",
       "      <td>3</td>\n",
       "      <td>2</td>\n",
       "      <td>1</td>\n",
       "      <td>3</td>\n",
       "      <td>3</td>\n",
       "      <td>3</td>\n",
       "      <td>0</td>\n",
       "      <td>298</td>\n",
       "      <td>5</td>\n",
       "      <td>0</td>\n",
       "      <td>550</td>\n",
       "      <td>1004</td>\n",
       "      <td>1</td>\n",
       "      <td>0</td>\n",
       "      <td>1</td>\n",
       "      <td>4</td>\n",
       "      <td>1004</td>\n",
       "      <td>660</td>\n",
       "      <td>0</td>\n",
       "      <td>1664</td>\n",
       "      <td>0</td>\n",
       "      <td>0</td>\n",
       "      <td>2</td>\n",
       "      <td>0</td>\n",
       "      <td>3</td>\n",
       "      <td>1</td>\n",
       "      <td>3</td>\n",
       "      <td>7</td>\n",
       "      <td>6</td>\n",
       "      <td>2</td>\n",
       "      <td>2</td>\n",
       "      <td>5</td>\n",
       "      <td>36</td>\n",
       "      <td>2</td>\n",
       "      <td>2</td>\n",
       "      <td>129</td>\n",
       "      <td>4</td>\n",
       "      <td>4</td>\n",
       "      <td>2</td>\n",
       "      <td>0</td>\n",
       "      <td>100</td>\n",
       "      <td>91</td>\n",
       "      <td>0</td>\n",
       "      <td>0</td>\n",
       "      <td>0</td>\n",
       "      <td>3</td>\n",
       "      <td>4</td>\n",
       "      <td>4</td>\n",
       "      <td>0</td>\n",
       "      <td>1</td>\n",
       "      <td>0</td>\n",
       "      <td>8</td>\n",
       "      <td>4</td>\n",
       "    </tr>\n",
       "    <tr>\n",
       "      <th>1036</th>\n",
       "      <td>4</td>\n",
       "      <td>3</td>\n",
       "      <td>99</td>\n",
       "      <td>12898</td>\n",
       "      <td>1</td>\n",
       "      <td>2</td>\n",
       "      <td>0</td>\n",
       "      <td>1</td>\n",
       "      <td>0</td>\n",
       "      <td>4</td>\n",
       "      <td>0</td>\n",
       "      <td>23</td>\n",
       "      <td>2</td>\n",
       "      <td>2</td>\n",
       "      <td>0</td>\n",
       "      <td>2</td>\n",
       "      <td>9</td>\n",
       "      <td>4</td>\n",
       "      <td>2007</td>\n",
       "      <td>2008</td>\n",
       "      <td>3</td>\n",
       "      <td>1</td>\n",
       "      <td>12</td>\n",
       "      <td>13</td>\n",
       "      <td>3</td>\n",
       "      <td>70.0</td>\n",
       "      <td>2</td>\n",
       "      <td>4</td>\n",
       "      <td>2</td>\n",
       "      <td>0</td>\n",
       "      <td>3</td>\n",
       "      <td>1</td>\n",
       "      <td>2</td>\n",
       "      <td>11</td>\n",
       "      <td>5</td>\n",
       "      <td>0</td>\n",
       "      <td>544</td>\n",
       "      <td>1620</td>\n",
       "      <td>1</td>\n",
       "      <td>0</td>\n",
       "      <td>1</td>\n",
       "      <td>4</td>\n",
       "      <td>1620</td>\n",
       "      <td>0</td>\n",
       "      <td>0</td>\n",
       "      <td>1620</td>\n",
       "      <td>1</td>\n",
       "      <td>0</td>\n",
       "      <td>2</td>\n",
       "      <td>0</td>\n",
       "      <td>2</td>\n",
       "      <td>1</td>\n",
       "      <td>0</td>\n",
       "      <td>6</td>\n",
       "      <td>6</td>\n",
       "      <td>1</td>\n",
       "      <td>0</td>\n",
       "      <td>1</td>\n",
       "      <td>94</td>\n",
       "      <td>0</td>\n",
       "      <td>3</td>\n",
       "      <td>431</td>\n",
       "      <td>4</td>\n",
       "      <td>4</td>\n",
       "      <td>2</td>\n",
       "      <td>100</td>\n",
       "      <td>0</td>\n",
       "      <td>0</td>\n",
       "      <td>0</td>\n",
       "      <td>0</td>\n",
       "      <td>0</td>\n",
       "      <td>3</td>\n",
       "      <td>4</td>\n",
       "      <td>4</td>\n",
       "      <td>0</td>\n",
       "      <td>11</td>\n",
       "      <td>3</td>\n",
       "      <td>8</td>\n",
       "      <td>4</td>\n",
       "    </tr>\n",
       "  </tbody>\n",
       "</table>\n",
       "</div>"
      ],
      "text/plain": [
       "      MSSubClass  MSZoning  LotFrontage  LotArea  Street  Alley  LotShape  \\\n",
       "892            4         3           80     8414       1      2         3   \n",
       "1105           9         3          108    12256       1      2         0   \n",
       "413            5         4           66     8960       1      0         3   \n",
       "522            8         4           60     5000       1      2         3   \n",
       "1036           4         3           99    12898       1      2         0   \n",
       "\n",
       "      LandContour  Utilities  LotConfig  LandSlope  Neighborhood  Condition1  \\\n",
       "892             3          0          4          0            19           2   \n",
       "1105            3          0          0          0            15           2   \n",
       "413             3          0          4          0            17           0   \n",
       "522             3          0          0          0             3           1   \n",
       "1036            1          0          4          0            23           2   \n",
       "\n",
       "      Condition2  BldgType  HouseStyle  OverallQual  OverallCond  YearBuilt  \\\n",
       "892            2         0           2            6            7       1963   \n",
       "1105           2         0           5            8            4       1994   \n",
       "413            2         0           2            5            5       1927   \n",
       "522            2         0           0            6            6       1947   \n",
       "1036           2         0           2            9            4       2007   \n",
       "\n",
       "      YearRemodAdd  RoofStyle  RoofMatl  Exterior1st  Exterior2nd  MasVnrType  \\\n",
       "892           2003          3         1            6            6           2   \n",
       "1105          1995          1         1            6            6           1   \n",
       "413           1950          1         1           14           15           2   \n",
       "522           1950          1         1            5            5           2   \n",
       "1036          2008          3         1           12           13           3   \n",
       "\n",
       "      MasVnrArea  ExterQual  ExterCond  Foundation  BsmtQual  BsmtCond  \\\n",
       "892          0.0          3          4           1         3         3   \n",
       "1105       362.0          2          4           2         0         3   \n",
       "413          0.0          3          4           1         3         3   \n",
       "522          0.0          3          2           1         3         3   \n",
       "1036        70.0          2          4           2         0         3   \n",
       "\n",
       "      BsmtExposure  BsmtFinType1  BsmtFinSF1  BsmtFinType2  BsmtFinSF2  \\\n",
       "892              3             2         473             5           0   \n",
       "1105             0             2          13             5           0   \n",
       "413              3             5           0             5           0   \n",
       "522              3             0         298             5           0   \n",
       "1036             1             2          11             5           0   \n",
       "\n",
       "      BsmtUnfSF  TotalBsmtSF  Heating  HeatingQC  CentralAir  Electrical  \\\n",
       "892         407         1059        1          4           1           4   \n",
       "1105        438         1463        1          0           1           4   \n",
       "413           4         1008        1          2           1           0   \n",
       "522         550         1004        1          0           1           4   \n",
       "1036        544         1620        1          0           1           4   \n",
       "\n",
       "      1stFlrSF  2ndFlrSF  LowQualFinSF  GrLivArea  BsmtFullBath  BsmtHalfBath  \\\n",
       "892       1068         0             0       1068             0             1   \n",
       "1105      1500      1122             0       2622             1             0   \n",
       "413       1028         0             0       1028             0             0   \n",
       "522       1004       660             0       1664             0             0   \n",
       "1036      1620         0             0       1620             1             0   \n",
       "\n",
       "      FullBath  HalfBath  BedroomAbvGr  KitchenAbvGr  KitchenQual  \\\n",
       "892          1         0             3             1            3   \n",
       "1105         2         1             3             1            2   \n",
       "413          1         0             2             1            3   \n",
       "522          2         0             3             1            3   \n",
       "1036         2         0             2             1            0   \n",
       "\n",
       "      TotRmsAbvGrd  Functional  Fireplaces  FireplaceQu  GarageType  \\\n",
       "892              6           6           0            5           1   \n",
       "1105             9           6           2            4           1   \n",
       "413              5           6           1            2           5   \n",
       "522              7           6           2            2           5   \n",
       "1036             6           6           1            0           1   \n",
       "\n",
       "      GarageYrBlt  GarageFinish  GarageCars  GarageArea  GarageQual  \\\n",
       "892            49             1           1          44           4   \n",
       "1105           80             1           2         337           4   \n",
       "413            15             2           2          93           4   \n",
       "522            36             2           2         129           4   \n",
       "1036           94             0           3         431           4   \n",
       "\n",
       "      GarageCond  PavedDrive  WoodDeckSF  OpenPorchSF  EnclosedPorch  \\\n",
       "892            4           2          74            0              0   \n",
       "1105           4           2          70          130              0   \n",
       "413            4           2           0            0             14   \n",
       "522            4           2           0          100             91   \n",
       "1036           4           2         100            0              0   \n",
       "\n",
       "      3SsnPorch  ScreenPorch  PoolArea  PoolQC  Fence  MiscFeature  MiscVal  \\\n",
       "892           0            0         0       3      2            4        0   \n",
       "1105          0            0         0       3      4            4        0   \n",
       "413           0            0         0       3      4            4        0   \n",
       "522           0            0         0       3      4            4        0   \n",
       "1036          0            0         0       3      4            4        0   \n",
       "\n",
       "      MoSold  YrSold  SaleType  SaleCondition  \n",
       "892        4       0         8              4  \n",
       "1105       6       4         8              4  \n",
       "413        5       4         8              4  \n",
       "522        1       0         8              4  \n",
       "1036      11       3         8              4  "
      ]
     },
     "execution_count": 26,
     "metadata": {},
     "output_type": "execute_result"
    }
   ],
   "source": [
    "X_valid.head()"
   ]
  },
  {
   "cell_type": "code",
   "execution_count": 27,
   "id": "9d6708d3",
   "metadata": {
    "execution": {
     "iopub.execute_input": "2022-06-28T12:43:04.541265Z",
     "iopub.status.busy": "2022-06-28T12:43:04.540436Z",
     "iopub.status.idle": "2022-06-28T12:43:04.546566Z",
     "shell.execute_reply": "2022-06-28T12:43:04.545907Z"
    },
    "papermill": {
     "duration": 0.031194,
     "end_time": "2022-06-28T12:43:04.548347",
     "exception": false,
     "start_time": "2022-06-28T12:43:04.517153",
     "status": "completed"
    },
    "tags": []
   },
   "outputs": [
    {
     "data": {
      "text/plain": [
       "['GrLivArea',\n",
       " 'BsmtQual',\n",
       " 'YearBuilt',\n",
       " 'KitchenQual',\n",
       " 'TotalBsmtSF',\n",
       " 'OverallCond',\n",
       " 'GarageCars',\n",
       " 'Fireplaces',\n",
       " 'ExterQual',\n",
       " 'BldgType',\n",
       " 'BsmtFullBath',\n",
       " 'SaleCondition']"
      ]
     },
     "execution_count": 27,
     "metadata": {},
     "output_type": "execute_result"
    }
   ],
   "source": [
    "FEATURES"
   ]
  },
  {
   "cell_type": "code",
   "execution_count": 28,
   "id": "f19008f4",
   "metadata": {
    "execution": {
     "iopub.execute_input": "2022-06-28T12:43:04.594467Z",
     "iopub.status.busy": "2022-06-28T12:43:04.593912Z",
     "iopub.status.idle": "2022-06-28T12:43:04.609840Z",
     "shell.execute_reply": "2022-06-28T12:43:04.609253Z"
    },
    "papermill": {
     "duration": 0.041045,
     "end_time": "2022-06-28T12:43:04.611630",
     "exception": false,
     "start_time": "2022-06-28T12:43:04.570585",
     "status": "completed"
    },
    "tags": []
   },
   "outputs": [
    {
     "data": {
      "text/html": [
       "<div>\n",
       "<style scoped>\n",
       "    .dataframe tbody tr th:only-of-type {\n",
       "        vertical-align: middle;\n",
       "    }\n",
       "\n",
       "    .dataframe tbody tr th {\n",
       "        vertical-align: top;\n",
       "    }\n",
       "\n",
       "    .dataframe thead th {\n",
       "        text-align: right;\n",
       "    }\n",
       "</style>\n",
       "<table border=\"1\" class=\"dataframe\">\n",
       "  <thead>\n",
       "    <tr style=\"text-align: right;\">\n",
       "      <th></th>\n",
       "      <th>GrLivArea</th>\n",
       "      <th>BsmtQual</th>\n",
       "      <th>YearBuilt</th>\n",
       "      <th>KitchenQual</th>\n",
       "      <th>TotalBsmtSF</th>\n",
       "      <th>OverallCond</th>\n",
       "      <th>GarageCars</th>\n",
       "      <th>Fireplaces</th>\n",
       "      <th>ExterQual</th>\n",
       "      <th>BldgType</th>\n",
       "      <th>BsmtFullBath</th>\n",
       "      <th>SaleCondition</th>\n",
       "    </tr>\n",
       "  </thead>\n",
       "  <tbody>\n",
       "    <tr>\n",
       "      <th>892</th>\n",
       "      <td>1068</td>\n",
       "      <td>3</td>\n",
       "      <td>1963</td>\n",
       "      <td>3</td>\n",
       "      <td>1059</td>\n",
       "      <td>7</td>\n",
       "      <td>1</td>\n",
       "      <td>0</td>\n",
       "      <td>3</td>\n",
       "      <td>0</td>\n",
       "      <td>0</td>\n",
       "      <td>4</td>\n",
       "    </tr>\n",
       "    <tr>\n",
       "      <th>1105</th>\n",
       "      <td>2622</td>\n",
       "      <td>0</td>\n",
       "      <td>1994</td>\n",
       "      <td>2</td>\n",
       "      <td>1463</td>\n",
       "      <td>4</td>\n",
       "      <td>2</td>\n",
       "      <td>2</td>\n",
       "      <td>2</td>\n",
       "      <td>0</td>\n",
       "      <td>1</td>\n",
       "      <td>4</td>\n",
       "    </tr>\n",
       "    <tr>\n",
       "      <th>413</th>\n",
       "      <td>1028</td>\n",
       "      <td>3</td>\n",
       "      <td>1927</td>\n",
       "      <td>3</td>\n",
       "      <td>1008</td>\n",
       "      <td>5</td>\n",
       "      <td>2</td>\n",
       "      <td>1</td>\n",
       "      <td>3</td>\n",
       "      <td>0</td>\n",
       "      <td>0</td>\n",
       "      <td>4</td>\n",
       "    </tr>\n",
       "    <tr>\n",
       "      <th>522</th>\n",
       "      <td>1664</td>\n",
       "      <td>3</td>\n",
       "      <td>1947</td>\n",
       "      <td>3</td>\n",
       "      <td>1004</td>\n",
       "      <td>6</td>\n",
       "      <td>2</td>\n",
       "      <td>2</td>\n",
       "      <td>3</td>\n",
       "      <td>0</td>\n",
       "      <td>0</td>\n",
       "      <td>4</td>\n",
       "    </tr>\n",
       "    <tr>\n",
       "      <th>1036</th>\n",
       "      <td>1620</td>\n",
       "      <td>0</td>\n",
       "      <td>2007</td>\n",
       "      <td>0</td>\n",
       "      <td>1620</td>\n",
       "      <td>4</td>\n",
       "      <td>3</td>\n",
       "      <td>1</td>\n",
       "      <td>2</td>\n",
       "      <td>0</td>\n",
       "      <td>1</td>\n",
       "      <td>4</td>\n",
       "    </tr>\n",
       "    <tr>\n",
       "      <th>...</th>\n",
       "      <td>...</td>\n",
       "      <td>...</td>\n",
       "      <td>...</td>\n",
       "      <td>...</td>\n",
       "      <td>...</td>\n",
       "      <td>...</td>\n",
       "      <td>...</td>\n",
       "      <td>...</td>\n",
       "      <td>...</td>\n",
       "      <td>...</td>\n",
       "      <td>...</td>\n",
       "      <td>...</td>\n",
       "    </tr>\n",
       "    <tr>\n",
       "      <th>479</th>\n",
       "      <td>1131</td>\n",
       "      <td>1</td>\n",
       "      <td>1937</td>\n",
       "      <td>3</td>\n",
       "      <td>907</td>\n",
       "      <td>6</td>\n",
       "      <td>2</td>\n",
       "      <td>0</td>\n",
       "      <td>3</td>\n",
       "      <td>0</td>\n",
       "      <td>0</td>\n",
       "      <td>2</td>\n",
       "    </tr>\n",
       "    <tr>\n",
       "      <th>1361</th>\n",
       "      <td>1530</td>\n",
       "      <td>0</td>\n",
       "      <td>2005</td>\n",
       "      <td>2</td>\n",
       "      <td>1530</td>\n",
       "      <td>4</td>\n",
       "      <td>2</td>\n",
       "      <td>1</td>\n",
       "      <td>2</td>\n",
       "      <td>0</td>\n",
       "      <td>1</td>\n",
       "      <td>4</td>\n",
       "    </tr>\n",
       "    <tr>\n",
       "      <th>802</th>\n",
       "      <td>1456</td>\n",
       "      <td>2</td>\n",
       "      <td>2005</td>\n",
       "      <td>2</td>\n",
       "      <td>728</td>\n",
       "      <td>4</td>\n",
       "      <td>2</td>\n",
       "      <td>1</td>\n",
       "      <td>2</td>\n",
       "      <td>0</td>\n",
       "      <td>1</td>\n",
       "      <td>4</td>\n",
       "    </tr>\n",
       "    <tr>\n",
       "      <th>651</th>\n",
       "      <td>1510</td>\n",
       "      <td>3</td>\n",
       "      <td>1940</td>\n",
       "      <td>3</td>\n",
       "      <td>755</td>\n",
       "      <td>4</td>\n",
       "      <td>1</td>\n",
       "      <td>1</td>\n",
       "      <td>3</td>\n",
       "      <td>0</td>\n",
       "      <td>1</td>\n",
       "      <td>4</td>\n",
       "    </tr>\n",
       "    <tr>\n",
       "      <th>722</th>\n",
       "      <td>864</td>\n",
       "      <td>3</td>\n",
       "      <td>1970</td>\n",
       "      <td>3</td>\n",
       "      <td>864</td>\n",
       "      <td>6</td>\n",
       "      <td>2</td>\n",
       "      <td>0</td>\n",
       "      <td>3</td>\n",
       "      <td>0</td>\n",
       "      <td>0</td>\n",
       "      <td>4</td>\n",
       "    </tr>\n",
       "  </tbody>\n",
       "</table>\n",
       "<p>292 rows × 12 columns</p>\n",
       "</div>"
      ],
      "text/plain": [
       "      GrLivArea  BsmtQual  YearBuilt  KitchenQual  TotalBsmtSF  OverallCond  \\\n",
       "892        1068         3       1963            3         1059            7   \n",
       "1105       2622         0       1994            2         1463            4   \n",
       "413        1028         3       1927            3         1008            5   \n",
       "522        1664         3       1947            3         1004            6   \n",
       "1036       1620         0       2007            0         1620            4   \n",
       "...         ...       ...        ...          ...          ...          ...   \n",
       "479        1131         1       1937            3          907            6   \n",
       "1361       1530         0       2005            2         1530            4   \n",
       "802        1456         2       2005            2          728            4   \n",
       "651        1510         3       1940            3          755            4   \n",
       "722         864         3       1970            3          864            6   \n",
       "\n",
       "      GarageCars  Fireplaces  ExterQual  BldgType  BsmtFullBath  SaleCondition  \n",
       "892            1           0          3         0             0              4  \n",
       "1105           2           2          2         0             1              4  \n",
       "413            2           1          3         0             0              4  \n",
       "522            2           2          3         0             0              4  \n",
       "1036           3           1          2         0             1              4  \n",
       "...          ...         ...        ...       ...           ...            ...  \n",
       "479            2           0          3         0             0              2  \n",
       "1361           2           1          2         0             1              4  \n",
       "802            2           1          2         0             1              4  \n",
       "651            1           1          3         0             1              4  \n",
       "722            2           0          3         0             0              4  \n",
       "\n",
       "[292 rows x 12 columns]"
      ]
     },
     "execution_count": 28,
     "metadata": {},
     "output_type": "execute_result"
    }
   ],
   "source": [
    "X_valid[FEATURES]"
   ]
  },
  {
   "cell_type": "code",
   "execution_count": 29,
   "id": "f9327d73",
   "metadata": {
    "execution": {
     "iopub.execute_input": "2022-06-28T12:43:04.658437Z",
     "iopub.status.busy": "2022-06-28T12:43:04.657896Z",
     "iopub.status.idle": "2022-06-28T12:43:04.680177Z",
     "shell.execute_reply": "2022-06-28T12:43:04.679213Z"
    },
    "papermill": {
     "duration": 0.047955,
     "end_time": "2022-06-28T12:43:04.682051",
     "exception": false,
     "start_time": "2022-06-28T12:43:04.634096",
     "status": "completed"
    },
    "tags": []
   },
   "outputs": [
    {
     "data": {
      "text/plain": [
       "((292, 12), (292,))"
      ]
     },
     "execution_count": 29,
     "metadata": {},
     "output_type": "execute_result"
    }
   ],
   "source": [
    "preds = fit.get_prediction(X_valid[FEATURES])\n",
    "\n",
    "# preds = fit.get_prediction(X_valid[FEATURES])\n",
    "\n",
    "\n",
    "X_valid[FEATURES].shape, preds.predicted_mean.shape"
   ]
  },
  {
   "cell_type": "code",
   "execution_count": 30,
   "id": "1a2e5ef5",
   "metadata": {
    "execution": {
     "iopub.execute_input": "2022-06-28T12:43:04.729901Z",
     "iopub.status.busy": "2022-06-28T12:43:04.729450Z",
     "iopub.status.idle": "2022-06-28T12:43:04.737847Z",
     "shell.execute_reply": "2022-06-28T12:43:04.737153Z"
    },
    "papermill": {
     "duration": 0.034805,
     "end_time": "2022-06-28T12:43:04.739848",
     "exception": false,
     "start_time": "2022-06-28T12:43:04.705043",
     "status": "completed"
    },
    "tags": []
   },
   "outputs": [
    {
     "data": {
      "text/plain": [
       "array([134869.61736353, 319564.64934109, 123534.87863679, 187989.99966759,\n",
       "       302301.37748448,  66900.70098055, 236440.83649506, 157451.04709501,\n",
       "        70906.7611519 , 134092.51999316])"
      ]
     },
     "execution_count": 30,
     "metadata": {},
     "output_type": "execute_result"
    }
   ],
   "source": [
    "preds.predicted_mean[:10]"
   ]
  },
  {
   "cell_type": "code",
   "execution_count": 31,
   "id": "9df0bed9",
   "metadata": {
    "execution": {
     "iopub.execute_input": "2022-06-28T12:43:04.788388Z",
     "iopub.status.busy": "2022-06-28T12:43:04.787638Z",
     "iopub.status.idle": "2022-06-28T12:43:05.535406Z",
     "shell.execute_reply": "2022-06-28T12:43:05.534467Z"
    },
    "papermill": {
     "duration": 0.774091,
     "end_time": "2022-06-28T12:43:05.537518",
     "exception": false,
     "start_time": "2022-06-28T12:43:04.763427",
     "status": "completed"
    },
    "tags": []
   },
   "outputs": [
    {
     "data": {
      "image/png": "[encoded data removed]",
      "text/plain": [
       "<Figure size 432x288 with 9 Axes>"
      ]
     },
     "metadata": {},
     "output_type": "display_data"
    }
   ],
   "source": [
    "axes = pd.plotting.scatter_matrix(\n",
    "    # model = ols(\"SalePrice~LotArea+GrLivArea\", data=train)\n",
    "    train[[\"SalePrice\", \"LotArea\", \"GrLivArea\"]]\n",
    ")\n",
    "plt.show()"
   ]
  },
  {
   "cell_type": "code",
   "execution_count": 32,
   "id": "d4f561ce",
   "metadata": {
    "execution": {
     "iopub.execute_input": "2022-06-28T12:43:05.587613Z",
     "iopub.status.busy": "2022-06-28T12:43:05.586875Z",
     "iopub.status.idle": "2022-06-28T12:43:05.611957Z",
     "shell.execute_reply": "2022-06-28T12:43:05.611335Z"
    },
    "papermill": {
     "duration": 0.052349,
     "end_time": "2022-06-28T12:43:05.613933",
     "exception": false,
     "start_time": "2022-06-28T12:43:05.561584",
     "status": "completed"
    },
    "tags": []
   },
   "outputs": [
    {
     "data": {
      "text/html": [
       "<div>\n",
       "<style scoped>\n",
       "    .dataframe tbody tr th:only-of-type {\n",
       "        vertical-align: middle;\n",
       "    }\n",
       "\n",
       "    .dataframe tbody tr th {\n",
       "        vertical-align: top;\n",
       "    }\n",
       "\n",
       "    .dataframe thead th {\n",
       "        text-align: right;\n",
       "    }\n",
       "</style>\n",
       "<table border=\"1\" class=\"dataframe\">\n",
       "  <thead>\n",
       "    <tr style=\"text-align: right;\">\n",
       "      <th></th>\n",
       "      <th>GrLivArea</th>\n",
       "      <th>BsmtQual</th>\n",
       "      <th>YearBuilt</th>\n",
       "      <th>KitchenQual</th>\n",
       "      <th>TotalBsmtSF</th>\n",
       "      <th>OverallCond</th>\n",
       "      <th>GarageCars</th>\n",
       "      <th>Fireplaces</th>\n",
       "      <th>ExterQual</th>\n",
       "      <th>BldgType</th>\n",
       "      <th>BsmtFullBath</th>\n",
       "      <th>SaleCondition</th>\n",
       "    </tr>\n",
       "  </thead>\n",
       "  <tbody>\n",
       "    <tr>\n",
       "      <th>0</th>\n",
       "      <td>False</td>\n",
       "      <td>False</td>\n",
       "      <td>False</td>\n",
       "      <td>False</td>\n",
       "      <td>False</td>\n",
       "      <td>False</td>\n",
       "      <td>False</td>\n",
       "      <td>False</td>\n",
       "      <td>False</td>\n",
       "      <td>False</td>\n",
       "      <td>False</td>\n",
       "      <td>False</td>\n",
       "    </tr>\n",
       "    <tr>\n",
       "      <th>1</th>\n",
       "      <td>False</td>\n",
       "      <td>False</td>\n",
       "      <td>False</td>\n",
       "      <td>False</td>\n",
       "      <td>False</td>\n",
       "      <td>False</td>\n",
       "      <td>False</td>\n",
       "      <td>False</td>\n",
       "      <td>False</td>\n",
       "      <td>False</td>\n",
       "      <td>False</td>\n",
       "      <td>False</td>\n",
       "    </tr>\n",
       "    <tr>\n",
       "      <th>2</th>\n",
       "      <td>False</td>\n",
       "      <td>False</td>\n",
       "      <td>False</td>\n",
       "      <td>False</td>\n",
       "      <td>False</td>\n",
       "      <td>False</td>\n",
       "      <td>False</td>\n",
       "      <td>False</td>\n",
       "      <td>False</td>\n",
       "      <td>False</td>\n",
       "      <td>False</td>\n",
       "      <td>False</td>\n",
       "    </tr>\n",
       "    <tr>\n",
       "      <th>3</th>\n",
       "      <td>False</td>\n",
       "      <td>False</td>\n",
       "      <td>False</td>\n",
       "      <td>False</td>\n",
       "      <td>False</td>\n",
       "      <td>False</td>\n",
       "      <td>False</td>\n",
       "      <td>False</td>\n",
       "      <td>False</td>\n",
       "      <td>False</td>\n",
       "      <td>False</td>\n",
       "      <td>False</td>\n",
       "    </tr>\n",
       "    <tr>\n",
       "      <th>4</th>\n",
       "      <td>False</td>\n",
       "      <td>False</td>\n",
       "      <td>False</td>\n",
       "      <td>False</td>\n",
       "      <td>False</td>\n",
       "      <td>False</td>\n",
       "      <td>False</td>\n",
       "      <td>False</td>\n",
       "      <td>False</td>\n",
       "      <td>False</td>\n",
       "      <td>False</td>\n",
       "      <td>False</td>\n",
       "    </tr>\n",
       "    <tr>\n",
       "      <th>...</th>\n",
       "      <td>...</td>\n",
       "      <td>...</td>\n",
       "      <td>...</td>\n",
       "      <td>...</td>\n",
       "      <td>...</td>\n",
       "      <td>...</td>\n",
       "      <td>...</td>\n",
       "      <td>...</td>\n",
       "      <td>...</td>\n",
       "      <td>...</td>\n",
       "      <td>...</td>\n",
       "      <td>...</td>\n",
       "    </tr>\n",
       "    <tr>\n",
       "      <th>1454</th>\n",
       "      <td>False</td>\n",
       "      <td>False</td>\n",
       "      <td>False</td>\n",
       "      <td>False</td>\n",
       "      <td>False</td>\n",
       "      <td>False</td>\n",
       "      <td>False</td>\n",
       "      <td>False</td>\n",
       "      <td>False</td>\n",
       "      <td>False</td>\n",
       "      <td>False</td>\n",
       "      <td>False</td>\n",
       "    </tr>\n",
       "    <tr>\n",
       "      <th>1455</th>\n",
       "      <td>False</td>\n",
       "      <td>False</td>\n",
       "      <td>False</td>\n",
       "      <td>False</td>\n",
       "      <td>False</td>\n",
       "      <td>False</td>\n",
       "      <td>False</td>\n",
       "      <td>False</td>\n",
       "      <td>False</td>\n",
       "      <td>False</td>\n",
       "      <td>False</td>\n",
       "      <td>False</td>\n",
       "    </tr>\n",
       "    <tr>\n",
       "      <th>1456</th>\n",
       "      <td>False</td>\n",
       "      <td>False</td>\n",
       "      <td>False</td>\n",
       "      <td>False</td>\n",
       "      <td>False</td>\n",
       "      <td>False</td>\n",
       "      <td>False</td>\n",
       "      <td>False</td>\n",
       "      <td>False</td>\n",
       "      <td>False</td>\n",
       "      <td>False</td>\n",
       "      <td>False</td>\n",
       "    </tr>\n",
       "    <tr>\n",
       "      <th>1457</th>\n",
       "      <td>False</td>\n",
       "      <td>False</td>\n",
       "      <td>False</td>\n",
       "      <td>False</td>\n",
       "      <td>False</td>\n",
       "      <td>False</td>\n",
       "      <td>False</td>\n",
       "      <td>False</td>\n",
       "      <td>False</td>\n",
       "      <td>False</td>\n",
       "      <td>False</td>\n",
       "      <td>False</td>\n",
       "    </tr>\n",
       "    <tr>\n",
       "      <th>1458</th>\n",
       "      <td>False</td>\n",
       "      <td>False</td>\n",
       "      <td>False</td>\n",
       "      <td>False</td>\n",
       "      <td>False</td>\n",
       "      <td>False</td>\n",
       "      <td>False</td>\n",
       "      <td>False</td>\n",
       "      <td>False</td>\n",
       "      <td>False</td>\n",
       "      <td>False</td>\n",
       "      <td>False</td>\n",
       "    </tr>\n",
       "  </tbody>\n",
       "</table>\n",
       "<p>1459 rows × 12 columns</p>\n",
       "</div>"
      ],
      "text/plain": [
       "      GrLivArea  BsmtQual  YearBuilt  KitchenQual  TotalBsmtSF  OverallCond  \\\n",
       "0         False     False      False        False        False        False   \n",
       "1         False     False      False        False        False        False   \n",
       "2         False     False      False        False        False        False   \n",
       "3         False     False      False        False        False        False   \n",
       "4         False     False      False        False        False        False   \n",
       "...         ...       ...        ...          ...          ...          ...   \n",
       "1454      False     False      False        False        False        False   \n",
       "1455      False     False      False        False        False        False   \n",
       "1456      False     False      False        False        False        False   \n",
       "1457      False     False      False        False        False        False   \n",
       "1458      False     False      False        False        False        False   \n",
       "\n",
       "      GarageCars  Fireplaces  ExterQual  BldgType  BsmtFullBath  SaleCondition  \n",
       "0          False       False      False     False         False          False  \n",
       "1          False       False      False     False         False          False  \n",
       "2          False       False      False     False         False          False  \n",
       "3          False       False      False     False         False          False  \n",
       "4          False       False      False     False         False          False  \n",
       "...          ...         ...        ...       ...           ...            ...  \n",
       "1454       False       False      False     False         False          False  \n",
       "1455       False       False      False     False         False          False  \n",
       "1456       False       False      False     False         False          False  \n",
       "1457       False       False      False     False         False          False  \n",
       "1458       False       False      False     False         False          False  \n",
       "\n",
       "[1459 rows x 12 columns]"
      ]
     },
     "execution_count": 32,
     "metadata": {},
     "output_type": "execute_result"
    }
   ],
   "source": [
    "X_test[FEATURES].isnull()"
   ]
  },
  {
   "cell_type": "code",
   "execution_count": 33,
   "id": "20d080e0",
   "metadata": {
    "execution": {
     "iopub.execute_input": "2022-06-28T12:43:05.664060Z",
     "iopub.status.busy": "2022-06-28T12:43:05.663559Z",
     "iopub.status.idle": "2022-06-28T12:43:05.672278Z",
     "shell.execute_reply": "2022-06-28T12:43:05.671618Z"
    },
    "papermill": {
     "duration": 0.036113,
     "end_time": "2022-06-28T12:43:05.674266",
     "exception": false,
     "start_time": "2022-06-28T12:43:05.638153",
     "status": "completed"
    },
    "tags": []
   },
   "outputs": [
    {
     "name": "stdout",
     "output_type": "stream",
     "text": [
      "GrLivArea        0\n",
      "BsmtQual         0\n",
      "YearBuilt        0\n",
      "KitchenQual      0\n",
      "TotalBsmtSF      1\n",
      "OverallCond      0\n",
      "GarageCars       0\n",
      "Fireplaces       0\n",
      "ExterQual        0\n",
      "BldgType         0\n",
      "BsmtFullBath     2\n",
      "SaleCondition    0\n",
      "dtype: int64\n"
     ]
    }
   ],
   "source": [
    "print(X_test[FEATURES].isnull().sum())"
   ]
  },
  {
   "cell_type": "code",
   "execution_count": 34,
   "id": "56baf43c",
   "metadata": {
    "execution": {
     "iopub.execute_input": "2022-06-28T12:43:05.724123Z",
     "iopub.status.busy": "2022-06-28T12:43:05.723750Z",
     "iopub.status.idle": "2022-06-28T12:43:05.732708Z",
     "shell.execute_reply": "2022-06-28T12:43:05.731839Z"
    },
    "papermill": {
     "duration": 0.036176,
     "end_time": "2022-06-28T12:43:05.734723",
     "exception": false,
     "start_time": "2022-06-28T12:43:05.698547",
     "status": "completed"
    },
    "tags": []
   },
   "outputs": [],
   "source": [
    "X_test[\"TotalBsmtSF\"] = X_test[\"TotalBsmtSF\"].fillna(0)\n",
    "X_test[\"BsmtFullBath\"] = X_test[\"BsmtFullBath\"].fillna(0)"
   ]
  },
  {
   "cell_type": "code",
   "execution_count": 35,
   "id": "92e6164e",
   "metadata": {
    "execution": {
     "iopub.execute_input": "2022-06-28T12:43:05.785475Z",
     "iopub.status.busy": "2022-06-28T12:43:05.785002Z",
     "iopub.status.idle": "2022-06-28T12:43:05.816570Z",
     "shell.execute_reply": "2022-06-28T12:43:05.814817Z"
    },
    "papermill": {
     "duration": 0.062163,
     "end_time": "2022-06-28T12:43:05.821192",
     "exception": false,
     "start_time": "2022-06-28T12:43:05.759029",
     "status": "completed"
    },
    "tags": []
   },
   "outputs": [
    {
     "name": "stdout",
     "output_type": "stream",
     "text": [
      "CPU times: user 25.3 ms, sys: 6.4 ms, total: 31.7 ms\n",
      "Wall time: 22.6 ms\n"
     ]
    }
   ],
   "source": [
    "%%time\n",
    "preds = fit.get_prediction(X_test[FEATURES])"
   ]
  },
  {
   "cell_type": "code",
   "execution_count": 36,
   "id": "054c9c93",
   "metadata": {
    "execution": {
     "iopub.execute_input": "2022-06-28T12:43:05.914007Z",
     "iopub.status.busy": "2022-06-28T12:43:05.913396Z",
     "iopub.status.idle": "2022-06-28T12:43:05.924296Z",
     "shell.execute_reply": "2022-06-28T12:43:05.923237Z"
    },
    "papermill": {
     "duration": 0.061131,
     "end_time": "2022-06-28T12:43:05.927726",
     "exception": false,
     "start_time": "2022-06-28T12:43:05.866595",
     "status": "completed"
    },
    "tags": []
   },
   "outputs": [
    {
     "data": {
      "text/plain": [
       "((1459, 79), (1459,))"
      ]
     },
     "execution_count": 36,
     "metadata": {},
     "output_type": "execute_result"
    }
   ],
   "source": [
    "X_test.shape, preds.predicted_mean.shape"
   ]
  },
  {
   "cell_type": "code",
   "execution_count": 37,
   "id": "c22f452d",
   "metadata": {
    "execution": {
     "iopub.execute_input": "2022-06-28T12:43:05.980011Z",
     "iopub.status.busy": "2022-06-28T12:43:05.978915Z",
     "iopub.status.idle": "2022-06-28T12:43:05.995724Z",
     "shell.execute_reply": "2022-06-28T12:43:05.994906Z"
    },
    "papermill": {
     "duration": 0.044883,
     "end_time": "2022-06-28T12:43:05.997994",
     "exception": false,
     "start_time": "2022-06-28T12:43:05.953111",
     "status": "completed"
    },
    "tags": []
   },
   "outputs": [
    {
     "data": {
      "text/plain": [
       "mean          0       103725.452967\n",
       "              1       147779.527318\n",
       "              2       192970.673917\n",
       "              3       199734.185696\n",
       "              4       173075.047308\n",
       "                          ...      \n",
       "obs_ci_upper  1454    159248.652521\n",
       "              1455    143771.718802\n",
       "              1456    225418.616386\n",
       "              1457    183221.175257\n",
       "              1458    296655.641432\n",
       "Length: 8754, dtype: float64"
      ]
     },
     "execution_count": 37,
     "metadata": {},
     "output_type": "execute_result"
    }
   ],
   "source": [
    "preds.summary_frame(alpha=0.05).unstack()"
   ]
  },
  {
   "cell_type": "code",
   "execution_count": 38,
   "id": "ab5a7ad7",
   "metadata": {
    "execution": {
     "iopub.execute_input": "2022-06-28T12:43:06.063689Z",
     "iopub.status.busy": "2022-06-28T12:43:06.062551Z",
     "iopub.status.idle": "2022-06-28T12:43:06.109638Z",
     "shell.execute_reply": "2022-06-28T12:43:06.108436Z"
    },
    "papermill": {
     "duration": 0.087799,
     "end_time": "2022-06-28T12:43:06.113290",
     "exception": false,
     "start_time": "2022-06-28T12:43:06.025491",
     "status": "completed"
    },
    "tags": []
   },
   "outputs": [
    {
     "name": "stdout",
     "output_type": "stream",
     "text": [
      "                   df        sum_sq       mean_sq            F         PR(>F)\n",
      "GrLivArea         1.0  4.623740e+12  4.623740e+12  3691.902656   0.000000e+00\n",
      "BsmtQual          1.0  1.428353e+12  1.428353e+12  1140.492371  7.072444e-185\n",
      "YearBuilt         1.0  4.545874e+11  4.545874e+11   362.972890   2.175207e-72\n",
      "KitchenQual       1.0  2.653808e+11  2.653808e+11   211.897710   6.667976e-45\n",
      "TotalBsmtSF       1.0  1.734035e+11  1.734035e+11   138.456912   1.362458e-30\n",
      "OverallCond       1.0  1.411926e+11  1.411926e+11   112.737585   2.060370e-25\n",
      "GarageCars        1.0  1.276965e+11  1.276965e+11   101.961406   3.253775e-23\n",
      "Fireplaces        1.0  7.078481e+10  7.078481e+10    56.519314   9.709018e-14\n",
      "ExterQual         1.0  5.340664e+10  5.340664e+10    42.643423   9.066450e-11\n",
      "BldgType          1.0  4.847949e+10  4.847949e+10    38.709256   6.425518e-10\n",
      "SaleCondition     1.0  7.410616e+09  7.410616e+09     5.917130   1.511482e-02\n",
      "Residual       1448.0  1.813476e+12  1.252400e+09          NaN            NaN\n"
     ]
    }
   ],
   "source": [
    "table = sm.stats.anova_lm(fit)\n",
    "\n",
    "print(table)"
   ]
  },
  {
   "cell_type": "code",
   "execution_count": 39,
   "id": "aa2d36b6",
   "metadata": {
    "execution": {
     "iopub.execute_input": "2022-06-28T12:43:06.199667Z",
     "iopub.status.busy": "2022-06-28T12:43:06.199290Z",
     "iopub.status.idle": "2022-06-28T12:43:06.662042Z",
     "shell.execute_reply": "2022-06-28T12:43:06.661249Z"
    },
    "papermill": {
     "duration": 0.504342,
     "end_time": "2022-06-28T12:43:06.664160",
     "exception": false,
     "start_time": "2022-06-28T12:43:06.159818",
     "status": "completed"
    },
    "tags": []
   },
   "outputs": [
    {
     "data": {
      "image/png": "[encoded data removed]",
      "text/plain": [
       "<Figure size 432x288 with 1 Axes>"
      ]
     },
     "execution_count": 39,
     "metadata": {},
     "output_type": "execute_result"
    },
    {
     "data": {
      "image/png": "[encoded data removed]",
      "text/plain": [
       "<Figure size 432x288 with 1 Axes>"
      ]
     },
     "metadata": {},
     "output_type": "display_data"
    },
    {
     "data": {
      "image/png": "[encoded data removed]",
      "text/plain": [
       "<Figure size 432x288 with 1 Axes>"
      ]
     },
     "metadata": {},
     "output_type": "display_data"
    }
   ],
   "source": [
    "plt.plot(fit.fittedvalues, fit.resid, \".\")\n",
    "\n",
    "plt.xlabel(\" fitted values\")\n",
    "\n",
    "plt.ylabel(\" residuals\")\n",
    "\n",
    "sm.qqplot(fit.resid)"
   ]
  },
  {
   "cell_type": "code",
   "execution_count": 40,
   "id": "c1d4ef7a",
   "metadata": {
    "execution": {
     "iopub.execute_input": "2022-06-28T12:43:06.718996Z",
     "iopub.status.busy": "2022-06-28T12:43:06.717830Z",
     "iopub.status.idle": "2022-06-28T12:43:06.725266Z",
     "shell.execute_reply": "2022-06-28T12:43:06.724644Z"
    },
    "papermill": {
     "duration": 0.036419,
     "end_time": "2022-06-28T12:43:06.727013",
     "exception": false,
     "start_time": "2022-06-28T12:43:06.690594",
     "status": "completed"
    },
    "tags": []
   },
   "outputs": [
    {
     "data": {
      "text/plain": [
       "(1459,)"
      ]
     },
     "execution_count": 40,
     "metadata": {},
     "output_type": "execute_result"
    }
   ],
   "source": [
    "preds.predicted_mean.shape"
   ]
  },
  {
   "cell_type": "code",
   "execution_count": 41,
   "id": "cd967e1e",
   "metadata": {
    "execution": {
     "iopub.execute_input": "2022-06-28T12:43:06.780632Z",
     "iopub.status.busy": "2022-06-28T12:43:06.779958Z",
     "iopub.status.idle": "2022-06-28T12:43:06.800557Z",
     "shell.execute_reply": "2022-06-28T12:43:06.799922Z"
    },
    "papermill": {
     "duration": 0.049358,
     "end_time": "2022-06-28T12:43:06.802343",
     "exception": false,
     "start_time": "2022-06-28T12:43:06.752985",
     "status": "completed"
    },
    "tags": []
   },
   "outputs": [
    {
     "data": {
      "text/html": [
       "<div>\n",
       "<style scoped>\n",
       "    .dataframe tbody tr th:only-of-type {\n",
       "        vertical-align: middle;\n",
       "    }\n",
       "\n",
       "    .dataframe tbody tr th {\n",
       "        vertical-align: top;\n",
       "    }\n",
       "\n",
       "    .dataframe thead th {\n",
       "        text-align: right;\n",
       "    }\n",
       "</style>\n",
       "<table border=\"1\" class=\"dataframe\">\n",
       "  <thead>\n",
       "    <tr style=\"text-align: right;\">\n",
       "      <th></th>\n",
       "      <th>Id</th>\n",
       "      <th>SalePrice</th>\n",
       "    </tr>\n",
       "  </thead>\n",
       "  <tbody>\n",
       "    <tr>\n",
       "      <th>0</th>\n",
       "      <td>1461</td>\n",
       "      <td>103725.452967</td>\n",
       "    </tr>\n",
       "    <tr>\n",
       "      <th>1</th>\n",
       "      <td>1462</td>\n",
       "      <td>147779.527318</td>\n",
       "    </tr>\n",
       "    <tr>\n",
       "      <th>2</th>\n",
       "      <td>1463</td>\n",
       "      <td>192970.673917</td>\n",
       "    </tr>\n",
       "    <tr>\n",
       "      <th>3</th>\n",
       "      <td>1464</td>\n",
       "      <td>199734.185696</td>\n",
       "    </tr>\n",
       "    <tr>\n",
       "      <th>4</th>\n",
       "      <td>1465</td>\n",
       "      <td>173075.047308</td>\n",
       "    </tr>\n",
       "    <tr>\n",
       "      <th>...</th>\n",
       "      <td>...</td>\n",
       "      <td>...</td>\n",
       "    </tr>\n",
       "    <tr>\n",
       "      <th>1454</th>\n",
       "      <td>2915</td>\n",
       "      <td>89455.856613</td>\n",
       "    </tr>\n",
       "    <tr>\n",
       "      <th>1455</th>\n",
       "      <td>2916</td>\n",
       "      <td>73829.297638</td>\n",
       "    </tr>\n",
       "    <tr>\n",
       "      <th>1456</th>\n",
       "      <td>2917</td>\n",
       "      <td>155541.950214</td>\n",
       "    </tr>\n",
       "    <tr>\n",
       "      <th>1457</th>\n",
       "      <td>2918</td>\n",
       "      <td>113444.854755</td>\n",
       "    </tr>\n",
       "    <tr>\n",
       "      <th>1458</th>\n",
       "      <td>2919</td>\n",
       "      <td>227038.885760</td>\n",
       "    </tr>\n",
       "  </tbody>\n",
       "</table>\n",
       "<p>1459 rows × 2 columns</p>\n",
       "</div>"
      ],
      "text/plain": [
       "        Id      SalePrice\n",
       "0     1461  103725.452967\n",
       "1     1462  147779.527318\n",
       "2     1463  192970.673917\n",
       "3     1464  199734.185696\n",
       "4     1465  173075.047308\n",
       "...    ...            ...\n",
       "1454  2915   89455.856613\n",
       "1455  2916   73829.297638\n",
       "1456  2917  155541.950214\n",
       "1457  2918  113444.854755\n",
       "1458  2919  227038.885760\n",
       "\n",
       "[1459 rows x 2 columns]"
      ]
     },
     "execution_count": 41,
     "metadata": {},
     "output_type": "execute_result"
    }
   ],
   "source": [
    "create_submission(\"lr\", TARGET, preds.predicted_mean)"
   ]
  },
  {
   "cell_type": "markdown",
   "id": "f78f82c8",
   "metadata": {
    "papermill": {
     "duration": 0.026085,
     "end_time": "2022-06-28T12:43:06.853996",
     "exception": false,
     "start_time": "2022-06-28T12:43:06.827911",
     "status": "completed"
    },
    "tags": []
   },
   "source": [
    "<div style=\"background-color:rgba(128, 0, 128, 0.6);border-radius:5px;display:fill\"><h1 style=\"text-align: center;padding: 12px 0px 12px 0px;\">Linear Regression Using MLE</h1>\n",
    "</div>\n",
    "\n",
    "1. Calculate $\\theta$\n",
    "2. Use $\\theta$ for inference"
   ]
  },
  {
   "cell_type": "code",
   "execution_count": 42,
   "id": "cd439280",
   "metadata": {
    "execution": {
     "iopub.execute_input": "2022-06-28T12:43:06.908112Z",
     "iopub.status.busy": "2022-06-28T12:43:06.907445Z",
     "iopub.status.idle": "2022-06-28T12:43:06.916729Z",
     "shell.execute_reply": "2022-06-28T12:43:06.915859Z"
    },
    "papermill": {
     "duration": 0.038595,
     "end_time": "2022-06-28T12:43:06.918533",
     "exception": false,
     "start_time": "2022-06-28T12:43:06.879938",
     "status": "completed"
    },
    "tags": []
   },
   "outputs": [],
   "source": [
    "import scipy.linalg\n",
    "\n",
    "\n",
    "def max_lik_estimate(X, y):\n",
    "\n",
    "    # X: N x D matrix of training inputs\n",
    "    # y: N x 1 vector of training targets/observations\n",
    "    # returns: maximum likelihood parameters (D x 1)\n",
    "\n",
    "    #     N, D = X.shape\n",
    "    theta_ml = np.linalg.solve(X.T @ X, X.T @ y)  ## <-- SOLUTION\n",
    "    return theta_ml"
   ]
  },
  {
   "cell_type": "code",
   "execution_count": 43,
   "id": "c279747f",
   "metadata": {
    "execution": {
     "iopub.execute_input": "2022-06-28T12:43:06.973093Z",
     "iopub.status.busy": "2022-06-28T12:43:06.972464Z",
     "iopub.status.idle": "2022-06-28T12:43:06.983530Z",
     "shell.execute_reply": "2022-06-28T12:43:06.982863Z"
    },
    "papermill": {
     "duration": 0.040561,
     "end_time": "2022-06-28T12:43:06.985404",
     "exception": false,
     "start_time": "2022-06-28T12:43:06.944843",
     "status": "completed"
    },
    "tags": []
   },
   "outputs": [],
   "source": [
    "## EDIT THIS FUNCTION\n",
    "# def max_lik_estimate_aug(X_aug, y):\n",
    "def max_lik_estimate_aug(X, y):\n",
    "\n",
    "    N, D = X.shape\n",
    "    X_aug = np.hstack(\n",
    "        [np.ones((N, 1)), X]\n",
    "    )  # augmented training inputs of size N x (D+1)\n",
    "    #     theta_aug = np.zeros((D+1, 1)) # new theta vector of size (D+1) x 1\n",
    "\n",
    "    theta_aug_ml = max_lik_estimate(X_aug, y)  ## <-- SOLUTION\n",
    "\n",
    "    return theta_aug_ml"
   ]
  },
  {
   "cell_type": "code",
   "execution_count": 44,
   "id": "8b6ccc2d",
   "metadata": {
    "execution": {
     "iopub.execute_input": "2022-06-28T12:43:07.040119Z",
     "iopub.status.busy": "2022-06-28T12:43:07.039512Z",
     "iopub.status.idle": "2022-06-28T12:43:07.045934Z",
     "shell.execute_reply": "2022-06-28T12:43:07.045344Z"
    },
    "papermill": {
     "duration": 0.035699,
     "end_time": "2022-06-28T12:43:07.047859",
     "exception": false,
     "start_time": "2022-06-28T12:43:07.012160",
     "status": "completed"
    },
    "tags": []
   },
   "outputs": [],
   "source": [
    "def predict_with_estimate(Xtest, theta):\n",
    "\n",
    "    # Xtest: K x D matrix of test inputs\n",
    "    # theta: D x 1 vector of parameters\n",
    "    # returns: prediction of f(Xtest); K x 1 vector\n",
    "\n",
    "    prediction = Xtest @ theta  ## <-- SOLUTION\n",
    "\n",
    "    return prediction"
   ]
  },
  {
   "cell_type": "code",
   "execution_count": null,
   "id": "ecd1b6fe",
   "metadata": {
    "papermill": {
     "duration": 0.026096,
     "end_time": "2022-06-28T12:43:07.100061",
     "exception": false,
     "start_time": "2022-06-28T12:43:07.073965",
     "status": "completed"
    },
    "tags": []
   },
   "outputs": [],
   "source": []
  },
  {
   "cell_type": "code",
   "execution_count": 45,
   "id": "c1bcc0a8",
   "metadata": {
    "execution": {
     "iopub.execute_input": "2022-06-28T12:43:07.155066Z",
     "iopub.status.busy": "2022-06-28T12:43:07.154544Z",
     "iopub.status.idle": "2022-06-28T12:43:07.162085Z",
     "shell.execute_reply": "2022-06-28T12:43:07.161470Z"
    },
    "papermill": {
     "duration": 0.036846,
     "end_time": "2022-06-28T12:43:07.163858",
     "exception": false,
     "start_time": "2022-06-28T12:43:07.127012",
     "status": "completed"
    },
    "tags": []
   },
   "outputs": [],
   "source": [
    "def RMSE(y, ypred):\n",
    "    rmse = np.sqrt(np.mean((y - ypred) ** 2))\n",
    "    return rmse"
   ]
  },
  {
   "cell_type": "code",
   "execution_count": 46,
   "id": "1ecce2c4",
   "metadata": {
    "execution": {
     "iopub.execute_input": "2022-06-28T12:43:07.218094Z",
     "iopub.status.busy": "2022-06-28T12:43:07.217569Z",
     "iopub.status.idle": "2022-06-28T12:43:07.222762Z",
     "shell.execute_reply": "2022-06-28T12:43:07.222139Z"
    },
    "papermill": {
     "duration": 0.034313,
     "end_time": "2022-06-28T12:43:07.224498",
     "exception": false,
     "start_time": "2022-06-28T12:43:07.190185",
     "status": "completed"
    },
    "tags": []
   },
   "outputs": [],
   "source": [
    "# FEATURES = [\"LotArea\"]\n",
    "FEATURES = [\"LotArea\", \"GrLivArea\"]"
   ]
  },
  {
   "cell_type": "code",
   "execution_count": 47,
   "id": "9ebec332",
   "metadata": {
    "execution": {
     "iopub.execute_input": "2022-06-28T12:43:07.278704Z",
     "iopub.status.busy": "2022-06-28T12:43:07.277990Z",
     "iopub.status.idle": "2022-06-28T12:43:07.287988Z",
     "shell.execute_reply": "2022-06-28T12:43:07.287095Z"
    },
    "papermill": {
     "duration": 0.039529,
     "end_time": "2022-06-28T12:43:07.290094",
     "exception": false,
     "start_time": "2022-06-28T12:43:07.250565",
     "status": "completed"
    },
    "tags": []
   },
   "outputs": [],
   "source": [
    "y = train[TARGET]\n",
    "X = train[FEATURES].copy()\n",
    "\n",
    "X_test = test[FEATURES].copy()"
   ]
  },
  {
   "cell_type": "code",
   "execution_count": 48,
   "id": "56a1abc6",
   "metadata": {
    "execution": {
     "iopub.execute_input": "2022-06-28T12:43:07.345502Z",
     "iopub.status.busy": "2022-06-28T12:43:07.344412Z",
     "iopub.status.idle": "2022-06-28T12:43:07.359038Z",
     "shell.execute_reply": "2022-06-28T12:43:07.358369Z"
    },
    "papermill": {
     "duration": 0.044286,
     "end_time": "2022-06-28T12:43:07.360915",
     "exception": false,
     "start_time": "2022-06-28T12:43:07.316629",
     "status": "completed"
    },
    "tags": []
   },
   "outputs": [
    {
     "data": {
      "text/plain": [
       "((1168, 2), (1168,), (292, 2), (292,))"
      ]
     },
     "execution_count": 48,
     "metadata": {},
     "output_type": "execute_result"
    }
   ],
   "source": [
    "X_train, X_valid, y_train, y_valid = train_test_split(\n",
    "    X,\n",
    "    y,\n",
    "    test_size=0.2,\n",
    "    random_state=42,\n",
    ")\n",
    "X_train.shape, y_train.shape, X_valid.shape, y_valid.shape"
   ]
  },
  {
   "cell_type": "code",
   "execution_count": 49,
   "id": "dc0bd0e1",
   "metadata": {
    "execution": {
     "iopub.execute_input": "2022-06-28T12:43:07.415359Z",
     "iopub.status.busy": "2022-06-28T12:43:07.414836Z",
     "iopub.status.idle": "2022-06-28T12:43:07.421086Z",
     "shell.execute_reply": "2022-06-28T12:43:07.420497Z"
    },
    "papermill": {
     "duration": 0.035559,
     "end_time": "2022-06-28T12:43:07.422793",
     "exception": false,
     "start_time": "2022-06-28T12:43:07.387234",
     "status": "completed"
    },
    "tags": []
   },
   "outputs": [],
   "source": [
    "# get maximum likelihood estimate\n",
    "theta_ml = max_lik_estimate(X_train, y_train)"
   ]
  },
  {
   "cell_type": "code",
   "execution_count": 50,
   "id": "563cb022",
   "metadata": {
    "execution": {
     "iopub.execute_input": "2022-06-28T12:43:07.478130Z",
     "iopub.status.busy": "2022-06-28T12:43:07.477620Z",
     "iopub.status.idle": "2022-06-28T12:43:07.856263Z",
     "shell.execute_reply": "2022-06-28T12:43:07.855254Z"
    },
    "papermill": {
     "duration": 0.409429,
     "end_time": "2022-06-28T12:43:07.858553",
     "exception": false,
     "start_time": "2022-06-28T12:43:07.449124",
     "status": "completed"
    },
    "tags": []
   },
   "outputs": [
    {
     "data": {
      "text/plain": [
       "Text(0, 0.5, '$y$')"
      ]
     },
     "execution_count": 50,
     "metadata": {},
     "output_type": "execute_result"
    },
    {
     "data": {
      "image/png": "[encoded data removed]",
      "text/plain": [
       "<Figure size 432x288 with 1 Axes>"
      ]
     },
     "metadata": {},
     "output_type": "display_data"
    }
   ],
   "source": [
    "# predict the function values at the test points using the maximum likelihood estimator\n",
    "ml_prediction = predict_with_estimate(X_valid, theta_ml)\n",
    "\n",
    "# plot\n",
    "plt.figure()\n",
    "plt.plot(X, y, \"+\", markersize=10)\n",
    "plt.plot(X_valid, ml_prediction)\n",
    "plt.xlabel(\"$x$\")\n",
    "plt.ylabel(\"$y$\")"
   ]
  },
  {
   "cell_type": "code",
   "execution_count": 51,
   "id": "c2c4fce7",
   "metadata": {
    "execution": {
     "iopub.execute_input": "2022-06-28T12:43:07.915933Z",
     "iopub.status.busy": "2022-06-28T12:43:07.915381Z",
     "iopub.status.idle": "2022-06-28T12:43:07.921770Z",
     "shell.execute_reply": "2022-06-28T12:43:07.921106Z"
    },
    "papermill": {
     "duration": 0.037483,
     "end_time": "2022-06-28T12:43:07.923501",
     "exception": false,
     "start_time": "2022-06-28T12:43:07.886018",
     "status": "completed"
    },
    "tags": []
   },
   "outputs": [
    {
     "data": {
      "text/plain": [
       "(292,)"
      ]
     },
     "execution_count": 51,
     "metadata": {},
     "output_type": "execute_result"
    }
   ],
   "source": [
    "ml_prediction.shape"
   ]
  },
  {
   "cell_type": "code",
   "execution_count": 52,
   "id": "3f5319a0",
   "metadata": {
    "execution": {
     "iopub.execute_input": "2022-06-28T12:43:07.979749Z",
     "iopub.status.busy": "2022-06-28T12:43:07.979105Z",
     "iopub.status.idle": "2022-06-28T12:43:07.986993Z",
     "shell.execute_reply": "2022-06-28T12:43:07.986365Z"
    },
    "papermill": {
     "duration": 0.038099,
     "end_time": "2022-06-28T12:43:07.988758",
     "exception": false,
     "start_time": "2022-06-28T12:43:07.950659",
     "status": "completed"
    },
    "tags": []
   },
   "outputs": [
    {
     "data": {
      "text/plain": [
       "892     125790.551812\n",
       "1105    303111.043434\n",
       "413     121664.787974\n",
       "522     190474.566365\n",
       "1036    190897.811099\n",
       "614      71841.425749\n",
       "218     230325.638002\n",
       "1160    165240.831328\n",
       "649      72143.986292\n",
       "887     167803.285692\n",
       "dtype: float64"
      ]
     },
     "execution_count": 52,
     "metadata": {},
     "output_type": "execute_result"
    }
   ],
   "source": [
    "ml_prediction[:10]"
   ]
  },
  {
   "cell_type": "code",
   "execution_count": 53,
   "id": "eefacc31",
   "metadata": {
    "execution": {
     "iopub.execute_input": "2022-06-28T12:43:08.046056Z",
     "iopub.status.busy": "2022-06-28T12:43:08.045439Z",
     "iopub.status.idle": "2022-06-28T12:43:08.053717Z",
     "shell.execute_reply": "2022-06-28T12:43:08.052950Z"
    },
    "papermill": {
     "duration": 0.039494,
     "end_time": "2022-06-28T12:43:08.055544",
     "exception": false,
     "start_time": "2022-06-28T12:43:08.016050",
     "status": "completed"
    },
    "tags": []
   },
   "outputs": [
    {
     "data": {
      "text/plain": [
       "57308.998260162654"
      ]
     },
     "execution_count": 53,
     "metadata": {},
     "output_type": "execute_result"
    }
   ],
   "source": [
    "rmse = RMSE(ml_prediction, y_valid)\n",
    "rmse"
   ]
  },
  {
   "cell_type": "code",
   "execution_count": 54,
   "id": "7c5e9039",
   "metadata": {
    "execution": {
     "iopub.execute_input": "2022-06-28T12:43:08.113360Z",
     "iopub.status.busy": "2022-06-28T12:43:08.112724Z",
     "iopub.status.idle": "2022-06-28T12:43:08.118343Z",
     "shell.execute_reply": "2022-06-28T12:43:08.117702Z"
    },
    "papermill": {
     "duration": 0.036363,
     "end_time": "2022-06-28T12:43:08.120118",
     "exception": false,
     "start_time": "2022-06-28T12:43:08.083755",
     "status": "completed"
    },
    "tags": []
   },
   "outputs": [],
   "source": [
    "ml_prediction = predict_with_estimate(X_test, theta_ml)"
   ]
  },
  {
   "cell_type": "code",
   "execution_count": 55,
   "id": "1ff50460",
   "metadata": {
    "execution": {
     "iopub.execute_input": "2022-06-28T12:43:08.177627Z",
     "iopub.status.busy": "2022-06-28T12:43:08.176977Z",
     "iopub.status.idle": "2022-06-28T12:43:08.196049Z",
     "shell.execute_reply": "2022-06-28T12:43:08.195372Z"
    },
    "papermill": {
     "duration": 0.049843,
     "end_time": "2022-06-28T12:43:08.197938",
     "exception": false,
     "start_time": "2022-06-28T12:43:08.148095",
     "status": "completed"
    },
    "tags": []
   },
   "outputs": [
    {
     "data": {
      "text/html": [
       "<div>\n",
       "<style scoped>\n",
       "    .dataframe tbody tr th:only-of-type {\n",
       "        vertical-align: middle;\n",
       "    }\n",
       "\n",
       "    .dataframe tbody tr th {\n",
       "        vertical-align: top;\n",
       "    }\n",
       "\n",
       "    .dataframe thead th {\n",
       "        text-align: right;\n",
       "    }\n",
       "</style>\n",
       "<table border=\"1\" class=\"dataframe\">\n",
       "  <thead>\n",
       "    <tr style=\"text-align: right;\">\n",
       "      <th></th>\n",
       "      <th>Id</th>\n",
       "      <th>SalePrice</th>\n",
       "    </tr>\n",
       "  </thead>\n",
       "  <tbody>\n",
       "    <tr>\n",
       "      <th>0</th>\n",
       "      <td>1461</td>\n",
       "      <td>108634.627036</td>\n",
       "    </tr>\n",
       "    <tr>\n",
       "      <th>1</th>\n",
       "      <td>1462</td>\n",
       "      <td>159112.967992</td>\n",
       "    </tr>\n",
       "    <tr>\n",
       "      <th>2</th>\n",
       "      <td>1463</td>\n",
       "      <td>192543.312431</td>\n",
       "    </tr>\n",
       "    <tr>\n",
       "      <th>3</th>\n",
       "      <td>1464</td>\n",
       "      <td>187113.671839</td>\n",
       "    </tr>\n",
       "    <tr>\n",
       "      <th>4</th>\n",
       "      <td>1465</td>\n",
       "      <td>147306.809836</td>\n",
       "    </tr>\n",
       "    <tr>\n",
       "      <th>...</th>\n",
       "      <td>...</td>\n",
       "      <td>...</td>\n",
       "    </tr>\n",
       "    <tr>\n",
       "      <th>1454</th>\n",
       "      <td>2915</td>\n",
       "      <td>124084.283457</td>\n",
       "    </tr>\n",
       "    <tr>\n",
       "      <th>1455</th>\n",
       "      <td>2916</td>\n",
       "      <td>124055.727181</td>\n",
       "    </tr>\n",
       "    <tr>\n",
       "      <th>1456</th>\n",
       "      <td>2917</td>\n",
       "      <td>151206.286667</td>\n",
       "    </tr>\n",
       "    <tr>\n",
       "      <th>1457</th>\n",
       "      <td>2918</td>\n",
       "      <td>116151.093290</td>\n",
       "    </tr>\n",
       "    <tr>\n",
       "      <th>1458</th>\n",
       "      <td>2919</td>\n",
       "      <td>231395.277674</td>\n",
       "    </tr>\n",
       "  </tbody>\n",
       "</table>\n",
       "<p>1459 rows × 2 columns</p>\n",
       "</div>"
      ],
      "text/plain": [
       "        Id      SalePrice\n",
       "0     1461  108634.627036\n",
       "1     1462  159112.967992\n",
       "2     1463  192543.312431\n",
       "3     1464  187113.671839\n",
       "4     1465  147306.809836\n",
       "...    ...            ...\n",
       "1454  2915  124084.283457\n",
       "1455  2916  124055.727181\n",
       "1456  2917  151206.286667\n",
       "1457  2918  116151.093290\n",
       "1458  2919  231395.277674\n",
       "\n",
       "[1459 rows x 2 columns]"
      ]
     },
     "execution_count": 55,
     "metadata": {},
     "output_type": "execute_result"
    }
   ],
   "source": [
    "create_submission(\"mle\", TARGET, ml_prediction)"
   ]
  },
  {
   "cell_type": "code",
   "execution_count": null,
   "id": "a2c64b31",
   "metadata": {
    "papermill": {
     "duration": 0.027189,
     "end_time": "2022-06-28T12:43:08.253266",
     "exception": false,
     "start_time": "2022-06-28T12:43:08.226077",
     "status": "completed"
    },
    "tags": []
   },
   "outputs": [],
   "source": []
  },
  {
   "cell_type": "markdown",
   "id": "4a92bc23",
   "metadata": {
    "papermill": {
     "duration": 0.027197,
     "end_time": "2022-06-28T12:43:08.307952",
     "exception": false,
     "start_time": "2022-06-28T12:43:08.280755",
     "status": "completed"
    },
    "tags": []
   },
   "source": [
    "<div style=\"background-color:rgba(128, 0, 128, 0.6);border-radius:5px;display:fill\"><h1 style=\"text-align: center;padding: 12px 0px 12px 0px;\">Augmented X</h1>\n",
    "</div>"
   ]
  },
  {
   "cell_type": "code",
   "execution_count": 56,
   "id": "6a02cbdd",
   "metadata": {
    "execution": {
     "iopub.execute_input": "2022-06-28T12:43:08.365189Z",
     "iopub.status.busy": "2022-06-28T12:43:08.364568Z",
     "iopub.status.idle": "2022-06-28T12:43:08.370527Z",
     "shell.execute_reply": "2022-06-28T12:43:08.369907Z"
    },
    "papermill": {
     "duration": 0.036451,
     "end_time": "2022-06-28T12:43:08.372366",
     "exception": false,
     "start_time": "2022-06-28T12:43:08.335915",
     "status": "completed"
    },
    "tags": []
   },
   "outputs": [],
   "source": [
    "theta_ml_aug = max_lik_estimate_aug(X_train, y_train)"
   ]
  },
  {
   "cell_type": "code",
   "execution_count": 57,
   "id": "e71ba78c",
   "metadata": {
    "execution": {
     "iopub.execute_input": "2022-06-28T12:43:08.428555Z",
     "iopub.status.busy": "2022-06-28T12:43:08.428097Z",
     "iopub.status.idle": "2022-06-28T12:43:08.436384Z",
     "shell.execute_reply": "2022-06-28T12:43:08.435698Z"
    },
    "papermill": {
     "duration": 0.038558,
     "end_time": "2022-06-28T12:43:08.438137",
     "exception": false,
     "start_time": "2022-06-28T12:43:08.399579",
     "status": "completed"
    },
    "tags": []
   },
   "outputs": [],
   "source": [
    "# X_valid_aug = np.hstack(\n",
    "#     [np.ones((N, 1)), X]\n",
    "#     )  # augmented training inputs of size N x (D+1)\n",
    "\n",
    "X_valid_aug = np.hstack(\n",
    "    [np.ones((X_valid.shape[0], 1)), X_valid]\n",
    ")  # 100 x (D + 1) vector of test inputs"
   ]
  },
  {
   "cell_type": "code",
   "execution_count": 58,
   "id": "f811b62f",
   "metadata": {
    "execution": {
     "iopub.execute_input": "2022-06-28T12:43:08.496428Z",
     "iopub.status.busy": "2022-06-28T12:43:08.495778Z",
     "iopub.status.idle": "2022-06-28T12:43:08.705137Z",
     "shell.execute_reply": "2022-06-28T12:43:08.704154Z"
    },
    "papermill": {
     "duration": 0.241377,
     "end_time": "2022-06-28T12:43:08.707096",
     "exception": false,
     "start_time": "2022-06-28T12:43:08.465719",
     "status": "completed"
    },
    "tags": []
   },
   "outputs": [
    {
     "data": {
      "text/plain": [
       "Text(0, 0.5, '$y$')"
      ]
     },
     "execution_count": 58,
     "metadata": {},
     "output_type": "execute_result"
    },
    {
     "data": {
      "image/png": "[encoded data removed]",
      "text/plain": [
       "<Figure size 432x288 with 1 Axes>"
      ]
     },
     "metadata": {},
     "output_type": "display_data"
    }
   ],
   "source": [
    "# predict the function values at the test points using the maximum likelihood estimator\n",
    "ml_prediction = predict_with_estimate(X_valid_aug, theta_ml_aug)\n",
    "\n",
    "# plot\n",
    "plt.figure()\n",
    "plt.plot(X, y, \"+\", markersize=10)\n",
    "plt.plot(X_valid, ml_prediction)\n",
    "plt.xlabel(\"$x$\")\n",
    "plt.ylabel(\"$y$\")"
   ]
  },
  {
   "cell_type": "code",
   "execution_count": 59,
   "id": "218166b6",
   "metadata": {
    "execution": {
     "iopub.execute_input": "2022-06-28T12:43:08.765653Z",
     "iopub.status.busy": "2022-06-28T12:43:08.765238Z",
     "iopub.status.idle": "2022-06-28T12:43:08.772638Z",
     "shell.execute_reply": "2022-06-28T12:43:08.771789Z"
    },
    "papermill": {
     "duration": 0.039099,
     "end_time": "2022-06-28T12:43:08.774567",
     "exception": false,
     "start_time": "2022-06-28T12:43:08.735468",
     "status": "completed"
    },
    "tags": []
   },
   "outputs": [
    {
     "data": {
      "text/plain": [
       "(292,)"
      ]
     },
     "execution_count": 59,
     "metadata": {},
     "output_type": "execute_result"
    }
   ],
   "source": [
    "ml_prediction.shape"
   ]
  },
  {
   "cell_type": "code",
   "execution_count": 60,
   "id": "c7a8f709",
   "metadata": {
    "execution": {
     "iopub.execute_input": "2022-06-28T12:43:08.833563Z",
     "iopub.status.busy": "2022-06-28T12:43:08.833151Z",
     "iopub.status.idle": "2022-06-28T12:43:08.841498Z",
     "shell.execute_reply": "2022-06-28T12:43:08.840752Z"
    },
    "papermill": {
     "duration": 0.040607,
     "end_time": "2022-06-28T12:43:08.843587",
     "exception": false,
     "start_time": "2022-06-28T12:43:08.802980",
     "status": "completed"
    },
    "tags": []
   },
   "outputs": [
    {
     "data": {
      "text/plain": [
       "58219.6806903323"
      ]
     },
     "execution_count": 60,
     "metadata": {},
     "output_type": "execute_result"
    }
   ],
   "source": [
    "rmse = RMSE(ml_prediction, y_valid)\n",
    "rmse"
   ]
  },
  {
   "cell_type": "code",
   "execution_count": null,
   "id": "2f7de44d",
   "metadata": {
    "papermill": {
     "duration": 0.028211,
     "end_time": "2022-06-28T12:43:08.900233",
     "exception": false,
     "start_time": "2022-06-28T12:43:08.872022",
     "status": "completed"
    },
    "tags": []
   },
   "outputs": [],
   "source": []
  },
  {
   "cell_type": "code",
   "execution_count": 61,
   "id": "76c4293a",
   "metadata": {
    "execution": {
     "iopub.execute_input": "2022-06-28T12:43:08.959235Z",
     "iopub.status.busy": "2022-06-28T12:43:08.958439Z",
     "iopub.status.idle": "2022-06-28T12:43:08.968064Z",
     "shell.execute_reply": "2022-06-28T12:43:08.967295Z"
    },
    "papermill": {
     "duration": 0.041637,
     "end_time": "2022-06-28T12:43:08.970358",
     "exception": false,
     "start_time": "2022-06-28T12:43:08.928721",
     "status": "completed"
    },
    "tags": []
   },
   "outputs": [],
   "source": [
    "X_test_aug = np.hstack(\n",
    "    [np.ones((X_test.shape[0], 1)), X_test]\n",
    ")  # 100 x (D + 1) vector of test inputs"
   ]
  },
  {
   "cell_type": "code",
   "execution_count": 62,
   "id": "8d97802e",
   "metadata": {
    "execution": {
     "iopub.execute_input": "2022-06-28T12:43:09.029949Z",
     "iopub.status.busy": "2022-06-28T12:43:09.029542Z",
     "iopub.status.idle": "2022-06-28T12:43:09.035858Z",
     "shell.execute_reply": "2022-06-28T12:43:09.034831Z"
    },
    "papermill": {
     "duration": 0.03866,
     "end_time": "2022-06-28T12:43:09.037905",
     "exception": false,
     "start_time": "2022-06-28T12:43:08.999245",
     "status": "completed"
    },
    "tags": []
   },
   "outputs": [],
   "source": [
    "ml_prediction = predict_with_estimate(X_test_aug, theta_ml_aug)"
   ]
  },
  {
   "cell_type": "code",
   "execution_count": 63,
   "id": "89b4eeaf",
   "metadata": {
    "execution": {
     "iopub.execute_input": "2022-06-28T12:43:09.136698Z",
     "iopub.status.busy": "2022-06-28T12:43:09.135675Z",
     "iopub.status.idle": "2022-06-28T12:43:09.156934Z",
     "shell.execute_reply": "2022-06-28T12:43:09.156183Z"
    },
    "papermill": {
     "duration": 0.088976,
     "end_time": "2022-06-28T12:43:09.159629",
     "exception": false,
     "start_time": "2022-06-28T12:43:09.070653",
     "status": "completed"
    },
    "tags": []
   },
   "outputs": [
    {
     "data": {
      "text/html": [
       "<div>\n",
       "<style scoped>\n",
       "    .dataframe tbody tr th:only-of-type {\n",
       "        vertical-align: middle;\n",
       "    }\n",
       "\n",
       "    .dataframe tbody tr th {\n",
       "        vertical-align: top;\n",
       "    }\n",
       "\n",
       "    .dataframe thead th {\n",
       "        text-align: right;\n",
       "    }\n",
       "</style>\n",
       "<table border=\"1\" class=\"dataframe\">\n",
       "  <thead>\n",
       "    <tr style=\"text-align: right;\">\n",
       "      <th></th>\n",
       "      <th>Id</th>\n",
       "      <th>SalePrice</th>\n",
       "    </tr>\n",
       "  </thead>\n",
       "  <tbody>\n",
       "    <tr>\n",
       "      <th>0</th>\n",
       "      <td>1461</td>\n",
       "      <td>119473.185572</td>\n",
       "    </tr>\n",
       "    <tr>\n",
       "      <th>1</th>\n",
       "      <td>1462</td>\n",
       "      <td>164026.459474</td>\n",
       "    </tr>\n",
       "    <tr>\n",
       "      <th>2</th>\n",
       "      <td>1463</td>\n",
       "      <td>193473.453200</td>\n",
       "    </tr>\n",
       "    <tr>\n",
       "      <th>3</th>\n",
       "      <td>1464</td>\n",
       "      <td>188584.396887</td>\n",
       "    </tr>\n",
       "    <tr>\n",
       "      <th>4</th>\n",
       "      <td>1465</td>\n",
       "      <td>153371.710532</td>\n",
       "    </tr>\n",
       "    <tr>\n",
       "      <th>...</th>\n",
       "      <td>...</td>\n",
       "      <td>...</td>\n",
       "    </tr>\n",
       "    <tr>\n",
       "      <th>1454</th>\n",
       "      <td>2915</td>\n",
       "      <td>132824.782696</td>\n",
       "    </tr>\n",
       "    <tr>\n",
       "      <th>1455</th>\n",
       "      <td>2916</td>\n",
       "      <td>132798.479989</td>\n",
       "    </tr>\n",
       "    <tr>\n",
       "      <th>1456</th>\n",
       "      <td>2917</td>\n",
       "      <td>157214.545580</td>\n",
       "    </tr>\n",
       "    <tr>\n",
       "      <th>1457</th>\n",
       "      <td>2918</td>\n",
       "      <td>126064.676375</td>\n",
       "    </tr>\n",
       "    <tr>\n",
       "      <th>1458</th>\n",
       "      <td>2919</td>\n",
       "      <td>227595.862024</td>\n",
       "    </tr>\n",
       "  </tbody>\n",
       "</table>\n",
       "<p>1459 rows × 2 columns</p>\n",
       "</div>"
      ],
      "text/plain": [
       "        Id      SalePrice\n",
       "0     1461  119473.185572\n",
       "1     1462  164026.459474\n",
       "2     1463  193473.453200\n",
       "3     1464  188584.396887\n",
       "4     1465  153371.710532\n",
       "...    ...            ...\n",
       "1454  2915  132824.782696\n",
       "1455  2916  132798.479989\n",
       "1456  2917  157214.545580\n",
       "1457  2918  126064.676375\n",
       "1458  2919  227595.862024\n",
       "\n",
       "[1459 rows x 2 columns]"
      ]
     },
     "execution_count": 63,
     "metadata": {},
     "output_type": "execute_result"
    }
   ],
   "source": [
    "create_submission(\"mle_aug\", TARGET, ml_prediction)"
   ]
  },
  {
   "cell_type": "markdown",
   "id": "6f4d548f",
   "metadata": {
    "papermill": {
     "duration": 0.030426,
     "end_time": "2022-06-28T12:43:09.224122",
     "exception": false,
     "start_time": "2022-06-28T12:43:09.193696",
     "status": "completed"
    },
    "tags": []
   },
   "source": [
    " <div style=\"background-color:rgba(128, 0, 128, 0.6);border-radius:5px;display:fill\"><h1 style=\"text-align: center;padding: 12px 0px 12px 0px;\">Polynomial Features</h1>\n",
    "</div>"
   ]
  },
  {
   "cell_type": "code",
   "execution_count": null,
   "id": "7ef6b602",
   "metadata": {
    "papermill": {
     "duration": 0.03088,
     "end_time": "2022-06-28T12:43:09.290902",
     "exception": false,
     "start_time": "2022-06-28T12:43:09.260022",
     "status": "completed"
    },
    "tags": []
   },
   "outputs": [],
   "source": []
  },
  {
   "cell_type": "code",
   "execution_count": null,
   "id": "fec4a490",
   "metadata": {
    "papermill": {
     "duration": 0.02975,
     "end_time": "2022-06-28T12:43:09.350452",
     "exception": false,
     "start_time": "2022-06-28T12:43:09.320702",
     "status": "completed"
    },
    "tags": []
   },
   "outputs": [],
   "source": []
  }
 ],
 "metadata": {
  "kernelspec": {
   "display_name": "Python 3",
   "language": "python",
   "name": "python3"
  },
  "language_info": {
   "codemirror_mode": {
    "name": "ipython",
    "version": 3
   },
   "file_extension": ".py",
   "mimetype": "text/x-python",
   "name": "python",
   "nbconvert_exporter": "python",
   "pygments_lexer": "ipython3",
   "version": "3.7.12"
  },
  "papermill": {
   "default_parameters": {},
   "duration": 36.286696,
   "end_time": "2022-06-28T12:43:10.212371",
   "environment_variables": {},
   "exception": null,
   "input_path": "__notebook__.ipynb",
   "output_path": "__notebook__.ipynb",
   "parameters": {},
   "start_time": "2022-06-28T12:42:33.925675",
   "version": "2.3.4"
  }
 },
 "nbformat": 4,
 "nbformat_minor": 5
}

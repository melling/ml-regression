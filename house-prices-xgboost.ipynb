{
 "cells": [
  {
   "cell_type": "markdown",
   "id": "374162ce",
   "metadata": {
    "papermill": {
     "duration": 0.009783,
     "end_time": "2022-06-26T16:33:43.424034",
     "exception": false,
     "start_time": "2022-06-26T16:33:43.414251",
     "status": "completed"
    },
    "tags": []
   },
   "source": [
    "<div style=\"background-color:rgba(128, 0, 128, 0.6);border-radius:5px;display:fill\"><h1 style=\"text-align: center;padding: 12px 0px 12px 0px;\">House Prices: Gradient Boosted Trees</h1>\n",
    "</div>\n",
    "\n",
    "## Lesson\n",
    "\n",
    "\n",
    "|Notebook| MAE | LeaderBoard|\n",
    "| --- | --- | --- |\n",
    "|QuickStart|38341.2045|0.29234|\n",
    "|Extra Features|32285.7959|0.24425|\n",
    "|Features + Lasso|31349.8387|0.24425|\n",
    "|Features + Ridge|31348.1429|0.24422|\n",
    "|Random Forests|27414.8115|0.23152|\n",
    "|LightGBM||0.23563|"
   ]
  },
  {
   "cell_type": "markdown",
   "id": "6a71d066",
   "metadata": {
    "papermill": {
     "duration": 0.008172,
     "end_time": "2022-06-26T16:33:43.440788",
     "exception": false,
     "start_time": "2022-06-26T16:33:43.432616",
     "status": "completed"
    },
    "tags": []
   },
   "source": [
    "<div style=\"background-color:rgba(128, 0, 128, 0.6);border-radius:5px;display:fill\"><h1 style=\"text-align: center;padding: 12px 0px 12px 0px;\">Import Libraries</h1>\n",
    "</div>\n",
    "\n",
    "A best practise is to include all libraries here.  However, I will put a few imports farther down where they are first used so beginners can learn with an \"as needed\" approach."
   ]
  },
  {
   "cell_type": "code",
   "execution_count": 1,
   "id": "2959c364",
   "metadata": {
    "execution": {
     "iopub.execute_input": "2022-06-26T16:33:43.459529Z",
     "iopub.status.busy": "2022-06-26T16:33:43.459096Z",
     "iopub.status.idle": "2022-06-26T16:33:43.471480Z",
     "shell.execute_reply": "2022-06-26T16:33:43.470659Z"
    },
    "papermill": {
     "duration": 0.02467,
     "end_time": "2022-06-26T16:33:43.473876",
     "exception": false,
     "start_time": "2022-06-26T16:33:43.449206",
     "status": "completed"
    },
    "tags": []
   },
   "outputs": [],
   "source": [
    "import numpy as np # linear algebra\n",
    "import pandas as pd # data processing, CSV file I/O (e.g. pd.read_csv)\n",
    "\n",
    "from pathlib import Path\n",
    "\n",
    "pd.options.display.max_columns = 100 # Want to view all the columns"
   ]
  },
  {
   "cell_type": "markdown",
   "id": "670f3fd7",
   "metadata": {
    "papermill": {
     "duration": 0.009371,
     "end_time": "2022-06-26T16:33:43.492797",
     "exception": false,
     "start_time": "2022-06-26T16:33:43.483426",
     "status": "completed"
    },
    "tags": []
   },
   "source": [
    "<div style=\"background-color:rgba(128, 0, 128, 0.6);border-radius:5px;display:fill\"><h1 style=\"text-align: center;padding: 12px 0px 12px 0px;\">Library</h1>\n",
    "</div>\n",
    "\n",
    "Creating a few functions that we will reuse in each project."
   ]
  },
  {
   "cell_type": "code",
   "execution_count": 2,
   "id": "ebb6617c",
   "metadata": {
    "execution": {
     "iopub.execute_input": "2022-06-26T16:33:43.512676Z",
     "iopub.status.busy": "2022-06-26T16:33:43.512277Z",
     "iopub.status.idle": "2022-06-26T16:33:43.519436Z",
     "shell.execute_reply": "2022-06-26T16:33:43.517855Z"
    },
    "papermill": {
     "duration": 0.020247,
     "end_time": "2022-06-26T16:33:43.522160",
     "exception": false,
     "start_time": "2022-06-26T16:33:43.501913",
     "status": "completed"
    },
    "tags": []
   },
   "outputs": [],
   "source": [
    "def read_data(path):\n",
    "    data_dir = Path(path)\n",
    "\n",
    "    train = pd.read_csv(data_dir / \"train.csv\")\n",
    "    test = pd.read_csv(data_dir / \"test.csv\")\n",
    "    submission_df = pd.read_csv(data_dir / \"sample_submission.csv\")\n",
    "\n",
    "    print(f\"train data: Rows={train.shape[0]}, Columns={train.shape[1]}\")\n",
    "    print(f\"test data : Rows={test.shape[0]}, Columns={test.shape[1]}\")\n",
    "    return train, test, submission_df"
   ]
  },
  {
   "cell_type": "code",
   "execution_count": 3,
   "id": "b3cd74d0",
   "metadata": {
    "execution": {
     "iopub.execute_input": "2022-06-26T16:33:43.542341Z",
     "iopub.status.busy": "2022-06-26T16:33:43.541914Z",
     "iopub.status.idle": "2022-06-26T16:33:43.548878Z",
     "shell.execute_reply": "2022-06-26T16:33:43.547507Z"
    },
    "papermill": {
     "duration": 0.02018,
     "end_time": "2022-06-26T16:33:43.551365",
     "exception": false,
     "start_time": "2022-06-26T16:33:43.531185",
     "status": "completed"
    },
    "tags": []
   },
   "outputs": [],
   "source": [
    "def create_submission(model_name, target, preds):\n",
    "    sample_submission[target] = preds\n",
    "    if len(model_name) > 0:\n",
    "        sample_submission.to_csv(f\"submission_{model_name}.csv\", index=False)\n",
    "    else:\n",
    "        sample_submission.to_csv(f\"submission.csv\", index=False)\n",
    "\n",
    "    return sample_submission[:5]"
   ]
  },
  {
   "cell_type": "code",
   "execution_count": 4,
   "id": "4af6fb73",
   "metadata": {
    "execution": {
     "iopub.execute_input": "2022-06-26T16:33:43.571692Z",
     "iopub.status.busy": "2022-06-26T16:33:43.571275Z",
     "iopub.status.idle": "2022-06-26T16:33:44.724401Z",
     "shell.execute_reply": "2022-06-26T16:33:44.723129Z"
    },
    "papermill": {
     "duration": 1.167227,
     "end_time": "2022-06-26T16:33:44.727530",
     "exception": false,
     "start_time": "2022-06-26T16:33:43.560303",
     "status": "completed"
    },
    "tags": []
   },
   "outputs": [],
   "source": [
    "from sklearn.metrics import mean_squared_error\n",
    "from sklearn.metrics import mean_absolute_error\n",
    "\n",
    "def show_scores(gt, yhat):\n",
    "    rmse = mean_squared_error(gt, yhat)\n",
    "    mae = mean_absolute_error(gt, yhat)\n",
    "\n",
    "    print(f\"MAE: {mae:.4f}\")\n",
    "    print(f\"RMSE: {rmse:.4f}\")"
   ]
  },
  {
   "cell_type": "markdown",
   "id": "1375325a",
   "metadata": {
    "papermill": {
     "duration": 0.008626,
     "end_time": "2022-06-26T16:33:44.745130",
     "exception": false,
     "start_time": "2022-06-26T16:33:44.736504",
     "status": "completed"
    },
    "tags": []
   },
   "source": [
    "<div style=\"background-color:rgba(128, 0, 128, 0.6);border-radius:5px;display:fill\"><h1 style=\"text-align: center;padding: 12px 0px 12px 0px;\">Load Train/Test Data</h1>\n",
    "</div>\n",
    "\n",
    "- train.csv - Data used to build our machine learning model\n",
    "- test.csv - Data used to build our machine learning model. Does not contain the target variable\n",
    "- sample_submission.csv - A file in the proper format to submit test predictions"
   ]
  },
  {
   "cell_type": "code",
   "execution_count": 5,
   "id": "e785645f",
   "metadata": {
    "execution": {
     "iopub.execute_input": "2022-06-26T16:33:44.765677Z",
     "iopub.status.busy": "2022-06-26T16:33:44.764373Z",
     "iopub.status.idle": "2022-06-26T16:33:44.852909Z",
     "shell.execute_reply": "2022-06-26T16:33:44.851621Z"
    },
    "papermill": {
     "duration": 0.101721,
     "end_time": "2022-06-26T16:33:44.855708",
     "exception": false,
     "start_time": "2022-06-26T16:33:44.753987",
     "status": "completed"
    },
    "tags": []
   },
   "outputs": [
    {
     "name": "stdout",
     "output_type": "stream",
     "text": [
      "train data: Rows=1460, Columns=81\n",
      "test data : Rows=1459, Columns=80\n"
     ]
    }
   ],
   "source": [
    "train, test, sample_submission  = read_data(\"../input/house-prices-advanced-regression-techniques\")"
   ]
  },
  {
   "cell_type": "code",
   "execution_count": 6,
   "id": "4463ca37",
   "metadata": {
    "execution": {
     "iopub.execute_input": "2022-06-26T16:33:44.876592Z",
     "iopub.status.busy": "2022-06-26T16:33:44.875338Z",
     "iopub.status.idle": "2022-06-26T16:33:44.935833Z",
     "shell.execute_reply": "2022-06-26T16:33:44.934683Z"
    },
    "papermill": {
     "duration": 0.073632,
     "end_time": "2022-06-26T16:33:44.938729",
     "exception": false,
     "start_time": "2022-06-26T16:33:44.865097",
     "status": "completed"
    },
    "tags": []
   },
   "outputs": [
    {
     "data": {
      "text/html": [
       "<div>\n",
       "<style scoped>\n",
       "    .dataframe tbody tr th:only-of-type {\n",
       "        vertical-align: middle;\n",
       "    }\n",
       "\n",
       "    .dataframe tbody tr th {\n",
       "        vertical-align: top;\n",
       "    }\n",
       "\n",
       "    .dataframe thead th {\n",
       "        text-align: right;\n",
       "    }\n",
       "</style>\n",
       "<table border=\"1\" class=\"dataframe\">\n",
       "  <thead>\n",
       "    <tr style=\"text-align: right;\">\n",
       "      <th></th>\n",
       "      <th>Id</th>\n",
       "      <th>MSSubClass</th>\n",
       "      <th>MSZoning</th>\n",
       "      <th>LotFrontage</th>\n",
       "      <th>LotArea</th>\n",
       "      <th>Street</th>\n",
       "      <th>Alley</th>\n",
       "      <th>LotShape</th>\n",
       "      <th>LandContour</th>\n",
       "      <th>Utilities</th>\n",
       "      <th>LotConfig</th>\n",
       "      <th>LandSlope</th>\n",
       "      <th>Neighborhood</th>\n",
       "      <th>Condition1</th>\n",
       "      <th>Condition2</th>\n",
       "      <th>BldgType</th>\n",
       "      <th>HouseStyle</th>\n",
       "      <th>OverallQual</th>\n",
       "      <th>OverallCond</th>\n",
       "      <th>YearBuilt</th>\n",
       "      <th>YearRemodAdd</th>\n",
       "      <th>RoofStyle</th>\n",
       "      <th>RoofMatl</th>\n",
       "      <th>Exterior1st</th>\n",
       "      <th>Exterior2nd</th>\n",
       "      <th>MasVnrType</th>\n",
       "      <th>MasVnrArea</th>\n",
       "      <th>ExterQual</th>\n",
       "      <th>ExterCond</th>\n",
       "      <th>Foundation</th>\n",
       "      <th>BsmtQual</th>\n",
       "      <th>BsmtCond</th>\n",
       "      <th>BsmtExposure</th>\n",
       "      <th>BsmtFinType1</th>\n",
       "      <th>BsmtFinSF1</th>\n",
       "      <th>BsmtFinType2</th>\n",
       "      <th>BsmtFinSF2</th>\n",
       "      <th>BsmtUnfSF</th>\n",
       "      <th>TotalBsmtSF</th>\n",
       "      <th>Heating</th>\n",
       "      <th>HeatingQC</th>\n",
       "      <th>CentralAir</th>\n",
       "      <th>Electrical</th>\n",
       "      <th>1stFlrSF</th>\n",
       "      <th>2ndFlrSF</th>\n",
       "      <th>LowQualFinSF</th>\n",
       "      <th>GrLivArea</th>\n",
       "      <th>BsmtFullBath</th>\n",
       "      <th>BsmtHalfBath</th>\n",
       "      <th>FullBath</th>\n",
       "      <th>HalfBath</th>\n",
       "      <th>BedroomAbvGr</th>\n",
       "      <th>KitchenAbvGr</th>\n",
       "      <th>KitchenQual</th>\n",
       "      <th>TotRmsAbvGrd</th>\n",
       "      <th>Functional</th>\n",
       "      <th>Fireplaces</th>\n",
       "      <th>FireplaceQu</th>\n",
       "      <th>GarageType</th>\n",
       "      <th>GarageYrBlt</th>\n",
       "      <th>GarageFinish</th>\n",
       "      <th>GarageCars</th>\n",
       "      <th>GarageArea</th>\n",
       "      <th>GarageQual</th>\n",
       "      <th>GarageCond</th>\n",
       "      <th>PavedDrive</th>\n",
       "      <th>WoodDeckSF</th>\n",
       "      <th>OpenPorchSF</th>\n",
       "      <th>EnclosedPorch</th>\n",
       "      <th>3SsnPorch</th>\n",
       "      <th>ScreenPorch</th>\n",
       "      <th>PoolArea</th>\n",
       "      <th>PoolQC</th>\n",
       "      <th>Fence</th>\n",
       "      <th>MiscFeature</th>\n",
       "      <th>MiscVal</th>\n",
       "      <th>MoSold</th>\n",
       "      <th>YrSold</th>\n",
       "      <th>SaleType</th>\n",
       "      <th>SaleCondition</th>\n",
       "      <th>SalePrice</th>\n",
       "    </tr>\n",
       "  </thead>\n",
       "  <tbody>\n",
       "    <tr>\n",
       "      <th>0</th>\n",
       "      <td>1</td>\n",
       "      <td>60</td>\n",
       "      <td>RL</td>\n",
       "      <td>65.0</td>\n",
       "      <td>8450</td>\n",
       "      <td>Pave</td>\n",
       "      <td>NaN</td>\n",
       "      <td>Reg</td>\n",
       "      <td>Lvl</td>\n",
       "      <td>AllPub</td>\n",
       "      <td>Inside</td>\n",
       "      <td>Gtl</td>\n",
       "      <td>CollgCr</td>\n",
       "      <td>Norm</td>\n",
       "      <td>Norm</td>\n",
       "      <td>1Fam</td>\n",
       "      <td>2Story</td>\n",
       "      <td>7</td>\n",
       "      <td>5</td>\n",
       "      <td>2003</td>\n",
       "      <td>2003</td>\n",
       "      <td>Gable</td>\n",
       "      <td>CompShg</td>\n",
       "      <td>VinylSd</td>\n",
       "      <td>VinylSd</td>\n",
       "      <td>BrkFace</td>\n",
       "      <td>196.0</td>\n",
       "      <td>Gd</td>\n",
       "      <td>TA</td>\n",
       "      <td>PConc</td>\n",
       "      <td>Gd</td>\n",
       "      <td>TA</td>\n",
       "      <td>No</td>\n",
       "      <td>GLQ</td>\n",
       "      <td>706</td>\n",
       "      <td>Unf</td>\n",
       "      <td>0</td>\n",
       "      <td>150</td>\n",
       "      <td>856</td>\n",
       "      <td>GasA</td>\n",
       "      <td>Ex</td>\n",
       "      <td>Y</td>\n",
       "      <td>SBrkr</td>\n",
       "      <td>856</td>\n",
       "      <td>854</td>\n",
       "      <td>0</td>\n",
       "      <td>1710</td>\n",
       "      <td>1</td>\n",
       "      <td>0</td>\n",
       "      <td>2</td>\n",
       "      <td>1</td>\n",
       "      <td>3</td>\n",
       "      <td>1</td>\n",
       "      <td>Gd</td>\n",
       "      <td>8</td>\n",
       "      <td>Typ</td>\n",
       "      <td>0</td>\n",
       "      <td>NaN</td>\n",
       "      <td>Attchd</td>\n",
       "      <td>2003.0</td>\n",
       "      <td>RFn</td>\n",
       "      <td>2</td>\n",
       "      <td>548</td>\n",
       "      <td>TA</td>\n",
       "      <td>TA</td>\n",
       "      <td>Y</td>\n",
       "      <td>0</td>\n",
       "      <td>61</td>\n",
       "      <td>0</td>\n",
       "      <td>0</td>\n",
       "      <td>0</td>\n",
       "      <td>0</td>\n",
       "      <td>NaN</td>\n",
       "      <td>NaN</td>\n",
       "      <td>NaN</td>\n",
       "      <td>0</td>\n",
       "      <td>2</td>\n",
       "      <td>2008</td>\n",
       "      <td>WD</td>\n",
       "      <td>Normal</td>\n",
       "      <td>208500</td>\n",
       "    </tr>\n",
       "    <tr>\n",
       "      <th>1</th>\n",
       "      <td>2</td>\n",
       "      <td>20</td>\n",
       "      <td>RL</td>\n",
       "      <td>80.0</td>\n",
       "      <td>9600</td>\n",
       "      <td>Pave</td>\n",
       "      <td>NaN</td>\n",
       "      <td>Reg</td>\n",
       "      <td>Lvl</td>\n",
       "      <td>AllPub</td>\n",
       "      <td>FR2</td>\n",
       "      <td>Gtl</td>\n",
       "      <td>Veenker</td>\n",
       "      <td>Feedr</td>\n",
       "      <td>Norm</td>\n",
       "      <td>1Fam</td>\n",
       "      <td>1Story</td>\n",
       "      <td>6</td>\n",
       "      <td>8</td>\n",
       "      <td>1976</td>\n",
       "      <td>1976</td>\n",
       "      <td>Gable</td>\n",
       "      <td>CompShg</td>\n",
       "      <td>MetalSd</td>\n",
       "      <td>MetalSd</td>\n",
       "      <td>None</td>\n",
       "      <td>0.0</td>\n",
       "      <td>TA</td>\n",
       "      <td>TA</td>\n",
       "      <td>CBlock</td>\n",
       "      <td>Gd</td>\n",
       "      <td>TA</td>\n",
       "      <td>Gd</td>\n",
       "      <td>ALQ</td>\n",
       "      <td>978</td>\n",
       "      <td>Unf</td>\n",
       "      <td>0</td>\n",
       "      <td>284</td>\n",
       "      <td>1262</td>\n",
       "      <td>GasA</td>\n",
       "      <td>Ex</td>\n",
       "      <td>Y</td>\n",
       "      <td>SBrkr</td>\n",
       "      <td>1262</td>\n",
       "      <td>0</td>\n",
       "      <td>0</td>\n",
       "      <td>1262</td>\n",
       "      <td>0</td>\n",
       "      <td>1</td>\n",
       "      <td>2</td>\n",
       "      <td>0</td>\n",
       "      <td>3</td>\n",
       "      <td>1</td>\n",
       "      <td>TA</td>\n",
       "      <td>6</td>\n",
       "      <td>Typ</td>\n",
       "      <td>1</td>\n",
       "      <td>TA</td>\n",
       "      <td>Attchd</td>\n",
       "      <td>1976.0</td>\n",
       "      <td>RFn</td>\n",
       "      <td>2</td>\n",
       "      <td>460</td>\n",
       "      <td>TA</td>\n",
       "      <td>TA</td>\n",
       "      <td>Y</td>\n",
       "      <td>298</td>\n",
       "      <td>0</td>\n",
       "      <td>0</td>\n",
       "      <td>0</td>\n",
       "      <td>0</td>\n",
       "      <td>0</td>\n",
       "      <td>NaN</td>\n",
       "      <td>NaN</td>\n",
       "      <td>NaN</td>\n",
       "      <td>0</td>\n",
       "      <td>5</td>\n",
       "      <td>2007</td>\n",
       "      <td>WD</td>\n",
       "      <td>Normal</td>\n",
       "      <td>181500</td>\n",
       "    </tr>\n",
       "    <tr>\n",
       "      <th>2</th>\n",
       "      <td>3</td>\n",
       "      <td>60</td>\n",
       "      <td>RL</td>\n",
       "      <td>68.0</td>\n",
       "      <td>11250</td>\n",
       "      <td>Pave</td>\n",
       "      <td>NaN</td>\n",
       "      <td>IR1</td>\n",
       "      <td>Lvl</td>\n",
       "      <td>AllPub</td>\n",
       "      <td>Inside</td>\n",
       "      <td>Gtl</td>\n",
       "      <td>CollgCr</td>\n",
       "      <td>Norm</td>\n",
       "      <td>Norm</td>\n",
       "      <td>1Fam</td>\n",
       "      <td>2Story</td>\n",
       "      <td>7</td>\n",
       "      <td>5</td>\n",
       "      <td>2001</td>\n",
       "      <td>2002</td>\n",
       "      <td>Gable</td>\n",
       "      <td>CompShg</td>\n",
       "      <td>VinylSd</td>\n",
       "      <td>VinylSd</td>\n",
       "      <td>BrkFace</td>\n",
       "      <td>162.0</td>\n",
       "      <td>Gd</td>\n",
       "      <td>TA</td>\n",
       "      <td>PConc</td>\n",
       "      <td>Gd</td>\n",
       "      <td>TA</td>\n",
       "      <td>Mn</td>\n",
       "      <td>GLQ</td>\n",
       "      <td>486</td>\n",
       "      <td>Unf</td>\n",
       "      <td>0</td>\n",
       "      <td>434</td>\n",
       "      <td>920</td>\n",
       "      <td>GasA</td>\n",
       "      <td>Ex</td>\n",
       "      <td>Y</td>\n",
       "      <td>SBrkr</td>\n",
       "      <td>920</td>\n",
       "      <td>866</td>\n",
       "      <td>0</td>\n",
       "      <td>1786</td>\n",
       "      <td>1</td>\n",
       "      <td>0</td>\n",
       "      <td>2</td>\n",
       "      <td>1</td>\n",
       "      <td>3</td>\n",
       "      <td>1</td>\n",
       "      <td>Gd</td>\n",
       "      <td>6</td>\n",
       "      <td>Typ</td>\n",
       "      <td>1</td>\n",
       "      <td>TA</td>\n",
       "      <td>Attchd</td>\n",
       "      <td>2001.0</td>\n",
       "      <td>RFn</td>\n",
       "      <td>2</td>\n",
       "      <td>608</td>\n",
       "      <td>TA</td>\n",
       "      <td>TA</td>\n",
       "      <td>Y</td>\n",
       "      <td>0</td>\n",
       "      <td>42</td>\n",
       "      <td>0</td>\n",
       "      <td>0</td>\n",
       "      <td>0</td>\n",
       "      <td>0</td>\n",
       "      <td>NaN</td>\n",
       "      <td>NaN</td>\n",
       "      <td>NaN</td>\n",
       "      <td>0</td>\n",
       "      <td>9</td>\n",
       "      <td>2008</td>\n",
       "      <td>WD</td>\n",
       "      <td>Normal</td>\n",
       "      <td>223500</td>\n",
       "    </tr>\n",
       "    <tr>\n",
       "      <th>3</th>\n",
       "      <td>4</td>\n",
       "      <td>70</td>\n",
       "      <td>RL</td>\n",
       "      <td>60.0</td>\n",
       "      <td>9550</td>\n",
       "      <td>Pave</td>\n",
       "      <td>NaN</td>\n",
       "      <td>IR1</td>\n",
       "      <td>Lvl</td>\n",
       "      <td>AllPub</td>\n",
       "      <td>Corner</td>\n",
       "      <td>Gtl</td>\n",
       "      <td>Crawfor</td>\n",
       "      <td>Norm</td>\n",
       "      <td>Norm</td>\n",
       "      <td>1Fam</td>\n",
       "      <td>2Story</td>\n",
       "      <td>7</td>\n",
       "      <td>5</td>\n",
       "      <td>1915</td>\n",
       "      <td>1970</td>\n",
       "      <td>Gable</td>\n",
       "      <td>CompShg</td>\n",
       "      <td>Wd Sdng</td>\n",
       "      <td>Wd Shng</td>\n",
       "      <td>None</td>\n",
       "      <td>0.0</td>\n",
       "      <td>TA</td>\n",
       "      <td>TA</td>\n",
       "      <td>BrkTil</td>\n",
       "      <td>TA</td>\n",
       "      <td>Gd</td>\n",
       "      <td>No</td>\n",
       "      <td>ALQ</td>\n",
       "      <td>216</td>\n",
       "      <td>Unf</td>\n",
       "      <td>0</td>\n",
       "      <td>540</td>\n",
       "      <td>756</td>\n",
       "      <td>GasA</td>\n",
       "      <td>Gd</td>\n",
       "      <td>Y</td>\n",
       "      <td>SBrkr</td>\n",
       "      <td>961</td>\n",
       "      <td>756</td>\n",
       "      <td>0</td>\n",
       "      <td>1717</td>\n",
       "      <td>1</td>\n",
       "      <td>0</td>\n",
       "      <td>1</td>\n",
       "      <td>0</td>\n",
       "      <td>3</td>\n",
       "      <td>1</td>\n",
       "      <td>Gd</td>\n",
       "      <td>7</td>\n",
       "      <td>Typ</td>\n",
       "      <td>1</td>\n",
       "      <td>Gd</td>\n",
       "      <td>Detchd</td>\n",
       "      <td>1998.0</td>\n",
       "      <td>Unf</td>\n",
       "      <td>3</td>\n",
       "      <td>642</td>\n",
       "      <td>TA</td>\n",
       "      <td>TA</td>\n",
       "      <td>Y</td>\n",
       "      <td>0</td>\n",
       "      <td>35</td>\n",
       "      <td>272</td>\n",
       "      <td>0</td>\n",
       "      <td>0</td>\n",
       "      <td>0</td>\n",
       "      <td>NaN</td>\n",
       "      <td>NaN</td>\n",
       "      <td>NaN</td>\n",
       "      <td>0</td>\n",
       "      <td>2</td>\n",
       "      <td>2006</td>\n",
       "      <td>WD</td>\n",
       "      <td>Abnorml</td>\n",
       "      <td>140000</td>\n",
       "    </tr>\n",
       "    <tr>\n",
       "      <th>4</th>\n",
       "      <td>5</td>\n",
       "      <td>60</td>\n",
       "      <td>RL</td>\n",
       "      <td>84.0</td>\n",
       "      <td>14260</td>\n",
       "      <td>Pave</td>\n",
       "      <td>NaN</td>\n",
       "      <td>IR1</td>\n",
       "      <td>Lvl</td>\n",
       "      <td>AllPub</td>\n",
       "      <td>FR2</td>\n",
       "      <td>Gtl</td>\n",
       "      <td>NoRidge</td>\n",
       "      <td>Norm</td>\n",
       "      <td>Norm</td>\n",
       "      <td>1Fam</td>\n",
       "      <td>2Story</td>\n",
       "      <td>8</td>\n",
       "      <td>5</td>\n",
       "      <td>2000</td>\n",
       "      <td>2000</td>\n",
       "      <td>Gable</td>\n",
       "      <td>CompShg</td>\n",
       "      <td>VinylSd</td>\n",
       "      <td>VinylSd</td>\n",
       "      <td>BrkFace</td>\n",
       "      <td>350.0</td>\n",
       "      <td>Gd</td>\n",
       "      <td>TA</td>\n",
       "      <td>PConc</td>\n",
       "      <td>Gd</td>\n",
       "      <td>TA</td>\n",
       "      <td>Av</td>\n",
       "      <td>GLQ</td>\n",
       "      <td>655</td>\n",
       "      <td>Unf</td>\n",
       "      <td>0</td>\n",
       "      <td>490</td>\n",
       "      <td>1145</td>\n",
       "      <td>GasA</td>\n",
       "      <td>Ex</td>\n",
       "      <td>Y</td>\n",
       "      <td>SBrkr</td>\n",
       "      <td>1145</td>\n",
       "      <td>1053</td>\n",
       "      <td>0</td>\n",
       "      <td>2198</td>\n",
       "      <td>1</td>\n",
       "      <td>0</td>\n",
       "      <td>2</td>\n",
       "      <td>1</td>\n",
       "      <td>4</td>\n",
       "      <td>1</td>\n",
       "      <td>Gd</td>\n",
       "      <td>9</td>\n",
       "      <td>Typ</td>\n",
       "      <td>1</td>\n",
       "      <td>TA</td>\n",
       "      <td>Attchd</td>\n",
       "      <td>2000.0</td>\n",
       "      <td>RFn</td>\n",
       "      <td>3</td>\n",
       "      <td>836</td>\n",
       "      <td>TA</td>\n",
       "      <td>TA</td>\n",
       "      <td>Y</td>\n",
       "      <td>192</td>\n",
       "      <td>84</td>\n",
       "      <td>0</td>\n",
       "      <td>0</td>\n",
       "      <td>0</td>\n",
       "      <td>0</td>\n",
       "      <td>NaN</td>\n",
       "      <td>NaN</td>\n",
       "      <td>NaN</td>\n",
       "      <td>0</td>\n",
       "      <td>12</td>\n",
       "      <td>2008</td>\n",
       "      <td>WD</td>\n",
       "      <td>Normal</td>\n",
       "      <td>250000</td>\n",
       "    </tr>\n",
       "  </tbody>\n",
       "</table>\n",
       "</div>"
      ],
      "text/plain": [
       "   Id  MSSubClass MSZoning  LotFrontage  LotArea Street Alley LotShape  \\\n",
       "0   1          60       RL         65.0     8450   Pave   NaN      Reg   \n",
       "1   2          20       RL         80.0     9600   Pave   NaN      Reg   \n",
       "2   3          60       RL         68.0    11250   Pave   NaN      IR1   \n",
       "3   4          70       RL         60.0     9550   Pave   NaN      IR1   \n",
       "4   5          60       RL         84.0    14260   Pave   NaN      IR1   \n",
       "\n",
       "  LandContour Utilities LotConfig LandSlope Neighborhood Condition1  \\\n",
       "0         Lvl    AllPub    Inside       Gtl      CollgCr       Norm   \n",
       "1         Lvl    AllPub       FR2       Gtl      Veenker      Feedr   \n",
       "2         Lvl    AllPub    Inside       Gtl      CollgCr       Norm   \n",
       "3         Lvl    AllPub    Corner       Gtl      Crawfor       Norm   \n",
       "4         Lvl    AllPub       FR2       Gtl      NoRidge       Norm   \n",
       "\n",
       "  Condition2 BldgType HouseStyle  OverallQual  OverallCond  YearBuilt  \\\n",
       "0       Norm     1Fam     2Story            7            5       2003   \n",
       "1       Norm     1Fam     1Story            6            8       1976   \n",
       "2       Norm     1Fam     2Story            7            5       2001   \n",
       "3       Norm     1Fam     2Story            7            5       1915   \n",
       "4       Norm     1Fam     2Story            8            5       2000   \n",
       "\n",
       "   YearRemodAdd RoofStyle RoofMatl Exterior1st Exterior2nd MasVnrType  \\\n",
       "0          2003     Gable  CompShg     VinylSd     VinylSd    BrkFace   \n",
       "1          1976     Gable  CompShg     MetalSd     MetalSd       None   \n",
       "2          2002     Gable  CompShg     VinylSd     VinylSd    BrkFace   \n",
       "3          1970     Gable  CompShg     Wd Sdng     Wd Shng       None   \n",
       "4          2000     Gable  CompShg     VinylSd     VinylSd    BrkFace   \n",
       "\n",
       "   MasVnrArea ExterQual ExterCond Foundation BsmtQual BsmtCond BsmtExposure  \\\n",
       "0       196.0        Gd        TA      PConc       Gd       TA           No   \n",
       "1         0.0        TA        TA     CBlock       Gd       TA           Gd   \n",
       "2       162.0        Gd        TA      PConc       Gd       TA           Mn   \n",
       "3         0.0        TA        TA     BrkTil       TA       Gd           No   \n",
       "4       350.0        Gd        TA      PConc       Gd       TA           Av   \n",
       "\n",
       "  BsmtFinType1  BsmtFinSF1 BsmtFinType2  BsmtFinSF2  BsmtUnfSF  TotalBsmtSF  \\\n",
       "0          GLQ         706          Unf           0        150          856   \n",
       "1          ALQ         978          Unf           0        284         1262   \n",
       "2          GLQ         486          Unf           0        434          920   \n",
       "3          ALQ         216          Unf           0        540          756   \n",
       "4          GLQ         655          Unf           0        490         1145   \n",
       "\n",
       "  Heating HeatingQC CentralAir Electrical  1stFlrSF  2ndFlrSF  LowQualFinSF  \\\n",
       "0    GasA        Ex          Y      SBrkr       856       854             0   \n",
       "1    GasA        Ex          Y      SBrkr      1262         0             0   \n",
       "2    GasA        Ex          Y      SBrkr       920       866             0   \n",
       "3    GasA        Gd          Y      SBrkr       961       756             0   \n",
       "4    GasA        Ex          Y      SBrkr      1145      1053             0   \n",
       "\n",
       "   GrLivArea  BsmtFullBath  BsmtHalfBath  FullBath  HalfBath  BedroomAbvGr  \\\n",
       "0       1710             1             0         2         1             3   \n",
       "1       1262             0             1         2         0             3   \n",
       "2       1786             1             0         2         1             3   \n",
       "3       1717             1             0         1         0             3   \n",
       "4       2198             1             0         2         1             4   \n",
       "\n",
       "   KitchenAbvGr KitchenQual  TotRmsAbvGrd Functional  Fireplaces FireplaceQu  \\\n",
       "0             1          Gd             8        Typ           0         NaN   \n",
       "1             1          TA             6        Typ           1          TA   \n",
       "2             1          Gd             6        Typ           1          TA   \n",
       "3             1          Gd             7        Typ           1          Gd   \n",
       "4             1          Gd             9        Typ           1          TA   \n",
       "\n",
       "  GarageType  GarageYrBlt GarageFinish  GarageCars  GarageArea GarageQual  \\\n",
       "0     Attchd       2003.0          RFn           2         548         TA   \n",
       "1     Attchd       1976.0          RFn           2         460         TA   \n",
       "2     Attchd       2001.0          RFn           2         608         TA   \n",
       "3     Detchd       1998.0          Unf           3         642         TA   \n",
       "4     Attchd       2000.0          RFn           3         836         TA   \n",
       "\n",
       "  GarageCond PavedDrive  WoodDeckSF  OpenPorchSF  EnclosedPorch  3SsnPorch  \\\n",
       "0         TA          Y           0           61              0          0   \n",
       "1         TA          Y         298            0              0          0   \n",
       "2         TA          Y           0           42              0          0   \n",
       "3         TA          Y           0           35            272          0   \n",
       "4         TA          Y         192           84              0          0   \n",
       "\n",
       "   ScreenPorch  PoolArea PoolQC Fence MiscFeature  MiscVal  MoSold  YrSold  \\\n",
       "0            0         0    NaN   NaN         NaN        0       2    2008   \n",
       "1            0         0    NaN   NaN         NaN        0       5    2007   \n",
       "2            0         0    NaN   NaN         NaN        0       9    2008   \n",
       "3            0         0    NaN   NaN         NaN        0       2    2006   \n",
       "4            0         0    NaN   NaN         NaN        0      12    2008   \n",
       "\n",
       "  SaleType SaleCondition  SalePrice  \n",
       "0       WD        Normal     208500  \n",
       "1       WD        Normal     181500  \n",
       "2       WD        Normal     223500  \n",
       "3       WD       Abnorml     140000  \n",
       "4       WD        Normal     250000  "
      ]
     },
     "execution_count": 6,
     "metadata": {},
     "output_type": "execute_result"
    }
   ],
   "source": [
    "train.head()"
   ]
  },
  {
   "cell_type": "markdown",
   "id": "5bfd3054",
   "metadata": {
    "papermill": {
     "duration": 0.009897,
     "end_time": "2022-06-26T16:33:44.958473",
     "exception": false,
     "start_time": "2022-06-26T16:33:44.948576",
     "status": "completed"
    },
    "tags": []
   },
   "source": [
    "In supervised learning problems, we have a label or target."
   ]
  },
  {
   "cell_type": "code",
   "execution_count": 7,
   "id": "408f2089",
   "metadata": {
    "execution": {
     "iopub.execute_input": "2022-06-26T16:33:44.979738Z",
     "iopub.status.busy": "2022-06-26T16:33:44.979017Z",
     "iopub.status.idle": "2022-06-26T16:33:44.984325Z",
     "shell.execute_reply": "2022-06-26T16:33:44.983327Z"
    },
    "papermill": {
     "duration": 0.018572,
     "end_time": "2022-06-26T16:33:44.986507",
     "exception": false,
     "start_time": "2022-06-26T16:33:44.967935",
     "status": "completed"
    },
    "tags": []
   },
   "outputs": [],
   "source": [
    "TARGET = \"SalePrice\""
   ]
  },
  {
   "cell_type": "markdown",
   "id": "f6edfc17",
   "metadata": {
    "papermill": {
     "duration": 0.00911,
     "end_time": "2022-06-26T16:33:45.005127",
     "exception": false,
     "start_time": "2022-06-26T16:33:44.996017",
     "status": "completed"
    },
    "tags": []
   },
   "source": [
    "There are 79 features but to keep it simple we are only going to start with one."
   ]
  },
  {
   "cell_type": "code",
   "execution_count": 8,
   "id": "a43e259c",
   "metadata": {
    "execution": {
     "iopub.execute_input": "2022-06-26T16:33:45.027013Z",
     "iopub.status.busy": "2022-06-26T16:33:45.025776Z",
     "iopub.status.idle": "2022-06-26T16:33:45.031652Z",
     "shell.execute_reply": "2022-06-26T16:33:45.030522Z"
    },
    "papermill": {
     "duration": 0.019534,
     "end_time": "2022-06-26T16:33:45.034099",
     "exception": false,
     "start_time": "2022-06-26T16:33:45.014565",
     "status": "completed"
    },
    "tags": []
   },
   "outputs": [],
   "source": [
    "FEATURES = [\"GrLivArea\", \"LotArea\", \"TotalBsmtSF\", \"FullBath\"]"
   ]
  },
  {
   "cell_type": "markdown",
   "id": "1999cbb0",
   "metadata": {
    "papermill": {
     "duration": 0.009433,
     "end_time": "2022-06-26T16:33:45.052924",
     "exception": false,
     "start_time": "2022-06-26T16:33:45.043491",
     "status": "completed"
    },
    "tags": []
   },
   "source": [
    "<div style=\"background-color:rgba(128, 0, 128, 0.6);border-radius:5px;display:fill\"><h1 style=\"text-align: center;padding: 12px 0px 12px 0px;\">Missing Data</h1>\n",
    "</div>"
   ]
  },
  {
   "cell_type": "code",
   "execution_count": 9,
   "id": "cfe1418d",
   "metadata": {
    "execution": {
     "iopub.execute_input": "2022-06-26T16:33:45.073689Z",
     "iopub.status.busy": "2022-06-26T16:33:45.073249Z",
     "iopub.status.idle": "2022-06-26T16:33:45.092050Z",
     "shell.execute_reply": "2022-06-26T16:33:45.090410Z"
    },
    "papermill": {
     "duration": 0.032235,
     "end_time": "2022-06-26T16:33:45.094540",
     "exception": false,
     "start_time": "2022-06-26T16:33:45.062305",
     "status": "completed"
    },
    "tags": []
   },
   "outputs": [
    {
     "name": "stdout",
     "output_type": "stream",
     "text": [
      "===== Train =====\n",
      "GrLivArea      0\n",
      "LotArea        0\n",
      "TotalBsmtSF    0\n",
      "FullBath       0\n",
      "dtype: int64\n",
      "===== Test =====\n",
      "GrLivArea      0\n",
      "LotArea        0\n",
      "TotalBsmtSF    1\n",
      "FullBath       0\n",
      "dtype: int64\n"
     ]
    }
   ],
   "source": [
    "print(5*\"=\",\"Train\", 5*\"=\")\n",
    "print(train[FEATURES].isnull().sum())\n",
    "print(5*\"=\",\"Test\", 5*\"=\")\n",
    "print(test[FEATURES].isnull().sum())"
   ]
  },
  {
   "cell_type": "code",
   "execution_count": 10,
   "id": "73a168ee",
   "metadata": {
    "execution": {
     "iopub.execute_input": "2022-06-26T16:33:45.115477Z",
     "iopub.status.busy": "2022-06-26T16:33:45.115103Z",
     "iopub.status.idle": "2022-06-26T16:33:45.123084Z",
     "shell.execute_reply": "2022-06-26T16:33:45.121982Z"
    },
    "papermill": {
     "duration": 0.021139,
     "end_time": "2022-06-26T16:33:45.125169",
     "exception": false,
     "start_time": "2022-06-26T16:33:45.104030",
     "status": "completed"
    },
    "tags": []
   },
   "outputs": [],
   "source": [
    "test[\"TotalBsmtSF\"] = test[\"TotalBsmtSF\"].fillna(0)"
   ]
  },
  {
   "cell_type": "markdown",
   "id": "48071834",
   "metadata": {
    "papermill": {
     "duration": 0.008998,
     "end_time": "2022-06-26T16:33:45.143398",
     "exception": false,
     "start_time": "2022-06-26T16:33:45.134400",
     "status": "completed"
    },
    "tags": []
   },
   "source": [
    "## Verify No Missing Data"
   ]
  },
  {
   "cell_type": "code",
   "execution_count": 11,
   "id": "6d8f357e",
   "metadata": {
    "execution": {
     "iopub.execute_input": "2022-06-26T16:33:45.164957Z",
     "iopub.status.busy": "2022-06-26T16:33:45.163780Z",
     "iopub.status.idle": "2022-06-26T16:33:45.173469Z",
     "shell.execute_reply": "2022-06-26T16:33:45.171867Z"
    },
    "papermill": {
     "duration": 0.024014,
     "end_time": "2022-06-26T16:33:45.176748",
     "exception": false,
     "start_time": "2022-06-26T16:33:45.152734",
     "status": "completed"
    },
    "tags": []
   },
   "outputs": [
    {
     "name": "stdout",
     "output_type": "stream",
     "text": [
      "GrLivArea      0\n",
      "LotArea        0\n",
      "TotalBsmtSF    0\n",
      "FullBath       0\n",
      "dtype: int64\n"
     ]
    }
   ],
   "source": [
    "print(test[FEATURES].isnull().sum())"
   ]
  },
  {
   "cell_type": "code",
   "execution_count": 12,
   "id": "bb695e2c",
   "metadata": {
    "execution": {
     "iopub.execute_input": "2022-06-26T16:33:45.200097Z",
     "iopub.status.busy": "2022-06-26T16:33:45.199346Z",
     "iopub.status.idle": "2022-06-26T16:33:45.206716Z",
     "shell.execute_reply": "2022-06-26T16:33:45.205956Z"
    },
    "papermill": {
     "duration": 0.022461,
     "end_time": "2022-06-26T16:33:45.209012",
     "exception": false,
     "start_time": "2022-06-26T16:33:45.186551",
     "status": "completed"
    },
    "tags": []
   },
   "outputs": [],
   "source": [
    "y = train[TARGET]\n",
    "X = train[FEATURES].copy()\n",
    "\n",
    "X_test = test[FEATURES].copy()"
   ]
  },
  {
   "cell_type": "code",
   "execution_count": 13,
   "id": "a79ec970",
   "metadata": {
    "execution": {
     "iopub.execute_input": "2022-06-26T16:33:45.230032Z",
     "iopub.status.busy": "2022-06-26T16:33:45.229304Z",
     "iopub.status.idle": "2022-06-26T16:33:45.239989Z",
     "shell.execute_reply": "2022-06-26T16:33:45.238809Z"
    },
    "papermill": {
     "duration": 0.023744,
     "end_time": "2022-06-26T16:33:45.242216",
     "exception": false,
     "start_time": "2022-06-26T16:33:45.218472",
     "status": "completed"
    },
    "tags": []
   },
   "outputs": [
    {
     "data": {
      "text/html": [
       "<div>\n",
       "<style scoped>\n",
       "    .dataframe tbody tr th:only-of-type {\n",
       "        vertical-align: middle;\n",
       "    }\n",
       "\n",
       "    .dataframe tbody tr th {\n",
       "        vertical-align: top;\n",
       "    }\n",
       "\n",
       "    .dataframe thead th {\n",
       "        text-align: right;\n",
       "    }\n",
       "</style>\n",
       "<table border=\"1\" class=\"dataframe\">\n",
       "  <thead>\n",
       "    <tr style=\"text-align: right;\">\n",
       "      <th></th>\n",
       "      <th>GrLivArea</th>\n",
       "      <th>LotArea</th>\n",
       "      <th>TotalBsmtSF</th>\n",
       "      <th>FullBath</th>\n",
       "    </tr>\n",
       "  </thead>\n",
       "  <tbody>\n",
       "    <tr>\n",
       "      <th>0</th>\n",
       "      <td>1710</td>\n",
       "      <td>8450</td>\n",
       "      <td>856</td>\n",
       "      <td>2</td>\n",
       "    </tr>\n",
       "    <tr>\n",
       "      <th>1</th>\n",
       "      <td>1262</td>\n",
       "      <td>9600</td>\n",
       "      <td>1262</td>\n",
       "      <td>2</td>\n",
       "    </tr>\n",
       "    <tr>\n",
       "      <th>2</th>\n",
       "      <td>1786</td>\n",
       "      <td>11250</td>\n",
       "      <td>920</td>\n",
       "      <td>2</td>\n",
       "    </tr>\n",
       "    <tr>\n",
       "      <th>3</th>\n",
       "      <td>1717</td>\n",
       "      <td>9550</td>\n",
       "      <td>756</td>\n",
       "      <td>1</td>\n",
       "    </tr>\n",
       "    <tr>\n",
       "      <th>4</th>\n",
       "      <td>2198</td>\n",
       "      <td>14260</td>\n",
       "      <td>1145</td>\n",
       "      <td>2</td>\n",
       "    </tr>\n",
       "  </tbody>\n",
       "</table>\n",
       "</div>"
      ],
      "text/plain": [
       "   GrLivArea  LotArea  TotalBsmtSF  FullBath\n",
       "0       1710     8450          856         2\n",
       "1       1262     9600         1262         2\n",
       "2       1786    11250          920         2\n",
       "3       1717     9550          756         1\n",
       "4       2198    14260         1145         2"
      ]
     },
     "execution_count": 13,
     "metadata": {},
     "output_type": "execute_result"
    }
   ],
   "source": [
    "X.head()"
   ]
  },
  {
   "cell_type": "markdown",
   "id": "92038a2d",
   "metadata": {
    "papermill": {
     "duration": 0.009273,
     "end_time": "2022-06-26T16:33:45.261178",
     "exception": false,
     "start_time": "2022-06-26T16:33:45.251905",
     "status": "completed"
    },
    "tags": []
   },
   "source": [
    "## Scale the Data\n",
    "\n",
    "Doesn't make a difference so it's commented out."
   ]
  },
  {
   "cell_type": "code",
   "execution_count": 14,
   "id": "dcf64a32",
   "metadata": {
    "execution": {
     "iopub.execute_input": "2022-06-26T16:33:45.282578Z",
     "iopub.status.busy": "2022-06-26T16:33:45.281849Z",
     "iopub.status.idle": "2022-06-26T16:33:45.294095Z",
     "shell.execute_reply": "2022-06-26T16:33:45.293178Z"
    },
    "papermill": {
     "duration": 0.025749,
     "end_time": "2022-06-26T16:33:45.296448",
     "exception": false,
     "start_time": "2022-06-26T16:33:45.270699",
     "status": "completed"
    },
    "tags": []
   },
   "outputs": [],
   "source": [
    "from sklearn.preprocessing import StandardScaler, RobustScaler\n",
    "\n",
    "scaler = StandardScaler()\n",
    "\n",
    "X = scaler.fit(X).transform(X)\n",
    "X_test = scaler.transform(X_test)"
   ]
  },
  {
   "cell_type": "code",
   "execution_count": 15,
   "id": "86a873f5",
   "metadata": {
    "execution": {
     "iopub.execute_input": "2022-06-26T16:33:45.318218Z",
     "iopub.status.busy": "2022-06-26T16:33:45.317471Z",
     "iopub.status.idle": "2022-06-26T16:33:45.325279Z",
     "shell.execute_reply": "2022-06-26T16:33:45.323882Z"
    },
    "papermill": {
     "duration": 0.021354,
     "end_time": "2022-06-26T16:33:45.327549",
     "exception": false,
     "start_time": "2022-06-26T16:33:45.306195",
     "status": "completed"
    },
    "tags": []
   },
   "outputs": [
    {
     "data": {
      "text/plain": [
       "array([[ 0.37033344, -0.20714171, -0.45930254,  0.78974052],\n",
       "       [-0.48251191, -0.09188637,  0.46646492,  0.78974052],\n",
       "       [ 0.51501256,  0.07347998, -0.31336875,  0.78974052],\n",
       "       [ 0.38365915, -0.09689747, -0.68732408, -1.02604084],\n",
       "       [ 1.2993257 ,  0.37514829,  0.19967971,  0.78974052]])"
      ]
     },
     "execution_count": 15,
     "metadata": {},
     "output_type": "execute_result"
    }
   ],
   "source": [
    "X[:5]"
   ]
  },
  {
   "cell_type": "markdown",
   "id": "68e94804",
   "metadata": {
    "papermill": {
     "duration": 0.009544,
     "end_time": "2022-06-26T16:33:45.347007",
     "exception": false,
     "start_time": "2022-06-26T16:33:45.337463",
     "status": "completed"
    },
    "tags": []
   },
   "source": [
    "<div style=\"background-color:rgba(128, 0, 128, 0.6);border-radius:5px;display:fill\"><h1 style=\"text-align: center;padding: 12px 0px 12px 0px;\">Train Model with Train/Test Split</h1>\n",
    "</div>\n",
    "\n",
    "We split the training data so we can evaluate how well each model performs  We are saving 20% of the training data to validate the model(s)."
   ]
  },
  {
   "cell_type": "code",
   "execution_count": 16,
   "id": "e7cc62e8",
   "metadata": {
    "execution": {
     "iopub.execute_input": "2022-06-26T16:33:45.368637Z",
     "iopub.status.busy": "2022-06-26T16:33:45.367926Z",
     "iopub.status.idle": "2022-06-26T16:33:45.391856Z",
     "shell.execute_reply": "2022-06-26T16:33:45.390962Z"
    },
    "papermill": {
     "duration": 0.037388,
     "end_time": "2022-06-26T16:33:45.394085",
     "exception": false,
     "start_time": "2022-06-26T16:33:45.356697",
     "status": "completed"
    },
    "tags": []
   },
   "outputs": [
    {
     "data": {
      "text/plain": [
       "((1022, 4), (1022,), (438, 4), (438,))"
      ]
     },
     "execution_count": 16,
     "metadata": {},
     "output_type": "execute_result"
    }
   ],
   "source": [
    "from sklearn.model_selection import train_test_split\n",
    "\n",
    "X_train, X_valid, y_train, y_valid = train_test_split(\n",
    "    X,\n",
    "    y,\n",
    "    test_size=0.3,    # Save 20% for validation\n",
    "    random_state=42,  # Make the split deterministic\n",
    ")\n",
    "X_train.shape, y_train.shape, X_valid.shape, y_valid.shape"
   ]
  },
  {
   "cell_type": "markdown",
   "id": "f6ffa43e",
   "metadata": {
    "papermill": {
     "duration": 0.00965,
     "end_time": "2022-06-26T16:33:45.413763",
     "exception": false,
     "start_time": "2022-06-26T16:33:45.404113",
     "status": "completed"
    },
    "tags": []
   },
   "source": [
    "# Create Models\n",
    "\n",
    "## XGBoost\n",
    "\n",
    "- [Parameters](https://xgboost.readthedocs.io/en/stable/parameter.html)"
   ]
  },
  {
   "cell_type": "code",
   "execution_count": 17,
   "id": "36ed55e0",
   "metadata": {
    "execution": {
     "iopub.execute_input": "2022-06-26T16:33:45.435909Z",
     "iopub.status.busy": "2022-06-26T16:33:45.435168Z",
     "iopub.status.idle": "2022-06-26T16:33:51.662810Z",
     "shell.execute_reply": "2022-06-26T16:33:51.661571Z"
    },
    "papermill": {
     "duration": 6.243173,
     "end_time": "2022-06-26T16:33:51.666965",
     "exception": false,
     "start_time": "2022-06-26T16:33:45.423792",
     "status": "completed"
    },
    "tags": []
   },
   "outputs": [
    {
     "name": "stdout",
     "output_type": "stream",
     "text": [
      "MAE: 26908.3353\n",
      "RMSE: 1960804143.7793\n"
     ]
    }
   ],
   "source": [
    "from xgboost import XGBRegressor\n",
    "\n",
    "model = XGBRegressor(n_estimators=1000, eta=0.01, max_depth=8)\n",
    "\n",
    "model.fit(X_train, y_train)\n",
    "\n",
    "# valid_preds = model.predict(poly_features.transform(X_valid))\n",
    "valid_preds = model.predict(X_valid)\n",
    "show_scores(y_valid, valid_preds)"
   ]
  },
  {
   "cell_type": "code",
   "execution_count": 18,
   "id": "51586802",
   "metadata": {
    "execution": {
     "iopub.execute_input": "2022-06-26T16:33:51.690783Z",
     "iopub.status.busy": "2022-06-26T16:33:51.690384Z",
     "iopub.status.idle": "2022-06-26T16:33:51.740344Z",
     "shell.execute_reply": "2022-06-26T16:33:51.739039Z"
    },
    "papermill": {
     "duration": 0.064146,
     "end_time": "2022-06-26T16:33:51.742769",
     "exception": false,
     "start_time": "2022-06-26T16:33:51.678623",
     "status": "completed"
    },
    "tags": []
   },
   "outputs": [
    {
     "data": {
      "text/html": [
       "<div>\n",
       "<style scoped>\n",
       "    .dataframe tbody tr th:only-of-type {\n",
       "        vertical-align: middle;\n",
       "    }\n",
       "\n",
       "    .dataframe tbody tr th {\n",
       "        vertical-align: top;\n",
       "    }\n",
       "\n",
       "    .dataframe thead th {\n",
       "        text-align: right;\n",
       "    }\n",
       "</style>\n",
       "<table border=\"1\" class=\"dataframe\">\n",
       "  <thead>\n",
       "    <tr style=\"text-align: right;\">\n",
       "      <th></th>\n",
       "      <th>Id</th>\n",
       "      <th>SalePrice</th>\n",
       "    </tr>\n",
       "  </thead>\n",
       "  <tbody>\n",
       "    <tr>\n",
       "      <th>0</th>\n",
       "      <td>1461</td>\n",
       "      <td>133364.328125</td>\n",
       "    </tr>\n",
       "    <tr>\n",
       "      <th>1</th>\n",
       "      <td>1462</td>\n",
       "      <td>190936.859375</td>\n",
       "    </tr>\n",
       "    <tr>\n",
       "      <th>2</th>\n",
       "      <td>1463</td>\n",
       "      <td>182104.437500</td>\n",
       "    </tr>\n",
       "    <tr>\n",
       "      <th>3</th>\n",
       "      <td>1464</td>\n",
       "      <td>170429.000000</td>\n",
       "    </tr>\n",
       "    <tr>\n",
       "      <th>4</th>\n",
       "      <td>1465</td>\n",
       "      <td>194417.062500</td>\n",
       "    </tr>\n",
       "  </tbody>\n",
       "</table>\n",
       "</div>"
      ],
      "text/plain": [
       "     Id      SalePrice\n",
       "0  1461  133364.328125\n",
       "1  1462  190936.859375\n",
       "2  1463  182104.437500\n",
       "3  1464  170429.000000\n",
       "4  1465  194417.062500"
      ]
     },
     "execution_count": 18,
     "metadata": {},
     "output_type": "execute_result"
    }
   ],
   "source": [
    "# test_preds = model.predict(poly_features.transform(X_test))\n",
    "test_preds = model.predict(X_test)\n",
    "\n",
    "create_submission(\"xgb\", TARGET, test_preds)"
   ]
  },
  {
   "cell_type": "markdown",
   "id": "93903509",
   "metadata": {
    "papermill": {
     "duration": 0.010451,
     "end_time": "2022-06-26T16:33:51.764230",
     "exception": false,
     "start_time": "2022-06-26T16:33:51.753779",
     "status": "completed"
    },
    "tags": []
   },
   "source": [
    "## Catboost\n",
    "\n",
    "- [Parameters](https://catboost.ai/en/docs/references/training-parameters/)"
   ]
  },
  {
   "cell_type": "code",
   "execution_count": 19,
   "id": "52b2e001",
   "metadata": {
    "execution": {
     "iopub.execute_input": "2022-06-26T16:33:51.787987Z",
     "iopub.status.busy": "2022-06-26T16:33:51.787542Z",
     "iopub.status.idle": "2022-06-26T16:33:54.530455Z",
     "shell.execute_reply": "2022-06-26T16:33:54.528377Z"
    },
    "papermill": {
     "duration": 2.758759,
     "end_time": "2022-06-26T16:33:54.534038",
     "exception": false,
     "start_time": "2022-06-26T16:33:51.775279",
     "status": "completed"
    },
    "tags": []
   },
   "outputs": [
    {
     "name": "stdout",
     "output_type": "stream",
     "text": [
      "MAE: 26923.5852\n",
      "RMSE: 1804865951.3448\n"
     ]
    }
   ],
   "source": [
    "from catboost import CatBoostRegressor\n",
    "\n",
    "model = CatBoostRegressor(n_estimators=1000,  eta=0.01, max_depth=8, verbose=0)\n",
    "\n",
    "model.fit(X_train, y_train)\n",
    "\n",
    "# valid_preds = model.predict(poly_features.transform(X_valid))\n",
    "valid_preds = model.predict(X_valid)\n",
    "show_scores(y_valid, valid_preds)"
   ]
  },
  {
   "cell_type": "code",
   "execution_count": 20,
   "id": "c89db40c",
   "metadata": {
    "execution": {
     "iopub.execute_input": "2022-06-26T16:33:54.559515Z",
     "iopub.status.busy": "2022-06-26T16:33:54.558339Z",
     "iopub.status.idle": "2022-06-26T16:33:54.583343Z",
     "shell.execute_reply": "2022-06-26T16:33:54.581795Z"
    },
    "papermill": {
     "duration": 0.040833,
     "end_time": "2022-06-26T16:33:54.585969",
     "exception": false,
     "start_time": "2022-06-26T16:33:54.545136",
     "status": "completed"
    },
    "tags": []
   },
   "outputs": [
    {
     "data": {
      "text/html": [
       "<div>\n",
       "<style scoped>\n",
       "    .dataframe tbody tr th:only-of-type {\n",
       "        vertical-align: middle;\n",
       "    }\n",
       "\n",
       "    .dataframe tbody tr th {\n",
       "        vertical-align: top;\n",
       "    }\n",
       "\n",
       "    .dataframe thead th {\n",
       "        text-align: right;\n",
       "    }\n",
       "</style>\n",
       "<table border=\"1\" class=\"dataframe\">\n",
       "  <thead>\n",
       "    <tr style=\"text-align: right;\">\n",
       "      <th></th>\n",
       "      <th>Id</th>\n",
       "      <th>SalePrice</th>\n",
       "    </tr>\n",
       "  </thead>\n",
       "  <tbody>\n",
       "    <tr>\n",
       "      <th>0</th>\n",
       "      <td>1461</td>\n",
       "      <td>128425.584006</td>\n",
       "    </tr>\n",
       "    <tr>\n",
       "      <th>1</th>\n",
       "      <td>1462</td>\n",
       "      <td>174732.262553</td>\n",
       "    </tr>\n",
       "    <tr>\n",
       "      <th>2</th>\n",
       "      <td>1463</td>\n",
       "      <td>183906.645094</td>\n",
       "    </tr>\n",
       "    <tr>\n",
       "      <th>3</th>\n",
       "      <td>1464</td>\n",
       "      <td>176027.888708</td>\n",
       "    </tr>\n",
       "    <tr>\n",
       "      <th>4</th>\n",
       "      <td>1465</td>\n",
       "      <td>183877.227594</td>\n",
       "    </tr>\n",
       "  </tbody>\n",
       "</table>\n",
       "</div>"
      ],
      "text/plain": [
       "     Id      SalePrice\n",
       "0  1461  128425.584006\n",
       "1  1462  174732.262553\n",
       "2  1463  183906.645094\n",
       "3  1464  176027.888708\n",
       "4  1465  183877.227594"
      ]
     },
     "execution_count": 20,
     "metadata": {},
     "output_type": "execute_result"
    }
   ],
   "source": [
    "test_preds = model.predict(X_test)\n",
    "\n",
    "create_submission(\"cat\", TARGET, test_preds)"
   ]
  },
  {
   "cell_type": "markdown",
   "id": "c289f13f",
   "metadata": {
    "papermill": {
     "duration": 0.010394,
     "end_time": "2022-06-26T16:33:54.607169",
     "exception": false,
     "start_time": "2022-06-26T16:33:54.596775",
     "status": "completed"
    },
    "tags": []
   },
   "source": [
    "## LightGBM\n",
    "\n",
    "- [Parameters](https://lightgbm.readthedocs.io/en/latest/Parameters.html)"
   ]
  },
  {
   "cell_type": "code",
   "execution_count": 21,
   "id": "581f9a8a",
   "metadata": {
    "execution": {
     "iopub.execute_input": "2022-06-26T16:33:54.630676Z",
     "iopub.status.busy": "2022-06-26T16:33:54.630294Z",
     "iopub.status.idle": "2022-06-26T16:34:01.551188Z",
     "shell.execute_reply": "2022-06-26T16:34:01.550061Z"
    },
    "papermill": {
     "duration": 6.93558,
     "end_time": "2022-06-26T16:34:01.553598",
     "exception": false,
     "start_time": "2022-06-26T16:33:54.618018",
     "status": "completed"
    },
    "tags": []
   },
   "outputs": [
    {
     "data": {
      "text/html": [
       "<style type='text/css'>\n",
       ".datatable table.frame { margin-bottom: 0; }\n",
       ".datatable table.frame thead { border-bottom: none; }\n",
       ".datatable table.frame tr.coltypes td {  color: #FFFFFF;  line-height: 6px;  padding: 0 0.5em;}\n",
       ".datatable .bool    { background: #DDDD99; }\n",
       ".datatable .object  { background: #565656; }\n",
       ".datatable .int     { background: #5D9E5D; }\n",
       ".datatable .float   { background: #4040CC; }\n",
       ".datatable .str     { background: #CC4040; }\n",
       ".datatable .time    { background: #40CC40; }\n",
       ".datatable .row_index {  background: var(--jp-border-color3);  border-right: 1px solid var(--jp-border-color0);  color: var(--jp-ui-font-color3);  font-size: 9px;}\n",
       ".datatable .frame tbody td { text-align: left; }\n",
       ".datatable .frame tr.coltypes .row_index {  background: var(--jp-border-color0);}\n",
       ".datatable th:nth-child(2) { padding-left: 12px; }\n",
       ".datatable .hellipsis {  color: var(--jp-cell-editor-border-color);}\n",
       ".datatable .vellipsis {  background: var(--jp-layout-color0);  color: var(--jp-cell-editor-border-color);}\n",
       ".datatable .na {  color: var(--jp-cell-editor-border-color);  font-size: 80%;}\n",
       ".datatable .sp {  opacity: 0.25;}\n",
       ".datatable .footer { font-size: 9px; }\n",
       ".datatable .frame_dimensions {  background: var(--jp-border-color3);  border-top: 1px solid var(--jp-border-color0);  color: var(--jp-ui-font-color3);  display: inline-block;  opacity: 0.6;  padding: 1px 10px 1px 5px;}\n",
       "</style>\n"
      ],
      "text/plain": [
       "<IPython.core.display.HTML object>"
      ]
     },
     "metadata": {},
     "output_type": "display_data"
    },
    {
     "name": "stdout",
     "output_type": "stream",
     "text": [
      "MAE: 29553.9654\n",
      "RMSE: 2169057190.0489\n"
     ]
    }
   ],
   "source": [
    "from lightgbm import LGBMRegressor\n",
    "\n",
    "model = LGBMRegressor(n_estimators=10_000, objective=\"regression\", learning_rate=0.01, max_depth=8)\n",
    "\n",
    "model.fit(X_train, y_train)\n",
    "\n",
    "# valid_preds = model.predict(poly_features.transform(X_valid))\n",
    "valid_preds = model.predict(X_valid)\n",
    "show_scores(y_valid, valid_preds)"
   ]
  },
  {
   "cell_type": "code",
   "execution_count": 22,
   "id": "adec2d41",
   "metadata": {
    "execution": {
     "iopub.execute_input": "2022-06-26T16:34:01.579921Z",
     "iopub.status.busy": "2022-06-26T16:34:01.579506Z",
     "iopub.status.idle": "2022-06-26T16:34:02.029751Z",
     "shell.execute_reply": "2022-06-26T16:34:02.028834Z"
    },
    "papermill": {
     "duration": 0.465375,
     "end_time": "2022-06-26T16:34:02.032234",
     "exception": false,
     "start_time": "2022-06-26T16:34:01.566859",
     "status": "completed"
    },
    "tags": []
   },
   "outputs": [
    {
     "data": {
      "text/html": [
       "<div>\n",
       "<style scoped>\n",
       "    .dataframe tbody tr th:only-of-type {\n",
       "        vertical-align: middle;\n",
       "    }\n",
       "\n",
       "    .dataframe tbody tr th {\n",
       "        vertical-align: top;\n",
       "    }\n",
       "\n",
       "    .dataframe thead th {\n",
       "        text-align: right;\n",
       "    }\n",
       "</style>\n",
       "<table border=\"1\" class=\"dataframe\">\n",
       "  <thead>\n",
       "    <tr style=\"text-align: right;\">\n",
       "      <th></th>\n",
       "      <th>Id</th>\n",
       "      <th>SalePrice</th>\n",
       "    </tr>\n",
       "  </thead>\n",
       "  <tbody>\n",
       "    <tr>\n",
       "      <th>0</th>\n",
       "      <td>1461</td>\n",
       "      <td>115630.710544</td>\n",
       "    </tr>\n",
       "    <tr>\n",
       "      <th>1</th>\n",
       "      <td>1462</td>\n",
       "      <td>178865.935559</td>\n",
       "    </tr>\n",
       "    <tr>\n",
       "      <th>2</th>\n",
       "      <td>1463</td>\n",
       "      <td>169240.684753</td>\n",
       "    </tr>\n",
       "    <tr>\n",
       "      <th>3</th>\n",
       "      <td>1464</td>\n",
       "      <td>153616.155374</td>\n",
       "    </tr>\n",
       "    <tr>\n",
       "      <th>4</th>\n",
       "      <td>1465</td>\n",
       "      <td>180536.455058</td>\n",
       "    </tr>\n",
       "  </tbody>\n",
       "</table>\n",
       "</div>"
      ],
      "text/plain": [
       "     Id      SalePrice\n",
       "0  1461  115630.710544\n",
       "1  1462  178865.935559\n",
       "2  1463  169240.684753\n",
       "3  1464  153616.155374\n",
       "4  1465  180536.455058"
      ]
     },
     "execution_count": 22,
     "metadata": {},
     "output_type": "execute_result"
    }
   ],
   "source": [
    "test_preds = model.predict(X_test)\n",
    "\n",
    "create_submission(\"lgbm\", TARGET, test_preds)"
   ]
  }
 ],
 "metadata": {
  "kernelspec": {
   "display_name": "Python 3",
   "language": "python",
   "name": "python3"
  },
  "language_info": {
   "codemirror_mode": {
    "name": "ipython",
    "version": 3
   },
   "file_extension": ".py",
   "mimetype": "text/x-python",
   "name": "python",
   "nbconvert_exporter": "python",
   "pygments_lexer": "ipython3",
   "version": "3.7.12"
  },
  "papermill": {
   "default_parameters": {},
   "duration": 29.860601,
   "end_time": "2022-06-26T16:34:02.868345",
   "environment_variables": {},
   "exception": null,
   "input_path": "__notebook__.ipynb",
   "output_path": "__notebook__.ipynb",
   "parameters": {},
   "start_time": "2022-06-26T16:33:33.007744",
   "version": "2.3.4"
  }
 },
 "nbformat": 4,
 "nbformat_minor": 5
}
